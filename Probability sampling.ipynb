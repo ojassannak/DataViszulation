{
 "cells": [
  {
   "cell_type": "code",
   "execution_count": 1,
   "id": "a6fca0b6-ce50-41ee-a8b1-d8d5a55ca456",
   "metadata": {},
   "outputs": [],
   "source": [
    "import pandas as pd"
   ]
  },
  {
   "cell_type": "code",
   "execution_count": 74,
   "id": "f4306f59-8ef4-48fc-bdf8-45378cf24f9d",
   "metadata": {},
   "outputs": [],
   "source": [
    "import numpy as np\n",
    "import matplotlib.pyplot as plt"
   ]
  },
  {
   "cell_type": "markdown",
   "id": "35cf4701-8590-45d3-9e4e-4488e6a65c62",
   "metadata": {},
   "source": [
    "<h4>Simple Random Sampling</h4>"
   ]
  },
  {
   "cell_type": "code",
   "execution_count": 12,
   "id": "474dad75-cef8-4557-a6b1-f7927bc81b97",
   "metadata": {},
   "outputs": [],
   "source": [
    "data=[np.random.randint(1,100) for _ in range(100)]"
   ]
  },
  {
   "cell_type": "code",
   "execution_count": 14,
   "id": "470e6d18-a2d0-4f79-b6bf-96713e953da0",
   "metadata": {},
   "outputs": [],
   "source": [
    "df=pd.DataFrame({\n",
    "    'id':range(1,101),\n",
    "    'value':data\n",
    "})"
   ]
  },
  {
   "cell_type": "code",
   "execution_count": 18,
   "id": "3921a639-ac92-40c3-abcd-f37ed8c6b135",
   "metadata": {},
   "outputs": [
    {
     "data": {
      "text/html": [
       "<div>\n",
       "<style scoped>\n",
       "    .dataframe tbody tr th:only-of-type {\n",
       "        vertical-align: middle;\n",
       "    }\n",
       "\n",
       "    .dataframe tbody tr th {\n",
       "        vertical-align: top;\n",
       "    }\n",
       "\n",
       "    .dataframe thead th {\n",
       "        text-align: right;\n",
       "    }\n",
       "</style>\n",
       "<table border=\"1\" class=\"dataframe\">\n",
       "  <thead>\n",
       "    <tr style=\"text-align: right;\">\n",
       "      <th></th>\n",
       "      <th>id</th>\n",
       "      <th>value</th>\n",
       "    </tr>\n",
       "  </thead>\n",
       "  <tbody>\n",
       "    <tr>\n",
       "      <th>0</th>\n",
       "      <td>1</td>\n",
       "      <td>68</td>\n",
       "    </tr>\n",
       "    <tr>\n",
       "      <th>1</th>\n",
       "      <td>2</td>\n",
       "      <td>1</td>\n",
       "    </tr>\n",
       "    <tr>\n",
       "      <th>2</th>\n",
       "      <td>3</td>\n",
       "      <td>46</td>\n",
       "    </tr>\n",
       "    <tr>\n",
       "      <th>3</th>\n",
       "      <td>4</td>\n",
       "      <td>62</td>\n",
       "    </tr>\n",
       "    <tr>\n",
       "      <th>4</th>\n",
       "      <td>5</td>\n",
       "      <td>83</td>\n",
       "    </tr>\n",
       "    <tr>\n",
       "      <th>...</th>\n",
       "      <td>...</td>\n",
       "      <td>...</td>\n",
       "    </tr>\n",
       "    <tr>\n",
       "      <th>95</th>\n",
       "      <td>96</td>\n",
       "      <td>6</td>\n",
       "    </tr>\n",
       "    <tr>\n",
       "      <th>96</th>\n",
       "      <td>97</td>\n",
       "      <td>60</td>\n",
       "    </tr>\n",
       "    <tr>\n",
       "      <th>97</th>\n",
       "      <td>98</td>\n",
       "      <td>66</td>\n",
       "    </tr>\n",
       "    <tr>\n",
       "      <th>98</th>\n",
       "      <td>99</td>\n",
       "      <td>10</td>\n",
       "    </tr>\n",
       "    <tr>\n",
       "      <th>99</th>\n",
       "      <td>100</td>\n",
       "      <td>80</td>\n",
       "    </tr>\n",
       "  </tbody>\n",
       "</table>\n",
       "<p>100 rows × 2 columns</p>\n",
       "</div>"
      ],
      "text/plain": [
       "     id  value\n",
       "0     1     68\n",
       "1     2      1\n",
       "2     3     46\n",
       "3     4     62\n",
       "4     5     83\n",
       "..  ...    ...\n",
       "95   96      6\n",
       "96   97     60\n",
       "97   98     66\n",
       "98   99     10\n",
       "99  100     80\n",
       "\n",
       "[100 rows x 2 columns]"
      ]
     },
     "execution_count": 18,
     "metadata": {},
     "output_type": "execute_result"
    }
   ],
   "source": [
    "df"
   ]
  },
  {
   "cell_type": "code",
   "execution_count": 48,
   "id": "28df3fb9-c24c-4f1a-a34b-64f5e3450295",
   "metadata": {},
   "outputs": [],
   "source": [
    "new = df.sample(n= 10, random_state=1)"
   ]
  },
  {
   "cell_type": "code",
   "execution_count": 50,
   "id": "aaf08ffb-4525-4ed7-b2b2-b0a9537fe19b",
   "metadata": {},
   "outputs": [
    {
     "data": {
      "text/html": [
       "<div>\n",
       "<style scoped>\n",
       "    .dataframe tbody tr th:only-of-type {\n",
       "        vertical-align: middle;\n",
       "    }\n",
       "\n",
       "    .dataframe tbody tr th {\n",
       "        vertical-align: top;\n",
       "    }\n",
       "\n",
       "    .dataframe thead th {\n",
       "        text-align: right;\n",
       "    }\n",
       "</style>\n",
       "<table border=\"1\" class=\"dataframe\">\n",
       "  <thead>\n",
       "    <tr style=\"text-align: right;\">\n",
       "      <th></th>\n",
       "      <th>id</th>\n",
       "      <th>value</th>\n",
       "    </tr>\n",
       "  </thead>\n",
       "  <tbody>\n",
       "    <tr>\n",
       "      <th>80</th>\n",
       "      <td>81</td>\n",
       "      <td>61</td>\n",
       "    </tr>\n",
       "    <tr>\n",
       "      <th>84</th>\n",
       "      <td>85</td>\n",
       "      <td>48</td>\n",
       "    </tr>\n",
       "    <tr>\n",
       "      <th>33</th>\n",
       "      <td>34</td>\n",
       "      <td>71</td>\n",
       "    </tr>\n",
       "    <tr>\n",
       "      <th>81</th>\n",
       "      <td>82</td>\n",
       "      <td>55</td>\n",
       "    </tr>\n",
       "    <tr>\n",
       "      <th>93</th>\n",
       "      <td>94</td>\n",
       "      <td>38</td>\n",
       "    </tr>\n",
       "    <tr>\n",
       "      <th>17</th>\n",
       "      <td>18</td>\n",
       "      <td>32</td>\n",
       "    </tr>\n",
       "    <tr>\n",
       "      <th>36</th>\n",
       "      <td>37</td>\n",
       "      <td>44</td>\n",
       "    </tr>\n",
       "    <tr>\n",
       "      <th>82</th>\n",
       "      <td>83</td>\n",
       "      <td>37</td>\n",
       "    </tr>\n",
       "    <tr>\n",
       "      <th>69</th>\n",
       "      <td>70</td>\n",
       "      <td>78</td>\n",
       "    </tr>\n",
       "    <tr>\n",
       "      <th>65</th>\n",
       "      <td>66</td>\n",
       "      <td>86</td>\n",
       "    </tr>\n",
       "  </tbody>\n",
       "</table>\n",
       "</div>"
      ],
      "text/plain": [
       "    id  value\n",
       "80  81     61\n",
       "84  85     48\n",
       "33  34     71\n",
       "81  82     55\n",
       "93  94     38\n",
       "17  18     32\n",
       "36  37     44\n",
       "82  83     37\n",
       "69  70     78\n",
       "65  66     86"
      ]
     },
     "execution_count": 50,
     "metadata": {},
     "output_type": "execute_result"
    }
   ],
   "source": [
    "new"
   ]
  },
  {
   "cell_type": "code",
   "execution_count": 52,
   "id": "6d322c6c-532d-4d68-919f-068d6f57cdca",
   "metadata": {},
   "outputs": [
    {
     "data": {
      "text/plain": [
       "55.61"
      ]
     },
     "execution_count": 52,
     "metadata": {},
     "output_type": "execute_result"
    }
   ],
   "source": [
    "df['value'].mean()"
   ]
  },
  {
   "cell_type": "code",
   "execution_count": 54,
   "id": "ee8b34ff-fc11-4cc7-bcc9-db6aaa6b22be",
   "metadata": {},
   "outputs": [
    {
     "data": {
      "text/plain": [
       "55.0"
      ]
     },
     "execution_count": 54,
     "metadata": {},
     "output_type": "execute_result"
    }
   ],
   "source": [
    "new[\"value\"].mean()"
   ]
  },
  {
   "cell_type": "code",
   "execution_count": 56,
   "id": "ea68f4a8-ec25-414e-a6a6-d07f6ca5a3a4",
   "metadata": {},
   "outputs": [
    {
     "data": {
      "text/plain": [
       "26.812817302871615"
      ]
     },
     "execution_count": 56,
     "metadata": {},
     "output_type": "execute_result"
    }
   ],
   "source": [
    "df[\"value\"].std()"
   ]
  },
  {
   "cell_type": "code",
   "execution_count": 58,
   "id": "922d6b1d-266c-4207-9fdb-34a8d0b23163",
   "metadata": {},
   "outputs": [
    {
     "data": {
      "text/plain": [
       "18.541245313564506"
      ]
     },
     "execution_count": 58,
     "metadata": {},
     "output_type": "execute_result"
    }
   ],
   "source": [
    "new[\"value\"].std()"
   ]
  },
  {
   "cell_type": "markdown",
   "id": "4382e329-3352-453d-a7c6-4d3f4c252ba0",
   "metadata": {},
   "source": [
    "<h4>Stratified Sampling</h4>"
   ]
  },
  {
   "cell_type": "code",
   "execution_count": 96,
   "id": "20978530-4e7e-434e-8fac-bc1f71521c27",
   "metadata": {},
   "outputs": [
    {
     "data": {
      "text/plain": [
       "array(['B', 'A', 'C', 'C', 'A', 'A', 'C', 'C', 'A', 'B'], dtype='<U1')"
      ]
     },
     "execution_count": 96,
     "metadata": {},
     "output_type": "execute_result"
    }
   ],
   "source": [
    "np.random.choice(['A','B','C'],10)"
   ]
  },
  {
   "cell_type": "code",
   "execution_count": 105,
   "id": "92d492b3-aa44-415a-b13a-9ee19c64c34f",
   "metadata": {},
   "outputs": [],
   "source": [
    "np.random.seed(0)\n",
    "df=pd.DataFrame({\n",
    "    'id':range(1,101),\n",
    "    'value':np.random.randint(1,100,100),\n",
    "    'category':np.random.choice(['A','B','C'],100)\n",
    "})"
   ]
  },
  {
   "cell_type": "code",
   "execution_count": 107,
   "id": "15b1b9f1-3528-43df-8b0d-4b366d98df9e",
   "metadata": {},
   "outputs": [
    {
     "data": {
      "text/html": [
       "<div>\n",
       "<style scoped>\n",
       "    .dataframe tbody tr th:only-of-type {\n",
       "        vertical-align: middle;\n",
       "    }\n",
       "\n",
       "    .dataframe tbody tr th {\n",
       "        vertical-align: top;\n",
       "    }\n",
       "\n",
       "    .dataframe thead th {\n",
       "        text-align: right;\n",
       "    }\n",
       "</style>\n",
       "<table border=\"1\" class=\"dataframe\">\n",
       "  <thead>\n",
       "    <tr style=\"text-align: right;\">\n",
       "      <th></th>\n",
       "      <th>id</th>\n",
       "      <th>value</th>\n",
       "      <th>category</th>\n",
       "    </tr>\n",
       "  </thead>\n",
       "  <tbody>\n",
       "    <tr>\n",
       "      <th>0</th>\n",
       "      <td>1</td>\n",
       "      <td>45</td>\n",
       "      <td>A</td>\n",
       "    </tr>\n",
       "    <tr>\n",
       "      <th>1</th>\n",
       "      <td>2</td>\n",
       "      <td>48</td>\n",
       "      <td>B</td>\n",
       "    </tr>\n",
       "    <tr>\n",
       "      <th>2</th>\n",
       "      <td>3</td>\n",
       "      <td>65</td>\n",
       "      <td>C</td>\n",
       "    </tr>\n",
       "    <tr>\n",
       "      <th>3</th>\n",
       "      <td>4</td>\n",
       "      <td>68</td>\n",
       "      <td>A</td>\n",
       "    </tr>\n",
       "    <tr>\n",
       "      <th>4</th>\n",
       "      <td>5</td>\n",
       "      <td>68</td>\n",
       "      <td>B</td>\n",
       "    </tr>\n",
       "    <tr>\n",
       "      <th>...</th>\n",
       "      <td>...</td>\n",
       "      <td>...</td>\n",
       "      <td>...</td>\n",
       "    </tr>\n",
       "    <tr>\n",
       "      <th>95</th>\n",
       "      <td>96</td>\n",
       "      <td>86</td>\n",
       "      <td>B</td>\n",
       "    </tr>\n",
       "    <tr>\n",
       "      <th>96</th>\n",
       "      <td>97</td>\n",
       "      <td>49</td>\n",
       "      <td>B</td>\n",
       "    </tr>\n",
       "    <tr>\n",
       "      <th>97</th>\n",
       "      <td>98</td>\n",
       "      <td>50</td>\n",
       "      <td>A</td>\n",
       "    </tr>\n",
       "    <tr>\n",
       "      <th>98</th>\n",
       "      <td>99</td>\n",
       "      <td>70</td>\n",
       "      <td>A</td>\n",
       "    </tr>\n",
       "    <tr>\n",
       "      <th>99</th>\n",
       "      <td>100</td>\n",
       "      <td>42</td>\n",
       "      <td>B</td>\n",
       "    </tr>\n",
       "  </tbody>\n",
       "</table>\n",
       "<p>100 rows × 3 columns</p>\n",
       "</div>"
      ],
      "text/plain": [
       "     id  value category\n",
       "0     1     45        A\n",
       "1     2     48        B\n",
       "2     3     65        C\n",
       "3     4     68        A\n",
       "4     5     68        B\n",
       "..  ...    ...      ...\n",
       "95   96     86        B\n",
       "96   97     49        B\n",
       "97   98     50        A\n",
       "98   99     70        A\n",
       "99  100     42        B\n",
       "\n",
       "[100 rows x 3 columns]"
      ]
     },
     "execution_count": 107,
     "metadata": {},
     "output_type": "execute_result"
    }
   ],
   "source": [
    "df"
   ]
  },
  {
   "cell_type": "code",
   "execution_count": 125,
   "id": "ec29391e-3866-484a-ad2d-3a4a401631bb",
   "metadata": {},
   "outputs": [
    {
     "data": {
      "text/plain": [
       "([<matplotlib.patches.Wedge at 0x2b502aa8860>,\n",
       "  <matplotlib.patches.Wedge at 0x2b502a7bb30>,\n",
       "  <matplotlib.patches.Wedge at 0x2b502aa9220>],\n",
       " [Text(0.46835717599151966, 0.995309778760989, 'C'),\n",
       "  Text(-1.0735084210581185, -0.23995764192312277, 'B'),\n",
       "  Text(0.6741977818040064, -0.8691704959388334, 'A')],\n",
       " [Text(0.25546755054082887, 0.5428962429605394, '36.00%'),\n",
       "  Text(-0.5855500478498827, -0.13088598650352148, '35.00%'),\n",
       "  Text(0.36774424462036703, -0.47409299778481817, '29.00%')])"
      ]
     },
     "execution_count": 125,
     "metadata": {},
     "output_type": "execute_result"
    },
    {
     "data": {
      "image/png": "[encoded data removed]",
      "text/plain": [
       "<Figure size 1000x900 with 1 Axes>"
      ]
     },
     "metadata": {},
     "output_type": "display_data"
    }
   ],
   "source": [
    "plt.figure(figsize=(10,9))\n",
    "plt.title('Percentage of a b c')\n",
    "plt.pie(df['category'].value_counts(), labels=new['category'].value_counts().index,autopct='%2.2f%%')"
   ]
  },
  {
   "cell_type": "code",
   "execution_count": 117,
   "id": "4adef421-8101-4f03-9a98-33bfe7081525",
   "metadata": {},
   "outputs": [],
   "source": [
    "new=df.sample(20,random_state="
   ]
  },
  {
   "cell_type": "code",
   "execution_count": 119,
   "id": "5de279bf-bbc2-4321-accf-f09f0b0129c2",
   "metadata": {},
   "outputs": [
    {
     "data": {
      "text/html": [
       "<div>\n",
       "<style scoped>\n",
       "    .dataframe tbody tr th:only-of-type {\n",
       "        vertical-align: middle;\n",
       "    }\n",
       "\n",
       "    .dataframe tbody tr th {\n",
       "        vertical-align: top;\n",
       "    }\n",
       "\n",
       "    .dataframe thead th {\n",
       "        text-align: right;\n",
       "    }\n",
       "</style>\n",
       "<table border=\"1\" class=\"dataframe\">\n",
       "  <thead>\n",
       "    <tr style=\"text-align: right;\">\n",
       "      <th></th>\n",
       "      <th>id</th>\n",
       "      <th>value</th>\n",
       "      <th>category</th>\n",
       "    </tr>\n",
       "  </thead>\n",
       "  <tbody>\n",
       "    <tr>\n",
       "      <th>26</th>\n",
       "      <td>27</td>\n",
       "      <td>21</td>\n",
       "      <td>C</td>\n",
       "    </tr>\n",
       "    <tr>\n",
       "      <th>86</th>\n",
       "      <td>87</td>\n",
       "      <td>77</td>\n",
       "      <td>C</td>\n",
       "    </tr>\n",
       "    <tr>\n",
       "      <th>2</th>\n",
       "      <td>3</td>\n",
       "      <td>65</td>\n",
       "      <td>C</td>\n",
       "    </tr>\n",
       "    <tr>\n",
       "      <th>55</th>\n",
       "      <td>56</td>\n",
       "      <td>37</td>\n",
       "      <td>C</td>\n",
       "    </tr>\n",
       "    <tr>\n",
       "      <th>75</th>\n",
       "      <td>76</td>\n",
       "      <td>15</td>\n",
       "      <td>B</td>\n",
       "    </tr>\n",
       "    <tr>\n",
       "      <th>93</th>\n",
       "      <td>94</td>\n",
       "      <td>80</td>\n",
       "      <td>B</td>\n",
       "    </tr>\n",
       "    <tr>\n",
       "      <th>16</th>\n",
       "      <td>17</td>\n",
       "      <td>40</td>\n",
       "      <td>A</td>\n",
       "    </tr>\n",
       "    <tr>\n",
       "      <th>73</th>\n",
       "      <td>74</td>\n",
       "      <td>92</td>\n",
       "      <td>B</td>\n",
       "    </tr>\n",
       "    <tr>\n",
       "      <th>54</th>\n",
       "      <td>55</td>\n",
       "      <td>1</td>\n",
       "      <td>C</td>\n",
       "    </tr>\n",
       "    <tr>\n",
       "      <th>95</th>\n",
       "      <td>96</td>\n",
       "      <td>86</td>\n",
       "      <td>B</td>\n",
       "    </tr>\n",
       "    <tr>\n",
       "      <th>53</th>\n",
       "      <td>54</td>\n",
       "      <td>1</td>\n",
       "      <td>C</td>\n",
       "    </tr>\n",
       "    <tr>\n",
       "      <th>92</th>\n",
       "      <td>93</td>\n",
       "      <td>24</td>\n",
       "      <td>A</td>\n",
       "    </tr>\n",
       "    <tr>\n",
       "      <th>78</th>\n",
       "      <td>79</td>\n",
       "      <td>43</td>\n",
       "      <td>A</td>\n",
       "    </tr>\n",
       "    <tr>\n",
       "      <th>13</th>\n",
       "      <td>14</td>\n",
       "      <td>13</td>\n",
       "      <td>A</td>\n",
       "    </tr>\n",
       "    <tr>\n",
       "      <th>7</th>\n",
       "      <td>8</td>\n",
       "      <td>22</td>\n",
       "      <td>C</td>\n",
       "    </tr>\n",
       "    <tr>\n",
       "      <th>30</th>\n",
       "      <td>31</td>\n",
       "      <td>48</td>\n",
       "      <td>C</td>\n",
       "    </tr>\n",
       "    <tr>\n",
       "      <th>22</th>\n",
       "      <td>23</td>\n",
       "      <td>26</td>\n",
       "      <td>C</td>\n",
       "    </tr>\n",
       "    <tr>\n",
       "      <th>24</th>\n",
       "      <td>25</td>\n",
       "      <td>73</td>\n",
       "      <td>C</td>\n",
       "    </tr>\n",
       "    <tr>\n",
       "      <th>33</th>\n",
       "      <td>34</td>\n",
       "      <td>89</td>\n",
       "      <td>B</td>\n",
       "    </tr>\n",
       "    <tr>\n",
       "      <th>8</th>\n",
       "      <td>9</td>\n",
       "      <td>37</td>\n",
       "      <td>A</td>\n",
       "    </tr>\n",
       "  </tbody>\n",
       "</table>\n",
       "</div>"
      ],
      "text/plain": [
       "    id  value category\n",
       "26  27     21        C\n",
       "86  87     77        C\n",
       "2    3     65        C\n",
       "55  56     37        C\n",
       "75  76     15        B\n",
       "93  94     80        B\n",
       "16  17     40        A\n",
       "73  74     92        B\n",
       "54  55      1        C\n",
       "95  96     86        B\n",
       "53  54      1        C\n",
       "92  93     24        A\n",
       "78  79     43        A\n",
       "13  14     13        A\n",
       "7    8     22        C\n",
       "30  31     48        C\n",
       "22  23     26        C\n",
       "24  25     73        C\n",
       "33  34     89        B\n",
       "8    9     37        A"
      ]
     },
     "execution_count": 119,
     "metadata": {},
     "output_type": "execute_result"
    }
   ],
   "source": [
    "new"
   ]
  },
  {
   "cell_type": "code",
   "execution_count": 123,
   "id": "28b83f20-9b25-426e-98a4-405ebe37c440",
   "metadata": {},
   "outputs": [
    {
     "data": {
      "text/plain": [
       "([<matplotlib.patches.Wedge at 0x2b502ab3260>,\n",
       "  <matplotlib.patches.Wedge at 0x2b502a9bb30>,\n",
       "  <matplotlib.patches.Wedge at 0x2b502ab3e30>],\n",
       " [Text(6.735557395310444e-17, 1.1, 'C'),\n",
       "  Text(-0.7778174593052025, -0.7778174593052023, 'B'),\n",
       "  Text(0.7778174593052022, -0.7778174593052025, 'A')],\n",
       " [Text(3.6739403974420595e-17, 0.6, '50.00%'),\n",
       "  Text(-0.4242640687119286, -0.42426406871192845, '25.00%'),\n",
       "  Text(0.4242640687119284, -0.4242640687119286, '25.00%')])"
      ]
     },
     "execution_count": 123,
     "metadata": {},
     "output_type": "execute_result"
    },
    {
     "data": {
      "image/png": "[encoded data removed]",
      "text/plain": [
       "<Figure size 1000x900 with 1 Axes>"
      ]
     },
     "metadata": {},
     "output_type": "display_data"
    }
   ],
   "source": [
    "plt.figure(figsize=(10,9))\n",
    "plt.title('Percentage of a b c')\n",
    "plt.pie(new['category'].value_counts(), labels=new['category'].value_counts().index,autopct='%2.2f%%')"
   ]
  },
  {
   "cell_type": "code",
   "execution_count": 145,
   "id": "bb130911-24a8-48f5-9016-c2f4f543a046",
   "metadata": {},
   "outputs": [],
   "source": [
    "def stratified_sample(df, strata_col, sample_size):\n",
    "    # Group by the strata column\n",
    "    grouped = df.groupby(strata_col)\n",
    "    \n",
    "    # Calculate sample size per group\n",
    "    n_per_group = sample_size // grouped.ngroups\n",
    "    \n",
    "    # Perform stratified sampling\n",
    "    stratified_sample = grouped.apply(lambda x: x.sample(n=n_per_group, random_state=1)).reset_index(drop=True)\n",
    "    \n",
    "    return stratified_sample\n"
   ]
  },
  {
   "cell_type": "code",
   "execution_count": 147,
   "id": "9c8565bd-0f53-4bc6-be8a-1569ba7ca137",
   "metadata": {},
   "outputs": [
    {
     "name": "stderr",
     "output_type": "stream",
     "text": [
      "C:\\Users\\duasp\\AppData\\Local\\Temp\\ipykernel_6680\\1575097584.py:9: DeprecationWarning: DataFrameGroupBy.apply operated on the grouping columns. This behavior is deprecated, and in a future version of pandas the grouping columns will be excluded from the operation. Either pass `include_groups=False` to exclude the groupings or explicitly select the grouping columns after groupby to silence this warning.\n",
      "  stratified_sample = grouped.apply(lambda x: x.sample(n=n_per_group, random_state=1)).reset_index(drop=True)\n"
     ]
    }
   ],
   "source": [
    "sdf=stratified_sample(df,'category',21)"
   ]
  },
  {
   "cell_type": "code",
   "execution_count": 149,
   "id": "e67d25fc-bdfe-4ff8-8972-cbcddbe40434",
   "metadata": {},
   "outputs": [
    {
     "data": {
      "text/html": [
       "<div>\n",
       "<style scoped>\n",
       "    .dataframe tbody tr th:only-of-type {\n",
       "        vertical-align: middle;\n",
       "    }\n",
       "\n",
       "    .dataframe tbody tr th {\n",
       "        vertical-align: top;\n",
       "    }\n",
       "\n",
       "    .dataframe thead th {\n",
       "        text-align: right;\n",
       "    }\n",
       "</style>\n",
       "<table border=\"1\" class=\"dataframe\">\n",
       "  <thead>\n",
       "    <tr style=\"text-align: right;\">\n",
       "      <th></th>\n",
       "      <th>id</th>\n",
       "      <th>value</th>\n",
       "      <th>category</th>\n",
       "    </tr>\n",
       "  </thead>\n",
       "  <tbody>\n",
       "    <tr>\n",
       "      <th>0</th>\n",
       "      <td>85</td>\n",
       "      <td>48</td>\n",
       "      <td>A</td>\n",
       "    </tr>\n",
       "    <tr>\n",
       "      <th>1</th>\n",
       "      <td>98</td>\n",
       "      <td>50</td>\n",
       "      <td>A</td>\n",
       "    </tr>\n",
       "    <tr>\n",
       "      <th>2</th>\n",
       "      <td>79</td>\n",
       "      <td>43</td>\n",
       "      <td>A</td>\n",
       "    </tr>\n",
       "    <tr>\n",
       "      <th>3</th>\n",
       "      <td>9</td>\n",
       "      <td>37</td>\n",
       "      <td>A</td>\n",
       "    </tr>\n",
       "    <tr>\n",
       "      <th>4</th>\n",
       "      <td>61</td>\n",
       "      <td>80</td>\n",
       "      <td>A</td>\n",
       "    </tr>\n",
       "    <tr>\n",
       "      <th>5</th>\n",
       "      <td>59</td>\n",
       "      <td>39</td>\n",
       "      <td>A</td>\n",
       "    </tr>\n",
       "    <tr>\n",
       "      <th>6</th>\n",
       "      <td>65</td>\n",
       "      <td>32</td>\n",
       "      <td>A</td>\n",
       "    </tr>\n",
       "    <tr>\n",
       "      <th>7</th>\n",
       "      <td>71</td>\n",
       "      <td>12</td>\n",
       "      <td>B</td>\n",
       "    </tr>\n",
       "    <tr>\n",
       "      <th>8</th>\n",
       "      <td>86</td>\n",
       "      <td>4</td>\n",
       "      <td>B</td>\n",
       "    </tr>\n",
       "    <tr>\n",
       "      <th>9</th>\n",
       "      <td>80</td>\n",
       "      <td>85</td>\n",
       "      <td>B</td>\n",
       "    </tr>\n",
       "    <tr>\n",
       "      <th>10</th>\n",
       "      <td>83</td>\n",
       "      <td>7</td>\n",
       "      <td>B</td>\n",
       "    </tr>\n",
       "    <tr>\n",
       "      <th>11</th>\n",
       "      <td>94</td>\n",
       "      <td>80</td>\n",
       "      <td>B</td>\n",
       "    </tr>\n",
       "    <tr>\n",
       "      <th>12</th>\n",
       "      <td>81</td>\n",
       "      <td>76</td>\n",
       "      <td>B</td>\n",
       "    </tr>\n",
       "    <tr>\n",
       "      <th>13</th>\n",
       "      <td>13</td>\n",
       "      <td>89</td>\n",
       "      <td>B</td>\n",
       "    </tr>\n",
       "    <tr>\n",
       "      <th>14</th>\n",
       "      <td>30</td>\n",
       "      <td>80</td>\n",
       "      <td>C</td>\n",
       "    </tr>\n",
       "    <tr>\n",
       "      <th>15</th>\n",
       "      <td>39</td>\n",
       "      <td>15</td>\n",
       "      <td>C</td>\n",
       "    </tr>\n",
       "    <tr>\n",
       "      <th>16</th>\n",
       "      <td>11</td>\n",
       "      <td>71</td>\n",
       "      <td>C</td>\n",
       "    </tr>\n",
       "    <tr>\n",
       "      <th>17</th>\n",
       "      <td>63</td>\n",
       "      <td>43</td>\n",
       "      <td>C</td>\n",
       "    </tr>\n",
       "    <tr>\n",
       "      <th>18</th>\n",
       "      <td>87</td>\n",
       "      <td>77</td>\n",
       "      <td>C</td>\n",
       "    </tr>\n",
       "    <tr>\n",
       "      <th>19</th>\n",
       "      <td>62</td>\n",
       "      <td>5</td>\n",
       "      <td>C</td>\n",
       "    </tr>\n",
       "    <tr>\n",
       "      <th>20</th>\n",
       "      <td>45</td>\n",
       "      <td>33</td>\n",
       "      <td>C</td>\n",
       "    </tr>\n",
       "  </tbody>\n",
       "</table>\n",
       "</div>"
      ],
      "text/plain": [
       "    id  value category\n",
       "0   85     48        A\n",
       "1   98     50        A\n",
       "2   79     43        A\n",
       "3    9     37        A\n",
       "4   61     80        A\n",
       "5   59     39        A\n",
       "6   65     32        A\n",
       "7   71     12        B\n",
       "8   86      4        B\n",
       "9   80     85        B\n",
       "10  83      7        B\n",
       "11  94     80        B\n",
       "12  81     76        B\n",
       "13  13     89        B\n",
       "14  30     80        C\n",
       "15  39     15        C\n",
       "16  11     71        C\n",
       "17  63     43        C\n",
       "18  87     77        C\n",
       "19  62      5        C\n",
       "20  45     33        C"
      ]
     },
     "execution_count": 149,
     "metadata": {},
     "output_type": "execute_result"
    }
   ],
   "source": [
    "sdf"
   ]
  },
  {
   "cell_type": "code",
   "execution_count": 151,
   "id": "2168b474-eb39-43ee-9291-324bc0a507f4",
   "metadata": {},
   "outputs": [
    {
     "data": {
      "text/plain": [
       "([<matplotlib.patches.Wedge at 0x2b502b3e2d0>,\n",
       "  <matplotlib.patches.Wedge at 0x2b57f6ebb60>,\n",
       "  <matplotlib.patches.Wedge at 0x2b502b3dd60>],\n",
       " [Text(0.5499999702695115, 0.9526279613277875, 'A'),\n",
       "  Text(-1.0999999999999954, -1.0298943258065002e-07, 'B'),\n",
       "  Text(0.5500001486524352, -0.9526278583383436, 'C')],\n",
       " [Text(0.2999999837833699, 0.5196152516333385, '33.33%'),\n",
       "  Text(-0.5999999999999974, -5.6176054134900006e-08, '33.33%'),\n",
       "  Text(0.30000008108314646, -0.5196151954572783, '33.33%')])"
      ]
     },
     "execution_count": 151,
     "metadata": {},
     "output_type": "execute_result"
    },
    {
     "data": {
      "image/png": "[encoded data removed]",
      "text/plain": [
       "<Figure size 1000x900 with 1 Axes>"
      ]
     },
     "metadata": {},
     "output_type": "display_data"
    }
   ],
   "source": [
    "plt.figure(figsize=(10,9))\n",
    "plt.title('Percentage of a b c')\n",
    "plt.pie(sdf['category'].value_counts(), labels=sdf['category'].value_counts().index,autopct='%2.2f%%')"
   ]
  },
  {
   "cell_type": "code",
   "execution_count": 161,
   "id": "dc95f7cc-a991-4f61-9a58-b118c8134ce3",
   "metadata": {},
   "outputs": [],
   "source": [
    "#propotional stratified sampling\n",
    "def propotional_stratified_sample(df,strata_col,sample_size):\n",
    "    #group byt the strta column\n",
    "    grouped=df.groupby(strata_col)\n",
    "    #perform propotional sampling\n",
    "    stratified_sample=grouped.apply(lambda x: x.sample(frac=sample_size/len(df), random_state=0)).reset_index(drop=True)\n",
    "    return stratified_sample"
   ]
  },
  {
   "cell_type": "code",
   "execution_count": 163,
   "id": "a00baa4d-10b3-4958-b60b-d96678d90e91",
   "metadata": {},
   "outputs": [
    {
     "name": "stderr",
     "output_type": "stream",
     "text": [
      "C:\\Users\\duasp\\AppData\\Local\\Temp\\ipykernel_6680\\2271900090.py:6: DeprecationWarning: DataFrameGroupBy.apply operated on the grouping columns. This behavior is deprecated, and in a future version of pandas the grouping columns will be excluded from the operation. Either pass `include_groups=False` to exclude the groupings or explicitly select the grouping columns after groupby to silence this warning.\n",
      "  stratified_sample=grouped.apply(lambda x: x.sample(frac=sample_size/len(df), random_state=0)).reset_index(drop=True)\n"
     ]
    }
   ],
   "source": [
    "ndf=propotional_stratified_sample(df,'category',20)"
   ]
  },
  {
   "cell_type": "code",
   "execution_count": 165,
   "id": "dd106a49-b267-4e60-a5e4-aa28ec03aaf0",
   "metadata": {},
   "outputs": [
    {
     "data": {
      "text/plain": [
       "([<matplotlib.patches.Wedge at 0x2b50302d430>,\n",
       "  <matplotlib.patches.Wedge at 0x2b502aabb60>,\n",
       "  <matplotlib.patches.Wedge at 0x2b50302dc40>],\n",
       " [Text(0.4993895680663529, 0.9801071672559597, 'A'),\n",
       "  Text(-1.086457184321308, -0.1720778505113766, 'C'),\n",
       "  Text(0.6465637441936392, -0.8899187180267097, 'B')],\n",
       " [Text(0.27239430985437424, 0.5346039094123416, '35.00%'),\n",
       "  Text(-0.5926130096298043, -0.09386064573347815, '35.00%'),\n",
       "  Text(0.3526711331965304, -0.48541020983275074, '30.00%')])"
      ]
     },
     "execution_count": 165,
     "metadata": {},
     "output_type": "execute_result"
    },
    {
     "data": {
      "image/png": "[encoded data removed]",
      "text/plain": [
       "<Figure size 1000x900 with 1 Axes>"
      ]
     },
     "metadata": {},
     "output_type": "display_data"
    }
   ],
   "source": [
    "plt.figure(figsize=(10,9))\n",
    "plt.title('Percentage of a b c')\n",
    "plt.pie(ndf['category'].value_counts(), labels=ndf['category'].value_counts().index,autopct='%2.2f%%')"
   ]
  },
  {
   "cell_type": "code",
   "execution_count": 284,
   "id": "46ddab22-ac2a-4e5e-8adf-30e06d83e3af",
   "metadata": {},
   "outputs": [],
   "source": [
    "iris=pd.read_csv('C:/Users/duasp/datasets/iris.csv')"
   ]
  },
  {
   "cell_type": "code",
   "execution_count": 286,
   "id": "7bc17495-2abd-4173-b544-732edca95f5d",
   "metadata": {},
   "outputs": [
    {
     "data": {
      "text/html": [
       "<div>\n",
       "<style scoped>\n",
       "    .dataframe tbody tr th:only-of-type {\n",
       "        vertical-align: middle;\n",
       "    }\n",
       "\n",
       "    .dataframe tbody tr th {\n",
       "        vertical-align: top;\n",
       "    }\n",
       "\n",
       "    .dataframe thead th {\n",
       "        text-align: right;\n",
       "    }\n",
       "</style>\n",
       "<table border=\"1\" class=\"dataframe\">\n",
       "  <thead>\n",
       "    <tr style=\"text-align: right;\">\n",
       "      <th></th>\n",
       "      <th>sepal_length</th>\n",
       "      <th>sepal_width</th>\n",
       "      <th>petal_length</th>\n",
       "      <th>petal_width</th>\n",
       "      <th>species</th>\n",
       "    </tr>\n",
       "  </thead>\n",
       "  <tbody>\n",
       "    <tr>\n",
       "      <th>0</th>\n",
       "      <td>5.1</td>\n",
       "      <td>3.5</td>\n",
       "      <td>1.4</td>\n",
       "      <td>0.2</td>\n",
       "      <td>setosa</td>\n",
       "    </tr>\n",
       "    <tr>\n",
       "      <th>1</th>\n",
       "      <td>4.9</td>\n",
       "      <td>3.0</td>\n",
       "      <td>1.4</td>\n",
       "      <td>0.2</td>\n",
       "      <td>setosa</td>\n",
       "    </tr>\n",
       "    <tr>\n",
       "      <th>2</th>\n",
       "      <td>4.7</td>\n",
       "      <td>3.2</td>\n",
       "      <td>1.3</td>\n",
       "      <td>0.2</td>\n",
       "      <td>setosa</td>\n",
       "    </tr>\n",
       "    <tr>\n",
       "      <th>3</th>\n",
       "      <td>4.6</td>\n",
       "      <td>3.1</td>\n",
       "      <td>1.5</td>\n",
       "      <td>0.2</td>\n",
       "      <td>setosa</td>\n",
       "    </tr>\n",
       "    <tr>\n",
       "      <th>4</th>\n",
       "      <td>5.0</td>\n",
       "      <td>3.6</td>\n",
       "      <td>1.4</td>\n",
       "      <td>0.2</td>\n",
       "      <td>setosa</td>\n",
       "    </tr>\n",
       "    <tr>\n",
       "      <th>...</th>\n",
       "      <td>...</td>\n",
       "      <td>...</td>\n",
       "      <td>...</td>\n",
       "      <td>...</td>\n",
       "      <td>...</td>\n",
       "    </tr>\n",
       "    <tr>\n",
       "      <th>145</th>\n",
       "      <td>6.7</td>\n",
       "      <td>3.0</td>\n",
       "      <td>5.2</td>\n",
       "      <td>2.3</td>\n",
       "      <td>virginica</td>\n",
       "    </tr>\n",
       "    <tr>\n",
       "      <th>146</th>\n",
       "      <td>6.3</td>\n",
       "      <td>2.5</td>\n",
       "      <td>5.0</td>\n",
       "      <td>1.9</td>\n",
       "      <td>virginica</td>\n",
       "    </tr>\n",
       "    <tr>\n",
       "      <th>147</th>\n",
       "      <td>6.5</td>\n",
       "      <td>3.0</td>\n",
       "      <td>5.2</td>\n",
       "      <td>2.0</td>\n",
       "      <td>virginica</td>\n",
       "    </tr>\n",
       "    <tr>\n",
       "      <th>148</th>\n",
       "      <td>6.2</td>\n",
       "      <td>3.4</td>\n",
       "      <td>5.4</td>\n",
       "      <td>2.3</td>\n",
       "      <td>virginica</td>\n",
       "    </tr>\n",
       "    <tr>\n",
       "      <th>149</th>\n",
       "      <td>5.9</td>\n",
       "      <td>3.0</td>\n",
       "      <td>5.1</td>\n",
       "      <td>1.8</td>\n",
       "      <td>virginica</td>\n",
       "    </tr>\n",
       "  </tbody>\n",
       "</table>\n",
       "<p>150 rows × 5 columns</p>\n",
       "</div>"
      ],
      "text/plain": [
       "     sepal_length  sepal_width  petal_length  petal_width    species\n",
       "0             5.1          3.5           1.4          0.2     setosa\n",
       "1             4.9          3.0           1.4          0.2     setosa\n",
       "2             4.7          3.2           1.3          0.2     setosa\n",
       "3             4.6          3.1           1.5          0.2     setosa\n",
       "4             5.0          3.6           1.4          0.2     setosa\n",
       "..            ...          ...           ...          ...        ...\n",
       "145           6.7          3.0           5.2          2.3  virginica\n",
       "146           6.3          2.5           5.0          1.9  virginica\n",
       "147           6.5          3.0           5.2          2.0  virginica\n",
       "148           6.2          3.4           5.4          2.3  virginica\n",
       "149           5.9          3.0           5.1          1.8  virginica\n",
       "\n",
       "[150 rows x 5 columns]"
      ]
     },
     "execution_count": 286,
     "metadata": {},
     "output_type": "execute_result"
    }
   ],
   "source": [
    "iris"
   ]
  },
  {
   "cell_type": "code",
   "execution_count": 290,
   "id": "0cc0d50b-c2fe-451f-ab36-7112cbe152ee",
   "metadata": {},
   "outputs": [
    {
     "data": {
      "text/plain": [
       "([<matplotlib.patches.Wedge at 0x2b5057f6390>,\n",
       "  <matplotlib.patches.Wedge at 0x2b503b16ed0>,\n",
       "  <matplotlib.patches.Wedge at 0x2b5057f6f60>],\n",
       " [Text(0.5499999702695115, 0.9526279613277875, 'setosa'),\n",
       "  Text(-1.0999999999999954, -1.0298943258065002e-07, 'versicolor'),\n",
       "  Text(0.5500001486524352, -0.9526278583383436, 'virginica')],\n",
       " [Text(0.2999999837833699, 0.5196152516333385, '33.33%'),\n",
       "  Text(-0.5999999999999974, -5.6176054134900006e-08, '33.33%'),\n",
       "  Text(0.30000008108314646, -0.5196151954572783, '33.33%')])"
      ]
     },
     "execution_count": 290,
     "metadata": {},
     "output_type": "execute_result"
    },
    {
     "data": {
      "image/png": "[encoded data removed]",
      "text/plain": [
       "<Figure size 1000x900 with 1 Axes>"
      ]
     },
     "metadata": {},
     "output_type": "display_data"
    }
   ],
   "source": [
    "plt.figure(figsize=(10,9))\n",
    "plt.title('species')\n",
    "plt.pie(iris['species'].value_counts(), labels=iris['species'].value_counts().index,autopct='%2.2f%%')"
   ]
  },
  {
   "cell_type": "code",
   "execution_count": 296,
   "id": "7f573f37-08c7-45ea-9e6a-dc78357bcc04",
   "metadata": {},
   "outputs": [
    {
     "data": {
      "text/plain": [
       "species\n",
       "setosa        50\n",
       "versicolor    50\n",
       "virginica     50\n",
       "Name: count, dtype: int64"
      ]
     },
     "execution_count": 296,
     "metadata": {},
     "output_type": "execute_result"
    }
   ],
   "source": [
    "iris['species'].value_counts()"
   ]
  },
  {
   "cell_type": "code",
   "execution_count": 298,
   "id": "f77720de-1478-4ad0-93d1-c2b2feb66746",
   "metadata": {},
   "outputs": [],
   "source": [
    "from sklearn.model_selection import train_test_split"
   ]
  },
  {
   "cell_type": "code",
   "execution_count": 300,
   "id": "d493302d-6584-4a8c-a326-aacb01cd60f0",
   "metadata": {},
   "outputs": [],
   "source": [
    "train,test=train_test_split(iris,random_state=0)"
   ]
  },
  {
   "cell_type": "code",
   "execution_count": 304,
   "id": "601cf556-9add-4f6c-a8e3-f473fd3ebef9",
   "metadata": {},
   "outputs": [
    {
     "data": {
      "text/plain": [
       "species\n",
       "virginica     41\n",
       "setosa        37\n",
       "versicolor    34\n",
       "Name: count, dtype: int64"
      ]
     },
     "execution_count": 304,
     "metadata": {},
     "output_type": "execute_result"
    }
   ],
   "source": [
    "train['species'].value_counts()"
   ]
  },
  {
   "cell_type": "code",
   "execution_count": 306,
   "id": "1274ca29-9809-492c-b362-d51906b1ca2f",
   "metadata": {},
   "outputs": [
    {
     "data": {
      "text/plain": [
       "species\n",
       "versicolor    16\n",
       "setosa        13\n",
       "virginica      9\n",
       "Name: count, dtype: int64"
      ]
     },
     "execution_count": 306,
     "metadata": {},
     "output_type": "execute_result"
    }
   ],
   "source": [
    "test['species'].value_counts()"
   ]
  },
  {
   "cell_type": "code",
   "execution_count": 310,
   "id": "d9affc66-52e1-46fe-9899-78a1762e4f79",
   "metadata": {},
   "outputs": [],
   "source": [
    "train,test=train_test_split(iris,random_state=0,stratify=iris['species'])"
   ]
  },
  {
   "cell_type": "code",
   "execution_count": 312,
   "id": "67c51803-ae1a-4c35-9501-a701ec91eaa2",
   "metadata": {},
   "outputs": [
    {
     "data": {
      "text/plain": [
       "species\n",
       "virginica     38\n",
       "versicolor    37\n",
       "setosa        37\n",
       "Name: count, dtype: int64"
      ]
     },
     "execution_count": 312,
     "metadata": {},
     "output_type": "execute_result"
    }
   ],
   "source": [
    "train['species'].value_counts()"
   ]
  },
  {
   "cell_type": "code",
   "execution_count": 314,
   "id": "57589daf-ba79-4a70-b8d5-6882ecdf6e25",
   "metadata": {},
   "outputs": [
    {
     "data": {
      "text/plain": [
       "species\n",
       "setosa        13\n",
       "versicolor    13\n",
       "virginica     12\n",
       "Name: count, dtype: int64"
      ]
     },
     "execution_count": 314,
     "metadata": {},
     "output_type": "execute_result"
    }
   ],
   "source": [
    "test['species'].value_counts()"
   ]
  },
  {
   "cell_type": "markdown",
   "id": "956fb93e-3b2a-4db0-9eb8-39badc6383aa",
   "metadata": {
    "jp-MarkdownHeadingCollapsed": true
   },
   "source": [
    "<h4>Cluster Based Sampling</h4>"
   ]
  },
  {
   "cell_type": "code",
   "execution_count": 228,
   "id": "0de3c3b3-cde7-43aa-b3bd-deb755bc9ccf",
   "metadata": {},
   "outputs": [],
   "source": [
    "df=pd.DataFrame({\n",
    "    'id':range(1,101),\n",
    "    'value':np.random.randint(1,100,100),\n",
    "    'cluster':np.random.choice(['cluster1','cluster2','cluster3','cluster4','cluster5'],100)\n",
    "\n",
    "})"
   ]
  },
  {
   "cell_type": "code",
   "execution_count": 232,
   "id": "febbd46e-1784-41de-a9dd-dbe9789740c9",
   "metadata": {},
   "outputs": [
    {
     "data": {
      "text/html": [
       "<div>\n",
       "<style scoped>\n",
       "    .dataframe tbody tr th:only-of-type {\n",
       "        vertical-align: middle;\n",
       "    }\n",
       "\n",
       "    .dataframe tbody tr th {\n",
       "        vertical-align: top;\n",
       "    }\n",
       "\n",
       "    .dataframe thead th {\n",
       "        text-align: right;\n",
       "    }\n",
       "</style>\n",
       "<table border=\"1\" class=\"dataframe\">\n",
       "  <thead>\n",
       "    <tr style=\"text-align: right;\">\n",
       "      <th></th>\n",
       "      <th>id</th>\n",
       "      <th>value</th>\n",
       "      <th>cluster</th>\n",
       "    </tr>\n",
       "  </thead>\n",
       "  <tbody>\n",
       "    <tr>\n",
       "      <th>0</th>\n",
       "      <td>1</td>\n",
       "      <td>79</td>\n",
       "      <td>cluster1</td>\n",
       "    </tr>\n",
       "    <tr>\n",
       "      <th>1</th>\n",
       "      <td>2</td>\n",
       "      <td>83</td>\n",
       "      <td>cluster3</td>\n",
       "    </tr>\n",
       "    <tr>\n",
       "      <th>2</th>\n",
       "      <td>3</td>\n",
       "      <td>70</td>\n",
       "      <td>cluster4</td>\n",
       "    </tr>\n",
       "    <tr>\n",
       "      <th>3</th>\n",
       "      <td>4</td>\n",
       "      <td>59</td>\n",
       "      <td>cluster4</td>\n",
       "    </tr>\n",
       "    <tr>\n",
       "      <th>4</th>\n",
       "      <td>5</td>\n",
       "      <td>5</td>\n",
       "      <td>cluster4</td>\n",
       "    </tr>\n",
       "    <tr>\n",
       "      <th>...</th>\n",
       "      <td>...</td>\n",
       "      <td>...</td>\n",
       "      <td>...</td>\n",
       "    </tr>\n",
       "    <tr>\n",
       "      <th>95</th>\n",
       "      <td>96</td>\n",
       "      <td>68</td>\n",
       "      <td>cluster3</td>\n",
       "    </tr>\n",
       "    <tr>\n",
       "      <th>96</th>\n",
       "      <td>97</td>\n",
       "      <td>45</td>\n",
       "      <td>cluster4</td>\n",
       "    </tr>\n",
       "    <tr>\n",
       "      <th>97</th>\n",
       "      <td>98</td>\n",
       "      <td>84</td>\n",
       "      <td>cluster3</td>\n",
       "    </tr>\n",
       "    <tr>\n",
       "      <th>98</th>\n",
       "      <td>99</td>\n",
       "      <td>46</td>\n",
       "      <td>cluster3</td>\n",
       "    </tr>\n",
       "    <tr>\n",
       "      <th>99</th>\n",
       "      <td>100</td>\n",
       "      <td>55</td>\n",
       "      <td>cluster2</td>\n",
       "    </tr>\n",
       "  </tbody>\n",
       "</table>\n",
       "<p>100 rows × 3 columns</p>\n",
       "</div>"
      ],
      "text/plain": [
       "     id  value   cluster\n",
       "0     1     79  cluster1\n",
       "1     2     83  cluster3\n",
       "2     3     70  cluster4\n",
       "3     4     59  cluster4\n",
       "4     5      5  cluster4\n",
       "..  ...    ...       ...\n",
       "95   96     68  cluster3\n",
       "96   97     45  cluster4\n",
       "97   98     84  cluster3\n",
       "98   99     46  cluster3\n",
       "99  100     55  cluster2\n",
       "\n",
       "[100 rows x 3 columns]"
      ]
     },
     "execution_count": 232,
     "metadata": {},
     "output_type": "execute_result"
    }
   ],
   "source": [
    "df"
   ]
  },
  {
   "cell_type": "code",
   "execution_count": 206,
   "id": "78eb981a-d21e-432b-bc1b-53b1b5ac1b3e",
   "metadata": {},
   "outputs": [],
   "source": [
    "def cluster_sample(df, cluster_col, num_clusters):\n",
    "    # Identify unique clusters\n",
    "    clusters = df[cluster_col].unique()\n",
    "    \n",
    "    # Randomly select clusters\n",
    "    selected_clusters = np.random.choice(clusters, size=num_clusters, replace=False)\n",
    "    \n",
    "    # Create a sample DataFrame containing all records from the selected clusters\n",
    "    cluster_sample = df[df[cluster_col].isin(selected_clusters)].reset_index(drop=True)\n",
    "    \n",
    "    return cluster_sample"
   ]
  },
  {
   "cell_type": "code",
   "execution_count": 220,
   "id": "cc48d781-255d-43bf-90e9-67b1b0035b5e",
   "metadata": {},
   "outputs": [
    {
     "data": {
      "text/html": [
       "<div>\n",
       "<style scoped>\n",
       "    .dataframe tbody tr th:only-of-type {\n",
       "        vertical-align: middle;\n",
       "    }\n",
       "\n",
       "    .dataframe tbody tr th {\n",
       "        vertical-align: top;\n",
       "    }\n",
       "\n",
       "    .dataframe thead th {\n",
       "        text-align: right;\n",
       "    }\n",
       "</style>\n",
       "<table border=\"1\" class=\"dataframe\">\n",
       "  <thead>\n",
       "    <tr style=\"text-align: right;\">\n",
       "      <th></th>\n",
       "      <th>id</th>\n",
       "      <th>value</th>\n",
       "      <th>cluster</th>\n",
       "    </tr>\n",
       "  </thead>\n",
       "  <tbody>\n",
       "    <tr>\n",
       "      <th>0</th>\n",
       "      <td>1</td>\n",
       "      <td>19</td>\n",
       "      <td>cluster4</td>\n",
       "    </tr>\n",
       "    <tr>\n",
       "      <th>1</th>\n",
       "      <td>2</td>\n",
       "      <td>41</td>\n",
       "      <td>cluster4</td>\n",
       "    </tr>\n",
       "    <tr>\n",
       "      <th>2</th>\n",
       "      <td>4</td>\n",
       "      <td>80</td>\n",
       "      <td>cluster3</td>\n",
       "    </tr>\n",
       "    <tr>\n",
       "      <th>3</th>\n",
       "      <td>6</td>\n",
       "      <td>39</td>\n",
       "      <td>cluster4</td>\n",
       "    </tr>\n",
       "    <tr>\n",
       "      <th>4</th>\n",
       "      <td>7</td>\n",
       "      <td>94</td>\n",
       "      <td>cluster4</td>\n",
       "    </tr>\n",
       "    <tr>\n",
       "      <th>5</th>\n",
       "      <td>12</td>\n",
       "      <td>25</td>\n",
       "      <td>cluster3</td>\n",
       "    </tr>\n",
       "    <tr>\n",
       "      <th>6</th>\n",
       "      <td>14</td>\n",
       "      <td>83</td>\n",
       "      <td>cluster4</td>\n",
       "    </tr>\n",
       "    <tr>\n",
       "      <th>7</th>\n",
       "      <td>17</td>\n",
       "      <td>36</td>\n",
       "      <td>cluster4</td>\n",
       "    </tr>\n",
       "    <tr>\n",
       "      <th>8</th>\n",
       "      <td>20</td>\n",
       "      <td>70</td>\n",
       "      <td>cluster3</td>\n",
       "    </tr>\n",
       "    <tr>\n",
       "      <th>9</th>\n",
       "      <td>23</td>\n",
       "      <td>33</td>\n",
       "      <td>cluster3</td>\n",
       "    </tr>\n",
       "    <tr>\n",
       "      <th>10</th>\n",
       "      <td>27</td>\n",
       "      <td>55</td>\n",
       "      <td>cluster4</td>\n",
       "    </tr>\n",
       "    <tr>\n",
       "      <th>11</th>\n",
       "      <td>28</td>\n",
       "      <td>38</td>\n",
       "      <td>cluster4</td>\n",
       "    </tr>\n",
       "    <tr>\n",
       "      <th>12</th>\n",
       "      <td>31</td>\n",
       "      <td>28</td>\n",
       "      <td>cluster4</td>\n",
       "    </tr>\n",
       "    <tr>\n",
       "      <th>13</th>\n",
       "      <td>32</td>\n",
       "      <td>84</td>\n",
       "      <td>cluster4</td>\n",
       "    </tr>\n",
       "    <tr>\n",
       "      <th>14</th>\n",
       "      <td>34</td>\n",
       "      <td>24</td>\n",
       "      <td>cluster4</td>\n",
       "    </tr>\n",
       "    <tr>\n",
       "      <th>15</th>\n",
       "      <td>36</td>\n",
       "      <td>52</td>\n",
       "      <td>cluster3</td>\n",
       "    </tr>\n",
       "    <tr>\n",
       "      <th>16</th>\n",
       "      <td>41</td>\n",
       "      <td>68</td>\n",
       "      <td>cluster4</td>\n",
       "    </tr>\n",
       "    <tr>\n",
       "      <th>17</th>\n",
       "      <td>46</td>\n",
       "      <td>42</td>\n",
       "      <td>cluster3</td>\n",
       "    </tr>\n",
       "    <tr>\n",
       "      <th>18</th>\n",
       "      <td>49</td>\n",
       "      <td>47</td>\n",
       "      <td>cluster3</td>\n",
       "    </tr>\n",
       "    <tr>\n",
       "      <th>19</th>\n",
       "      <td>51</td>\n",
       "      <td>51</td>\n",
       "      <td>cluster4</td>\n",
       "    </tr>\n",
       "    <tr>\n",
       "      <th>20</th>\n",
       "      <td>52</td>\n",
       "      <td>4</td>\n",
       "      <td>cluster3</td>\n",
       "    </tr>\n",
       "    <tr>\n",
       "      <th>21</th>\n",
       "      <td>53</td>\n",
       "      <td>32</td>\n",
       "      <td>cluster4</td>\n",
       "    </tr>\n",
       "    <tr>\n",
       "      <th>22</th>\n",
       "      <td>57</td>\n",
       "      <td>46</td>\n",
       "      <td>cluster4</td>\n",
       "    </tr>\n",
       "    <tr>\n",
       "      <th>23</th>\n",
       "      <td>60</td>\n",
       "      <td>62</td>\n",
       "      <td>cluster3</td>\n",
       "    </tr>\n",
       "    <tr>\n",
       "      <th>24</th>\n",
       "      <td>61</td>\n",
       "      <td>86</td>\n",
       "      <td>cluster3</td>\n",
       "    </tr>\n",
       "    <tr>\n",
       "      <th>25</th>\n",
       "      <td>64</td>\n",
       "      <td>35</td>\n",
       "      <td>cluster4</td>\n",
       "    </tr>\n",
       "    <tr>\n",
       "      <th>26</th>\n",
       "      <td>65</td>\n",
       "      <td>35</td>\n",
       "      <td>cluster4</td>\n",
       "    </tr>\n",
       "    <tr>\n",
       "      <th>27</th>\n",
       "      <td>66</td>\n",
       "      <td>89</td>\n",
       "      <td>cluster4</td>\n",
       "    </tr>\n",
       "    <tr>\n",
       "      <th>28</th>\n",
       "      <td>68</td>\n",
       "      <td>6</td>\n",
       "      <td>cluster3</td>\n",
       "    </tr>\n",
       "    <tr>\n",
       "      <th>29</th>\n",
       "      <td>69</td>\n",
       "      <td>37</td>\n",
       "      <td>cluster3</td>\n",
       "    </tr>\n",
       "    <tr>\n",
       "      <th>30</th>\n",
       "      <td>70</td>\n",
       "      <td>1</td>\n",
       "      <td>cluster4</td>\n",
       "    </tr>\n",
       "    <tr>\n",
       "      <th>31</th>\n",
       "      <td>71</td>\n",
       "      <td>76</td>\n",
       "      <td>cluster3</td>\n",
       "    </tr>\n",
       "    <tr>\n",
       "      <th>32</th>\n",
       "      <td>72</td>\n",
       "      <td>35</td>\n",
       "      <td>cluster4</td>\n",
       "    </tr>\n",
       "    <tr>\n",
       "      <th>33</th>\n",
       "      <td>75</td>\n",
       "      <td>81</td>\n",
       "      <td>cluster3</td>\n",
       "    </tr>\n",
       "    <tr>\n",
       "      <th>34</th>\n",
       "      <td>77</td>\n",
       "      <td>9</td>\n",
       "      <td>cluster3</td>\n",
       "    </tr>\n",
       "    <tr>\n",
       "      <th>35</th>\n",
       "      <td>79</td>\n",
       "      <td>2</td>\n",
       "      <td>cluster4</td>\n",
       "    </tr>\n",
       "    <tr>\n",
       "      <th>36</th>\n",
       "      <td>81</td>\n",
       "      <td>36</td>\n",
       "      <td>cluster3</td>\n",
       "    </tr>\n",
       "    <tr>\n",
       "      <th>37</th>\n",
       "      <td>83</td>\n",
       "      <td>41</td>\n",
       "      <td>cluster4</td>\n",
       "    </tr>\n",
       "    <tr>\n",
       "      <th>38</th>\n",
       "      <td>84</td>\n",
       "      <td>37</td>\n",
       "      <td>cluster3</td>\n",
       "    </tr>\n",
       "    <tr>\n",
       "      <th>39</th>\n",
       "      <td>86</td>\n",
       "      <td>26</td>\n",
       "      <td>cluster3</td>\n",
       "    </tr>\n",
       "    <tr>\n",
       "      <th>40</th>\n",
       "      <td>97</td>\n",
       "      <td>70</td>\n",
       "      <td>cluster4</td>\n",
       "    </tr>\n",
       "  </tbody>\n",
       "</table>\n",
       "</div>"
      ],
      "text/plain": [
       "    id  value   cluster\n",
       "0    1     19  cluster4\n",
       "1    2     41  cluster4\n",
       "2    4     80  cluster3\n",
       "3    6     39  cluster4\n",
       "4    7     94  cluster4\n",
       "5   12     25  cluster3\n",
       "6   14     83  cluster4\n",
       "7   17     36  cluster4\n",
       "8   20     70  cluster3\n",
       "9   23     33  cluster3\n",
       "10  27     55  cluster4\n",
       "11  28     38  cluster4\n",
       "12  31     28  cluster4\n",
       "13  32     84  cluster4\n",
       "14  34     24  cluster4\n",
       "15  36     52  cluster3\n",
       "16  41     68  cluster4\n",
       "17  46     42  cluster3\n",
       "18  49     47  cluster3\n",
       "19  51     51  cluster4\n",
       "20  52      4  cluster3\n",
       "21  53     32  cluster4\n",
       "22  57     46  cluster4\n",
       "23  60     62  cluster3\n",
       "24  61     86  cluster3\n",
       "25  64     35  cluster4\n",
       "26  65     35  cluster4\n",
       "27  66     89  cluster4\n",
       "28  68      6  cluster3\n",
       "29  69     37  cluster3\n",
       "30  70      1  cluster4\n",
       "31  71     76  cluster3\n",
       "32  72     35  cluster4\n",
       "33  75     81  cluster3\n",
       "34  77      9  cluster3\n",
       "35  79      2  cluster4\n",
       "36  81     36  cluster3\n",
       "37  83     41  cluster4\n",
       "38  84     37  cluster3\n",
       "39  86     26  cluster3\n",
       "40  97     70  cluster4"
      ]
     },
     "execution_count": 220,
     "metadata": {},
     "output_type": "execute_result"
    }
   ],
   "source": [
    "cluster_sample(df,'cluster',2)"
   ]
  },
  {
   "cell_type": "markdown",
   "id": "5aa98d64-4fda-4697-9da6-51bbcb3305b4",
   "metadata": {
    "jp-MarkdownHeadingCollapsed": true
   },
   "source": [
    "<h4>Systematic Sampling</h4>"
   ]
  },
  {
   "cell_type": "code",
   "execution_count": 278,
   "id": "3462a963-fdd4-45b1-bd34-1b1e624f26c1",
   "metadata": {},
   "outputs": [],
   "source": [
    "df=pd.DataFrame({\n",
    "    'id':range(1,101),\n",
    "    'value': np.random.randint(1,100,100)\n",
    "})"
   ]
  },
  {
   "cell_type": "code",
   "execution_count": 280,
   "id": "9feb632a-4134-4006-a19f-dc98a576b59d",
   "metadata": {},
   "outputs": [],
   "source": [
    "def systematic_sample(df,sample_size):\n",
    "    #calculate the sampling interval\n",
    "    k=len(df)//sample_size\n",
    "    #generate a random start\n",
    "    start=np.random.randint(0,k)\n",
    "    #select every k-th element starting from the random start\n",
    "    systematic_sample=df.iloc[start::k].reset_index(drop=True)\n",
    "    return systematic_sample"
   ]
  },
  {
   "cell_type": "code",
   "execution_count": 282,
   "id": "fd598c9f-2ebd-4bc2-828b-9bb037bdb27b",
   "metadata": {},
   "outputs": [
    {
     "data": {
      "text/html": [
       "<div>\n",
       "<style scoped>\n",
       "    .dataframe tbody tr th:only-of-type {\n",
       "        vertical-align: middle;\n",
       "    }\n",
       "\n",
       "    .dataframe tbody tr th {\n",
       "        vertical-align: top;\n",
       "    }\n",
       "\n",
       "    .dataframe thead th {\n",
       "        text-align: right;\n",
       "    }\n",
       "</style>\n",
       "<table border=\"1\" class=\"dataframe\">\n",
       "  <thead>\n",
       "    <tr style=\"text-align: right;\">\n",
       "      <th></th>\n",
       "      <th>id</th>\n",
       "      <th>value</th>\n",
       "    </tr>\n",
       "  </thead>\n",
       "  <tbody>\n",
       "    <tr>\n",
       "      <th>0</th>\n",
       "      <td>2</td>\n",
       "      <td>2</td>\n",
       "    </tr>\n",
       "    <tr>\n",
       "      <th>1</th>\n",
       "      <td>7</td>\n",
       "      <td>34</td>\n",
       "    </tr>\n",
       "    <tr>\n",
       "      <th>2</th>\n",
       "      <td>12</td>\n",
       "      <td>84</td>\n",
       "    </tr>\n",
       "    <tr>\n",
       "      <th>3</th>\n",
       "      <td>17</td>\n",
       "      <td>23</td>\n",
       "    </tr>\n",
       "    <tr>\n",
       "      <th>4</th>\n",
       "      <td>22</td>\n",
       "      <td>16</td>\n",
       "    </tr>\n",
       "    <tr>\n",
       "      <th>5</th>\n",
       "      <td>27</td>\n",
       "      <td>81</td>\n",
       "    </tr>\n",
       "    <tr>\n",
       "      <th>6</th>\n",
       "      <td>32</td>\n",
       "      <td>81</td>\n",
       "    </tr>\n",
       "    <tr>\n",
       "      <th>7</th>\n",
       "      <td>37</td>\n",
       "      <td>83</td>\n",
       "    </tr>\n",
       "    <tr>\n",
       "      <th>8</th>\n",
       "      <td>42</td>\n",
       "      <td>16</td>\n",
       "    </tr>\n",
       "    <tr>\n",
       "      <th>9</th>\n",
       "      <td>47</td>\n",
       "      <td>58</td>\n",
       "    </tr>\n",
       "    <tr>\n",
       "      <th>10</th>\n",
       "      <td>52</td>\n",
       "      <td>19</td>\n",
       "    </tr>\n",
       "    <tr>\n",
       "      <th>11</th>\n",
       "      <td>57</td>\n",
       "      <td>56</td>\n",
       "    </tr>\n",
       "    <tr>\n",
       "      <th>12</th>\n",
       "      <td>62</td>\n",
       "      <td>88</td>\n",
       "    </tr>\n",
       "    <tr>\n",
       "      <th>13</th>\n",
       "      <td>67</td>\n",
       "      <td>83</td>\n",
       "    </tr>\n",
       "    <tr>\n",
       "      <th>14</th>\n",
       "      <td>72</td>\n",
       "      <td>50</td>\n",
       "    </tr>\n",
       "    <tr>\n",
       "      <th>15</th>\n",
       "      <td>77</td>\n",
       "      <td>91</td>\n",
       "    </tr>\n",
       "    <tr>\n",
       "      <th>16</th>\n",
       "      <td>82</td>\n",
       "      <td>39</td>\n",
       "    </tr>\n",
       "    <tr>\n",
       "      <th>17</th>\n",
       "      <td>87</td>\n",
       "      <td>75</td>\n",
       "    </tr>\n",
       "    <tr>\n",
       "      <th>18</th>\n",
       "      <td>92</td>\n",
       "      <td>35</td>\n",
       "    </tr>\n",
       "    <tr>\n",
       "      <th>19</th>\n",
       "      <td>97</td>\n",
       "      <td>28</td>\n",
       "    </tr>\n",
       "  </tbody>\n",
       "</table>\n",
       "</div>"
      ],
      "text/plain": [
       "    id  value\n",
       "0    2      2\n",
       "1    7     34\n",
       "2   12     84\n",
       "3   17     23\n",
       "4   22     16\n",
       "5   27     81\n",
       "6   32     81\n",
       "7   37     83\n",
       "8   42     16\n",
       "9   47     58\n",
       "10  52     19\n",
       "11  57     56\n",
       "12  62     88\n",
       "13  67     83\n",
       "14  72     50\n",
       "15  77     91\n",
       "16  82     39\n",
       "17  87     75\n",
       "18  92     35\n",
       "19  97     28"
      ]
     },
     "execution_count": 282,
     "metadata": {},
     "output_type": "execute_result"
    }
   ],
   "source": [
    "systematic_sample(df,20)"
   ]
  },
  {
   "cell_type": "code",
   "execution_count": null,
   "id": "440b4adb-a98d-49fb-bfc8-e6886e88fb29",
   "metadata": {},
   "outputs": [],
   "source": [
    "\n"
   ]
  },
  {
   "cell_type": "code",
   "execution_count": null,
   "id": "0f096da4-9a4b-4683-85b4-89ae2263378e",
   "metadata": {},
   "outputs": [],
   "source": []
  }
 ],
 "metadata": {
  "kernelspec": {
   "display_name": "Python 3 (ipykernel)",
   "language": "python",
   "name": "python3"
  },
  "language_info": {
   "codemirror_mode": {
    "name": "ipython",
    "version": 3
   },
   "file_extension": ".py",
   "mimetype": "text/x-python",
   "name": "python",
   "nbconvert_exporter": "python",
   "pygments_lexer": "ipython3",
   "version": "3.12.4"
  }
 },
 "nbformat": 4,
 "nbformat_minor": 5
}
