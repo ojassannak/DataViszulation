{
 "cells": [
  {
   "cell_type": "markdown",
   "id": "e99986ae-f2e5-4e45-8a8d-cef20356c50d",
   "metadata": {
    "jp-MarkdownHeadingCollapsed": true
   },
   "source": [
    "<h4>import lib</h4>"
   ]
  },
  {
   "cell_type": "code",
   "execution_count": 7,
   "id": "2f92aa4f-c1f4-4c15-b17a-789330467a01",
   "metadata": {},
   "outputs": [],
   "source": [
    "import pandas as pd\n",
    "import numpy as np\n",
    "import matplotlib.pyplot as plt\n",
    "import seaborn as sns\n",
    "from scipy import stats"
   ]
  },
  {
   "cell_type": "markdown",
   "id": "bcdea89a-e8f4-4440-af32-e1f176b4e5c0",
   "metadata": {},
   "source": [
    "<h4>Z-Test</h4>"
   ]
  },
  {
   "cell_type": "code",
   "execution_count": null,
   "id": "4a160e1f-4c0c-4164-a2ea-c10e6612d9c5",
   "metadata": {},
   "outputs": [],
   "source": []
  },
  {
   "cell_type": "code",
   "execution_count": 15,
   "id": "ef4ef098-1df6-493a-a4f5-49877ad3dc61",
   "metadata": {},
   "outputs": [
    {
     "name": "stdout",
     "output_type": "stream",
     "text": [
      "Z=score: 5.0\n",
      "P-value: 5.733031438470704e-07\n",
      "Rejected the null hypothesis (significant difference between the groups)\n"
     ]
    }
   ],
   "source": [
    "# Given values for z -test\n",
    "mean_new_drug = 10  #mean improvement for new drop grop\n",
    "mean_placebo=5\n",
    "std_new_drug=5\n",
    "std_placebo=5\n",
    "n_new_drug=50\n",
    "n_placebo=50\n",
    "\n",
    "\n",
    "#calculate the z-score\n",
    "z=(mean_new_drug-mean_placebo)/np.sqrt(\n",
    "    (std_new_drug**2/n_new_drug)+(std_placebo**2/n_placebo))\n",
    "\n",
    "#calculate the p-value(two-tailed-test)\n",
    "p_value=2*(1-stats.norm.cdf(abs(z)))\n",
    "\n",
    "#output the results\n",
    "print(f\"Z=score: {z}\")\n",
    "print(f\"P-value: {p_value}\")\n",
    "\n",
    "#decision based on a significance level(alpha)\n",
    "alpha=0.05\n",
    "if p_value<alpha:\n",
    "    print(\"Rejected the null hypothesis (significant difference between the groups)\")\n",
    "else:\n",
    "    print(\"fail to reject the null hypothesis (no significant difference between the groups)\")"
   ]
  },
  {
   "cell_type": "markdown",
   "id": "5e387ff6-0fe6-4f1e-abfd-ee957c05dcd8",
   "metadata": {},
   "source": [
    "<h4>new data</h4>"
   ]
  },
  {
   "cell_type": "code",
   "execution_count": 24,
   "id": "5e99d3f6-48d4-48df-ac01-f88b048e6520",
   "metadata": {},
   "outputs": [],
   "source": [
    "#sample data - avg population weight is kgs\n",
    "data=[78,62,80,75,61,74,79,93,77,95,67,88,54,69]"
   ]
  },
  {
   "cell_type": "code",
   "execution_count": 28,
   "id": "dc530110-7e50-4243-871c-4b6e3eda63d9",
   "metadata": {},
   "outputs": [],
   "source": [
    "#define the null hypothesis(avf population weight=80)\n",
    "null_mean=80"
   ]
  },
  {
   "cell_type": "code",
   "execution_count": 30,
   "id": "5fe65656-4462-453d-8876-d8f6e661c3d6",
   "metadata": {},
   "outputs": [
    {
     "data": {
      "text/plain": [
       "14"
      ]
     },
     "execution_count": 30,
     "metadata": {},
     "output_type": "execute_result"
    }
   ],
   "source": [
    "len(data)"
   ]
  },
  {
   "cell_type": "code",
   "execution_count": 32,
   "id": "3f3225c2-332e-435d-afb0-daa4609e9b80",
   "metadata": {},
   "outputs": [],
   "source": [
    "#calculate the sample mean and std\n",
    "sample_mean=np.mean(data)\n",
    "sample_std=np.std(data)"
   ]
  },
  {
   "cell_type": "code",
   "execution_count": 34,
   "id": "5bbf3ab7-b98d-4c9e-8f49-d24f62ed3acf",
   "metadata": {},
   "outputs": [
    {
     "data": {
      "text/plain": [
       "75.14285714285714"
      ]
     },
     "execution_count": 34,
     "metadata": {},
     "output_type": "execute_result"
    }
   ],
   "source": [
    "sample_mean"
   ]
  },
  {
   "cell_type": "code",
   "execution_count": 36,
   "id": "01aef1b3-f5ff-46e7-9f3f-f3c354c2cb1e",
   "metadata": {},
   "outputs": [
    {
     "data": {
      "text/plain": [
       "11.506874608915581"
      ]
     },
     "execution_count": 36,
     "metadata": {},
     "output_type": "execute_result"
    }
   ],
   "source": [
    "sample_std"
   ]
  },
  {
   "cell_type": "code",
   "execution_count": 38,
   "id": "2fb6adfe-e934-4650-ad93-8681ea0f5674",
   "metadata": {},
   "outputs": [],
   "source": [
    "#calculate z score\n",
    "z_score=(sample_mean-null_mean)/sample_std"
   ]
  },
  {
   "cell_type": "code",
   "execution_count": 40,
   "id": "01dc46d7-4f9e-4329-95b5-431768245e76",
   "metadata": {},
   "outputs": [
    {
     "data": {
      "text/plain": [
       "-0.4221079156784696"
      ]
     },
     "execution_count": 40,
     "metadata": {},
     "output_type": "execute_result"
    }
   ],
   "source": [
    "z_score"
   ]
  },
  {
   "cell_type": "code",
   "execution_count": 42,
   "id": "7bd30485-f51a-418f-89f1-3af13ceac8dc",
   "metadata": {},
   "outputs": [],
   "source": [
    "#calculate the two-tailed p-value using the z-score\n",
    "p_value=2*(1-stats.norm.cdf(abs(z_score)))"
   ]
  },
  {
   "cell_type": "code",
   "execution_count": 44,
   "id": "17b89d8d-0690-4800-a1a0-5fd5d3ab5ef5",
   "metadata": {},
   "outputs": [
    {
     "data": {
      "text/plain": [
       "0.6729462504556214"
      ]
     },
     "execution_count": 44,
     "metadata": {},
     "output_type": "execute_result"
    }
   ],
   "source": [
    "p_value"
   ]
  },
  {
   "cell_type": "code",
   "execution_count": 46,
   "id": "5e8f5344-4efc-43bc-a86f-7a1de16d1cce",
   "metadata": {},
   "outputs": [],
   "source": [
    "#define significance level (alpha)- commoly used value is 0.05(5%)\n",
    "alpha=0.05"
   ]
  },
  {
   "cell_type": "code",
   "execution_count": 50,
   "id": "abc68d5f-88f5-4159-bc3a-df1758c28e12",
   "metadata": {},
   "outputs": [
    {
     "name": "stdout",
     "output_type": "stream",
     "text": [
      "Fail to reject the null hypothesis. there is not enough evidence to conclude the avvg weight is statistically different from 80 at a significant level of 0.05\n"
     ]
    }
   ],
   "source": [
    "#Interpretation\n",
    "if p_value<alpha:\n",
    "    print(\"Reject the null hyothesis. the average weight is statistically different from 80 at a significance level of\",alpha)\n",
    "else:\n",
    "    print(\"Fail to reject the null hypothesis. there is not enough evidence to conclude the avvg weight is statistically different from 80 at a significant level of\",alpha)"
   ]
  },
  {
   "cell_type": "code",
   "execution_count": 52,
   "id": "4a10c35d-dda6-4db1-9275-0fab2c1bf1d9",
   "metadata": {},
   "outputs": [],
   "source": [
    "from statsmodels.stats.weightstats import ztest"
   ]
  },
  {
   "cell_type": "code",
   "execution_count": 62,
   "id": "82ebdc6a-e88e-481d-9236-5eda1eb89cf4",
   "metadata": {},
   "outputs": [],
   "source": [
    "# enter iq levels for 20 patinents\n",
    "data = [88, 92, 94,94, 96, 97,97, 97, 99, 99, 105, 109 , 109, 109, 110 ,112,112, 113,114,115]"
   ]
  },
  {
   "cell_type": "code",
   "execution_count": 64,
   "id": "ff3a4fdf-12a0-4f40-9ab5-0baf3e5a1d8c",
   "metadata": {},
   "outputs": [
    {
     "data": {
      "text/plain": [
       "(1.5976240527147705, 0.1101266701438426)"
      ]
     },
     "execution_count": 64,
     "metadata": {},
     "output_type": "execute_result"
    }
   ],
   "source": [
    "# perform one sample z- test\n",
    "ztest(data, value = 100)"
   ]
  },
  {
   "cell_type": "raw",
   "id": "de6a6253-b37a-44a4-8150-992882636c51",
   "metadata": {},
   "source": [
    "the test statistic for the one sample z-test is 1.597 and the corresponding p-value is 0.1101.\n",
    "\n",
    "since this p-value is not less than 0.5, we do not have sufficient evidence to rejct the null hypothesis.\n",
    "in other words, the new drug does not significantly affect."
   ]
  },
  {
   "cell_type": "markdown",
   "id": "f064cb1d-7daa-46f6-b024-45e010d0b38e",
   "metadata": {},
   "source": [
    "<h4>Chi Square test</h4>"
   ]
  },
  {
   "cell_type": "code",
   "execution_count": 70,
   "id": "2e7f9342-b581-41dc-9542-aa023c619122",
   "metadata": {},
   "outputs": [],
   "source": [
    "from scipy.stats import chi2_contingency\n",
    "import numpy as np"
   ]
  },
  {
   "cell_type": "code",
   "execution_count": 74,
   "id": "4e470641-b8a5-4c9c-8609-25536e92a62d",
   "metadata": {},
   "outputs": [],
   "source": [
    "#defining the table\n",
    "data=np.array([[207,282,241],[234,242,232]])"
   ]
  },
  {
   "cell_type": "code",
   "execution_count": 76,
   "id": "593fcebc-99cf-48fe-bacc-73997c9d0f29",
   "metadata": {},
   "outputs": [
    {
     "data": {
      "text/plain": [
       "array([[207, 282, 241],\n",
       "       [234, 242, 232]])"
      ]
     },
     "execution_count": 76,
     "metadata": {},
     "output_type": "execute_result"
    }
   ],
   "source": [
    "data"
   ]
  },
  {
   "cell_type": "code",
   "execution_count": 78,
   "id": "731b1229-c861-4637-8b39-6f91be33121d",
   "metadata": {},
   "outputs": [
    {
     "data": {
      "text/plain": [
       "array([441, 524, 473])"
      ]
     },
     "execution_count": 78,
     "metadata": {},
     "output_type": "execute_result"
    }
   ],
   "source": [
    "data.sum(axis=0)"
   ]
  },
  {
   "cell_type": "code",
   "execution_count": 80,
   "id": "48965119-00d4-4885-b0b0-73f0ee96a77e",
   "metadata": {},
   "outputs": [
    {
     "data": {
      "text/plain": [
       "array([730, 708])"
      ]
     },
     "execution_count": 80,
     "metadata": {},
     "output_type": "execute_result"
    }
   ],
   "source": [
    "data.sum(axis=1)"
   ]
  },
  {
   "cell_type": "code",
   "execution_count": 82,
   "id": "ac31a860-5d03-4f9d-96fe-3be36b243dba",
   "metadata": {},
   "outputs": [],
   "source": [
    "stat,p,dof,expected=chi2_contingency(data)"
   ]
  },
  {
   "cell_type": "code",
   "execution_count": 90,
   "id": "8b34cb6a-7045-4d2a-8101-12b48b00dfcf",
   "metadata": {},
   "outputs": [
    {
     "name": "stdout",
     "output_type": "stream",
     "text": [
      "Chi-Square Statistic: 4.54\n",
      "P-value: 0.1031971405\n",
      "Degrees of Freedom: 2\n",
      "Expected Frequencies:\n",
      "[[223.87343533 266.00834492 240.11821975]\n",
      " [217.12656467 257.99165508 232.88178025]]\n"
     ]
    }
   ],
   "source": [
    "print(f\"Chi-Square Statistic: {stat:.2f}\")\n",
    "print(f\"P-value: {p:.10f}\")\n",
    "print(f\"Degrees of Freedom: {dof}\")\n",
    "print(f\"Expected Frequencies:\\n{expected}\")"
   ]
  },
  {
   "cell_type": "code",
   "execution_count": 98,
   "id": "7c577ea7-060a-4de2-80fb-1caa07dc1e82",
   "metadata": {},
   "outputs": [
    {
     "name": "stdout",
     "output_type": "stream",
     "text": [
      "p value is 0.1031971404730939\n",
      "Fail to reject the null hypothesis\n"
     ]
    }
   ],
   "source": [
    "alpha = 0.05 \n",
    "print(\"p value is \"+str(p))# Common significance level\n",
    "if p < alpha:\n",
    "    print(\"Reject the null hypothesis \")\n",
    "else:\n",
    "    print(\"Fail to reject the null hypothesis\")"
   ]
  },
  {
   "cell_type": "markdown",
   "id": "1ca665ca-5db1-4122-969e-ba3ed13e07cc",
   "metadata": {},
   "source": [
    "<h4>Practice chi square</h4>"
   ]
  },
  {
   "cell_type": "code",
   "execution_count": 101,
   "id": "8bf7161f-99e6-4da9-8a98-c825e9af7407",
   "metadata": {},
   "outputs": [],
   "source": [
    "df=np.array([[5,10,5],[15,5,0],[5,10,15]])"
   ]
  },
  {
   "cell_type": "code",
   "execution_count": 103,
   "id": "f6b5709e-8a83-4be9-b098-fdf9339efe51",
   "metadata": {},
   "outputs": [
    {
     "data": {
      "text/plain": [
       "array([[ 5, 10,  5],\n",
       "       [15,  5,  0],\n",
       "       [ 5, 10, 15]])"
      ]
     },
     "execution_count": 103,
     "metadata": {},
     "output_type": "execute_result"
    }
   ],
   "source": [
    "df"
   ]
  },
  {
   "cell_type": "code",
   "execution_count": 107,
   "id": "380e2aa3-dc75-4f68-9dfe-7cdffdd21c9b",
   "metadata": {},
   "outputs": [
    {
     "data": {
      "text/plain": [
       "(array([25, 25, 20]), array([20, 20, 30]))"
      ]
     },
     "execution_count": 107,
     "metadata": {},
     "output_type": "execute_result"
    }
   ],
   "source": [
    "df.sum(axis=0), df.sum(axis=1)"
   ]
  },
  {
   "cell_type": "code",
   "execution_count": 109,
   "id": "d74ae171-f25e-44ba-ab20-2bdd82fb0695",
   "metadata": {},
   "outputs": [],
   "source": [
    "stat,p,dof,expected=chi2_contingency(df)"
   ]
  },
  {
   "cell_type": "code",
   "execution_count": 111,
   "id": "bfa30be6-2ac3-43a1-8af3-5f116ea5d16a",
   "metadata": {},
   "outputs": [
    {
     "name": "stdout",
     "output_type": "stream",
     "text": [
      "Chi-Square Statistic: 24.79\n",
      "P-value: 0.0000554023\n",
      "Degrees of Freedom: 4\n",
      "Expected Frequencies:\n",
      "[[ 7.14285714  7.14285714  5.71428571]\n",
      " [ 7.14285714  7.14285714  5.71428571]\n",
      " [10.71428571 10.71428571  8.57142857]]\n"
     ]
    }
   ],
   "source": [
    "print(f\"Chi-Square Statistic: {stat:.2f}\")\n",
    "print(f\"P-value: {p:.10f}\")\n",
    "print(f\"Degrees of Freedom: {dof}\")\n",
    "print(f\"Expected Frequencies:\\n{expected}\")"
   ]
  },
  {
   "cell_type": "code",
   "execution_count": 113,
   "id": "5836ee3f-0d7e-4eec-a849-d55c59307f2c",
   "metadata": {},
   "outputs": [
    {
     "name": "stdout",
     "output_type": "stream",
     "text": [
      "p value is 5.540229051644113e-05\n",
      "Reject the null hypothesis \n"
     ]
    }
   ],
   "source": [
    "alpha = 0.05 \n",
    "print(\"p value is \"+str(p))# Common significance level\n",
    "if p < alpha:\n",
    "    print(\"Reject the null hypothesis \")\n",
    "else:\n",
    "    print(\"Fail to reject the null hypothesis\")"
   ]
  },
  {
   "cell_type": "code",
   "execution_count": 134,
   "id": "b5d12696-111a-4ff6-b3f1-7f84c704f0fe",
   "metadata": {},
   "outputs": [],
   "source": [
    "#one more example\n",
    "da=np.array([[15,5,5],[10,10,15],[2,3,5]])"
   ]
  },
  {
   "cell_type": "code",
   "execution_count": 136,
   "id": "6b55f7e2-9b9a-4cd6-93f2-5108857704e2",
   "metadata": {},
   "outputs": [],
   "source": [
    "stat,p,dof,expected=chi2_contingency(da)"
   ]
  },
  {
   "cell_type": "code",
   "execution_count": 138,
   "id": "f5c1483d-cd86-4840-9f79-947ced6070b2",
   "metadata": {},
   "outputs": [
    {
     "name": "stdout",
     "output_type": "stream",
     "text": [
      "p value is 0.08877028710376675\n",
      "Fail to reject the null hypothesis\n"
     ]
    }
   ],
   "source": [
    "alpha = 0.05 \n",
    "print(\"p value is \"+str(p))# Common significance level\n",
    "if p < alpha:\n",
    "    print(\"Reject the null hypothesis \")\n",
    "else:\n",
    "    print(\"Fail to reject the null hypothesis\")"
   ]
  },
  {
   "cell_type": "code",
   "execution_count": 140,
   "id": "66ced187-693e-431d-a3e7-05489e9e88d2",
   "metadata": {},
   "outputs": [],
   "source": [
    "db=np.array([[20,5],[10,15]])"
   ]
  },
  {
   "cell_type": "code",
   "execution_count": 142,
   "id": "08eb921a-481b-4feb-a45c-173ce1d2a7bf",
   "metadata": {},
   "outputs": [],
   "source": [
    "stat,p,dof,expected=chi2_contingency(db)"
   ]
  },
  {
   "cell_type": "code",
   "execution_count": 144,
   "id": "af33df1a-33fb-4f41-bf9c-b7eb90a530ad",
   "metadata": {},
   "outputs": [
    {
     "name": "stdout",
     "output_type": "stream",
     "text": [
      "p value is 0.0093747684594349\n",
      "Reject the null hypothesis \n"
     ]
    }
   ],
   "source": [
    "alpha = 0.05 \n",
    "print(\"p value is \"+str(p))# Common significance level\n",
    "if p < alpha:\n",
    "    print(\"Reject the null hypothesis \")\n",
    "else:\n",
    "    print(\"Fail to reject the null hypothesis\")"
   ]
  },
  {
   "cell_type": "code",
   "execution_count": null,
   "id": "eda5b09e-f986-47e4-9387-339f7cc3bc1c",
   "metadata": {},
   "outputs": [],
   "source": []
  }
 ],
 "metadata": {
  "kernelspec": {
   "display_name": "Python 3 (ipykernel)",
   "language": "python",
   "name": "python3"
  },
  "language_info": {
   "codemirror_mode": {
    "name": "ipython",
    "version": 3
   },
   "file_extension": ".py",
   "mimetype": "text/x-python",
   "name": "python",
   "nbconvert_exporter": "python",
   "pygments_lexer": "ipython3",
   "version": "3.12.4"
  }
 },
 "nbformat": 4,
 "nbformat_minor": 5
}
