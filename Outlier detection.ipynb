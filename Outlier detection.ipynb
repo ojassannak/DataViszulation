{
 "cells": [
  {
   "cell_type": "code",
   "execution_count": 1,
   "id": "4f48e462-53a9-4a4e-9424-f1a53c1707db",
   "metadata": {},
   "outputs": [],
   "source": [
    "import numpy as np\n",
    "import pandas as pd\n",
    "import matplotlib.pyplot as plt\n",
    "import seaborn as sns"
   ]
  },
  {
   "cell_type": "markdown",
   "id": "8fea3b52-9dd1-425f-abf4-6f712340a209",
   "metadata": {
    "jp-MarkdownHeadingCollapsed": true
   },
   "source": [
    "<h4>Box plot</h4>"
   ]
  },
  {
   "cell_type": "code",
   "execution_count": 5,
   "id": "f2a016d2-8a5b-4e2b-b492-a2b60e2b5904",
   "metadata": {},
   "outputs": [],
   "source": [
    "marks=np.array([56,78,45,56,62,68,67,71,95,69,62,58,40,51,47,66,92])"
   ]
  },
  {
   "cell_type": "code",
   "execution_count": 9,
   "id": "37e5e403-0371-46d5-ba61-c7b068be7901",
   "metadata": {},
   "outputs": [
    {
     "data": {
      "image/png": "[encoded data removed]",
      "text/plain": [
       "<Figure size 640x480 with 1 Axes>"
      ]
     },
     "metadata": {},
     "output_type": "display_data"
    }
   ],
   "source": [
    "plt.boxplot(marks);"
   ]
  },
  {
   "cell_type": "code",
   "execution_count": 11,
   "id": "14123711-1c1a-478b-a282-7b905c874edb",
   "metadata": {},
   "outputs": [
    {
     "data": {
      "image/png": "[encoded data removed]",
      "text/plain": [
       "<Figure size 640x480 with 1 Axes>"
      ]
     },
     "metadata": {},
     "output_type": "display_data"
    }
   ],
   "source": [
    "plt.hist(marks);"
   ]
  },
  {
   "cell_type": "markdown",
   "id": "ec2b82b9-8fc4-40c1-8143-47845eacbc3b",
   "metadata": {
    "jp-MarkdownHeadingCollapsed": true
   },
   "source": [
    "<h4>Z-Score</h4>"
   ]
  },
  {
   "cell_type": "code",
   "execution_count": 16,
   "id": "85cecbb0-9ec4-4609-ba31-666cce1fc25e",
   "metadata": {},
   "outputs": [],
   "source": [
    "def zscore(n):\n",
    "    z = n- n.mean()/ n.std()\n",
    "    return z"
   ]
  },
  {
   "cell_type": "code",
   "execution_count": 18,
   "id": "a91a0fb8-896b-4f17-9bba-01b440bb66cc",
   "metadata": {},
   "outputs": [
    {
     "data": {
      "text/plain": [
       "array([51.6280146, 73.6280146, 40.6280146, 51.6280146, 57.6280146,\n",
       "       63.6280146, 62.6280146, 66.6280146, 90.6280146, 64.6280146,\n",
       "       57.6280146, 53.6280146, 35.6280146, 46.6280146, 42.6280146,\n",
       "       61.6280146, 87.6280146])"
      ]
     },
     "execution_count": 18,
     "metadata": {},
     "output_type": "execute_result"
    }
   ],
   "source": [
    "zscore(marks)"
   ]
  },
  {
   "cell_type": "code",
   "execution_count": 32,
   "id": "55d6d48f-ae4e-4a94-88e7-deaba426dddb",
   "metadata": {},
   "outputs": [],
   "source": [
    "salary = np.array([np.random.randint(10000,250000) for x in range(100)])"
   ]
  },
  {
   "cell_type": "code",
   "execution_count": 38,
   "id": "14f75f5c-b443-4ee6-ae12-5c9b5beab8ec",
   "metadata": {},
   "outputs": [],
   "source": [
    "salary[23]=36000\n",
    "salary[81]=39600"
   ]
  },
  {
   "cell_type": "code",
   "execution_count": 52,
   "id": "d8f68efb-b79c-4dc7-bbe6-968fd8f8b725",
   "metadata": {},
   "outputs": [
    {
     "data": {
      "text/plain": [
       "array([147791.1558893,  35801.1558893,  30903.1558893,  17836.1558893,\n",
       "        44444.1558893, 137860.1558893,  61322.1558893, 156230.1558893,\n",
       "       121491.1558893, 187143.1558893, 209873.1558893,  21537.1558893,\n",
       "       154894.1558893, 177017.1558893, 192797.1558893, 123735.1558893,\n",
       "       190655.1558893,  77942.1558893, 197565.1558893,  44364.1558893,\n",
       "        92833.1558893,  43389.1558893, 184916.1558893,  35998.1558893,\n",
       "       167132.1558893, 185438.1558893,  95828.1558893,  50974.1558893,\n",
       "        27684.1558893,  15292.1558893, 191071.1558893, 199065.1558893,\n",
       "       225863.1558893, 225851.1558893, 186623.1558893, 221194.1558893,\n",
       "        69188.1558893,  49497.1558893, 164914.1558893,  84085.1558893,\n",
       "       123277.1558893, 213493.1558893, 145166.1558893, 229870.1558893,\n",
       "        90892.1558893,  82499.1558893, 225962.1558893,  78035.1558893,\n",
       "        54264.1558893, 195923.1558893,  68856.1558893, 249733.1558893,\n",
       "       156839.1558893,  63383.1558893,  96441.1558893, 155256.1558893,\n",
       "        77111.1558893, 246890.1558893,  97413.1558893, 203213.1558893,\n",
       "        30949.1558893,  42370.1558893,  36560.1558893, 160519.1558893,\n",
       "       135086.1558893, 242664.1558893, 206058.1558893,  95665.1558893,\n",
       "       148964.1558893, 136269.1558893, 149018.1558893,  39965.1558893,\n",
       "        75268.1558893,  92662.1558893, 179889.1558893,  16813.1558893,\n",
       "        79538.1558893, 193235.1558893, 198506.1558893, 118945.1558893,\n",
       "       173762.1558893,  39598.1558893,  37163.1558893, 134976.1558893,\n",
       "       194444.1558893, 111179.1558893, 230025.1558893,  91188.1558893,\n",
       "        68844.1558893, 127466.1558893,  15206.1558893,  96516.1558893,\n",
       "       228761.1558893, 242544.1558893, 123551.1558893,  99519.1558893,\n",
       "        82067.1558893,  59811.1558893, 104228.1558893, 140915.1558893])"
      ]
     },
     "execution_count": 52,
     "metadata": {},
     "output_type": "execute_result"
    }
   ],
   "source": [
    "zscore(salary)"
   ]
  },
  {
   "cell_type": "code",
   "execution_count": 54,
   "id": "43c43fc7-20e5-496a-8ce9-1f30bf302c0a",
   "metadata": {},
   "outputs": [
    {
     "data": {
      "text/plain": [
       "array([ True,  True,  True,  True,  True,  True,  True,  True,  True,\n",
       "        True,  True,  True,  True,  True,  True,  True,  True,  True,\n",
       "        True,  True,  True,  True,  True,  True,  True,  True,  True,\n",
       "        True,  True,  True,  True,  True,  True,  True,  True,  True,\n",
       "        True,  True,  True,  True,  True,  True,  True,  True,  True,\n",
       "        True,  True,  True,  True,  True,  True,  True,  True,  True,\n",
       "        True,  True,  True,  True,  True,  True,  True,  True,  True,\n",
       "        True,  True,  True,  True,  True,  True,  True,  True,  True,\n",
       "        True,  True,  True,  True,  True,  True,  True,  True,  True,\n",
       "        True,  True,  True,  True,  True,  True,  True,  True,  True,\n",
       "        True,  True,  True,  True,  True,  True,  True,  True,  True,\n",
       "        True])"
      ]
     },
     "execution_count": 54,
     "metadata": {},
     "output_type": "execute_result"
    }
   ],
   "source": [
    "zscore(salary)>3"
   ]
  },
  {
   "cell_type": "code",
   "execution_count": null,
   "id": "22e6ff28-9978-4d80-89a9-02857694f37b",
   "metadata": {},
   "outputs": [],
   "source": []
  },
  {
   "cell_type": "markdown",
   "id": "20ad7efe-06f9-4073-bf3f-262a583682c2",
   "metadata": {
    "jp-MarkdownHeadingCollapsed": true
   },
   "source": [
    "<h4>Tukey's fences</h4>"
   ]
  },
  {
   "cell_type": "code",
   "execution_count": 73,
   "id": "de8d241e-6ed7-4c01-823b-a7ee4accc2fe",
   "metadata": {},
   "outputs": [],
   "source": [
    "Q1=np.percentile(marks,25)"
   ]
  },
  {
   "cell_type": "code",
   "execution_count": 75,
   "id": "677705b8-1c30-4a71-8e8d-9ade52dd586e",
   "metadata": {},
   "outputs": [],
   "source": [
    "Q3=np.percentile(marks,75)"
   ]
  },
  {
   "cell_type": "code",
   "execution_count": 77,
   "id": "19079022-9969-48ae-9d4a-b9e226f0104d",
   "metadata": {},
   "outputs": [
    {
     "data": {
      "text/plain": [
       "62.0"
      ]
     },
     "execution_count": 77,
     "metadata": {},
     "output_type": "execute_result"
    }
   ],
   "source": [
    "np.percentile(marks,50)"
   ]
  },
  {
   "cell_type": "code",
   "execution_count": 83,
   "id": "88ea2370-925f-4d5f-a3a1-e43048eccee6",
   "metadata": {},
   "outputs": [
    {
     "data": {
      "text/plain": [
       "13.0"
      ]
     },
     "execution_count": 83,
     "metadata": {},
     "output_type": "execute_result"
    }
   ],
   "source": [
    "IQR=Q3-Q1\n",
    "IQR"
   ]
  },
  {
   "cell_type": "code",
   "execution_count": 85,
   "id": "85fcf818-0b1b-478a-8826-e43647439516",
   "metadata": {},
   "outputs": [],
   "source": [
    "upper_fence=Q3+1.5*IQR\n",
    "lower_fence=Q1-1.5*IQR"
   ]
  },
  {
   "cell_type": "code",
   "execution_count": 89,
   "id": "db892590-c846-4d6f-ae0c-aec9ec044730",
   "metadata": {},
   "outputs": [
    {
     "data": {
      "text/plain": [
       "array([ True,  True,  True,  True,  True,  True,  True,  True, False,\n",
       "        True,  True,  True,  True,  True,  True,  True, False])"
      ]
     },
     "execution_count": 89,
     "metadata": {},
     "output_type": "execute_result"
    }
   ],
   "source": [
    "marks<upper_fence"
   ]
  },
  {
   "cell_type": "code",
   "execution_count": 98,
   "id": "01cfe69b-129d-4ce8-90f4-c208d91c7b33",
   "metadata": {},
   "outputs": [
    {
     "data": {
      "text/plain": [
       "array([95, 92])"
      ]
     },
     "execution_count": 98,
     "metadata": {},
     "output_type": "execute_result"
    }
   ],
   "source": [
    "marks[marks>upper_fence]"
   ]
  },
  {
   "cell_type": "code",
   "execution_count": 185,
   "id": "55914b26-5338-4b38-8515-12ca9b3339a2",
   "metadata": {},
   "outputs": [],
   "source": [
    "salary = np.array([np.random.randint(10000,25000) for x in range(100)])\n",
    "salary[23]=36000\n",
    "salary[81]=39600\n",
    "salary[1]=1000"
   ]
  },
  {
   "cell_type": "code",
   "execution_count": 187,
   "id": "c2b297d2-ebcd-4428-8911-fe1135a60163",
   "metadata": {},
   "outputs": [],
   "source": [
    "Q11=np.percentile(salary,25)\n",
    "Q31=np.percentile(salary,75)"
   ]
  },
  {
   "cell_type": "code",
   "execution_count": 189,
   "id": "22b8971a-9d5d-4a97-8ed4-ea3ad02ee0ea",
   "metadata": {},
   "outputs": [
    {
     "data": {
      "text/plain": [
       "13.0"
      ]
     },
     "execution_count": 189,
     "metadata": {},
     "output_type": "execute_result"
    }
   ],
   "source": [
    "IQR1=Q31-Q11\n",
    "IQR"
   ]
  },
  {
   "cell_type": "code",
   "execution_count": 191,
   "id": "79f5e39a-6358-4a55-b65d-f3cd36b3f3a7",
   "metadata": {},
   "outputs": [],
   "source": [
    "upper_fence2=Q31+1.5*IQR1\n",
    "lower_fence2=Q11-1.5*IQR1"
   ]
  },
  {
   "cell_type": "code",
   "execution_count": 193,
   "id": "98ab631e-d25f-4037-9756-ac729e1608b3",
   "metadata": {},
   "outputs": [
    {
     "data": {
      "text/plain": [
       "array([ True,  True,  True,  True,  True,  True,  True,  True,  True,\n",
       "        True,  True,  True,  True,  True,  True,  True,  True,  True,\n",
       "        True,  True,  True,  True,  True, False,  True,  True,  True,\n",
       "        True,  True,  True,  True,  True,  True,  True,  True,  True,\n",
       "        True,  True,  True,  True,  True,  True,  True,  True,  True,\n",
       "        True,  True,  True,  True,  True,  True,  True,  True,  True,\n",
       "        True,  True,  True,  True,  True,  True,  True,  True,  True,\n",
       "        True,  True,  True,  True,  True,  True,  True,  True,  True,\n",
       "        True,  True,  True,  True,  True,  True,  True,  True,  True,\n",
       "       False,  True,  True,  True,  True,  True,  True,  True,  True,\n",
       "        True,  True,  True,  True,  True,  True,  True,  True,  True,\n",
       "        True])"
      ]
     },
     "execution_count": 193,
     "metadata": {},
     "output_type": "execute_result"
    }
   ],
   "source": [
    "salary<upper_fence2"
   ]
  },
  {
   "cell_type": "code",
   "execution_count": 195,
   "id": "ea61dbaa-4065-4d63-8187-de2724617353",
   "metadata": {},
   "outputs": [
    {
     "data": {
      "text/plain": [
       "array([ 1000, 36000, 39600])"
      ]
     },
     "execution_count": 195,
     "metadata": {},
     "output_type": "execute_result"
    }
   ],
   "source": [
    "salary[(salary<lower_fence2) | (salary>upper_fence2)]"
   ]
  },
  {
   "cell_type": "code",
   "execution_count": null,
   "id": "720c5258-c7f3-4b66-8cdc-ab18cc9f6ba3",
   "metadata": {},
   "outputs": [],
   "source": []
  },
  {
   "cell_type": "code",
   "execution_count": null,
   "id": "a82b9084-9fc6-4252-939d-57a611690a22",
   "metadata": {},
   "outputs": [],
   "source": []
  },
  {
   "cell_type": "code",
   "execution_count": null,
   "id": "d77b4c78-434c-46db-8682-12fc56e5c2b0",
   "metadata": {},
   "outputs": [],
   "source": []
  }
 ],
 "metadata": {
  "kernelspec": {
   "display_name": "Python 3 (ipykernel)",
   "language": "python",
   "name": "python3"
  },
  "language_info": {
   "codemirror_mode": {
    "name": "ipython",
    "version": 3
   },
   "file_extension": ".py",
   "mimetype": "text/x-python",
   "name": "python",
   "nbconvert_exporter": "python",
   "pygments_lexer": "ipython3",
   "version": "3.12.4"
  }
 },
 "nbformat": 4,
 "nbformat_minor": 5
}
