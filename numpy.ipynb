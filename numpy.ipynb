{
 "cells": [
  {
   "cell_type": "code",
   "execution_count": 7,
   "id": "d7927506-9d70-4917-a535-e62aa5ee3433",
   "metadata": {},
   "outputs": [],
   "source": [
    "import numpy as np"
   ]
  },
  {
   "cell_type": "code",
   "execution_count": 91,
   "id": "6b18dd74-7420-4573-b9bd-3bef245625ae",
   "metadata": {},
   "outputs": [
    {
     "data": {
      "text/plain": [
       "dtype('int16')"
      ]
     },
     "execution_count": 91,
     "metadata": {},
     "output_type": "execute_result"
    }
   ],
   "source": [
    "d=np.array([56,100,44,25,23,45,23,37],dtype=np.int16)\n",
    "d\n",
    "d.dtype"
   ]
  },
  {
   "cell_type": "code",
   "execution_count": 93,
   "id": "89ea456e-73d1-4f70-aba1-c28f20b65634",
   "metadata": {},
   "outputs": [],
   "source": [
    "from sys import getsizeof "
   ]
  },
  {
   "cell_type": "code",
   "execution_count": 95,
   "id": "b7019ce3-fe1a-4f70-a80d-8bba51c07581",
   "metadata": {},
   "outputs": [
    {
     "data": {
      "text/plain": [
       "128"
      ]
     },
     "execution_count": 95,
     "metadata": {},
     "output_type": "execute_result"
    }
   ],
   "source": [
    "getsizeof(d)"
   ]
  },
  {
   "cell_type": "code",
   "execution_count": 11,
   "id": "32718b67-dd33-4c6d-b6a7-53f3463b20d8",
   "metadata": {},
   "outputs": [
    {
     "name": "stdout",
     "output_type": "stream",
     "text": [
      "[ 56 100  44  25  23  45  23  37]\n"
     ]
    }
   ],
   "source": [
    "print(d)"
   ]
  },
  {
   "cell_type": "code",
   "execution_count": 21,
   "id": "3f49d652-0dc8-4b05-b63c-21096f5f94e1",
   "metadata": {},
   "outputs": [
    {
     "name": "stdout",
     "output_type": "stream",
     "text": [
      "enter  4\n"
     ]
    },
    {
     "name": "stdout",
     "output_type": "stream",
     "text": [
      "23\n"
     ]
    }
   ],
   "source": [
    "print(d[int(input(\"enter \"))])"
   ]
  },
  {
   "cell_type": "code",
   "execution_count": 27,
   "id": "a9de3b1b-464b-443d-ace1-6e13709f7560",
   "metadata": {},
   "outputs": [
    {
     "data": {
      "text/plain": [
       "numpy.ndarray"
      ]
     },
     "execution_count": 27,
     "metadata": {},
     "output_type": "execute_result"
    }
   ],
   "source": [
    "d.dtype\n",
    "type(d)"
   ]
  },
  {
   "cell_type": "code",
   "execution_count": 37,
   "id": "39162ee1-47a7-49ce-a8b0-e46764773d5c",
   "metadata": {},
   "outputs": [
    {
     "data": {
      "text/plain": [
       "8"
      ]
     },
     "execution_count": 37,
     "metadata": {},
     "output_type": "execute_result"
    }
   ],
   "source": [
    "d.size\n",
    "#attribute"
   ]
  },
  {
   "cell_type": "code",
   "execution_count": 33,
   "id": "c0025adc-e61c-43e8-8b07-7c3c84e6a61f",
   "metadata": {},
   "outputs": [
    {
     "data": {
      "text/plain": [
       "(8,)"
      ]
     },
     "execution_count": 33,
     "metadata": {},
     "output_type": "execute_result"
    }
   ],
   "source": [
    "d.shape\n",
    "#this is attributes\n"
   ]
  },
  {
   "cell_type": "code",
   "execution_count": 35,
   "id": "5bd62faf-cb2a-440f-ab54-831091d4f52d",
   "metadata": {},
   "outputs": [
    {
     "data": {
      "text/plain": [
       "23"
      ]
     },
     "execution_count": 35,
     "metadata": {},
     "output_type": "execute_result"
    }
   ],
   "source": [
    "#this is function\n",
    "d.min()"
   ]
  },
  {
   "cell_type": "code",
   "execution_count": 101,
   "id": "1487b12d-cbcf-407d-bc77-4933398b4a34",
   "metadata": {},
   "outputs": [
    {
     "data": {
      "text/plain": [
       "array([ 0,  1,  2,  3,  4,  5,  6,  7,  8,  9, 10])"
      ]
     },
     "execution_count": 101,
     "metadata": {},
     "output_type": "execute_result"
    }
   ],
   "source": [
    "num=np.arange(11)\n",
    "num"
   ]
  },
  {
   "cell_type": "code",
   "execution_count": 105,
   "id": "04cc17be-7721-429e-84ae-5ec02d171cf6",
   "metadata": {},
   "outputs": [
    {
     "data": {
      "text/plain": [
       "array([ 4,  6,  8, 10])"
      ]
     },
     "execution_count": 105,
     "metadata": {},
     "output_type": "execute_result"
    }
   ],
   "source": [
    "num=np.arange(4,11,2)\n",
    "num"
   ]
  },
  {
   "cell_type": "code",
   "execution_count": 107,
   "id": "64da85e1-e977-401e-aee3-30d36b0f5915",
   "metadata": {},
   "outputs": [
    {
     "data": {
      "text/plain": [
       "array([100,  90,  80,  70,  60,  50,  40,  30,  20,  10])"
      ]
     },
     "execution_count": 107,
     "metadata": {},
     "output_type": "execute_result"
    }
   ],
   "source": [
    "num=np.arange(100,0,-10)\n",
    "num"
   ]
  },
  {
   "cell_type": "code",
   "execution_count": 111,
   "id": "35346041-6f7d-415b-b522-2918ee26b444",
   "metadata": {},
   "outputs": [
    {
     "data": {
      "text/plain": [
       "array([0. , 3.3, 6.6, 9.9])"
      ]
     },
     "execution_count": 111,
     "metadata": {},
     "output_type": "execute_result"
    }
   ],
   "source": [
    "num=np.arange(0,9.9,3.3)\n",
    "num"
   ]
  },
  {
   "cell_type": "code",
   "execution_count": 117,
   "id": "0ef52c95-57ba-46aa-9108-d4fcba154ed7",
   "metadata": {},
   "outputs": [
    {
     "data": {
      "text/plain": [
       "array([ 0. ,  0.5,  1. ,  1.5,  2. ,  2.5,  3. ,  3.5,  4. ,  4.5,  5. ,\n",
       "        5.5,  6. ,  6.5,  7. ,  7.5,  8. ,  8.5,  9. ,  9.5, 10. , 10.5,\n",
       "       11. ])"
      ]
     },
     "execution_count": 117,
     "metadata": {},
     "output_type": "execute_result"
    }
   ],
   "source": [
    "num=np.arange(0,11.5,0.5)\n",
    "num"
   ]
  },
  {
   "cell_type": "code",
   "execution_count": 131,
   "id": "688582dc-455a-4eba-b256-0d2fe45fb91d",
   "metadata": {},
   "outputs": [
    {
     "data": {
      "text/plain": [
       "dtype('float64')"
      ]
     },
     "execution_count": 131,
     "metadata": {},
     "output_type": "execute_result"
    }
   ],
   "source": [
    "v3=np.array([56,33,45,67.77,33,21,True])\n",
    "v3.dtype"
   ]
  },
  {
   "cell_type": "code",
   "execution_count": 133,
   "id": "f9cd655f-29a2-47ab-adf8-e31362bc4e5c",
   "metadata": {},
   "outputs": [
    {
     "data": {
      "text/plain": [
       "array([56.  , 33.  , 45.  , 67.77, 33.  , 21.  ,  1.  ])"
      ]
     },
     "execution_count": 133,
     "metadata": {},
     "output_type": "execute_result"
    }
   ],
   "source": [
    "v3"
   ]
  },
  {
   "cell_type": "code",
   "execution_count": 153,
   "id": "6be47417-f4b6-4a6a-8856-539760545a71",
   "metadata": {},
   "outputs": [
    {
     "data": {
      "text/plain": [
       "dtype('float64')"
      ]
     },
     "execution_count": 153,
     "metadata": {},
     "output_type": "execute_result"
    }
   ],
   "source": [
    "x=np.zeros(10)\n",
    "\n",
    "x.dtype"
   ]
  },
  {
   "cell_type": "code",
   "execution_count": 155,
   "id": "7657b5ec-9321-4af0-89f9-40d91a0a74e0",
   "metadata": {},
   "outputs": [
    {
     "data": {
      "text/plain": [
       "array([0., 0., 0., 0., 0., 0., 0., 0., 0., 0.])"
      ]
     },
     "execution_count": 155,
     "metadata": {},
     "output_type": "execute_result"
    }
   ],
   "source": [
    "x"
   ]
  },
  {
   "cell_type": "code",
   "execution_count": 159,
   "id": "9b6c052d-fefe-4ed5-b2af-7073a28130da",
   "metadata": {},
   "outputs": [
    {
     "data": {
      "text/plain": [
       "dtype('float64')"
      ]
     },
     "execution_count": 159,
     "metadata": {},
     "output_type": "execute_result"
    }
   ],
   "source": [
    "y=np.ones(10)\n",
    "y.dtype"
   ]
  },
  {
   "cell_type": "code",
   "execution_count": 161,
   "id": "92c125a2-b5e2-46b3-819b-cfb453ce5ab6",
   "metadata": {},
   "outputs": [
    {
     "data": {
      "text/plain": [
       "array([1., 1., 1., 1., 1., 1., 1., 1., 1., 1.])"
      ]
     },
     "execution_count": 161,
     "metadata": {},
     "output_type": "execute_result"
    }
   ],
   "source": [
    "y"
   ]
  },
  {
   "cell_type": "code",
   "execution_count": 179,
   "id": "952b4c0f-68fb-4473-b6e8-379d8673631d",
   "metadata": {},
   "outputs": [],
   "source": [
    "z=np.linspace(1,50,5)"
   ]
  },
  {
   "cell_type": "code",
   "execution_count": 181,
   "id": "3d2acafe-7a85-4d9e-897f-56767ed38720",
   "metadata": {},
   "outputs": [
    {
     "data": {
      "text/plain": [
       "array([ 1.  , 13.25, 25.5 , 37.75, 50.  ])"
      ]
     },
     "execution_count": 181,
     "metadata": {},
     "output_type": "execute_result"
    }
   ],
   "source": [
    "z"
   ]
  },
  {
   "cell_type": "code",
   "execution_count": 183,
   "id": "d7cbb067-9b2e-4887-8316-664821a43f33",
   "metadata": {},
   "outputs": [],
   "source": [
    "import matplotlib.pyplot as plt"
   ]
  },
  {
   "cell_type": "code",
   "execution_count": 187,
   "id": "072fcba2-7ee3-4dbb-bb6a-d99034fa0185",
   "metadata": {},
   "outputs": [
    {
     "data": {
      "text/plain": [
       "[<matplotlib.lines.Line2D at 0x222e25cf080>]"
      ]
     },
     "execution_count": 187,
     "metadata": {},
     "output_type": "execute_result"
    },
    {
     "data": {
      "image/png": "[encoded data removed]",
      "text/plain": [
       "<Figure size 640x480 with 1 Axes>"
      ]
     },
     "metadata": {},
     "output_type": "display_data"
    }
   ],
   "source": [
    "plt.plot(z)"
   ]
  },
  {
   "cell_type": "code",
   "execution_count": 215,
   "id": "7a3525ce-b7d1-453e-84c2-3bba40cd1114",
   "metadata": {},
   "outputs": [],
   "source": [
    "v8 = np.array([0,5,2])\n",
    "v9 = np.array([0,9,1])"
   ]
  },
  {
   "cell_type": "code",
   "execution_count": 217,
   "id": "6acb496e-9065-4ed3-80c6-8067c2d403a7",
   "metadata": {},
   "outputs": [
    {
     "data": {
      "text/plain": [
       "[<matplotlib.lines.Line2D at 0x222e4072b40>]"
      ]
     },
     "execution_count": 217,
     "metadata": {},
     "output_type": "execute_result"
    },
    {
     "data": {
      "image/png": "[encoded data removed]",
      "text/plain": [
       "<Figure size 640x480 with 1 Axes>"
      ]
     },
     "metadata": {},
     "output_type": "display_data"
    }
   ],
   "source": [
    "plt.plot(v8)\n",
    "plt.plot(v9)"
   ]
  },
  {
   "cell_type": "markdown",
   "id": "61a21800-75d2-429e-8802-08b9225b575d",
   "metadata": {},
   "source": [
    "<h4>dot product formula</h4>"
   ]
  },
  {
   "cell_type": "code",
   "execution_count": 219,
   "id": "e033c501-d5e8-41eb-b2e6-342bb23ad09f",
   "metadata": {},
   "outputs": [
    {
     "data": {
      "text/plain": [
       "47"
      ]
     },
     "execution_count": 219,
     "metadata": {},
     "output_type": "execute_result"
    }
   ],
   "source": [
    "v8.dot(v9)\n",
    "#dot product formula"
   ]
  },
  {
   "cell_type": "markdown",
   "id": "a61a9cbb-a436-4175-8973-5c9dcb91f61d",
   "metadata": {},
   "source": [
    "<h4>dot product by using numpy</h4>"
   ]
  },
  {
   "cell_type": "code",
   "execution_count": 221,
   "id": "1e44c82e-c5fd-444b-b1ac-6221828ef7b4",
   "metadata": {},
   "outputs": [
    {
     "data": {
      "text/plain": [
       "47"
      ]
     },
     "execution_count": 221,
     "metadata": {},
     "output_type": "execute_result"
    }
   ],
   "source": [
    "np.dot(v8,v9)\n",
    "#dot product by using numpy\n"
   ]
  },
  {
   "cell_type": "code",
   "execution_count": 251,
   "id": "960f2c5a-fd63-4554-9c81-55b2cebf47fb",
   "metadata": {},
   "outputs": [],
   "source": [
    "v1=np.arange(1,11)"
   ]
  },
  {
   "cell_type": "code",
   "execution_count": 253,
   "id": "29f5be5d-13a1-4338-9546-44a48639e135",
   "metadata": {},
   "outputs": [],
   "source": [
    "v2=v1.copy()\n"
   ]
  },
  {
   "cell_type": "code",
   "execution_count": 255,
   "id": "d891d093-0bfe-40a6-8677-388b77cf2627",
   "metadata": {},
   "outputs": [],
   "source": [
    "v2[0]=0"
   ]
  },
  {
   "cell_type": "code",
   "execution_count": 257,
   "id": "2f1e78bb-ec1b-4a08-a9d9-f100799f724f",
   "metadata": {},
   "outputs": [
    {
     "data": {
      "text/plain": [
       "array([ 1,  2,  3,  4,  5,  6,  7,  8,  9, 10])"
      ]
     },
     "execution_count": 257,
     "metadata": {},
     "output_type": "execute_result"
    }
   ],
   "source": [
    "v1"
   ]
  },
  {
   "cell_type": "code",
   "execution_count": 259,
   "id": "862b0640-f1fe-417e-bf0d-5a2f7c27de4b",
   "metadata": {},
   "outputs": [],
   "source": [
    "v2 = v1.copy()"
   ]
  },
  {
   "cell_type": "code",
   "execution_count": 261,
   "id": "2c2dc57c-7d40-4632-a978-3b9d7300ee1f",
   "metadata": {},
   "outputs": [
    {
     "data": {
      "text/plain": [
       "(2348879386960, 2348880017040)"
      ]
     },
     "execution_count": 261,
     "metadata": {},
     "output_type": "execute_result"
    }
   ],
   "source": [
    "id(v1), id(v2)"
   ]
  },
  {
   "cell_type": "code",
   "execution_count": 294,
   "id": "ecfa5aef-2c47-4fb2-b278-e27fca2ac1d0",
   "metadata": {},
   "outputs": [
    {
     "name": "stdout",
     "output_type": "stream",
     "text": [
      "all present\n"
     ]
    }
   ],
   "source": [
    "v1=[ 1,  2,  3,  4,  6,  5,  7,  8,  9, 10]\n",
    "v2=[ 1,  2,  3,  4,  5,  6,  7,  8,  9, 10]\n",
    "\n",
    "\n",
    "if sorted(v1)==sorted(v2):\n",
    "    print(\"all present\")\n",
    "else:\n",
    "    print(\"not present\")\n",
    "        "
   ]
  },
  {
   "cell_type": "code",
   "execution_count": 296,
   "id": "9be6493b-6155-48a2-ac93-444f1e4b9c48",
   "metadata": {},
   "outputs": [],
   "source": [
    "v1=np.arange(1,11)"
   ]
  },
  {
   "cell_type": "code",
   "execution_count": 302,
   "id": "15c7f759-64fd-42b8-9c5b-1c242634f84f",
   "metadata": {},
   "outputs": [],
   "source": [
    "v2=np.arange(10,0,-1)"
   ]
  },
  {
   "cell_type": "code",
   "execution_count": 304,
   "id": "ac4a87dd-8f72-4e7b-a198-1316f96354e7",
   "metadata": {},
   "outputs": [
    {
     "data": {
      "text/plain": [
       "array([ 1,  2,  3,  4,  5,  6,  7,  8,  9, 10])"
      ]
     },
     "execution_count": 304,
     "metadata": {},
     "output_type": "execute_result"
    }
   ],
   "source": [
    "v1"
   ]
  },
  {
   "cell_type": "code",
   "execution_count": 306,
   "id": "955971a4-4c86-49fa-a730-8f9d3b2dd7a9",
   "metadata": {},
   "outputs": [
    {
     "data": {
      "text/plain": [
       "array([10,  9,  8,  7,  6,  5,  4,  3,  2,  1])"
      ]
     },
     "execution_count": 306,
     "metadata": {},
     "output_type": "execute_result"
    }
   ],
   "source": [
    "v2"
   ]
  },
  {
   "cell_type": "code",
   "execution_count": 311,
   "id": "9ecaa407-b6b4-4743-9c4a-44867baaac59",
   "metadata": {},
   "outputs": [],
   "source": [
    "def isNegativeVectors(v1,v2):\n",
    "    v3=list(v2)\n",
    "    v3.reverse()\n",
    "    if sum(v1 ==np.array(v3))==len(v2):\n",
    "        return True\n",
    "    else:\n",
    "        return False\n",
    "    "
   ]
  },
  {
   "cell_type": "code",
   "execution_count": 313,
   "id": "72b349ff-3b19-40b6-a75d-576322e19995",
   "metadata": {},
   "outputs": [
    {
     "data": {
      "text/plain": [
       "True"
      ]
     },
     "execution_count": 313,
     "metadata": {},
     "output_type": "execute_result"
    }
   ],
   "source": [
    "isNegativeVectors(v1,v2)"
   ]
  },
  {
   "cell_type": "code",
   "execution_count": null,
   "id": "32c171a7-101a-42a7-8519-050564caa181",
   "metadata": {},
   "outputs": [],
   "source": []
  }
 ],
 "metadata": {
  "kernelspec": {
   "display_name": "Python 3 (ipykernel)",
   "language": "python",
   "name": "python3"
  },
  "language_info": {
   "codemirror_mode": {
    "name": "ipython",
    "version": 3
   },
   "file_extension": ".py",
   "mimetype": "text/x-python",
   "name": "python",
   "nbconvert_exporter": "python",
   "pygments_lexer": "ipython3",
   "version": "3.12.4"
  }
 },
 "nbformat": 4,
 "nbformat_minor": 5
}
