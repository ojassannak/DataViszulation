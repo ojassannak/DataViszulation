{
 "cells": [
  {
   "cell_type": "code",
   "execution_count": 1,
   "id": "0586b9af-1cc3-4b02-bb7e-485da85d57a5",
   "metadata": {},
   "outputs": [],
   "source": [
    "import numpy as np"
   ]
  },
  {
   "cell_type": "code",
   "execution_count": 7,
   "id": "f393889c-8ece-4905-b4d2-f0d9cf7eaa80",
   "metadata": {},
   "outputs": [],
   "source": [
    "S = np.array([[3,6,4],[8,1,2],[0,5,7]])"
   ]
  },
  {
   "cell_type": "code",
   "execution_count": 9,
   "id": "08609b25-204a-43ce-9758-113725137dc0",
   "metadata": {},
   "outputs": [
    {
     "data": {
      "text/plain": [
       "array([[3, 6, 4],\n",
       "       [8, 1, 2],\n",
       "       [0, 5, 7]])"
      ]
     },
     "execution_count": 9,
     "metadata": {},
     "output_type": "execute_result"
    }
   ],
   "source": [
    "S "
   ]
  },
  {
   "cell_type": "code",
   "execution_count": 13,
   "id": "f17bbe9f-17fe-4eb2-891b-24063c733861",
   "metadata": {},
   "outputs": [],
   "source": [
    "from scipy.linalg import lu"
   ]
  },
  {
   "cell_type": "code",
   "execution_count": 21,
   "id": "5faef57c-b95c-44e3-9471-437a39108d3c",
   "metadata": {},
   "outputs": [],
   "source": [
    "P, L, U = lu(S)"
   ]
  },
  {
   "cell_type": "code",
   "execution_count": 23,
   "id": "dca27b66-cf2d-45b9-8cf2-2b03663e92c9",
   "metadata": {},
   "outputs": [
    {
     "data": {
      "text/plain": [
       "array([[0., 1., 0.],\n",
       "       [1., 0., 0.],\n",
       "       [0., 0., 1.]])"
      ]
     },
     "execution_count": 23,
     "metadata": {},
     "output_type": "execute_result"
    }
   ],
   "source": [
    "P"
   ]
  },
  {
   "cell_type": "code",
   "execution_count": 25,
   "id": "d8ae2b63-a96a-4501-b1e3-132779cd35f7",
   "metadata": {},
   "outputs": [
    {
     "data": {
      "text/plain": [
       "array([[1.        , 0.        , 0.        ],\n",
       "       [0.375     , 1.        , 0.        ],\n",
       "       [0.        , 0.88888889, 1.        ]])"
      ]
     },
     "execution_count": 25,
     "metadata": {},
     "output_type": "execute_result"
    }
   ],
   "source": [
    "L"
   ]
  },
  {
   "cell_type": "code",
   "execution_count": 27,
   "id": "5f9e4c22-41e9-4c3a-b6ac-c74a1c160b28",
   "metadata": {},
   "outputs": [
    {
     "data": {
      "text/plain": [
       "array([[8.        , 1.        , 2.        ],\n",
       "       [0.        , 5.625     , 3.25      ],\n",
       "       [0.        , 0.        , 4.11111111]])"
      ]
     },
     "execution_count": 27,
     "metadata": {},
     "output_type": "execute_result"
    }
   ],
   "source": [
    "U"
   ]
  },
  {
   "cell_type": "code",
   "execution_count": 31,
   "id": "0af98529-8370-47a7-b72f-b913b43159de",
   "metadata": {},
   "outputs": [
    {
     "data": {
      "text/plain": [
       "(array([[3., 6., 4.],\n",
       "        [8., 1., 2.],\n",
       "        [0., 5., 7.]]),\n",
       " array([[3, 6, 4],\n",
       "        [8, 1, 2],\n",
       "        [0, 5, 7]]))"
      ]
     },
     "execution_count": 31,
     "metadata": {},
     "output_type": "execute_result"
    }
   ],
   "source": [
    "P @ L @ U, S"
   ]
  },
  {
   "cell_type": "code",
   "execution_count": 33,
   "id": "9e5705de-22be-45c3-a50d-03d1c7e6951a",
   "metadata": {},
   "outputs": [],
   "source": [
    "## QR DEcomposition"
   ]
  },
  {
   "cell_type": "code",
   "execution_count": 67,
   "id": "2739e1ce-9ec5-43b4-a803-84b05721c4bd",
   "metadata": {},
   "outputs": [],
   "source": [
    "from scipy.linalg import qr"
   ]
  },
  {
   "cell_type": "code",
   "execution_count": 69,
   "id": "83788e54-6500-4dc6-84b9-89e86cf35f35",
   "metadata": {},
   "outputs": [],
   "source": [
    "A = np.array([[4,1,2,6],[0,0,2,9],[5,7,3,1]])"
   ]
  },
  {
   "cell_type": "code",
   "execution_count": 71,
   "id": "31b4e8ac-86ed-49d6-835a-1b9e153e5fe6",
   "metadata": {},
   "outputs": [
    {
     "data": {
      "text/plain": [
       "array([[4, 1, 2, 6],\n",
       "       [0, 0, 2, 9],\n",
       "       [5, 7, 3, 1]])"
      ]
     },
     "execution_count": 71,
     "metadata": {},
     "output_type": "execute_result"
    }
   ],
   "source": [
    "A"
   ]
  },
  {
   "cell_type": "code",
   "execution_count": 76,
   "id": "a5f0f9b2-80bd-4d9d-936e-c89051bd43da",
   "metadata": {},
   "outputs": [],
   "source": [
    "Q, R = qr(A)"
   ]
  },
  {
   "cell_type": "code",
   "execution_count": 78,
   "id": "553fc2c7-9a0d-4a0c-abdc-3fb24882c7c7",
   "metadata": {},
   "outputs": [
    {
     "data": {
      "text/plain": [
       "array([[-0.62469505,  0.78086881,  0.        ],\n",
       "       [-0.        ,  0.        , -1.        ],\n",
       "       [-0.78086881, -0.62469505,  0.        ]])"
      ]
     },
     "execution_count": 78,
     "metadata": {},
     "output_type": "execute_result"
    }
   ],
   "source": [
    "Q"
   ]
  },
  {
   "cell_type": "code",
   "execution_count": 80,
   "id": "c8dfb797-d82f-4c31-899a-38ec45f38246",
   "metadata": {},
   "outputs": [
    {
     "data": {
      "text/plain": [
       "array([[-6.40312424, -6.09077671, -3.59199652, -4.52903909],\n",
       "       [ 0.        , -3.59199652, -0.31234752,  4.06051781],\n",
       "       [ 0.        ,  0.        , -2.        , -9.        ]])"
      ]
     },
     "execution_count": 80,
     "metadata": {},
     "output_type": "execute_result"
    }
   ],
   "source": [
    "R"
   ]
  },
  {
   "cell_type": "code",
   "execution_count": 86,
   "id": "117964de-235d-4dbe-8daf-06f4045787a4",
   "metadata": {},
   "outputs": [
    {
     "data": {
      "text/plain": [
       "array([[4., 1., 2., 6.],\n",
       "       [0., 0., 2., 9.],\n",
       "       [5., 7., 3., 1.]])"
      ]
     },
     "execution_count": 86,
     "metadata": {},
     "output_type": "execute_result"
    }
   ],
   "source": [
    "%precision 0\n",
    "Q @ R"
   ]
  },
  {
   "cell_type": "code",
   "execution_count": 88,
   "id": "d701870f-7cfe-42e6-b5b6-47f2695d8866",
   "metadata": {},
   "outputs": [],
   "source": [
    "# Correlation Techniques"
   ]
  },
  {
   "cell_type": "code",
   "execution_count": 138,
   "id": "b68efc56-d679-417c-9448-4a12192931cf",
   "metadata": {},
   "outputs": [],
   "source": [
    "x= np.array([4,11,15,21,28,34,39,35,47,55])\n",
    "y=np.array([10,22,31,36,48,51,58,61,69,77])\n",
    "z=np.array([92,83,89,56,61,56,48,41,26,19])\n",
    "p=np.array([56,44,27,65,38,61,23,75,36,58])"
   ]
  },
  {
   "cell_type": "code",
   "execution_count": 118,
   "id": "5286f357-4d7c-484e-9c5c-787061b05217",
   "metadata": {},
   "outputs": [],
   "source": [
    "num=len(x)*(np.sum(x*y))-(np.sum(x) * np.sum(y))\n",
    "den=np.sqrt((len(x)*np.sum(x**2)-(np.sum(x)**2))*((len(y)*np.sum(y**2)-(np.sum(y)**2))))"
   ]
  },
  {
   "cell_type": "code",
   "execution_count": 120,
   "id": "f6ded19a-636f-40db-a22b-68bc3e1f3640",
   "metadata": {},
   "outputs": [
    {
     "data": {
      "text/plain": [
       "0.988286"
      ]
     },
     "execution_count": 120,
     "metadata": {},
     "output_type": "execute_result"
    }
   ],
   "source": [
    "%precision 6\n",
    "num/den"
   ]
  },
  {
   "cell_type": "code",
   "execution_count": 122,
   "id": "d9afdf48-099f-4ba4-88dc-ad4df5abff21",
   "metadata": {},
   "outputs": [],
   "source": [
    "num=len(x)*(np.sum(x*z))-(np.sum(x) * np.sum(z))\n",
    "den=np.sqrt((len(x)*np.sum(x**2)-(np.sum(x)**2))*((len(z)*np.sum(z**2)-(np.sum(z)**2))))"
   ]
  },
  {
   "cell_type": "code",
   "execution_count": 124,
   "id": "b66353b1-a522-4064-8b60-38e68c1fc54d",
   "metadata": {},
   "outputs": [
    {
     "data": {
      "text/plain": [
       "-0.959855"
      ]
     },
     "execution_count": 124,
     "metadata": {},
     "output_type": "execute_result"
    }
   ],
   "source": [
    "%precision 6\n",
    "num/den"
   ]
  },
  {
   "cell_type": "code",
   "execution_count": 140,
   "id": "e0894bbc-8be7-4962-9de0-29725a645303",
   "metadata": {},
   "outputs": [
    {
     "name": "stderr",
     "output_type": "stream",
     "text": [
      "C:\\Users\\duasp\\AppData\\Local\\Temp\\ipykernel_6320\\89732558.py:2: RuntimeWarning: overflow encountered in scalar multiply\n",
      "  den=np.sqrt((len(y)*np.sum(y**2)-(np.sum(y)**2))*((len(z)*np.sum(z**2)-(np.sum(z)**2))))\n",
      "C:\\Users\\duasp\\AppData\\Local\\Temp\\ipykernel_6320\\89732558.py:2: RuntimeWarning: invalid value encountered in sqrt\n",
      "  den=np.sqrt((len(y)*np.sum(y**2)-(np.sum(y)**2))*((len(z)*np.sum(z**2)-(np.sum(z)**2))))\n"
     ]
    }
   ],
   "source": [
    "num=len(y)*(np.sum(y*z))-(np.sum(y) * np.sum(z))\n",
    "den=np.sqrt((len(y)*np.sum(y**2)-(np.sum(y)**2))*((len(z)*np.sum(z**2)-(np.sum(z)**2))))"
   ]
  },
  {
   "cell_type": "code",
   "execution_count": 132,
   "id": "dab80966-e0ad-4200-8969-2b611281100c",
   "metadata": {},
   "outputs": [
    {
     "data": {
      "text/plain": [
       "nan"
      ]
     },
     "execution_count": 132,
     "metadata": {},
     "output_type": "execute_result"
    }
   ],
   "source": [
    "num/den"
   ]
  },
  {
   "cell_type": "code",
   "execution_count": 134,
   "id": "1f210809-70ae-45b6-806c-46d6d3cdd04e",
   "metadata": {},
   "outputs": [],
   "source": [
    "num=len(x)*(np.sum(x*p))-(np.sum(x) * np.sum(p))\n",
    "den=np.sqrt((len(x)*np.sum(x**2)-(np.sum(x)**2))*((len(p)*np.sum(p**2)-(np.sum(p)**2))))"
   ]
  },
  {
   "cell_type": "code",
   "execution_count": 136,
   "id": "e57382c0-46dc-4fc6-a305-4476372234c1",
   "metadata": {},
   "outputs": [
    {
     "data": {
      "text/plain": [
       "0.024336"
      ]
     },
     "execution_count": 136,
     "metadata": {},
     "output_type": "execute_result"
    }
   ],
   "source": [
    "%precision 6\n",
    "num/den"
   ]
  },
  {
   "cell_type": "code",
   "execution_count": 142,
   "id": "69fc1a3d-95ee-4ae4-8ec6-4a3316ed0426",
   "metadata": {},
   "outputs": [],
   "source": [
    "num=len(y)*(np.sum(y*p))-(np.sum(y) * np.sum(p))\n",
    "den=np.sqrt((len(y)*np.sum(y**2)-(np.sum(y)**2))*((len(p)*np.sum(p**2)-(np.sum(p)**2))))"
   ]
  },
  {
   "cell_type": "code",
   "execution_count": 144,
   "id": "3ec348d6-dcae-44a9-9a98-95c2475daf19",
   "metadata": {},
   "outputs": [
    {
     "data": {
      "text/plain": [
       "0.041168"
      ]
     },
     "execution_count": 144,
     "metadata": {},
     "output_type": "execute_result"
    }
   ],
   "source": [
    "%precision 6\n",
    "num/den"
   ]
  },
  {
   "cell_type": "code",
   "execution_count": 154,
   "id": "5e58d63f-287f-4622-ae40-ca6ea0d95c58",
   "metadata": {},
   "outputs": [
    {
     "data": {
      "text/plain": [
       "<matplotlib.collections.PathCollection at 0x28790dc8ce0>"
      ]
     },
     "execution_count": 154,
     "metadata": {},
     "output_type": "execute_result"
    },
    {
     "data": {
      "image/png": "[encoded data removed]",
      "text/plain": [
       "<Figure size 640x480 with 1 Axes>"
      ]
     },
     "metadata": {},
     "output_type": "display_data"
    }
   ],
   "source": [
    "import matplotlib.pyplot as plt\n",
    "plt.scatter(y,z)"
   ]
  },
  {
   "cell_type": "code",
   "execution_count": 156,
   "id": "3a4008c9-a411-48a0-a861-e2a826b85330",
   "metadata": {},
   "outputs": [
    {
     "data": {
      "text/plain": [
       "array([[1.      , 0.988286],\n",
       "       [0.988286, 1.      ]])"
      ]
     },
     "execution_count": 156,
     "metadata": {},
     "output_type": "execute_result"
    }
   ],
   "source": [
    "np.corrcoef(x,y)"
   ]
  },
  {
   "cell_type": "code",
   "execution_count": 158,
   "id": "5b017eb5-e10e-41ef-ad3f-42ad5dfe9832",
   "metadata": {},
   "outputs": [
    {
     "data": {
      "text/plain": [
       "array([[ 1.      , -0.952646],\n",
       "       [-0.952646,  1.      ]])"
      ]
     },
     "execution_count": 158,
     "metadata": {},
     "output_type": "execute_result"
    }
   ],
   "source": [
    "np.corrcoef(y,z)"
   ]
  },
  {
   "cell_type": "code",
   "execution_count": 160,
   "id": "92aa95df-0db7-4326-8c7a-74abc5d0ad9f",
   "metadata": {},
   "outputs": [
    {
     "data": {
      "text/plain": [
       "array([[ 1.      , -0.952646],\n",
       "       [-0.952646,  1.      ]])"
      ]
     },
     "execution_count": 160,
     "metadata": {},
     "output_type": "execute_result"
    }
   ],
   "source": [
    "np.corrcoef(z,y)"
   ]
  },
  {
   "cell_type": "code",
   "execution_count": 162,
   "id": "8a0c915e-ff2d-4744-b3b5-0afdc377c06b",
   "metadata": {},
   "outputs": [
    {
     "data": {
      "text/plain": [
       "array([[ 1.      , -0.959855],\n",
       "       [-0.959855,  1.      ]])"
      ]
     },
     "execution_count": 162,
     "metadata": {},
     "output_type": "execute_result"
    }
   ],
   "source": [
    "np.corrcoef(x,z)"
   ]
  },
  {
   "cell_type": "code",
   "execution_count": 168,
   "id": "135dacda-499a-4d2a-b191-5abeffd8a19d",
   "metadata": {},
   "outputs": [],
   "source": [
    "from scipy.stats import pearsonr"
   ]
  },
  {
   "cell_type": "code",
   "execution_count": 170,
   "id": "ab37a63d-6d26-4526-b461-401586ac7852",
   "metadata": {},
   "outputs": [
    {
     "data": {
      "text/plain": [
       "PearsonRResult(statistic=0.9882860979054641, pvalue=8.122066363682317e-08)"
      ]
     },
     "execution_count": 170,
     "metadata": {},
     "output_type": "execute_result"
    }
   ],
   "source": [
    "pearsonr(x ,y)"
   ]
  },
  {
   "cell_type": "code",
   "execution_count": 172,
   "id": "47aa6b97-06be-47fa-a25c-d79f277d3c38",
   "metadata": {},
   "outputs": [
    {
     "data": {
      "text/plain": [
       "PearsonRResult(statistic=-0.9598548032528608, pvalue=1.0825184043341518e-05)"
      ]
     },
     "execution_count": 172,
     "metadata": {},
     "output_type": "execute_result"
    }
   ],
   "source": [
    "pearsonr(x ,z)"
   ]
  },
  {
   "cell_type": "code",
   "execution_count": 174,
   "id": "20f71128-cfb9-4159-9dd7-85f91ef7f3e3",
   "metadata": {},
   "outputs": [
    {
     "data": {
      "text/plain": [
       "PearsonRResult(statistic=0.024336195591384058, pvalue=0.9467960896459808)"
      ]
     },
     "execution_count": 174,
     "metadata": {},
     "output_type": "execute_result"
    }
   ],
   "source": [
    "pearsonr(x ,p)"
   ]
  },
  {
   "cell_type": "code",
   "execution_count": 176,
   "id": "e4c7ac7d-9b28-47c0-ac32-ef40d8ab2b88",
   "metadata": {},
   "outputs": [],
   "source": [
    "a = np.arange(1,11)\n",
    "b = np.arange(10, 101, 10)"
   ]
  },
  {
   "cell_type": "code",
   "execution_count": 178,
   "id": "37ff95ac-5a4e-450d-8c8d-682296d4ab05",
   "metadata": {},
   "outputs": [
    {
     "data": {
      "text/plain": [
       "PearsonRResult(statistic=1.0, pvalue=0.0)"
      ]
     },
     "execution_count": 178,
     "metadata": {},
     "output_type": "execute_result"
    }
   ],
   "source": [
    "pearsonr(a , b)"
   ]
  },
  {
   "cell_type": "code",
   "execution_count": 184,
   "id": "d4e8e902-b597-44ca-8985-d61a6d7a746e",
   "metadata": {},
   "outputs": [],
   "source": [
    "### variance\n",
    "import statistics"
   ]
  },
  {
   "cell_type": "code",
   "execution_count": 182,
   "id": "7f1c8b36-2c71-45cf-a660-e0647a754c96",
   "metadata": {},
   "outputs": [],
   "source": [
    "num=np.array([67,23,54,17,53,28,55,34,84])"
   ]
  },
  {
   "cell_type": "code",
   "execution_count": 188,
   "id": "20b308d4-c90a-4f1d-a5f6-ecb9a1d7e8dc",
   "metadata": {},
   "outputs": [
    {
     "data": {
      "text/plain": [
       "435.209877"
      ]
     },
     "execution_count": 188,
     "metadata": {},
     "output_type": "execute_result"
    }
   ],
   "source": [
    "np.mean((num-num.mean())**2) #variance formula"
   ]
  },
  {
   "cell_type": "code",
   "execution_count": 196,
   "id": "d248d077-41de-477b-95d0-65175a5976c0",
   "metadata": {},
   "outputs": [
    {
     "data": {
      "text/plain": [
       "435.209877"
      ]
     },
     "execution_count": 196,
     "metadata": {},
     "output_type": "execute_result"
    }
   ],
   "source": [
    "num.var()\n"
   ]
  },
  {
   "cell_type": "code",
   "execution_count": 198,
   "id": "68693732-9d3f-4840-831a-251e1821f58b",
   "metadata": {},
   "outputs": [
    {
     "data": {
      "text/plain": [
       "20.861684"
      ]
     },
     "execution_count": 198,
     "metadata": {},
     "output_type": "execute_result"
    }
   ],
   "source": [
    "np.sqrt(np.mean((num-num.mean())**2))"
   ]
  },
  {
   "cell_type": "code",
   "execution_count": 200,
   "id": "084bb7bf-2248-47c6-b7a2-933a7786b34d",
   "metadata": {},
   "outputs": [
    {
     "data": {
      "text/plain": [
       "20.861684"
      ]
     },
     "execution_count": 200,
     "metadata": {},
     "output_type": "execute_result"
    }
   ],
   "source": [
    "num.std()"
   ]
  },
  {
   "cell_type": "code",
   "execution_count": 214,
   "id": "402f44e7-6d66-4ea2-abba-199b1c3aed44",
   "metadata": {},
   "outputs": [
    {
     "data": {
      "text/plain": [
       "<matplotlib.collections.PathCollection at 0x287950909b0>"
      ]
     },
     "execution_count": 214,
     "metadata": {},
     "output_type": "execute_result"
    },
    {
     "data": {
      "image/png": "[encoded data removed]",
      "text/plain": [
       "<Figure size 640x480 with 1 Axes>"
      ]
     },
     "metadata": {},
     "output_type": "display_data"
    }
   ],
   "source": [
    "plt.scatter(num,range(len(num)))\n",
    "plt.scatter([num.mean()],[4.5])"
   ]
  },
  {
   "cell_type": "code",
   "execution_count": 217,
   "id": "52d6d35c-2178-43ea-ae2c-25941cabf3d8",
   "metadata": {},
   "outputs": [],
   "source": [
    "#zscore"
   ]
  },
  {
   "cell_type": "code",
   "execution_count": 219,
   "id": "65c2ed7e-4d90-4fd0-9d23-ba6d2f9c01ad",
   "metadata": {},
   "outputs": [],
   "source": [
    "def zscore(n):\n",
    "    z=(n-n.mean())/n.std()\n",
    "    return z"
   ]
  },
  {
   "cell_type": "code",
   "execution_count": 221,
   "id": "78c49aef-ec76-4de0-85b4-c3d49cca5cf1",
   "metadata": {},
   "outputs": [
    {
     "data": {
      "text/plain": [
       "array([67, 23, 54, 17, 53, 28, 55, 34, 84])"
      ]
     },
     "execution_count": 221,
     "metadata": {},
     "output_type": "execute_result"
    }
   ],
   "source": [
    "num"
   ]
  },
  {
   "cell_type": "code",
   "execution_count": 223,
   "id": "4b40902f-68a6-4c97-b032-0486d6465bea",
   "metadata": {},
   "outputs": [
    {
     "data": {
      "text/plain": [
       "array([ 1.001304, -1.107826,  0.378152, -1.395434,  0.330217, -0.868152,\n",
       "        0.426087, -0.580543,  1.816195])"
      ]
     },
     "execution_count": 223,
     "metadata": {},
     "output_type": "execute_result"
    }
   ],
   "source": [
    "zscore(num)"
   ]
  },
  {
   "cell_type": "code",
   "execution_count": 225,
   "id": "275ca1b1-b3ee-435a-9549-0a216f928cfe",
   "metadata": {},
   "outputs": [
    {
     "data": {
      "text/plain": [
       "-0.000000"
      ]
     },
     "execution_count": 225,
     "metadata": {},
     "output_type": "execute_result"
    }
   ],
   "source": [
    "zscore(num).mean()"
   ]
  },
  {
   "cell_type": "code",
   "execution_count": 227,
   "id": "e3a6883d-d198-4a3f-bd01-6009a5d3997d",
   "metadata": {},
   "outputs": [],
   "source": [
    "num1=np.arange(1,11)\n",
    "num2=np.arange(10,101,10)\n",
    "num3=np.arange(100,1001,100)\n"
   ]
  },
  {
   "cell_type": "code",
   "execution_count": 229,
   "id": "0368a845-7826-4163-8b85-3eef5847ae4d",
   "metadata": {},
   "outputs": [
    {
     "data": {
      "text/plain": [
       "array([ 1,  2,  3,  4,  5,  6,  7,  8,  9, 10])"
      ]
     },
     "execution_count": 229,
     "metadata": {},
     "output_type": "execute_result"
    }
   ],
   "source": [
    "num1"
   ]
  },
  {
   "cell_type": "code",
   "execution_count": 231,
   "id": "1e584cc2-bee6-4f64-b970-e7e633111063",
   "metadata": {},
   "outputs": [
    {
     "data": {
      "text/plain": [
       "array([ 10,  20,  30,  40,  50,  60,  70,  80,  90, 100])"
      ]
     },
     "execution_count": 231,
     "metadata": {},
     "output_type": "execute_result"
    }
   ],
   "source": [
    "num2"
   ]
  },
  {
   "cell_type": "code",
   "execution_count": 233,
   "id": "584349ea-a45a-49ff-aca1-d2c769dc5a9c",
   "metadata": {},
   "outputs": [
    {
     "data": {
      "text/plain": [
       "array([ 100,  200,  300,  400,  500,  600,  700,  800,  900, 1000])"
      ]
     },
     "execution_count": 233,
     "metadata": {},
     "output_type": "execute_result"
    }
   ],
   "source": [
    "num3"
   ]
  },
  {
   "cell_type": "code",
   "execution_count": 235,
   "id": "e3848253-a1f6-4e38-bd5d-27288d35d3c0",
   "metadata": {},
   "outputs": [
    {
     "data": {
      "text/plain": [
       "array([-1.566699, -1.218544, -0.870388, -0.522233, -0.174078,  0.174078,\n",
       "        0.522233,  0.870388,  1.218544,  1.566699])"
      ]
     },
     "execution_count": 235,
     "metadata": {},
     "output_type": "execute_result"
    }
   ],
   "source": [
    "zscore(num1)"
   ]
  },
  {
   "cell_type": "code",
   "execution_count": 237,
   "id": "fee8f283-d58c-4de6-9ca0-a6881a3a1abd",
   "metadata": {},
   "outputs": [
    {
     "data": {
      "text/plain": [
       "array([-1.566699, -1.218544, -0.870388, -0.522233, -0.174078,  0.174078,\n",
       "        0.522233,  0.870388,  1.218544,  1.566699])"
      ]
     },
     "execution_count": 237,
     "metadata": {},
     "output_type": "execute_result"
    }
   ],
   "source": [
    "zscore(num2)"
   ]
  },
  {
   "cell_type": "code",
   "execution_count": 239,
   "id": "ea61436b-c0e9-466a-87bd-367549c8da88",
   "metadata": {},
   "outputs": [
    {
     "data": {
      "text/plain": [
       "array([-1.566699, -1.218544, -0.870388, -0.522233, -0.174078,  0.174078,\n",
       "        0.522233,  0.870388,  1.218544,  1.566699])"
      ]
     },
     "execution_count": 239,
     "metadata": {},
     "output_type": "execute_result"
    }
   ],
   "source": [
    "zscore(num3)"
   ]
  },
  {
   "cell_type": "code",
   "execution_count": 241,
   "id": "28dc5570-5631-4371-a01c-4be6ffeb7b57",
   "metadata": {},
   "outputs": [
    {
     "data": {
      "text/plain": [
       "1.000000"
      ]
     },
     "execution_count": 241,
     "metadata": {},
     "output_type": "execute_result"
    }
   ],
   "source": [
    "zscore(num3).std()"
   ]
  },
  {
   "cell_type": "code",
   "execution_count": 258,
   "id": "dab85780-67c5-4899-b45b-443383d06997",
   "metadata": {},
   "outputs": [
    {
     "data": {
      "text/plain": [
       "<matplotlib.collections.PathCollection at 0x287950a2d80>"
      ]
     },
     "execution_count": 258,
     "metadata": {},
     "output_type": "execute_result"
    },
    {
     "data": {
      "image/png": "[encoded data removed]",
      "text/plain": [
       "<Figure size 640x480 with 2 Axes>"
      ]
     },
     "metadata": {},
     "output_type": "display_data"
    }
   ],
   "source": [
    "plt.subplot(1,2,1)\n",
    "plt.scatter(num, range(len(num)))\n",
    "plt.subplot(1,2,2)\n",
    "plt.scatter(zscore(num), range(len(num)))         "
   ]
  },
  {
   "cell_type": "code",
   "execution_count": 262,
   "id": "c38f71e8-057b-4c26-8478-10d2abf102f8",
   "metadata": {},
   "outputs": [],
   "source": [
    "M = np.array([[45,2,23000] , [67,4,18000], [52,5,25600],\n",
    "             [49,3,24500], [63,6,21900]], dtype=np.int16)"
   ]
  },
  {
   "cell_type": "code",
   "execution_count": 264,
   "id": "03a35900-b6ee-4445-90ac-2b886ec163c8",
   "metadata": {},
   "outputs": [
    {
     "data": {
      "text/plain": [
       "array([[   45,     2, 23000],\n",
       "       [   67,     4, 18000],\n",
       "       [   52,     5, 25600],\n",
       "       [   49,     3, 24500],\n",
       "       [   63,     6, 21900]], dtype=int16)"
      ]
     },
     "execution_count": 264,
     "metadata": {},
     "output_type": "execute_result"
    }
   ],
   "source": [
    "M\n"
   ]
  },
  {
   "cell_type": "code",
   "execution_count": 266,
   "id": "2d614d52-e98c-43f9-bf82-0a4cda4b517b",
   "metadata": {},
   "outputs": [],
   "source": [
    "from sklearn.preprocessing import StandardScaler"
   ]
  },
  {
   "cell_type": "code",
   "execution_count": 268,
   "id": "b9393924-eccc-4c00-a18d-b37db669b6c7",
   "metadata": {},
   "outputs": [],
   "source": [
    "scaler= StandardScaler()"
   ]
  },
  {
   "cell_type": "code",
   "execution_count": 270,
   "id": "3c88d738-128a-431c-89e2-cc02065c0f8b",
   "metadata": {},
   "outputs": [],
   "source": [
    "M_scaled=scaler.fit_transform(M)\n"
   ]
  },
  {
   "cell_type": "code",
   "execution_count": 272,
   "id": "db4411a9-0897-477b-b99f-c1c59059fd39",
   "metadata": {},
   "outputs": [
    {
     "data": {
      "text/plain": [
       "array([[-1.214286, -1.414214,  0.152454],\n",
       "       [ 1.404762,  0.      , -1.753224],\n",
       "       [-0.380952,  0.707107,  1.143407],\n",
       "       [-0.738095, -0.707107,  0.724158],\n",
       "       [ 0.928571,  1.414214, -0.266795]])"
      ]
     },
     "execution_count": 272,
     "metadata": {},
     "output_type": "execute_result"
    }
   ],
   "source": [
    "M_scaled"
   ]
  },
  {
   "cell_type": "code",
   "execution_count": 274,
   "id": "d852b15a-9beb-4f8a-8fa8-ac70424c8615",
   "metadata": {},
   "outputs": [
    {
     "data": {
      "text/plain": [
       "1.000000"
      ]
     },
     "execution_count": 274,
     "metadata": {},
     "output_type": "execute_result"
    }
   ],
   "source": [
    "M_scaled.std()"
   ]
  },
  {
   "cell_type": "code",
   "execution_count": 276,
   "id": "cc304f98-a93c-47ae-8fff-91cf5ed08922",
   "metadata": {},
   "outputs": [],
   "source": [
    "each=np.std(M_scaled, axis=0)"
   ]
  },
  {
   "cell_type": "code",
   "execution_count": 278,
   "id": "993b75a3-f226-4664-95df-a2a1869073a4",
   "metadata": {},
   "outputs": [
    {
     "data": {
      "text/plain": [
       "array([1., 1., 1.])"
      ]
     },
     "execution_count": 278,
     "metadata": {},
     "output_type": "execute_result"
    }
   ],
   "source": [
    "each"
   ]
  },
  {
   "cell_type": "code",
   "execution_count": 280,
   "id": "f2338495-b15e-46ab-b8c0-ef297bd2f33e",
   "metadata": {},
   "outputs": [
    {
     "data": {
      "text/plain": [
       "array([-3.330669e-16,  0.000000e+00, -4.440892e-17])"
      ]
     },
     "execution_count": 280,
     "metadata": {},
     "output_type": "execute_result"
    }
   ],
   "source": [
    "M_scaled.mean(axis=0)"
   ]
  },
  {
   "cell_type": "code",
   "execution_count": 282,
   "id": "96a0f62a-ab3a-47d0-9183-6367ab41d935",
   "metadata": {},
   "outputs": [
    {
     "data": {
      "text/plain": [
       "array([[ 0.727066, -1.130336,  0.424901,  0.705773, -0.727405],\n",
       "       [-1.130336,  2.503338, -1.18455 , -1.195105,  1.006654],\n",
       "       [ 0.424901, -1.18455 ,  0.616317,  0.481196, -0.337864],\n",
       "       [ 0.705773, -1.195105,  0.481196,  0.697944, -0.689808],\n",
       "       [-0.727405,  1.006654, -0.337864, -0.689808,  0.748423]])"
      ]
     },
     "execution_count": 282,
     "metadata": {},
     "output_type": "execute_result"
    }
   ],
   "source": [
    "np.cov(M_scaled)"
   ]
  },
  {
   "cell_type": "code",
   "execution_count": 290,
   "id": "dbafd9c4-41cd-4936-8d6b-526427c82f27",
   "metadata": {},
   "outputs": [],
   "source": [
    "x = np.array([4,4,4,4,4,4,])"
   ]
  },
  {
   "cell_type": "code",
   "execution_count": 292,
   "id": "c42e4e54-9361-4950-9b29-c211abb324e4",
   "metadata": {},
   "outputs": [
    {
     "data": {
      "text/plain": [
       "0.000000"
      ]
     },
     "execution_count": 292,
     "metadata": {},
     "output_type": "execute_result"
    }
   ],
   "source": [
    "x.var()"
   ]
  },
  {
   "cell_type": "code",
   "execution_count": 294,
   "id": "ad15243e-21a7-4afb-86d0-b7a2ab39a45b",
   "metadata": {},
   "outputs": [
    {
     "data": {
      "text/plain": [
       "0.000000"
      ]
     },
     "execution_count": 294,
     "metadata": {},
     "output_type": "execute_result"
    }
   ],
   "source": [
    "x.std()"
   ]
  },
  {
   "cell_type": "code",
   "execution_count": 296,
   "id": "db39c861-6d05-4ecb-88cd-28aac2671543",
   "metadata": {},
   "outputs": [],
   "source": [
    "#### principal component Analysis"
   ]
  },
  {
   "cell_type": "code",
   "execution_count": 300,
   "id": "cc0a6c8c-c95f-448f-ab9f-5df9474f24c4",
   "metadata": {},
   "outputs": [],
   "source": [
    "M = np.array([[45,2,23000,45] , [67,4,18000,410], [52,5,25600,567],\n",
    "             [49,3,24500,398], [63,6,21900,411], [55,8,26800,500],\n",
    "              [51,2,26700,465],[60,7,28000,489]], dtype=np.int16)"
   ]
  },
  {
   "cell_type": "code",
   "execution_count": 302,
   "id": "564177d4-dca3-4784-9733-fa1085279dd2",
   "metadata": {},
   "outputs": [
    {
     "data": {
      "text/plain": [
       "array([[   45,     2, 23000,    45],\n",
       "       [   67,     4, 18000,   410],\n",
       "       [   52,     5, 25600,   567],\n",
       "       [   49,     3, 24500,   398],\n",
       "       [   63,     6, 21900,   411],\n",
       "       [   55,     8, 26800,   500],\n",
       "       [   51,     2, 26700,   465],\n",
       "       [   60,     7, 28000,   489]], dtype=int16)"
      ]
     },
     "execution_count": 302,
     "metadata": {},
     "output_type": "execute_result"
    }
   ],
   "source": [
    "M"
   ]
  },
  {
   "cell_type": "code",
   "execution_count": 306,
   "id": "d2d1145c-ce1a-47af-be8a-d94a16925bb9",
   "metadata": {},
   "outputs": [
    {
     "data": {
      "text/plain": [
       "(8, 4)"
      ]
     },
     "execution_count": 306,
     "metadata": {},
     "output_type": "execute_result"
    }
   ],
   "source": [
    "M.shape"
   ]
  },
  {
   "cell_type": "code",
   "execution_count": 322,
   "id": "23cfc42f-c778-4d33-a7cb-af5dead10c75",
   "metadata": {},
   "outputs": [],
   "source": [
    "# standardization "
   ]
  },
  {
   "cell_type": "code",
   "execution_count": 312,
   "id": "4f7ec71f-d453-4b66-9088-c1b26aa71e74",
   "metadata": {},
   "outputs": [],
   "source": [
    "std=np.std(M,axis=0)\n",
    "mean=np.mean(M, axis=0)"
   ]
  },
  {
   "cell_type": "code",
   "execution_count": 314,
   "id": "60479213-2b0d-4690-935e-b68fcc960458",
   "metadata": {},
   "outputs": [],
   "source": [
    "M_standardized=(M-mean)/std"
   ]
  },
  {
   "cell_type": "code",
   "execution_count": 316,
   "id": "f4d43695-4fae-4580-9a4a-2ae97cb28c87",
   "metadata": {},
   "outputs": [
    {
     "data": {
      "text/plain": [
       "array([[-1.461492, -1.239591, -0.429898, -2.469383],\n",
       "       [ 1.675369, -0.295141, -2.067607, -0.004221],\n",
       "       [-0.4634  ,  0.177084,  0.42171 ,  1.056136],\n",
       "       [-0.891154, -0.767366,  0.061414, -0.085268],\n",
       "       [ 1.105031,  0.649309, -0.790194,  0.002533],\n",
       "       [-0.035646,  1.59376 ,  0.81476 ,  0.603627],\n",
       "       [-0.605985, -1.239591,  0.782006,  0.367242],\n",
       "       [ 0.677277,  1.121535,  1.20781 ,  0.529334]])"
      ]
     },
     "execution_count": 316,
     "metadata": {},
     "output_type": "execute_result"
    }
   ],
   "source": [
    "M_standardized"
   ]
  },
  {
   "cell_type": "code",
   "execution_count": 318,
   "id": "9482610a-8fd6-4e81-8ccb-310e063c0c96",
   "metadata": {},
   "outputs": [
    {
     "data": {
      "text/plain": [
       "array([1., 1., 1., 1.])"
      ]
     },
     "execution_count": 318,
     "metadata": {},
     "output_type": "execute_result"
    }
   ],
   "source": [
    "M_standardized.std(axis=0)"
   ]
  },
  {
   "cell_type": "code",
   "execution_count": 324,
   "id": "b470ec95-3988-43e4-8c9f-767212094b0b",
   "metadata": {},
   "outputs": [],
   "source": [
    "###compute covariance matrix"
   ]
  },
  {
   "cell_type": "code",
   "execution_count": 326,
   "id": "da293173-d397-477f-aed7-d4ac87009682",
   "metadata": {},
   "outputs": [
    {
     "data": {
      "text/plain": [
       "array([[ 1.142857,  0.584346, -0.520565,  0.472247],\n",
       "       [ 0.584346,  1.142857,  0.334481,  0.630978],\n",
       "       [-0.520565,  0.334481,  1.142857,  0.418113],\n",
       "       [ 0.472247,  0.630978,  0.418113,  1.142857]])"
      ]
     },
     "execution_count": 326,
     "metadata": {},
     "output_type": "execute_result"
    }
   ],
   "source": [
    "Cov_mat=np.cov(M_standardized.T)\n",
    "Cov_mat"
   ]
  },
  {
   "cell_type": "code",
   "execution_count": 328,
   "id": "342e7a8f-6263-4542-aa65-28a37fb2f0d2",
   "metadata": {},
   "outputs": [],
   "source": [
    "#calculate eigenvector and eigenvalues"
   ]
  },
  {
   "cell_type": "code",
   "execution_count": 330,
   "id": "ecc63313-7cf2-46ac-abb1-f98cb986e066",
   "metadata": {},
   "outputs": [
    {
     "data": {
      "text/plain": [
       "(array([2.298826, 1.646565, 0.121524, 0.504513]),\n",
       " array([[ 0.475664,  0.588646, -0.653093,  0.026634],\n",
       "        [ 0.619232, -0.055635,  0.372765, -0.688841],\n",
       "        [ 0.181222, -0.787949, -0.581807, -0.088295],\n",
       "        [ 0.597874, -0.171864,  0.309865,  0.719022]]))"
      ]
     },
     "execution_count": 330,
     "metadata": {},
     "output_type": "execute_result"
    }
   ],
   "source": [
    "eigenvalues,eigenvectors=np.linalg.eig(Cov_mat)\n",
    "eigenvalues,eigenvectors"
   ]
  },
  {
   "cell_type": "code",
   "execution_count": 332,
   "id": "2202a426-79ef-4b8b-be3f-8b2e7a9da3a8",
   "metadata": {},
   "outputs": [],
   "source": [
    "#sort eigenvalues and eigenvectors"
   ]
  },
  {
   "cell_type": "code",
   "execution_count": 334,
   "id": "6afd8698-323f-4d2a-a2e9-1ed321136f13",
   "metadata": {},
   "outputs": [],
   "source": [
    "sorted_index=np.argsort(eigenvalues)[::-1]"
   ]
  },
  {
   "cell_type": "code",
   "execution_count": 336,
   "id": "48419b61-d628-4af5-ac17-16572a7a2b08",
   "metadata": {},
   "outputs": [
    {
     "data": {
      "text/plain": [
       "array([0, 1, 3, 2], dtype=int64)"
      ]
     },
     "execution_count": 336,
     "metadata": {},
     "output_type": "execute_result"
    }
   ],
   "source": [
    "sorted_index"
   ]
  },
  {
   "cell_type": "code",
   "execution_count": 338,
   "id": "5e956495-a849-4a10-9f2f-e3fafc4e5f99",
   "metadata": {},
   "outputs": [
    {
     "data": {
      "text/plain": [
       "array([2.298826, 1.646565, 0.504513, 0.121524])"
      ]
     },
     "execution_count": 338,
     "metadata": {},
     "output_type": "execute_result"
    }
   ],
   "source": [
    "sorted_eigenvalues=eigenvalues[sorted_index]\n",
    "sorted_eigenvalues"
   ]
  },
  {
   "cell_type": "code",
   "execution_count": 340,
   "id": "93b36458-209e-4b8d-9fa6-6aba72603147",
   "metadata": {},
   "outputs": [
    {
     "data": {
      "text/plain": [
       "array([[ 0.475664,  0.588646,  0.026634, -0.653093],\n",
       "       [ 0.619232, -0.055635, -0.688841,  0.372765],\n",
       "       [ 0.181222, -0.787949, -0.088295, -0.581807],\n",
       "       [ 0.597874, -0.171864,  0.719022,  0.309865]])"
      ]
     },
     "execution_count": 340,
     "metadata": {},
     "output_type": "execute_result"
    }
   ],
   "source": [
    "sorted_eigenvectors=eigenvectors[:,sorted_index]\n",
    "sorted_eigenvectors"
   ]
  },
  {
   "cell_type": "code",
   "execution_count": 346,
   "id": "d5adde69-b243-4848-abb9-84e294ab47fc",
   "metadata": {},
   "outputs": [],
   "source": [
    "#combine feature "
   ]
  },
  {
   "cell_type": "code",
   "execution_count": 348,
   "id": "67396127-ee9d-468e-89c7-74f9e26d1fa0",
   "metadata": {},
   "outputs": [
    {
     "data": {
      "text/plain": [
       "array([[-3.017062e+00, -2.819939e-02, -9.226272e-01, -2.264429e-02],\n",
       "       [ 2.369337e-01,  2.632513e+00,  4.274525e-01, -2.549327e-03],\n",
       "       [ 5.970934e-01, -7.964288e-01,  5.878246e-01,  4.505601e-01],\n",
       "       [-9.389173e-01, -5.156182e-01,  4.381260e-01,  2.338062e-01],\n",
       "       [ 7.860108e-01,  1.236545e+00, -3.462477e-01, -1.912207e-02],\n",
       "       [ 1.478497e+00, -8.553833e-01, -7.367152e-01,  3.303884e-01],\n",
       "       [-6.945591e-01, -9.670417e-01,  1.032748e+00, -4.074934e-01],\n",
       "       [ 1.552003e+00, -7.063866e-01, -4.805614e-01, -5.629455e-01]])"
      ]
     },
     "execution_count": 348,
     "metadata": {},
     "output_type": "execute_result"
    }
   ],
   "source": [
    "Dot_pro=np.dot(M_standardized, sorted_eigenvectors)\n",
    "Dot_pro"
   ]
  },
  {
   "cell_type": "code",
   "execution_count": 358,
   "id": "7bc58f25-feb9-4944-8662-bcd66f8c0ecc",
   "metadata": {},
   "outputs": [
    {
     "data": {
      "text/plain": [
       "PearsonRResult(statistic=-6.245004513516506e-17, pvalue=1.0)"
      ]
     },
     "execution_count": 358,
     "metadata": {},
     "output_type": "execute_result"
    }
   ],
   "source": [
    "pearsonr(Dot_pro[:,0],Dot_pro[:,1])"
   ]
  },
  {
   "cell_type": "code",
   "execution_count": 360,
   "id": "75861a03-a6c5-4ae8-b980-a327a1a85000",
   "metadata": {},
   "outputs": [
    {
     "data": {
      "text/plain": [
       "PearsonRResult(statistic=2.498001805406602e-16, pvalue=0.9999999999999996)"
      ]
     },
     "execution_count": 360,
     "metadata": {},
     "output_type": "execute_result"
    }
   ],
   "source": [
    "pearsonr(Dot_pro[:,1],Dot_pro[:,2])"
   ]
  },
  {
   "cell_type": "code",
   "execution_count": 362,
   "id": "090f5683-7928-42d2-90e4-7aefe973ca74",
   "metadata": {},
   "outputs": [
    {
     "data": {
      "text/plain": [
       "PearsonRResult(statistic=3.885780586188048e-16, pvalue=0.9999999999999991)"
      ]
     },
     "execution_count": 362,
     "metadata": {},
     "output_type": "execute_result"
    }
   ],
   "source": [
    "pearsonr(Dot_pro[:,2],Dot_pro[:,3])"
   ]
  },
  {
   "cell_type": "code",
   "execution_count": 364,
   "id": "cb36eaaa-c768-4b03-bdc9-2d2ee234df24",
   "metadata": {},
   "outputs": [
    {
     "data": {
      "text/plain": [
       "array([[   45,     2, 23000,    45],\n",
       "       [   67,     4, 18000,   410],\n",
       "       [   52,     5, 25600,   567],\n",
       "       [   49,     3, 24500,   398],\n",
       "       [   63,     6, 21900,   411],\n",
       "       [   55,     8, 26800,   500],\n",
       "       [   51,     2, 26700,   465],\n",
       "       [   60,     7, 28000,   489]], dtype=int16)"
      ]
     },
     "execution_count": 364,
     "metadata": {},
     "output_type": "execute_result"
    }
   ],
   "source": [
    "M"
   ]
  },
  {
   "cell_type": "code",
   "execution_count": 370,
   "id": "e096b277-3f58-4b0f-8647-48efe386c1fd",
   "metadata": {},
   "outputs": [],
   "source": [
    "from sklearn.decomposition import PCA"
   ]
  },
  {
   "cell_type": "code",
   "execution_count": 372,
   "id": "cc47606b-e235-4ccc-9433-e3dbe08483a9",
   "metadata": {},
   "outputs": [],
   "source": [
    "pca=PCA()"
   ]
  },
  {
   "cell_type": "code",
   "execution_count": 374,
   "id": "14e3828e-1f9c-4a62-9ea7-1132356622a7",
   "metadata": {},
   "outputs": [],
   "source": [
    "M_pca_new=pca.fit_transform(M_standardized)"
   ]
  },
  {
   "cell_type": "code",
   "execution_count": 376,
   "id": "641fad29-7130-4580-9323-edd04529e539",
   "metadata": {},
   "outputs": [
    {
     "data": {
      "text/plain": [
       "array([[ 3.017062e+00, -2.819939e-02, -9.226272e-01,  2.264429e-02],\n",
       "       [-2.369337e-01,  2.632513e+00,  4.274525e-01,  2.549327e-03],\n",
       "       [-5.970934e-01, -7.964288e-01,  5.878246e-01, -4.505601e-01],\n",
       "       [ 9.389173e-01, -5.156182e-01,  4.381260e-01, -2.338062e-01],\n",
       "       [-7.860108e-01,  1.236545e+00, -3.462477e-01,  1.912207e-02],\n",
       "       [-1.478497e+00, -8.553833e-01, -7.367152e-01, -3.303884e-01],\n",
       "       [ 6.945591e-01, -9.670417e-01,  1.032748e+00,  4.074934e-01],\n",
       "       [-1.552003e+00, -7.063866e-01, -4.805614e-01,  5.629455e-01]])"
      ]
     },
     "execution_count": 376,
     "metadata": {},
     "output_type": "execute_result"
    }
   ],
   "source": [
    "M_pca_new"
   ]
  },
  {
   "cell_type": "code",
   "execution_count": 378,
   "id": "34851004-ebc2-4fad-8abe-bacbc41dfd06",
   "metadata": {},
   "outputs": [
    {
     "data": {
      "text/plain": [
       "array([[-3.017062e+00, -2.819939e-02, -9.226272e-01, -2.264429e-02],\n",
       "       [ 2.369337e-01,  2.632513e+00,  4.274525e-01, -2.549327e-03],\n",
       "       [ 5.970934e-01, -7.964288e-01,  5.878246e-01,  4.505601e-01],\n",
       "       [-9.389173e-01, -5.156182e-01,  4.381260e-01,  2.338062e-01],\n",
       "       [ 7.860108e-01,  1.236545e+00, -3.462477e-01, -1.912207e-02],\n",
       "       [ 1.478497e+00, -8.553833e-01, -7.367152e-01,  3.303884e-01],\n",
       "       [-6.945591e-01, -9.670417e-01,  1.032748e+00, -4.074934e-01],\n",
       "       [ 1.552003e+00, -7.063866e-01, -4.805614e-01, -5.629455e-01]])"
      ]
     },
     "execution_count": 378,
     "metadata": {},
     "output_type": "execute_result"
    }
   ],
   "source": [
    "Dot_pro"
   ]
  },
  {
   "cell_type": "code",
   "execution_count": 380,
   "id": "27832b40-3205-41de-b1eb-835162e62926",
   "metadata": {},
   "outputs": [],
   "source": [
    "var=pca.explained_variance_ratio_"
   ]
  },
  {
   "cell_type": "code",
   "execution_count": 382,
   "id": "dfec9eec-986c-4a33-8cfe-1a2e1180df2b",
   "metadata": {},
   "outputs": [
    {
     "data": {
      "text/plain": [
       "array([0.502868, 0.360186, 0.110362, 0.026583])"
      ]
     },
     "execution_count": 382,
     "metadata": {},
     "output_type": "execute_result"
    }
   ],
   "source": [
    "var"
   ]
  },
  {
   "cell_type": "code",
   "execution_count": 386,
   "id": "cdd3cd8c-7d6e-4714-a9f7-af2203096d2c",
   "metadata": {},
   "outputs": [
    {
     "data": {
      "text/plain": [
       "[<matplotlib.lines.Line2D at 0x28799819100>]"
      ]
     },
     "execution_count": 386,
     "metadata": {},
     "output_type": "execute_result"
    },
    {
     "data": {
      "image/png": "[encoded data removed]",
      "text/plain": [
       "<Figure size 640x480 with 1 Axes>"
      ]
     },
     "metadata": {},
     "output_type": "display_data"
    }
   ],
   "source": [
    "plt.xlabel('PC')\n",
    "plt.ylabel('variances')\n",
    "plt.grid()\n",
    "plt.bar(range(4),var)\n",
    "\n",
    "plt.plot(range(4),var,color='y',marker='o')"
   ]
  },
  {
   "cell_type": "code",
   "execution_count": 390,
   "id": "37206dbe-1869-4fc6-91ee-16fe74ecebb4",
   "metadata": {},
   "outputs": [],
   "source": [
    "pca=PCA(n_components=2)"
   ]
  },
  {
   "cell_type": "code",
   "execution_count": 396,
   "id": "11677707-2593-4a4d-ab21-ff9fbfa663a8",
   "metadata": {},
   "outputs": [],
   "source": [
    "M_pac2=pca.fit_transform(M_standardized)"
   ]
  },
  {
   "cell_type": "code",
   "execution_count": 398,
   "id": "4864bed4-c258-4860-b48b-fa11cf068ee2",
   "metadata": {},
   "outputs": [
    {
     "data": {
      "text/plain": [
       "array([[ 3.017062, -0.028199],\n",
       "       [-0.236934,  2.632513],\n",
       "       [-0.597093, -0.796429],\n",
       "       [ 0.938917, -0.515618],\n",
       "       [-0.786011,  1.236545],\n",
       "       [-1.478497, -0.855383],\n",
       "       [ 0.694559, -0.967042],\n",
       "       [-1.552003, -0.706387]])"
      ]
     },
     "execution_count": 398,
     "metadata": {},
     "output_type": "execute_result"
    }
   ],
   "source": [
    "M_pac2"
   ]
  },
  {
   "cell_type": "code",
   "execution_count": 400,
   "id": "5a4f1bc9-69b8-4ecc-9bb8-95099b11c7a9",
   "metadata": {},
   "outputs": [
    {
     "data": {
      "text/plain": [
       "<matplotlib.collections.PathCollection at 0x28797ff0dd0>"
      ]
     },
     "execution_count": 400,
     "metadata": {},
     "output_type": "execute_result"
    },
    {
     "data": {
      "image/png": "[encoded data removed]",
      "text/plain": [
       "<Figure size 640x480 with 1 Axes>"
      ]
     },
     "metadata": {},
     "output_type": "display_data"
    }
   ],
   "source": [
    "plt.scatter(M_pac2[:,0],M_pac2[:,1])"
   ]
  },
  {
   "cell_type": "code",
   "execution_count": null,
   "id": "bb99603c-287d-4afd-a0a5-7649a778f9d4",
   "metadata": {},
   "outputs": [],
   "source": []
  }
 ],
 "metadata": {
  "kernelspec": {
   "display_name": "Python 3 (ipykernel)",
   "language": "python",
   "name": "python3"
  },
  "language_info": {
   "codemirror_mode": {
    "name": "ipython",
    "version": 3
   },
   "file_extension": ".py",
   "mimetype": "text/x-python",
   "name": "python",
   "nbconvert_exporter": "python",
   "pygments_lexer": "ipython3",
   "version": "3.12.4"
  }
 },
 "nbformat": 4,
 "nbformat_minor": 5
}
