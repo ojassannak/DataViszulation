{
 "cells": [
  {
   "cell_type": "markdown",
   "id": "6f7448f1-90a9-4263-a9ea-a02c67263200",
   "metadata": {
    "jp-MarkdownHeadingCollapsed": true
   },
   "source": [
    "<h3>Statement-1</h3>"
   ]
  },
  {
   "cell_type": "markdown",
   "id": "5772c7aa-c8c4-433f-9bf1-2956a5b68d8e",
   "metadata": {},
   "source": [
    "Create two Numpy arrays, a and b, of the same size and filled with random values.Then,perform the following operations on the arrays:\n",
    "1. add the two arrays together.\n",
    "2. subtract the two arrays from each other\n",
    "3. Multiply the two arrays together\n",
    "4. Divide the two arrays by each other\n",
    "5. Take the dot product of the two arrays"
   ]
  },
  {
   "cell_type": "code",
   "execution_count": 50,
   "id": "19890f0a-efb8-4baf-bf46-f519313e311b",
   "metadata": {},
   "outputs": [],
   "source": [
    "import numpy as np\n",
    "from scipy import stats"
   ]
  },
  {
   "cell_type": "code",
   "execution_count": 17,
   "id": "93fd45b6-8b97-4974-a25a-54fffa7b986f",
   "metadata": {},
   "outputs": [],
   "source": [
    "a=np.random.rand(3,4)\n",
    "b=np.random.rand(3,4)"
   ]
  },
  {
   "cell_type": "code",
   "execution_count": 19,
   "id": "3ef3f8cf-dc23-4f0f-b2af-4c98286a7724",
   "metadata": {},
   "outputs": [
    {
     "data": {
      "text/plain": [
       "(array([[0.94620343, 0.79395345, 0.44156237, 0.55882297],\n",
       "        [0.61351181, 0.58238076, 0.33978546, 0.7467673 ],\n",
       "        [0.06157955, 0.6187387 , 0.19617319, 0.12898142]]),\n",
       " array([[0.18611356, 0.23006099, 0.94042726, 0.44219276],\n",
       "        [0.71410293, 0.30852815, 0.49103583, 0.3913381 ],\n",
       "        [0.35491012, 0.43636079, 0.79635284, 0.61649442]]))"
      ]
     },
     "execution_count": 19,
     "metadata": {},
     "output_type": "execute_result"
    }
   ],
   "source": [
    "a,b"
   ]
  },
  {
   "cell_type": "code",
   "execution_count": 23,
   "id": "e6e7dd47-98cd-4ee3-a0aa-7c99d2ea70d3",
   "metadata": {},
   "outputs": [
    {
     "data": {
      "text/plain": [
       "array([[1.13231699, 1.02401444, 1.38198963, 1.00101574],\n",
       "       [1.32761473, 0.89090891, 0.83082129, 1.1381054 ],\n",
       "       [0.41648967, 1.0550995 , 0.99252603, 0.74547585]])"
      ]
     },
     "execution_count": 23,
     "metadata": {},
     "output_type": "execute_result"
    }
   ],
   "source": [
    "#addition\n",
    "addition=a+b\n",
    "addition"
   ]
  },
  {
   "cell_type": "code",
   "execution_count": 25,
   "id": "ff825bab-98ce-46c8-bf6a-50fde5ae451a",
   "metadata": {},
   "outputs": [
    {
     "data": {
      "text/plain": [
       "array([[ 0.76008987,  0.56389246, -0.49886489,  0.11663021],\n",
       "       [-0.10059112,  0.27385261, -0.15125037,  0.3554292 ],\n",
       "       [-0.29333057,  0.18237791, -0.60017965, -0.487513  ]])"
      ]
     },
     "execution_count": 25,
     "metadata": {},
     "output_type": "execute_result"
    }
   ],
   "source": [
    "#subtract\n",
    "subtraction=a-b\n",
    "subtraction"
   ]
  },
  {
   "cell_type": "code",
   "execution_count": 27,
   "id": "5c7edc5f-03c5-423f-aa02-71cf692f87fe",
   "metadata": {},
   "outputs": [
    {
     "data": {
      "text/plain": [
       "array([[0.17610129, 0.18265772, 0.41525729, 0.24710747],\n",
       "       [0.43811058, 0.17968086, 0.16684684, 0.2922385 ],\n",
       "       [0.02185521, 0.26999331, 0.15622308, 0.07951633]])"
      ]
     },
     "execution_count": 27,
     "metadata": {},
     "output_type": "execute_result"
    }
   ],
   "source": [
    "# Multiply\n",
    "multiplication=a*b\n",
    "multiplication"
   ]
  },
  {
   "cell_type": "code",
   "execution_count": 29,
   "id": "7d8c8b7b-21ff-4a35-94bf-3a57b596fdae",
   "metadata": {},
   "outputs": [
    {
     "data": {
      "text/plain": [
       "array([[5.08401133, 3.4510564 , 0.46953378, 1.26375422],\n",
       "       [0.85913638, 1.88760981, 0.69197692, 1.9082407 ],\n",
       "       [0.17350745, 1.4179521 , 0.24633954, 0.20921751]])"
      ]
     },
     "execution_count": 29,
     "metadata": {},
     "output_type": "execute_result"
    }
   ],
   "source": [
    "# division\n",
    "division=a/b\n",
    "division"
   ]
  },
  {
   "cell_type": "code",
   "execution_count": 33,
   "id": "477874d4-dfd4-4390-bd9d-84e0eb278e8a",
   "metadata": {},
   "outputs": [
    {
     "data": {
      "text/plain": [
       "array([[1.02112377, 1.3561553 , 1.37841802],\n",
       "       [0.89792457, 1.07687677, 1.20283667],\n",
       "       [0.3953297 , 0.38167586, 0.52758792]])"
      ]
     },
     "execution_count": 33,
     "metadata": {},
     "output_type": "execute_result"
    }
   ],
   "source": [
    "#dot product\n",
    "dot_product=np.dot(a,b.T)\n",
    "dot_product"
   ]
  },
  {
   "cell_type": "markdown",
   "id": "49d9244c-133f-405d-a217-4b2b752bc319",
   "metadata": {
    "jp-MarkdownHeadingCollapsed": true
   },
   "source": [
    "<h3>Statement 2</h3>"
   ]
  },
  {
   "cell_type": "markdown",
   "id": "c8c503ca-01c2-407c-9aeb-d98a37beac01",
   "metadata": {},
   "source": [
    "Given a Numpy array a, perform the following operations:\n",
    "\n",
    "1. Find the mean, median,and mode of the array\n",
    "2. Find the minimum and maximum values in the array\n",
    "3. find the standard deviation of the array\n",
    "4. Normalize the array to have a mean of 0 and a standard deviation of 1\n",
    "5. Find the element-wise square root of the array"
   ]
  },
  {
   "cell_type": "code",
   "execution_count": 42,
   "id": "8c514de7-bede-4ef7-ae70-1a893693ee84",
   "metadata": {},
   "outputs": [],
   "source": [
    "size=(3,4)\n",
    "num=np.random.randint(1,11,size)"
   ]
  },
  {
   "cell_type": "code",
   "execution_count": 44,
   "id": "0c3b5d8c-fb12-42b2-91c5-3d50c98a617b",
   "metadata": {},
   "outputs": [
    {
     "data": {
      "text/plain": [
       "array([[4, 2, 5, 7],\n",
       "       [7, 3, 1, 5],\n",
       "       [5, 5, 6, 8]])"
      ]
     },
     "execution_count": 44,
     "metadata": {},
     "output_type": "execute_result"
    }
   ],
   "source": [
    "num"
   ]
  },
  {
   "cell_type": "code",
   "execution_count": 46,
   "id": "4028e47d-ad27-4ff4-b973-3d71baaecdbc",
   "metadata": {},
   "outputs": [
    {
     "data": {
      "text/plain": [
       "1"
      ]
     },
     "execution_count": 46,
     "metadata": {},
     "output_type": "execute_result"
    }
   ],
   "source": [
    "min=np.min(num)\n",
    "min"
   ]
  },
  {
   "cell_type": "code",
   "execution_count": 48,
   "id": "eb4513f6-3be3-48ad-8abe-b2886d7386cf",
   "metadata": {},
   "outputs": [
    {
     "data": {
      "text/plain": [
       "8"
      ]
     },
     "execution_count": 48,
     "metadata": {},
     "output_type": "execute_result"
    }
   ],
   "source": [
    "max=np.max(num)\n",
    "max"
   ]
  },
  {
   "cell_type": "code",
   "execution_count": 52,
   "id": "c2a14eca-f8f9-4bca-a3cc-6f73d6c2d7f3",
   "metadata": {},
   "outputs": [
    {
     "data": {
      "text/plain": [
       "4.833333333333333"
      ]
     },
     "execution_count": 52,
     "metadata": {},
     "output_type": "execute_result"
    }
   ],
   "source": [
    "mean=np.mean(num)\n",
    "mean"
   ]
  },
  {
   "cell_type": "code",
   "execution_count": 54,
   "id": "76535c1c-05bd-4602-b283-452e80b407c6",
   "metadata": {},
   "outputs": [
    {
     "data": {
      "text/plain": [
       "5.0"
      ]
     },
     "execution_count": 54,
     "metadata": {},
     "output_type": "execute_result"
    }
   ],
   "source": [
    "median=np.median(num)\n",
    "median"
   ]
  },
  {
   "cell_type": "code",
   "execution_count": 68,
   "id": "c526d0b9-eab9-4c24-b0d6-2171da40c18d",
   "metadata": {},
   "outputs": [
    {
     "data": {
      "text/plain": [
       "ModeResult(mode=5, count=4)"
      ]
     },
     "execution_count": 68,
     "metadata": {},
     "output_type": "execute_result"
    }
   ],
   "source": [
    "mode = stats.mode(num, axis=None)\n",
    "mode"
   ]
  },
  {
   "cell_type": "code",
   "execution_count": 75,
   "id": "2dfecd25-6616-4946-90a3-00faea6d9169",
   "metadata": {},
   "outputs": [
    {
     "data": {
      "text/plain": [
       "1.9930434571835665"
      ]
     },
     "execution_count": 75,
     "metadata": {},
     "output_type": "execute_result"
    }
   ],
   "source": [
    "std=num.std()\n",
    "std"
   ]
  },
  {
   "cell_type": "code",
   "execution_count": 92,
   "id": "3e6ca0d3-a3a2-457d-af67-99cf77907f62",
   "metadata": {},
   "outputs": [
    {
     "data": {
      "text/plain": [
       "array([[ -3.15945134, -10.74213454,   0.63189027,   8.21457347],\n",
       "       [  8.21457347,  -6.95079294, -14.53347615,   0.63189027],\n",
       "       [  0.63189027,   0.63189027,   4.42323187,  12.00591508]])"
      ]
     },
     "execution_count": 92,
     "metadata": {},
     "output_type": "execute_result"
    }
   ],
   "source": [
    "standardization=(num -num.mean())/a.std()\n",
    "standardization"
   ]
  },
  {
   "cell_type": "code",
   "execution_count": 90,
   "id": "91febfd7-e1d1-4360-89c4-205530e1f63b",
   "metadata": {},
   "outputs": [
    {
     "data": {
      "text/plain": [
       "4.833333333333333"
      ]
     },
     "execution_count": 90,
     "metadata": {},
     "output_type": "execute_result"
    }
   ],
   "source": []
  },
  {
   "cell_type": "code",
   "execution_count": 96,
   "id": "1398d631-254f-4eef-b313-764458738499",
   "metadata": {},
   "outputs": [
    {
     "data": {
      "text/plain": [
       "array([[2.        , 1.41421356, 2.23606798, 2.64575131],\n",
       "       [2.64575131, 1.73205081, 1.        , 2.23606798],\n",
       "       [2.23606798, 2.23606798, 2.44948974, 2.82842712]])"
      ]
     },
     "execution_count": 96,
     "metadata": {},
     "output_type": "execute_result"
    }
   ],
   "source": [
    "sqrt_array= np.sqrt(num)\n",
    "sqrt_array"
   ]
  },
  {
   "cell_type": "markdown",
   "id": "5f8d4c87-7e22-40bd-93c4-38e35b3d7f7f",
   "metadata": {
    "jp-MarkdownHeadingCollapsed": true
   },
   "source": [
    "<h3>Statement 3</h3>"
   ]
  },
  {
   "cell_type": "markdown",
   "id": "a211d924-62eb-408b-ac94-6a673f7a4e91",
   "metadata": {},
   "source": [
    "Statement 3:\n",
    "Given a numphy array a and a scalar value b, perform the following operations:\n",
    "1. add the scalar value to all element of the array.\n",
    "2. subtract the scalar value from all elements of the array.\n",
    "3. Multiply all elements of the array by the scalar value.\n",
    "4. Divide all elements of the array by the scalar value.\n",
    "5. raise all elements of the array to the power of the scalar value."
   ]
  },
  {
   "cell_type": "code",
   "execution_count": 99,
   "id": "35220c33-a9c9-47cd-8989-a7f2cd87797b",
   "metadata": {},
   "outputs": [],
   "source": [
    "size=(3,4)\n",
    "a=np.random.randint(1,11,size)\n",
    "b=3"
   ]
  },
  {
   "cell_type": "code",
   "execution_count": 101,
   "id": "8734f2c4-c157-4257-85c7-0ddcb90c6343",
   "metadata": {},
   "outputs": [
    {
     "data": {
      "text/plain": [
       "array([[ 5,  7,  9,  4],\n",
       "       [ 8,  8,  9, 10],\n",
       "       [ 2,  2,  1,  1]])"
      ]
     },
     "execution_count": 101,
     "metadata": {},
     "output_type": "execute_result"
    }
   ],
   "source": [
    "a"
   ]
  },
  {
   "cell_type": "code",
   "execution_count": 103,
   "id": "7ede940d-48b3-4f1f-8378-bb91ccf971e1",
   "metadata": {},
   "outputs": [
    {
     "data": {
      "text/plain": [
       "3"
      ]
     },
     "execution_count": 103,
     "metadata": {},
     "output_type": "execute_result"
    }
   ],
   "source": [
    "b"
   ]
  },
  {
   "cell_type": "code",
   "execution_count": 105,
   "id": "41453ab3-b8ac-43b9-ba06-c7efbd460f43",
   "metadata": {},
   "outputs": [
    {
     "data": {
      "text/plain": [
       "array([[ 8, 10, 12,  7],\n",
       "       [11, 11, 12, 13],\n",
       "       [ 5,  5,  4,  4]])"
      ]
     },
     "execution_count": 105,
     "metadata": {},
     "output_type": "execute_result"
    }
   ],
   "source": [
    "addition=a+b\n",
    "addition"
   ]
  },
  {
   "cell_type": "code",
   "execution_count": 107,
   "id": "1a803d1f-1e2f-41e7-927f-c1763b7f9b84",
   "metadata": {},
   "outputs": [
    {
     "data": {
      "text/plain": [
       "array([[ 2,  4,  6,  1],\n",
       "       [ 5,  5,  6,  7],\n",
       "       [-1, -1, -2, -2]])"
      ]
     },
     "execution_count": 107,
     "metadata": {},
     "output_type": "execute_result"
    }
   ],
   "source": [
    "subtraction=a-b\n",
    "subtraction"
   ]
  },
  {
   "cell_type": "code",
   "execution_count": 109,
   "id": "0520adc0-f117-478f-8013-80858b387ca1",
   "metadata": {},
   "outputs": [
    {
     "data": {
      "text/plain": [
       "array([[15, 21, 27, 12],\n",
       "       [24, 24, 27, 30],\n",
       "       [ 6,  6,  3,  3]])"
      ]
     },
     "execution_count": 109,
     "metadata": {},
     "output_type": "execute_result"
    }
   ],
   "source": [
    "multiplication=a*b\n",
    "multiplication"
   ]
  },
  {
   "cell_type": "code",
   "execution_count": 111,
   "id": "e3d017ee-7d9c-4a26-8e94-06a2dbfe8557",
   "metadata": {},
   "outputs": [
    {
     "data": {
      "text/plain": [
       "array([[1.66666667, 2.33333333, 3.        , 1.33333333],\n",
       "       [2.66666667, 2.66666667, 3.        , 3.33333333],\n",
       "       [0.66666667, 0.66666667, 0.33333333, 0.33333333]])"
      ]
     },
     "execution_count": 111,
     "metadata": {},
     "output_type": "execute_result"
    }
   ],
   "source": [
    "division=a/b\n",
    "division"
   ]
  },
  {
   "cell_type": "code",
   "execution_count": 113,
   "id": "f7d342fb-3532-42fb-a5fa-e3c2589d372b",
   "metadata": {},
   "outputs": [
    {
     "data": {
      "text/plain": [
       "array([[ 125,  343,  729,   64],\n",
       "       [ 512,  512,  729, 1000],\n",
       "       [   8,    8,    1,    1]], dtype=int32)"
      ]
     },
     "execution_count": 113,
     "metadata": {},
     "output_type": "execute_result"
    }
   ],
   "source": [
    "power=np.power(a,b)\n",
    "power"
   ]
  },
  {
   "cell_type": "code",
   "execution_count": 118,
   "id": "cb4a1f32-54cc-4b7b-9d50-a932dec87ee2",
   "metadata": {},
   "outputs": [
    {
     "data": {
      "text/plain": [
       "array([[ 125,  343,  729,   64],\n",
       "       [ 512,  512,  729, 1000],\n",
       "       [   8,    8,    1,    1]], dtype=int32)"
      ]
     },
     "execution_count": 118,
     "metadata": {},
     "output_type": "execute_result"
    }
   ],
   "source": [
    "degree=a**b\n",
    "degree"
   ]
  },
  {
   "cell_type": "code",
   "execution_count": null,
   "id": "a2544546-66f4-4bb7-b526-4d716e542c79",
   "metadata": {},
   "outputs": [],
   "source": []
  }
 ],
 "metadata": {
  "kernelspec": {
   "display_name": "Python 3 (ipykernel)",
   "language": "python",
   "name": "python3"
  },
  "language_info": {
   "codemirror_mode": {
    "name": "ipython",
    "version": 3
   },
   "file_extension": ".py",
   "mimetype": "text/x-python",
   "name": "python",
   "nbconvert_exporter": "python",
   "pygments_lexer": "ipython3",
   "version": "3.12.4"
  }
 },
 "nbformat": 4,
 "nbformat_minor": 5
}
