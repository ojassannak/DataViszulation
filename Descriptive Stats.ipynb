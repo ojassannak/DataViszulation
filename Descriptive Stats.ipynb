{
 "cells": [
  {
   "cell_type": "code",
   "execution_count": 65,
   "id": "363fae2c-a83a-4fa2-91e7-7a5f236d730e",
   "metadata": {},
   "outputs": [],
   "source": [
    "import numpy as np\n",
    "import pandas as pd\n",
    "import matplotlib.pyplot as plt\n",
    "import seaborn as sns"
   ]
  },
  {
   "cell_type": "markdown",
   "id": "1e34a46a-f196-4faa-b3a3-e4145f740826",
   "metadata": {},
   "source": [
    "<h3>Measure of central tendency</h3>\n"
   ]
  },
  {
   "cell_type": "markdown",
   "id": "27904155-3271-4a63-ad2e-1cb3972cb706",
   "metadata": {
    "jp-MarkdownHeadingCollapsed": true
   },
   "source": [
    "<h4>Mean</h4>"
   ]
  },
  {
   "cell_type": "code",
   "execution_count": 9,
   "id": "db94ea16-b996-4ffc-abd5-1821c22bc7c9",
   "metadata": {},
   "outputs": [],
   "source": [
    "run =np.array([67,34,12,62,98,123,54,22,16,54,11,6,103])"
   ]
  },
  {
   "cell_type": "code",
   "execution_count": 11,
   "id": "e70ca4d3-9a23-49a8-ac69-6bfffe890bb0",
   "metadata": {},
   "outputs": [
    {
     "data": {
      "text/plain": [
       "50.92307692307692"
      ]
     },
     "execution_count": 11,
     "metadata": {},
     "output_type": "execute_result"
    }
   ],
   "source": [
    "run.mean()"
   ]
  },
  {
   "cell_type": "code",
   "execution_count": 15,
   "id": "9c0e271a-bf4c-4024-b4af-68db89b6ab51",
   "metadata": {},
   "outputs": [
    {
     "data": {
      "text/plain": [
       "50.92307692307692"
      ]
     },
     "execution_count": 15,
     "metadata": {},
     "output_type": "execute_result"
    }
   ],
   "source": [
    "np.mean(run)"
   ]
  },
  {
   "cell_type": "markdown",
   "id": "2f6dbef9-c43b-4c3f-b876-0f85f258335c",
   "metadata": {
    "jp-MarkdownHeadingCollapsed": true
   },
   "source": [
    "<h4>Median</h4>"
   ]
  },
  {
   "cell_type": "code",
   "execution_count": 29,
   "id": "691c609d-6408-423f-80f4-3ff1ede065d1",
   "metadata": {},
   "outputs": [],
   "source": [
    "iq=np.array([103,105,100,84,95,115,88,98,101,99,110])"
   ]
  },
  {
   "cell_type": "code",
   "execution_count": 31,
   "id": "e70b6cee-ec21-43c6-a2d0-8d9788a8eef5",
   "metadata": {},
   "outputs": [
    {
     "data": {
      "text/plain": [
       "100.0"
      ]
     },
     "execution_count": 31,
     "metadata": {},
     "output_type": "execute_result"
    }
   ],
   "source": [
    "np.median(iq)"
   ]
  },
  {
   "cell_type": "markdown",
   "id": "f83f09fd-fd8a-4576-bfd7-333773ea2531",
   "metadata": {
    "jp-MarkdownHeadingCollapsed": true
   },
   "source": [
    "<h4>Mode</h4>"
   ]
  },
  {
   "cell_type": "code",
   "execution_count": null,
   "id": "21613b23-9bfd-4acc-b5dd-8cd28e030be4",
   "metadata": {},
   "outputs": [],
   "source": []
  },
  {
   "cell_type": "code",
   "execution_count": 45,
   "id": "8693812e-f428-4854-8648-3d76cdabe28f",
   "metadata": {},
   "outputs": [],
   "source": [
    "from scipy.stats import mode"
   ]
  },
  {
   "cell_type": "code",
   "execution_count": 35,
   "id": "daaa9bc1-974b-4b55-8811-7fcbcbae6ddb",
   "metadata": {},
   "outputs": [],
   "source": [
    "cars=['R','W','W','Bk','W','R','G','W','W','Bl','Bk','W','R','W','Bk','G','Bl','W','R','R','Bl','W','W','Bk']"
   ]
  },
  {
   "cell_type": "code",
   "execution_count": 39,
   "id": "99fff77b-ebd3-4363-88ac-94999c269986",
   "metadata": {},
   "outputs": [],
   "source": [
    "cars=pd.Series(cars)"
   ]
  },
  {
   "cell_type": "code",
   "execution_count": 41,
   "id": "db707006-c8b1-437c-ab2a-e2c704dc56bf",
   "metadata": {},
   "outputs": [
    {
     "data": {
      "text/plain": [
       "0    W\n",
       "dtype: object"
      ]
     },
     "execution_count": 41,
     "metadata": {},
     "output_type": "execute_result"
    }
   ],
   "source": [
    "cars.mode()"
   ]
  },
  {
   "cell_type": "markdown",
   "id": "5d092790-2cf2-4cb5-8e2d-1710341e7146",
   "metadata": {
    "jp-MarkdownHeadingCollapsed": true
   },
   "source": [
    "<h4>Median,mode does not change with outliers</h4>"
   ]
  },
  {
   "cell_type": "code",
   "execution_count": 49,
   "id": "a809cf03-781c-4192-8899-cd3c968fa708",
   "metadata": {},
   "outputs": [],
   "source": [
    "run =np.array([67,34,12,62,98,123,54,22,16,54,11,6,103])"
   ]
  },
  {
   "cell_type": "code",
   "execution_count": 51,
   "id": "9865b9cf-e09f-472c-8822-1a143635fce5",
   "metadata": {},
   "outputs": [
    {
     "data": {
      "text/plain": [
       "54.0"
      ]
     },
     "execution_count": 51,
     "metadata": {},
     "output_type": "execute_result"
    }
   ],
   "source": [
    "np.median(run)"
   ]
  },
  {
   "cell_type": "code",
   "execution_count": 53,
   "id": "71ba3120-5f30-49de-9155-24609af65ba9",
   "metadata": {},
   "outputs": [],
   "source": [
    "run =np.array([67,34,12,62,98,123,54,22,16,54,11,6,103,222])"
   ]
  },
  {
   "cell_type": "code",
   "execution_count": 57,
   "id": "57a1d86c-6c5b-4163-be10-3371729cffb8",
   "metadata": {},
   "outputs": [
    {
     "data": {
      "text/plain": [
       "54.0"
      ]
     },
     "execution_count": 57,
     "metadata": {},
     "output_type": "execute_result"
    }
   ],
   "source": [
    "np.median(run)#median and mode does not change , mean does.!!!!!"
   ]
  },
  {
   "cell_type": "markdown",
   "id": "a8c006d2-bd5a-4795-9e8e-d25b1b2767c5",
   "metadata": {
    "jp-MarkdownHeadingCollapsed": true
   },
   "source": [
    "<h4>Mean Absolute Deviation</h4>"
   ]
  },
  {
   "cell_type": "code",
   "execution_count": 4,
   "id": "e312fc41-8ee3-4dd6-8290-5e1cd68668f1",
   "metadata": {},
   "outputs": [],
   "source": [
    "import numpy as np"
   ]
  },
  {
   "cell_type": "code",
   "execution_count": 36,
   "id": "441d1840-4f94-4c17-bf15-5ec8dfa244c8",
   "metadata": {},
   "outputs": [],
   "source": [
    "num=np.array([67,44,23,64,17,42,59,81,52])"
   ]
  },
  {
   "cell_type": "code",
   "execution_count": 16,
   "id": "99827f34-e603-4e28-9bac-c6485d2d2897",
   "metadata": {},
   "outputs": [],
   "source": [
    "mad = np.mean(np.abs(num - np.mean(num)))"
   ]
  },
  {
   "cell_type": "code",
   "execution_count": 18,
   "id": "b4c80fbd-7881-42ac-a08f-5892200236c3",
   "metadata": {},
   "outputs": [
    {
     "data": {
      "text/plain": [
       "16.34567901234568"
      ]
     },
     "execution_count": 18,
     "metadata": {},
     "output_type": "execute_result"
    }
   ],
   "source": [
    "mad"
   ]
  },
  {
   "cell_type": "markdown",
   "id": "1bfa835d-65c9-47f2-9e4a-042d0425dcbc",
   "metadata": {
    "jp-MarkdownHeadingCollapsed": true
   },
   "source": [
    "<h4>variance</h4>"
   ]
  },
  {
   "cell_type": "code",
   "execution_count": 50,
   "id": "b026c330-6fd4-4c78-8d0d-50df158ce1e8",
   "metadata": {},
   "outputs": [
    {
     "data": {
      "text/plain": [
       "383.2098765432099"
      ]
     },
     "execution_count": 50,
     "metadata": {},
     "output_type": "execute_result"
    }
   ],
   "source": [
    "var = np.mean(np.square(num - np.mean(num)))\n",
    "var"
   ]
  },
  {
   "cell_type": "markdown",
   "id": "768a3646-198a-42ae-979e-0d4d2a0971bb",
   "metadata": {
    "jp-MarkdownHeadingCollapsed": true
   },
   "source": [
    "<h4>standard deviation</h4>"
   ]
  },
  {
   "cell_type": "code",
   "execution_count": 55,
   "id": "96f4d1db-5c0c-42eb-afbd-ca4ebb14a233",
   "metadata": {},
   "outputs": [
    {
     "data": {
      "text/plain": [
       "19.57574715159577"
      ]
     },
     "execution_count": 55,
     "metadata": {},
     "output_type": "execute_result"
    }
   ],
   "source": [
    "num.std()"
   ]
  },
  {
   "cell_type": "markdown",
   "id": "4a034763-0350-4015-a21c-3b29ec854111",
   "metadata": {
    "jp-MarkdownHeadingCollapsed": true
   },
   "source": [
    "<h4>Range</h4>"
   ]
  },
  {
   "cell_type": "code",
   "execution_count": 58,
   "id": "83a5869e-315f-45c5-ab1e-0a8939edd696",
   "metadata": {},
   "outputs": [
    {
     "data": {
      "text/plain": [
       "64"
      ]
     },
     "execution_count": 58,
     "metadata": {},
     "output_type": "execute_result"
    }
   ],
   "source": [
    "num.max()-num.min()"
   ]
  },
  {
   "cell_type": "markdown",
   "id": "24055309-fbe8-4e86-9d8e-db283057e098",
   "metadata": {
    "jp-MarkdownHeadingCollapsed": true
   },
   "source": [
    "<h4>Symmetrical data</h4>"
   ]
  },
  {
   "cell_type": "code",
   "execution_count": 63,
   "id": "5ade2556-be2d-46ff-baab-e04b5725d5c6",
   "metadata": {},
   "outputs": [],
   "source": [
    "iq=np.array([85,90,90,95,95,95,100,100,100,100,105,105,105,110,110,115])"
   ]
  },
  {
   "cell_type": "code",
   "execution_count": 67,
   "id": "ee8792e9-b101-446d-9658-eda1b606066b",
   "metadata": {},
   "outputs": [
    {
     "data": {
      "image/png": "[encoded data removed]",
      "text/plain": [
       "<Figure size 640x480 with 1 Axes>"
      ]
     },
     "metadata": {},
     "output_type": "display_data"
    }
   ],
   "source": [
    "sns.kdeplot(iq);"
   ]
  },
  {
   "cell_type": "code",
   "execution_count": 69,
   "id": "19827ca4-7918-47dc-ad64-83d18a812243",
   "metadata": {},
   "outputs": [
    {
     "data": {
      "text/plain": [
       "100.0"
      ]
     },
     "execution_count": 69,
     "metadata": {},
     "output_type": "execute_result"
    }
   ],
   "source": [
    "iq.mean()"
   ]
  },
  {
   "cell_type": "code",
   "execution_count": 71,
   "id": "5142178e-0171-4493-baed-e05a26514508",
   "metadata": {},
   "outputs": [
    {
     "data": {
      "text/plain": [
       "100.0"
      ]
     },
     "execution_count": 71,
     "metadata": {},
     "output_type": "execute_result"
    }
   ],
   "source": [
    "np.median(iq)"
   ]
  },
  {
   "cell_type": "code",
   "execution_count": 77,
   "id": "12891dcc-3683-4d55-b624-8c82b275770a",
   "metadata": {},
   "outputs": [
    {
     "data": {
      "text/plain": [
       "0    100\n",
       "dtype: int32"
      ]
     },
     "execution_count": 77,
     "metadata": {},
     "output_type": "execute_result"
    }
   ],
   "source": [
    "iq1=pd.Series(iq)\n",
    "iq1.mode()"
   ]
  },
  {
   "cell_type": "markdown",
   "id": "bdce4c91-fc1a-43f2-b032-0f15c617da80",
   "metadata": {
    "jp-MarkdownHeadingCollapsed": true
   },
   "source": [
    "<h4>Skewness</h4>"
   ]
  },
  {
   "cell_type": "code",
   "execution_count": 87,
   "id": "35aab3ab-eace-4420-b409-35a519f25d07",
   "metadata": {},
   "outputs": [],
   "source": [
    "from scipy.stats import skew"
   ]
  },
  {
   "cell_type": "code",
   "execution_count": 89,
   "id": "07e6cbab-431d-4415-96b2-522b6a507f60",
   "metadata": {},
   "outputs": [
    {
     "data": {
      "text/plain": [
       "0.0"
      ]
     },
     "execution_count": 89,
     "metadata": {},
     "output_type": "execute_result"
    }
   ],
   "source": [
    "skew(iq)"
   ]
  },
  {
   "cell_type": "code",
   "execution_count": 99,
   "id": "ec83134d-966d-4739-85c9-a1a3df51b522",
   "metadata": {},
   "outputs": [],
   "source": [
    "Iq1=np.array([95,95,95,95,95,95,100,100,100,100,105,105,105,110,110,115])"
   ]
  },
  {
   "cell_type": "code",
   "execution_count": 101,
   "id": "1c04026e-ccb2-454a-8268-68f457c657a8",
   "metadata": {},
   "outputs": [
    {
     "data": {
      "text/plain": [
       "<Axes: ylabel='Density'>"
      ]
     },
     "execution_count": 101,
     "metadata": {},
     "output_type": "execute_result"
    },
    {
     "data": {
      "image/png": "[encoded data removed]",
      "text/plain": [
       "<Figure size 640x480 with 1 Axes>"
      ]
     },
     "metadata": {},
     "output_type": "display_data"
    }
   ],
   "source": [
    "sns.kdeplot(Iq1)"
   ]
  },
  {
   "cell_type": "code",
   "execution_count": 132,
   "id": "beadf126-7afa-4fd3-b657-2173e74efe0c",
   "metadata": {},
   "outputs": [],
   "source": [
    "iq2=np.array([85,90,90,95,95,95,100,100,100,100,105,105,105,105,105,105])"
   ]
  },
  {
   "cell_type": "code",
   "execution_count": 134,
   "id": "99b3850f-67ef-4255-8f77-04ab0f088e19",
   "metadata": {},
   "outputs": [
    {
     "data": {
      "text/plain": [
       "<Axes: ylabel='Density'>"
      ]
     },
     "execution_count": 134,
     "metadata": {},
     "output_type": "execute_result"
    },
    {
     "data": {
      "image/png": "[encoded data removed]",
      "text/plain": [
       "<Figure size 640x480 with 1 Axes>"
      ]
     },
     "metadata": {},
     "output_type": "display_data"
    }
   ],
   "source": [
    "sns.kdeplot(iq2)"
   ]
  },
  {
   "cell_type": "code",
   "execution_count": 136,
   "id": "691c40a3-84c1-42de-9c84-0eb24515764b",
   "metadata": {},
   "outputs": [
    {
     "data": {
      "text/plain": [
       "0.0"
      ]
     },
     "execution_count": 136,
     "metadata": {},
     "output_type": "execute_result"
    }
   ],
   "source": [
    "skew(iq1)"
   ]
  },
  {
   "cell_type": "code",
   "execution_count": 138,
   "id": "b609992c-d63d-4ecb-97b7-ab8dc08ccf98",
   "metadata": {},
   "outputs": [
    {
     "data": {
      "text/plain": [
       "-0.672"
      ]
     },
     "execution_count": 138,
     "metadata": {},
     "output_type": "execute_result"
    }
   ],
   "source": [
    "skew(iq2)"
   ]
  },
  {
   "cell_type": "code",
   "execution_count": 142,
   "id": "11e6f97a-7222-418d-894f-5eaa3872f595",
   "metadata": {},
   "outputs": [
    {
     "data": {
      "text/plain": [
       "100.0"
      ]
     },
     "execution_count": 142,
     "metadata": {},
     "output_type": "execute_result"
    }
   ],
   "source": [
    "np.median(iq2)"
   ]
  },
  {
   "cell_type": "markdown",
   "id": "66e2bceb-f4cf-4899-aed1-f6eb5745507a",
   "metadata": {
    "jp-MarkdownHeadingCollapsed": true
   },
   "source": [
    "<h4>Kurtosis</h4>"
   ]
  },
  {
   "cell_type": "code",
   "execution_count": 165,
   "id": "48ac21db-818e-4c59-8be6-bebc2de2659d",
   "metadata": {},
   "outputs": [],
   "source": [
    "Iq1=np.array([95,95,95,95,95,95,100,100,100,100,105,105,105,110,110,115])"
   ]
  },
  {
   "cell_type": "code",
   "execution_count": 167,
   "id": "32101d8d-5a24-4a26-a890-55cdb242c19e",
   "metadata": {},
   "outputs": [],
   "source": [
    "from scipy.stats import kurtosis"
   ]
  },
  {
   "cell_type": "code",
   "execution_count": 169,
   "id": "d8e990c7-e4da-4904-a8a2-dc38cec05919",
   "metadata": {},
   "outputs": [
    {
     "data": {
      "text/plain": [
       "-0.6800000000000002"
      ]
     },
     "execution_count": 169,
     "metadata": {},
     "output_type": "execute_result"
    }
   ],
   "source": [
    "kurtosis(iq)"
   ]
  },
  {
   "cell_type": "code",
   "execution_count": 171,
   "id": "4a107225-ae0f-4270-b422-6fc5477375f3",
   "metadata": {},
   "outputs": [],
   "source": [
    "Iqx=np.array([85,90,90,100,100,100,100,100,100,100,100,100,100,110,110,115])"
   ]
  },
  {
   "cell_type": "code",
   "execution_count": 173,
   "id": "a3b622ff-e044-4c67-87e1-55e57eeed113",
   "metadata": {},
   "outputs": [
    {
     "data": {
      "text/plain": [
       "0.12802768166089962"
      ]
     },
     "execution_count": 173,
     "metadata": {},
     "output_type": "execute_result"
    }
   ],
   "source": [
    "kurtosis(Iqx)"
   ]
  },
  {
   "cell_type": "code",
   "execution_count": 175,
   "id": "a5817734-0f14-4686-a909-472977f1431d",
   "metadata": {},
   "outputs": [],
   "source": [
    "Iqy=np.array([85,90,90,95,95,95,98,99,101,102,105,105,105,110,110,115])"
   ]
  },
  {
   "cell_type": "code",
   "execution_count": 177,
   "id": "0d73bb50-4182-406a-9f82-b8e4cb76c5b9",
   "metadata": {},
   "outputs": [
    {
     "data": {
      "text/plain": [
       "-0.7251798843250663"
      ]
     },
     "execution_count": 177,
     "metadata": {},
     "output_type": "execute_result"
    }
   ],
   "source": [
    "kurtosis(Iqy)"
   ]
  },
  {
   "cell_type": "code",
   "execution_count": 179,
   "id": "13abca81-6d4e-4486-8437-28a88ef57750",
   "metadata": {},
   "outputs": [
    {
     "data": {
      "text/plain": [
       "<Axes: ylabel='Density'>"
      ]
     },
     "execution_count": 179,
     "metadata": {},
     "output_type": "execute_result"
    },
    {
     "data": {
      "image/png": "[encoded data removed]",
      "text/plain": [
       "<Figure size 640x480 with 1 Axes>"
      ]
     },
     "metadata": {},
     "output_type": "display_data"
    }
   ],
   "source": [
    "sns.kdeplot(Iq1)\n",
    "sns.kdeplot(Iqx)\n",
    "sns.kdeplot(Iqy)"
   ]
  },
  {
   "cell_type": "code",
   "execution_count": null,
   "id": "9f04a745-b693-4328-a558-e166fb728017",
   "metadata": {},
   "outputs": [],
   "source": []
  }
 ],
 "metadata": {
  "kernelspec": {
   "display_name": "Python 3 (ipykernel)",
   "language": "python",
   "name": "python3"
  },
  "language_info": {
   "codemirror_mode": {
    "name": "ipython",
    "version": 3
   },
   "file_extension": ".py",
   "mimetype": "text/x-python",
   "name": "python",
   "nbconvert_exporter": "python",
   "pygments_lexer": "ipython3",
   "version": "3.12.4"
  }
 },
 "nbformat": 4,
 "nbformat_minor": 5
}
