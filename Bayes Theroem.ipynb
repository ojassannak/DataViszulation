{
 "cells": [
  {
   "cell_type": "code",
   "execution_count": 273,
   "id": "47678e00-53ae-4a86-b467-4dd4a4b3d366",
   "metadata": {},
   "outputs": [],
   "source": [
    "import numpy as np\n",
    "import pandas as pd\n",
    "import matplotlib.pyplot as plt\n",
    "import seaborn as sns"
   ]
  },
  {
   "cell_type": "code",
   "execution_count": 3,
   "id": "f7391451-7f14-42b1-8c8e-8885f8ee9989",
   "metadata": {},
   "outputs": [],
   "source": [
    "df=pd.read_csv('C:/Users/duasp/students/Social_Network_Ads.csv')"
   ]
  },
  {
   "cell_type": "code",
   "execution_count": 5,
   "id": "d30ae391-fe22-436a-8e40-0f89b90a7f2f",
   "metadata": {},
   "outputs": [
    {
     "data": {
      "text/html": [
       "<div>\n",
       "<style scoped>\n",
       "    .dataframe tbody tr th:only-of-type {\n",
       "        vertical-align: middle;\n",
       "    }\n",
       "\n",
       "    .dataframe tbody tr th {\n",
       "        vertical-align: top;\n",
       "    }\n",
       "\n",
       "    .dataframe thead th {\n",
       "        text-align: right;\n",
       "    }\n",
       "</style>\n",
       "<table border=\"1\" class=\"dataframe\">\n",
       "  <thead>\n",
       "    <tr style=\"text-align: right;\">\n",
       "      <th></th>\n",
       "      <th>User ID</th>\n",
       "      <th>Gender</th>\n",
       "      <th>Age</th>\n",
       "      <th>EstimatedSalary</th>\n",
       "      <th>Purchased</th>\n",
       "    </tr>\n",
       "  </thead>\n",
       "  <tbody>\n",
       "    <tr>\n",
       "      <th>0</th>\n",
       "      <td>15624510</td>\n",
       "      <td>Male</td>\n",
       "      <td>19.0</td>\n",
       "      <td>19000.0</td>\n",
       "      <td>0</td>\n",
       "    </tr>\n",
       "    <tr>\n",
       "      <th>1</th>\n",
       "      <td>15810944</td>\n",
       "      <td>Male</td>\n",
       "      <td>35.0</td>\n",
       "      <td>20000.0</td>\n",
       "      <td>0</td>\n",
       "    </tr>\n",
       "    <tr>\n",
       "      <th>2</th>\n",
       "      <td>15668575</td>\n",
       "      <td>Female</td>\n",
       "      <td>26.0</td>\n",
       "      <td>43000.0</td>\n",
       "      <td>0</td>\n",
       "    </tr>\n",
       "    <tr>\n",
       "      <th>3</th>\n",
       "      <td>15603246</td>\n",
       "      <td>Female</td>\n",
       "      <td>27.0</td>\n",
       "      <td>57000.0</td>\n",
       "      <td>0</td>\n",
       "    </tr>\n",
       "    <tr>\n",
       "      <th>4</th>\n",
       "      <td>15804002</td>\n",
       "      <td>Male</td>\n",
       "      <td>19.0</td>\n",
       "      <td>76000.0</td>\n",
       "      <td>0</td>\n",
       "    </tr>\n",
       "    <tr>\n",
       "      <th>...</th>\n",
       "      <td>...</td>\n",
       "      <td>...</td>\n",
       "      <td>...</td>\n",
       "      <td>...</td>\n",
       "      <td>...</td>\n",
       "    </tr>\n",
       "    <tr>\n",
       "      <th>395</th>\n",
       "      <td>15691863</td>\n",
       "      <td>Female</td>\n",
       "      <td>46.0</td>\n",
       "      <td>41000.0</td>\n",
       "      <td>1</td>\n",
       "    </tr>\n",
       "    <tr>\n",
       "      <th>396</th>\n",
       "      <td>15706071</td>\n",
       "      <td>Male</td>\n",
       "      <td>51.0</td>\n",
       "      <td>23000.0</td>\n",
       "      <td>1</td>\n",
       "    </tr>\n",
       "    <tr>\n",
       "      <th>397</th>\n",
       "      <td>15654296</td>\n",
       "      <td>Female</td>\n",
       "      <td>50.0</td>\n",
       "      <td>20000.0</td>\n",
       "      <td>1</td>\n",
       "    </tr>\n",
       "    <tr>\n",
       "      <th>398</th>\n",
       "      <td>15755018</td>\n",
       "      <td>Male</td>\n",
       "      <td>36.0</td>\n",
       "      <td>33000.0</td>\n",
       "      <td>0</td>\n",
       "    </tr>\n",
       "    <tr>\n",
       "      <th>399</th>\n",
       "      <td>15594041</td>\n",
       "      <td>Female</td>\n",
       "      <td>49.0</td>\n",
       "      <td>36000.0</td>\n",
       "      <td>1</td>\n",
       "    </tr>\n",
       "  </tbody>\n",
       "</table>\n",
       "<p>400 rows × 5 columns</p>\n",
       "</div>"
      ],
      "text/plain": [
       "      User ID  Gender   Age  EstimatedSalary  Purchased\n",
       "0    15624510    Male  19.0          19000.0          0\n",
       "1    15810944    Male  35.0          20000.0          0\n",
       "2    15668575  Female  26.0          43000.0          0\n",
       "3    15603246  Female  27.0          57000.0          0\n",
       "4    15804002    Male  19.0          76000.0          0\n",
       "..        ...     ...   ...              ...        ...\n",
       "395  15691863  Female  46.0          41000.0          1\n",
       "396  15706071    Male  51.0          23000.0          1\n",
       "397  15654296  Female  50.0          20000.0          1\n",
       "398  15755018    Male  36.0          33000.0          0\n",
       "399  15594041  Female  49.0          36000.0          1\n",
       "\n",
       "[400 rows x 5 columns]"
      ]
     },
     "execution_count": 5,
     "metadata": {},
     "output_type": "execute_result"
    }
   ],
   "source": [
    "df"
   ]
  },
  {
   "cell_type": "code",
   "execution_count": 7,
   "id": "ffb89c8c-a085-430e-801f-96feb1e3133f",
   "metadata": {},
   "outputs": [],
   "source": [
    "#seprating the features and labels\n",
    "x=df[['Age','EstimatedSalary']]\n",
    "y=df['Purchased']"
   ]
  },
  {
   "cell_type": "code",
   "execution_count": 9,
   "id": "09e8b7a5-266d-4cd6-8bd2-73f9e4f80c3a",
   "metadata": {},
   "outputs": [],
   "source": [
    "from sklearn.naive_bayes import GaussianNB"
   ]
  },
  {
   "cell_type": "code",
   "execution_count": 11,
   "id": "778363e6-7a38-43b0-9d31-604886778c14",
   "metadata": {},
   "outputs": [],
   "source": [
    "#create the class\n",
    "nb=GaussianNB()"
   ]
  },
  {
   "cell_type": "code",
   "execution_count": 13,
   "id": "0213715b-ca66-410e-b0b5-469fc1061680",
   "metadata": {},
   "outputs": [
    {
     "data": {
      "text/html": [
       "<style>#sk-container-id-1 {\n",
       "  /* Definition of color scheme common for light and dark mode */\n",
       "  --sklearn-color-text: black;\n",
       "  --sklearn-color-line: gray;\n",
       "  /* Definition of color scheme for unfitted estimators */\n",
       "  --sklearn-color-unfitted-level-0: #fff5e6;\n",
       "  --sklearn-color-unfitted-level-1: #f6e4d2;\n",
       "  --sklearn-color-unfitted-level-2: #ffe0b3;\n",
       "  --sklearn-color-unfitted-level-3: chocolate;\n",
       "  /* Definition of color scheme for fitted estimators */\n",
       "  --sklearn-color-fitted-level-0: #f0f8ff;\n",
       "  --sklearn-color-fitted-level-1: #d4ebff;\n",
       "  --sklearn-color-fitted-level-2: #b3dbfd;\n",
       "  --sklearn-color-fitted-level-3: cornflowerblue;\n",
       "\n",
       "  /* Specific color for light theme */\n",
       "  --sklearn-color-text-on-default-background: var(--sg-text-color, var(--theme-code-foreground, var(--jp-content-font-color1, black)));\n",
       "  --sklearn-color-background: var(--sg-background-color, var(--theme-background, var(--jp-layout-color0, white)));\n",
       "  --sklearn-color-border-box: var(--sg-text-color, var(--theme-code-foreground, var(--jp-content-font-color1, black)));\n",
       "  --sklearn-color-icon: #696969;\n",
       "\n",
       "  @media (prefers-color-scheme: dark) {\n",
       "    /* Redefinition of color scheme for dark theme */\n",
       "    --sklearn-color-text-on-default-background: var(--sg-text-color, var(--theme-code-foreground, var(--jp-content-font-color1, white)));\n",
       "    --sklearn-color-background: var(--sg-background-color, var(--theme-background, var(--jp-layout-color0, #111)));\n",
       "    --sklearn-color-border-box: var(--sg-text-color, var(--theme-code-foreground, var(--jp-content-font-color1, white)));\n",
       "    --sklearn-color-icon: #878787;\n",
       "  }\n",
       "}\n",
       "\n",
       "#sk-container-id-1 {\n",
       "  color: var(--sklearn-color-text);\n",
       "}\n",
       "\n",
       "#sk-container-id-1 pre {\n",
       "  padding: 0;\n",
       "}\n",
       "\n",
       "#sk-container-id-1 input.sk-hidden--visually {\n",
       "  border: 0;\n",
       "  clip: rect(1px 1px 1px 1px);\n",
       "  clip: rect(1px, 1px, 1px, 1px);\n",
       "  height: 1px;\n",
       "  margin: -1px;\n",
       "  overflow: hidden;\n",
       "  padding: 0;\n",
       "  position: absolute;\n",
       "  width: 1px;\n",
       "}\n",
       "\n",
       "#sk-container-id-1 div.sk-dashed-wrapped {\n",
       "  border: 1px dashed var(--sklearn-color-line);\n",
       "  margin: 0 0.4em 0.5em 0.4em;\n",
       "  box-sizing: border-box;\n",
       "  padding-bottom: 0.4em;\n",
       "  background-color: var(--sklearn-color-background);\n",
       "}\n",
       "\n",
       "#sk-container-id-1 div.sk-container {\n",
       "  /* jupyter's `normalize.less` sets `[hidden] { display: none; }`\n",
       "     but bootstrap.min.css set `[hidden] { display: none !important; }`\n",
       "     so we also need the `!important` here to be able to override the\n",
       "     default hidden behavior on the sphinx rendered scikit-learn.org.\n",
       "     See: https://github.com/scikit-learn/scikit-learn/issues/21755 */\n",
       "  display: inline-block !important;\n",
       "  position: relative;\n",
       "}\n",
       "\n",
       "#sk-container-id-1 div.sk-text-repr-fallback {\n",
       "  display: none;\n",
       "}\n",
       "\n",
       "div.sk-parallel-item,\n",
       "div.sk-serial,\n",
       "div.sk-item {\n",
       "  /* draw centered vertical line to link estimators */\n",
       "  background-image: linear-gradient(var(--sklearn-color-text-on-default-background), var(--sklearn-color-text-on-default-background));\n",
       "  background-size: 2px 100%;\n",
       "  background-repeat: no-repeat;\n",
       "  background-position: center center;\n",
       "}\n",
       "\n",
       "/* Parallel-specific style estimator block */\n",
       "\n",
       "#sk-container-id-1 div.sk-parallel-item::after {\n",
       "  content: \"\";\n",
       "  width: 100%;\n",
       "  border-bottom: 2px solid var(--sklearn-color-text-on-default-background);\n",
       "  flex-grow: 1;\n",
       "}\n",
       "\n",
       "#sk-container-id-1 div.sk-parallel {\n",
       "  display: flex;\n",
       "  align-items: stretch;\n",
       "  justify-content: center;\n",
       "  background-color: var(--sklearn-color-background);\n",
       "  position: relative;\n",
       "}\n",
       "\n",
       "#sk-container-id-1 div.sk-parallel-item {\n",
       "  display: flex;\n",
       "  flex-direction: column;\n",
       "}\n",
       "\n",
       "#sk-container-id-1 div.sk-parallel-item:first-child::after {\n",
       "  align-self: flex-end;\n",
       "  width: 50%;\n",
       "}\n",
       "\n",
       "#sk-container-id-1 div.sk-parallel-item:last-child::after {\n",
       "  align-self: flex-start;\n",
       "  width: 50%;\n",
       "}\n",
       "\n",
       "#sk-container-id-1 div.sk-parallel-item:only-child::after {\n",
       "  width: 0;\n",
       "}\n",
       "\n",
       "/* Serial-specific style estimator block */\n",
       "\n",
       "#sk-container-id-1 div.sk-serial {\n",
       "  display: flex;\n",
       "  flex-direction: column;\n",
       "  align-items: center;\n",
       "  background-color: var(--sklearn-color-background);\n",
       "  padding-right: 1em;\n",
       "  padding-left: 1em;\n",
       "}\n",
       "\n",
       "\n",
       "/* Toggleable style: style used for estimator/Pipeline/ColumnTransformer box that is\n",
       "clickable and can be expanded/collapsed.\n",
       "- Pipeline and ColumnTransformer use this feature and define the default style\n",
       "- Estimators will overwrite some part of the style using the `sk-estimator` class\n",
       "*/\n",
       "\n",
       "/* Pipeline and ColumnTransformer style (default) */\n",
       "\n",
       "#sk-container-id-1 div.sk-toggleable {\n",
       "  /* Default theme specific background. It is overwritten whether we have a\n",
       "  specific estimator or a Pipeline/ColumnTransformer */\n",
       "  background-color: var(--sklearn-color-background);\n",
       "}\n",
       "\n",
       "/* Toggleable label */\n",
       "#sk-container-id-1 label.sk-toggleable__label {\n",
       "  cursor: pointer;\n",
       "  display: block;\n",
       "  width: 100%;\n",
       "  margin-bottom: 0;\n",
       "  padding: 0.5em;\n",
       "  box-sizing: border-box;\n",
       "  text-align: center;\n",
       "}\n",
       "\n",
       "#sk-container-id-1 label.sk-toggleable__label-arrow:before {\n",
       "  /* Arrow on the left of the label */\n",
       "  content: \"▸\";\n",
       "  float: left;\n",
       "  margin-right: 0.25em;\n",
       "  color: var(--sklearn-color-icon);\n",
       "}\n",
       "\n",
       "#sk-container-id-1 label.sk-toggleable__label-arrow:hover:before {\n",
       "  color: var(--sklearn-color-text);\n",
       "}\n",
       "\n",
       "/* Toggleable content - dropdown */\n",
       "\n",
       "#sk-container-id-1 div.sk-toggleable__content {\n",
       "  max-height: 0;\n",
       "  max-width: 0;\n",
       "  overflow: hidden;\n",
       "  text-align: left;\n",
       "  /* unfitted */\n",
       "  background-color: var(--sklearn-color-unfitted-level-0);\n",
       "}\n",
       "\n",
       "#sk-container-id-1 div.sk-toggleable__content.fitted {\n",
       "  /* fitted */\n",
       "  background-color: var(--sklearn-color-fitted-level-0);\n",
       "}\n",
       "\n",
       "#sk-container-id-1 div.sk-toggleable__content pre {\n",
       "  margin: 0.2em;\n",
       "  border-radius: 0.25em;\n",
       "  color: var(--sklearn-color-text);\n",
       "  /* unfitted */\n",
       "  background-color: var(--sklearn-color-unfitted-level-0);\n",
       "}\n",
       "\n",
       "#sk-container-id-1 div.sk-toggleable__content.fitted pre {\n",
       "  /* unfitted */\n",
       "  background-color: var(--sklearn-color-fitted-level-0);\n",
       "}\n",
       "\n",
       "#sk-container-id-1 input.sk-toggleable__control:checked~div.sk-toggleable__content {\n",
       "  /* Expand drop-down */\n",
       "  max-height: 200px;\n",
       "  max-width: 100%;\n",
       "  overflow: auto;\n",
       "}\n",
       "\n",
       "#sk-container-id-1 input.sk-toggleable__control:checked~label.sk-toggleable__label-arrow:before {\n",
       "  content: \"▾\";\n",
       "}\n",
       "\n",
       "/* Pipeline/ColumnTransformer-specific style */\n",
       "\n",
       "#sk-container-id-1 div.sk-label input.sk-toggleable__control:checked~label.sk-toggleable__label {\n",
       "  color: var(--sklearn-color-text);\n",
       "  background-color: var(--sklearn-color-unfitted-level-2);\n",
       "}\n",
       "\n",
       "#sk-container-id-1 div.sk-label.fitted input.sk-toggleable__control:checked~label.sk-toggleable__label {\n",
       "  background-color: var(--sklearn-color-fitted-level-2);\n",
       "}\n",
       "\n",
       "/* Estimator-specific style */\n",
       "\n",
       "/* Colorize estimator box */\n",
       "#sk-container-id-1 div.sk-estimator input.sk-toggleable__control:checked~label.sk-toggleable__label {\n",
       "  /* unfitted */\n",
       "  background-color: var(--sklearn-color-unfitted-level-2);\n",
       "}\n",
       "\n",
       "#sk-container-id-1 div.sk-estimator.fitted input.sk-toggleable__control:checked~label.sk-toggleable__label {\n",
       "  /* fitted */\n",
       "  background-color: var(--sklearn-color-fitted-level-2);\n",
       "}\n",
       "\n",
       "#sk-container-id-1 div.sk-label label.sk-toggleable__label,\n",
       "#sk-container-id-1 div.sk-label label {\n",
       "  /* The background is the default theme color */\n",
       "  color: var(--sklearn-color-text-on-default-background);\n",
       "}\n",
       "\n",
       "/* On hover, darken the color of the background */\n",
       "#sk-container-id-1 div.sk-label:hover label.sk-toggleable__label {\n",
       "  color: var(--sklearn-color-text);\n",
       "  background-color: var(--sklearn-color-unfitted-level-2);\n",
       "}\n",
       "\n",
       "/* Label box, darken color on hover, fitted */\n",
       "#sk-container-id-1 div.sk-label.fitted:hover label.sk-toggleable__label.fitted {\n",
       "  color: var(--sklearn-color-text);\n",
       "  background-color: var(--sklearn-color-fitted-level-2);\n",
       "}\n",
       "\n",
       "/* Estimator label */\n",
       "\n",
       "#sk-container-id-1 div.sk-label label {\n",
       "  font-family: monospace;\n",
       "  font-weight: bold;\n",
       "  display: inline-block;\n",
       "  line-height: 1.2em;\n",
       "}\n",
       "\n",
       "#sk-container-id-1 div.sk-label-container {\n",
       "  text-align: center;\n",
       "}\n",
       "\n",
       "/* Estimator-specific */\n",
       "#sk-container-id-1 div.sk-estimator {\n",
       "  font-family: monospace;\n",
       "  border: 1px dotted var(--sklearn-color-border-box);\n",
       "  border-radius: 0.25em;\n",
       "  box-sizing: border-box;\n",
       "  margin-bottom: 0.5em;\n",
       "  /* unfitted */\n",
       "  background-color: var(--sklearn-color-unfitted-level-0);\n",
       "}\n",
       "\n",
       "#sk-container-id-1 div.sk-estimator.fitted {\n",
       "  /* fitted */\n",
       "  background-color: var(--sklearn-color-fitted-level-0);\n",
       "}\n",
       "\n",
       "/* on hover */\n",
       "#sk-container-id-1 div.sk-estimator:hover {\n",
       "  /* unfitted */\n",
       "  background-color: var(--sklearn-color-unfitted-level-2);\n",
       "}\n",
       "\n",
       "#sk-container-id-1 div.sk-estimator.fitted:hover {\n",
       "  /* fitted */\n",
       "  background-color: var(--sklearn-color-fitted-level-2);\n",
       "}\n",
       "\n",
       "/* Specification for estimator info (e.g. \"i\" and \"?\") */\n",
       "\n",
       "/* Common style for \"i\" and \"?\" */\n",
       "\n",
       ".sk-estimator-doc-link,\n",
       "a:link.sk-estimator-doc-link,\n",
       "a:visited.sk-estimator-doc-link {\n",
       "  float: right;\n",
       "  font-size: smaller;\n",
       "  line-height: 1em;\n",
       "  font-family: monospace;\n",
       "  background-color: var(--sklearn-color-background);\n",
       "  border-radius: 1em;\n",
       "  height: 1em;\n",
       "  width: 1em;\n",
       "  text-decoration: none !important;\n",
       "  margin-left: 1ex;\n",
       "  /* unfitted */\n",
       "  border: var(--sklearn-color-unfitted-level-1) 1pt solid;\n",
       "  color: var(--sklearn-color-unfitted-level-1);\n",
       "}\n",
       "\n",
       ".sk-estimator-doc-link.fitted,\n",
       "a:link.sk-estimator-doc-link.fitted,\n",
       "a:visited.sk-estimator-doc-link.fitted {\n",
       "  /* fitted */\n",
       "  border: var(--sklearn-color-fitted-level-1) 1pt solid;\n",
       "  color: var(--sklearn-color-fitted-level-1);\n",
       "}\n",
       "\n",
       "/* On hover */\n",
       "div.sk-estimator:hover .sk-estimator-doc-link:hover,\n",
       ".sk-estimator-doc-link:hover,\n",
       "div.sk-label-container:hover .sk-estimator-doc-link:hover,\n",
       ".sk-estimator-doc-link:hover {\n",
       "  /* unfitted */\n",
       "  background-color: var(--sklearn-color-unfitted-level-3);\n",
       "  color: var(--sklearn-color-background);\n",
       "  text-decoration: none;\n",
       "}\n",
       "\n",
       "div.sk-estimator.fitted:hover .sk-estimator-doc-link.fitted:hover,\n",
       ".sk-estimator-doc-link.fitted:hover,\n",
       "div.sk-label-container:hover .sk-estimator-doc-link.fitted:hover,\n",
       ".sk-estimator-doc-link.fitted:hover {\n",
       "  /* fitted */\n",
       "  background-color: var(--sklearn-color-fitted-level-3);\n",
       "  color: var(--sklearn-color-background);\n",
       "  text-decoration: none;\n",
       "}\n",
       "\n",
       "/* Span, style for the box shown on hovering the info icon */\n",
       ".sk-estimator-doc-link span {\n",
       "  display: none;\n",
       "  z-index: 9999;\n",
       "  position: relative;\n",
       "  font-weight: normal;\n",
       "  right: .2ex;\n",
       "  padding: .5ex;\n",
       "  margin: .5ex;\n",
       "  width: min-content;\n",
       "  min-width: 20ex;\n",
       "  max-width: 50ex;\n",
       "  color: var(--sklearn-color-text);\n",
       "  box-shadow: 2pt 2pt 4pt #999;\n",
       "  /* unfitted */\n",
       "  background: var(--sklearn-color-unfitted-level-0);\n",
       "  border: .5pt solid var(--sklearn-color-unfitted-level-3);\n",
       "}\n",
       "\n",
       ".sk-estimator-doc-link.fitted span {\n",
       "  /* fitted */\n",
       "  background: var(--sklearn-color-fitted-level-0);\n",
       "  border: var(--sklearn-color-fitted-level-3);\n",
       "}\n",
       "\n",
       ".sk-estimator-doc-link:hover span {\n",
       "  display: block;\n",
       "}\n",
       "\n",
       "/* \"?\"-specific style due to the `<a>` HTML tag */\n",
       "\n",
       "#sk-container-id-1 a.estimator_doc_link {\n",
       "  float: right;\n",
       "  font-size: 1rem;\n",
       "  line-height: 1em;\n",
       "  font-family: monospace;\n",
       "  background-color: var(--sklearn-color-background);\n",
       "  border-radius: 1rem;\n",
       "  height: 1rem;\n",
       "  width: 1rem;\n",
       "  text-decoration: none;\n",
       "  /* unfitted */\n",
       "  color: var(--sklearn-color-unfitted-level-1);\n",
       "  border: var(--sklearn-color-unfitted-level-1) 1pt solid;\n",
       "}\n",
       "\n",
       "#sk-container-id-1 a.estimator_doc_link.fitted {\n",
       "  /* fitted */\n",
       "  border: var(--sklearn-color-fitted-level-1) 1pt solid;\n",
       "  color: var(--sklearn-color-fitted-level-1);\n",
       "}\n",
       "\n",
       "/* On hover */\n",
       "#sk-container-id-1 a.estimator_doc_link:hover {\n",
       "  /* unfitted */\n",
       "  background-color: var(--sklearn-color-unfitted-level-3);\n",
       "  color: var(--sklearn-color-background);\n",
       "  text-decoration: none;\n",
       "}\n",
       "\n",
       "#sk-container-id-1 a.estimator_doc_link.fitted:hover {\n",
       "  /* fitted */\n",
       "  background-color: var(--sklearn-color-fitted-level-3);\n",
       "}\n",
       "</style><div id=\"sk-container-id-1\" class=\"sk-top-container\"><div class=\"sk-text-repr-fallback\"><pre>GaussianNB()</pre><b>In a Jupyter environment, please rerun this cell to show the HTML representation or trust the notebook. <br />On GitHub, the HTML representation is unable to render, please try loading this page with nbviewer.org.</b></div><div class=\"sk-container\" hidden><div class=\"sk-item\"><div class=\"sk-estimator fitted sk-toggleable\"><input class=\"sk-toggleable__control sk-hidden--visually\" id=\"sk-estimator-id-1\" type=\"checkbox\" checked><label for=\"sk-estimator-id-1\" class=\"sk-toggleable__label fitted sk-toggleable__label-arrow fitted\">&nbsp;&nbsp;GaussianNB<a class=\"sk-estimator-doc-link fitted\" rel=\"noreferrer\" target=\"_blank\" href=\"https://scikit-learn.org/1.4/modules/generated/sklearn.naive_bayes.GaussianNB.html\">?<span>Documentation for GaussianNB</span></a><span class=\"sk-estimator-doc-link fitted\">i<span>Fitted</span></span></label><div class=\"sk-toggleable__content fitted\"><pre>GaussianNB()</pre></div> </div></div></div></div>"
      ],
      "text/plain": [
       "GaussianNB()"
      ]
     },
     "execution_count": 13,
     "metadata": {},
     "output_type": "execute_result"
    }
   ],
   "source": [
    "#apply the data/train the algo\n",
    "nb.fit(x,y)"
   ]
  },
  {
   "cell_type": "code",
   "execution_count": 15,
   "id": "96819559-a640-41b4-92f9-3ccae7c6ef1e",
   "metadata": {},
   "outputs": [
    {
     "data": {
      "text/html": [
       "<style>#sk-container-id-2 {\n",
       "  /* Definition of color scheme common for light and dark mode */\n",
       "  --sklearn-color-text: black;\n",
       "  --sklearn-color-line: gray;\n",
       "  /* Definition of color scheme for unfitted estimators */\n",
       "  --sklearn-color-unfitted-level-0: #fff5e6;\n",
       "  --sklearn-color-unfitted-level-1: #f6e4d2;\n",
       "  --sklearn-color-unfitted-level-2: #ffe0b3;\n",
       "  --sklearn-color-unfitted-level-3: chocolate;\n",
       "  /* Definition of color scheme for fitted estimators */\n",
       "  --sklearn-color-fitted-level-0: #f0f8ff;\n",
       "  --sklearn-color-fitted-level-1: #d4ebff;\n",
       "  --sklearn-color-fitted-level-2: #b3dbfd;\n",
       "  --sklearn-color-fitted-level-3: cornflowerblue;\n",
       "\n",
       "  /* Specific color for light theme */\n",
       "  --sklearn-color-text-on-default-background: var(--sg-text-color, var(--theme-code-foreground, var(--jp-content-font-color1, black)));\n",
       "  --sklearn-color-background: var(--sg-background-color, var(--theme-background, var(--jp-layout-color0, white)));\n",
       "  --sklearn-color-border-box: var(--sg-text-color, var(--theme-code-foreground, var(--jp-content-font-color1, black)));\n",
       "  --sklearn-color-icon: #696969;\n",
       "\n",
       "  @media (prefers-color-scheme: dark) {\n",
       "    /* Redefinition of color scheme for dark theme */\n",
       "    --sklearn-color-text-on-default-background: var(--sg-text-color, var(--theme-code-foreground, var(--jp-content-font-color1, white)));\n",
       "    --sklearn-color-background: var(--sg-background-color, var(--theme-background, var(--jp-layout-color0, #111)));\n",
       "    --sklearn-color-border-box: var(--sg-text-color, var(--theme-code-foreground, var(--jp-content-font-color1, white)));\n",
       "    --sklearn-color-icon: #878787;\n",
       "  }\n",
       "}\n",
       "\n",
       "#sk-container-id-2 {\n",
       "  color: var(--sklearn-color-text);\n",
       "}\n",
       "\n",
       "#sk-container-id-2 pre {\n",
       "  padding: 0;\n",
       "}\n",
       "\n",
       "#sk-container-id-2 input.sk-hidden--visually {\n",
       "  border: 0;\n",
       "  clip: rect(1px 1px 1px 1px);\n",
       "  clip: rect(1px, 1px, 1px, 1px);\n",
       "  height: 1px;\n",
       "  margin: -1px;\n",
       "  overflow: hidden;\n",
       "  padding: 0;\n",
       "  position: absolute;\n",
       "  width: 1px;\n",
       "}\n",
       "\n",
       "#sk-container-id-2 div.sk-dashed-wrapped {\n",
       "  border: 1px dashed var(--sklearn-color-line);\n",
       "  margin: 0 0.4em 0.5em 0.4em;\n",
       "  box-sizing: border-box;\n",
       "  padding-bottom: 0.4em;\n",
       "  background-color: var(--sklearn-color-background);\n",
       "}\n",
       "\n",
       "#sk-container-id-2 div.sk-container {\n",
       "  /* jupyter's `normalize.less` sets `[hidden] { display: none; }`\n",
       "     but bootstrap.min.css set `[hidden] { display: none !important; }`\n",
       "     so we also need the `!important` here to be able to override the\n",
       "     default hidden behavior on the sphinx rendered scikit-learn.org.\n",
       "     See: https://github.com/scikit-learn/scikit-learn/issues/21755 */\n",
       "  display: inline-block !important;\n",
       "  position: relative;\n",
       "}\n",
       "\n",
       "#sk-container-id-2 div.sk-text-repr-fallback {\n",
       "  display: none;\n",
       "}\n",
       "\n",
       "div.sk-parallel-item,\n",
       "div.sk-serial,\n",
       "div.sk-item {\n",
       "  /* draw centered vertical line to link estimators */\n",
       "  background-image: linear-gradient(var(--sklearn-color-text-on-default-background), var(--sklearn-color-text-on-default-background));\n",
       "  background-size: 2px 100%;\n",
       "  background-repeat: no-repeat;\n",
       "  background-position: center center;\n",
       "}\n",
       "\n",
       "/* Parallel-specific style estimator block */\n",
       "\n",
       "#sk-container-id-2 div.sk-parallel-item::after {\n",
       "  content: \"\";\n",
       "  width: 100%;\n",
       "  border-bottom: 2px solid var(--sklearn-color-text-on-default-background);\n",
       "  flex-grow: 1;\n",
       "}\n",
       "\n",
       "#sk-container-id-2 div.sk-parallel {\n",
       "  display: flex;\n",
       "  align-items: stretch;\n",
       "  justify-content: center;\n",
       "  background-color: var(--sklearn-color-background);\n",
       "  position: relative;\n",
       "}\n",
       "\n",
       "#sk-container-id-2 div.sk-parallel-item {\n",
       "  display: flex;\n",
       "  flex-direction: column;\n",
       "}\n",
       "\n",
       "#sk-container-id-2 div.sk-parallel-item:first-child::after {\n",
       "  align-self: flex-end;\n",
       "  width: 50%;\n",
       "}\n",
       "\n",
       "#sk-container-id-2 div.sk-parallel-item:last-child::after {\n",
       "  align-self: flex-start;\n",
       "  width: 50%;\n",
       "}\n",
       "\n",
       "#sk-container-id-2 div.sk-parallel-item:only-child::after {\n",
       "  width: 0;\n",
       "}\n",
       "\n",
       "/* Serial-specific style estimator block */\n",
       "\n",
       "#sk-container-id-2 div.sk-serial {\n",
       "  display: flex;\n",
       "  flex-direction: column;\n",
       "  align-items: center;\n",
       "  background-color: var(--sklearn-color-background);\n",
       "  padding-right: 1em;\n",
       "  padding-left: 1em;\n",
       "}\n",
       "\n",
       "\n",
       "/* Toggleable style: style used for estimator/Pipeline/ColumnTransformer box that is\n",
       "clickable and can be expanded/collapsed.\n",
       "- Pipeline and ColumnTransformer use this feature and define the default style\n",
       "- Estimators will overwrite some part of the style using the `sk-estimator` class\n",
       "*/\n",
       "\n",
       "/* Pipeline and ColumnTransformer style (default) */\n",
       "\n",
       "#sk-container-id-2 div.sk-toggleable {\n",
       "  /* Default theme specific background. It is overwritten whether we have a\n",
       "  specific estimator or a Pipeline/ColumnTransformer */\n",
       "  background-color: var(--sklearn-color-background);\n",
       "}\n",
       "\n",
       "/* Toggleable label */\n",
       "#sk-container-id-2 label.sk-toggleable__label {\n",
       "  cursor: pointer;\n",
       "  display: block;\n",
       "  width: 100%;\n",
       "  margin-bottom: 0;\n",
       "  padding: 0.5em;\n",
       "  box-sizing: border-box;\n",
       "  text-align: center;\n",
       "}\n",
       "\n",
       "#sk-container-id-2 label.sk-toggleable__label-arrow:before {\n",
       "  /* Arrow on the left of the label */\n",
       "  content: \"▸\";\n",
       "  float: left;\n",
       "  margin-right: 0.25em;\n",
       "  color: var(--sklearn-color-icon);\n",
       "}\n",
       "\n",
       "#sk-container-id-2 label.sk-toggleable__label-arrow:hover:before {\n",
       "  color: var(--sklearn-color-text);\n",
       "}\n",
       "\n",
       "/* Toggleable content - dropdown */\n",
       "\n",
       "#sk-container-id-2 div.sk-toggleable__content {\n",
       "  max-height: 0;\n",
       "  max-width: 0;\n",
       "  overflow: hidden;\n",
       "  text-align: left;\n",
       "  /* unfitted */\n",
       "  background-color: var(--sklearn-color-unfitted-level-0);\n",
       "}\n",
       "\n",
       "#sk-container-id-2 div.sk-toggleable__content.fitted {\n",
       "  /* fitted */\n",
       "  background-color: var(--sklearn-color-fitted-level-0);\n",
       "}\n",
       "\n",
       "#sk-container-id-2 div.sk-toggleable__content pre {\n",
       "  margin: 0.2em;\n",
       "  border-radius: 0.25em;\n",
       "  color: var(--sklearn-color-text);\n",
       "  /* unfitted */\n",
       "  background-color: var(--sklearn-color-unfitted-level-0);\n",
       "}\n",
       "\n",
       "#sk-container-id-2 div.sk-toggleable__content.fitted pre {\n",
       "  /* unfitted */\n",
       "  background-color: var(--sklearn-color-fitted-level-0);\n",
       "}\n",
       "\n",
       "#sk-container-id-2 input.sk-toggleable__control:checked~div.sk-toggleable__content {\n",
       "  /* Expand drop-down */\n",
       "  max-height: 200px;\n",
       "  max-width: 100%;\n",
       "  overflow: auto;\n",
       "}\n",
       "\n",
       "#sk-container-id-2 input.sk-toggleable__control:checked~label.sk-toggleable__label-arrow:before {\n",
       "  content: \"▾\";\n",
       "}\n",
       "\n",
       "/* Pipeline/ColumnTransformer-specific style */\n",
       "\n",
       "#sk-container-id-2 div.sk-label input.sk-toggleable__control:checked~label.sk-toggleable__label {\n",
       "  color: var(--sklearn-color-text);\n",
       "  background-color: var(--sklearn-color-unfitted-level-2);\n",
       "}\n",
       "\n",
       "#sk-container-id-2 div.sk-label.fitted input.sk-toggleable__control:checked~label.sk-toggleable__label {\n",
       "  background-color: var(--sklearn-color-fitted-level-2);\n",
       "}\n",
       "\n",
       "/* Estimator-specific style */\n",
       "\n",
       "/* Colorize estimator box */\n",
       "#sk-container-id-2 div.sk-estimator input.sk-toggleable__control:checked~label.sk-toggleable__label {\n",
       "  /* unfitted */\n",
       "  background-color: var(--sklearn-color-unfitted-level-2);\n",
       "}\n",
       "\n",
       "#sk-container-id-2 div.sk-estimator.fitted input.sk-toggleable__control:checked~label.sk-toggleable__label {\n",
       "  /* fitted */\n",
       "  background-color: var(--sklearn-color-fitted-level-2);\n",
       "}\n",
       "\n",
       "#sk-container-id-2 div.sk-label label.sk-toggleable__label,\n",
       "#sk-container-id-2 div.sk-label label {\n",
       "  /* The background is the default theme color */\n",
       "  color: var(--sklearn-color-text-on-default-background);\n",
       "}\n",
       "\n",
       "/* On hover, darken the color of the background */\n",
       "#sk-container-id-2 div.sk-label:hover label.sk-toggleable__label {\n",
       "  color: var(--sklearn-color-text);\n",
       "  background-color: var(--sklearn-color-unfitted-level-2);\n",
       "}\n",
       "\n",
       "/* Label box, darken color on hover, fitted */\n",
       "#sk-container-id-2 div.sk-label.fitted:hover label.sk-toggleable__label.fitted {\n",
       "  color: var(--sklearn-color-text);\n",
       "  background-color: var(--sklearn-color-fitted-level-2);\n",
       "}\n",
       "\n",
       "/* Estimator label */\n",
       "\n",
       "#sk-container-id-2 div.sk-label label {\n",
       "  font-family: monospace;\n",
       "  font-weight: bold;\n",
       "  display: inline-block;\n",
       "  line-height: 1.2em;\n",
       "}\n",
       "\n",
       "#sk-container-id-2 div.sk-label-container {\n",
       "  text-align: center;\n",
       "}\n",
       "\n",
       "/* Estimator-specific */\n",
       "#sk-container-id-2 div.sk-estimator {\n",
       "  font-family: monospace;\n",
       "  border: 1px dotted var(--sklearn-color-border-box);\n",
       "  border-radius: 0.25em;\n",
       "  box-sizing: border-box;\n",
       "  margin-bottom: 0.5em;\n",
       "  /* unfitted */\n",
       "  background-color: var(--sklearn-color-unfitted-level-0);\n",
       "}\n",
       "\n",
       "#sk-container-id-2 div.sk-estimator.fitted {\n",
       "  /* fitted */\n",
       "  background-color: var(--sklearn-color-fitted-level-0);\n",
       "}\n",
       "\n",
       "/* on hover */\n",
       "#sk-container-id-2 div.sk-estimator:hover {\n",
       "  /* unfitted */\n",
       "  background-color: var(--sklearn-color-unfitted-level-2);\n",
       "}\n",
       "\n",
       "#sk-container-id-2 div.sk-estimator.fitted:hover {\n",
       "  /* fitted */\n",
       "  background-color: var(--sklearn-color-fitted-level-2);\n",
       "}\n",
       "\n",
       "/* Specification for estimator info (e.g. \"i\" and \"?\") */\n",
       "\n",
       "/* Common style for \"i\" and \"?\" */\n",
       "\n",
       ".sk-estimator-doc-link,\n",
       "a:link.sk-estimator-doc-link,\n",
       "a:visited.sk-estimator-doc-link {\n",
       "  float: right;\n",
       "  font-size: smaller;\n",
       "  line-height: 1em;\n",
       "  font-family: monospace;\n",
       "  background-color: var(--sklearn-color-background);\n",
       "  border-radius: 1em;\n",
       "  height: 1em;\n",
       "  width: 1em;\n",
       "  text-decoration: none !important;\n",
       "  margin-left: 1ex;\n",
       "  /* unfitted */\n",
       "  border: var(--sklearn-color-unfitted-level-1) 1pt solid;\n",
       "  color: var(--sklearn-color-unfitted-level-1);\n",
       "}\n",
       "\n",
       ".sk-estimator-doc-link.fitted,\n",
       "a:link.sk-estimator-doc-link.fitted,\n",
       "a:visited.sk-estimator-doc-link.fitted {\n",
       "  /* fitted */\n",
       "  border: var(--sklearn-color-fitted-level-1) 1pt solid;\n",
       "  color: var(--sklearn-color-fitted-level-1);\n",
       "}\n",
       "\n",
       "/* On hover */\n",
       "div.sk-estimator:hover .sk-estimator-doc-link:hover,\n",
       ".sk-estimator-doc-link:hover,\n",
       "div.sk-label-container:hover .sk-estimator-doc-link:hover,\n",
       ".sk-estimator-doc-link:hover {\n",
       "  /* unfitted */\n",
       "  background-color: var(--sklearn-color-unfitted-level-3);\n",
       "  color: var(--sklearn-color-background);\n",
       "  text-decoration: none;\n",
       "}\n",
       "\n",
       "div.sk-estimator.fitted:hover .sk-estimator-doc-link.fitted:hover,\n",
       ".sk-estimator-doc-link.fitted:hover,\n",
       "div.sk-label-container:hover .sk-estimator-doc-link.fitted:hover,\n",
       ".sk-estimator-doc-link.fitted:hover {\n",
       "  /* fitted */\n",
       "  background-color: var(--sklearn-color-fitted-level-3);\n",
       "  color: var(--sklearn-color-background);\n",
       "  text-decoration: none;\n",
       "}\n",
       "\n",
       "/* Span, style for the box shown on hovering the info icon */\n",
       ".sk-estimator-doc-link span {\n",
       "  display: none;\n",
       "  z-index: 9999;\n",
       "  position: relative;\n",
       "  font-weight: normal;\n",
       "  right: .2ex;\n",
       "  padding: .5ex;\n",
       "  margin: .5ex;\n",
       "  width: min-content;\n",
       "  min-width: 20ex;\n",
       "  max-width: 50ex;\n",
       "  color: var(--sklearn-color-text);\n",
       "  box-shadow: 2pt 2pt 4pt #999;\n",
       "  /* unfitted */\n",
       "  background: var(--sklearn-color-unfitted-level-0);\n",
       "  border: .5pt solid var(--sklearn-color-unfitted-level-3);\n",
       "}\n",
       "\n",
       ".sk-estimator-doc-link.fitted span {\n",
       "  /* fitted */\n",
       "  background: var(--sklearn-color-fitted-level-0);\n",
       "  border: var(--sklearn-color-fitted-level-3);\n",
       "}\n",
       "\n",
       ".sk-estimator-doc-link:hover span {\n",
       "  display: block;\n",
       "}\n",
       "\n",
       "/* \"?\"-specific style due to the `<a>` HTML tag */\n",
       "\n",
       "#sk-container-id-2 a.estimator_doc_link {\n",
       "  float: right;\n",
       "  font-size: 1rem;\n",
       "  line-height: 1em;\n",
       "  font-family: monospace;\n",
       "  background-color: var(--sklearn-color-background);\n",
       "  border-radius: 1rem;\n",
       "  height: 1rem;\n",
       "  width: 1rem;\n",
       "  text-decoration: none;\n",
       "  /* unfitted */\n",
       "  color: var(--sklearn-color-unfitted-level-1);\n",
       "  border: var(--sklearn-color-unfitted-level-1) 1pt solid;\n",
       "}\n",
       "\n",
       "#sk-container-id-2 a.estimator_doc_link.fitted {\n",
       "  /* fitted */\n",
       "  border: var(--sklearn-color-fitted-level-1) 1pt solid;\n",
       "  color: var(--sklearn-color-fitted-level-1);\n",
       "}\n",
       "\n",
       "/* On hover */\n",
       "#sk-container-id-2 a.estimator_doc_link:hover {\n",
       "  /* unfitted */\n",
       "  background-color: var(--sklearn-color-unfitted-level-3);\n",
       "  color: var(--sklearn-color-background);\n",
       "  text-decoration: none;\n",
       "}\n",
       "\n",
       "#sk-container-id-2 a.estimator_doc_link.fitted:hover {\n",
       "  /* fitted */\n",
       "  background-color: var(--sklearn-color-fitted-level-3);\n",
       "}\n",
       "</style><div id=\"sk-container-id-2\" class=\"sk-top-container\"><div class=\"sk-text-repr-fallback\"><pre>GaussianNB()</pre><b>In a Jupyter environment, please rerun this cell to show the HTML representation or trust the notebook. <br />On GitHub, the HTML representation is unable to render, please try loading this page with nbviewer.org.</b></div><div class=\"sk-container\" hidden><div class=\"sk-item\"><div class=\"sk-estimator  sk-toggleable\"><input class=\"sk-toggleable__control sk-hidden--visually\" id=\"sk-estimator-id-2\" type=\"checkbox\" checked><label for=\"sk-estimator-id-2\" class=\"sk-toggleable__label  sk-toggleable__label-arrow \">&nbsp;&nbsp;GaussianNB<a class=\"sk-estimator-doc-link \" rel=\"noreferrer\" target=\"_blank\" href=\"https://scikit-learn.org/1.4/modules/generated/sklearn.naive_bayes.GaussianNB.html\">?<span>Documentation for GaussianNB</span></a><span class=\"sk-estimator-doc-link \">i<span>Not fitted</span></span></label><div class=\"sk-toggleable__content \"><pre>GaussianNB()</pre></div> </div></div></div></div>"
      ],
      "text/plain": [
       "GaussianNB()"
      ]
     },
     "execution_count": 15,
     "metadata": {},
     "output_type": "execute_result"
    }
   ],
   "source": [
    "GaussianNB()"
   ]
  },
  {
   "cell_type": "code",
   "execution_count": 26,
   "id": "309e60d2-c7c2-4cd3-a3fa-f350efb45ae5",
   "metadata": {},
   "outputs": [
    {
     "name": "stdout",
     "output_type": "stream",
     "text": [
      "[0]\n"
     ]
    },
    {
     "name": "stderr",
     "output_type": "stream",
     "text": [
      "C:\\Users\\duasp\\AppData\\Local\\anaconda3\\Lib\\site-packages\\sklearn\\base.py:493: UserWarning: X does not have valid feature names, but GaussianNB was fitted with feature names\n",
      "  warnings.warn(\n"
     ]
    }
   ],
   "source": [
    " print(nb.predict([[44,25000]]))"
   ]
  },
  {
   "cell_type": "code",
   "execution_count": null,
   "id": "6a369060-5f66-4f1b-91b1-26fc3cc88971",
   "metadata": {},
   "outputs": [],
   "source": []
  },
  {
   "cell_type": "code",
   "execution_count": 28,
   "id": "46efc4a5-97c3-4996-ae66-8fbe33263b32",
   "metadata": {},
   "outputs": [],
   "source": [
    "new=pd.DataFrame({\n",
    "    'Age':[46,23,52],\n",
    "    'EstimatedSalary':[67000,38700,140000]\n",
    "})"
   ]
  },
  {
   "cell_type": "code",
   "execution_count": 30,
   "id": "c4d3b1ab-c873-4514-9728-fb61144b4e35",
   "metadata": {},
   "outputs": [
    {
     "data": {
      "text/html": [
       "<div>\n",
       "<style scoped>\n",
       "    .dataframe tbody tr th:only-of-type {\n",
       "        vertical-align: middle;\n",
       "    }\n",
       "\n",
       "    .dataframe tbody tr th {\n",
       "        vertical-align: top;\n",
       "    }\n",
       "\n",
       "    .dataframe thead th {\n",
       "        text-align: right;\n",
       "    }\n",
       "</style>\n",
       "<table border=\"1\" class=\"dataframe\">\n",
       "  <thead>\n",
       "    <tr style=\"text-align: right;\">\n",
       "      <th></th>\n",
       "      <th>Age</th>\n",
       "      <th>EstimatedSalary</th>\n",
       "    </tr>\n",
       "  </thead>\n",
       "  <tbody>\n",
       "    <tr>\n",
       "      <th>0</th>\n",
       "      <td>46</td>\n",
       "      <td>67000</td>\n",
       "    </tr>\n",
       "    <tr>\n",
       "      <th>1</th>\n",
       "      <td>23</td>\n",
       "      <td>38700</td>\n",
       "    </tr>\n",
       "    <tr>\n",
       "      <th>2</th>\n",
       "      <td>52</td>\n",
       "      <td>140000</td>\n",
       "    </tr>\n",
       "  </tbody>\n",
       "</table>\n",
       "</div>"
      ],
      "text/plain": [
       "   Age  EstimatedSalary\n",
       "0   46            67000\n",
       "1   23            38700\n",
       "2   52           140000"
      ]
     },
     "execution_count": 30,
     "metadata": {},
     "output_type": "execute_result"
    }
   ],
   "source": [
    "new"
   ]
  },
  {
   "cell_type": "code",
   "execution_count": 32,
   "id": "c7a811a7-7794-4ed9-9298-337726c91bd4",
   "metadata": {},
   "outputs": [
    {
     "data": {
      "text/plain": [
       "array([[0.48184269, 0.51815731],\n",
       "       [0.98737899, 0.01262101],\n",
       "       [0.00257448, 0.99742552]])"
      ]
     },
     "execution_count": 32,
     "metadata": {},
     "output_type": "execute_result"
    }
   ],
   "source": [
    "nb.predict_proba(new)"
   ]
  },
  {
   "cell_type": "code",
   "execution_count": 34,
   "id": "1f9968de-8a9f-4dc1-9255-d040e8f446ae",
   "metadata": {},
   "outputs": [],
   "source": [
    "probs=nb.predict_proba(new)"
   ]
  },
  {
   "cell_type": "code",
   "execution_count": 40,
   "id": "92465320-46bb-4942-a4b4-6ffb167f1f52",
   "metadata": {},
   "outputs": [
    {
     "data": {
      "text/plain": [
       "array([1, 0, 1], dtype=int64)"
      ]
     },
     "execution_count": 40,
     "metadata": {},
     "output_type": "execute_result"
    }
   ],
   "source": [
    "probs.argmax(axis=1)"
   ]
  },
  {
   "cell_type": "code",
   "execution_count": 48,
   "id": "8e8de075-8a15-4f29-8996-d75e7d7e1047",
   "metadata": {},
   "outputs": [],
   "source": [
    "new=pd.DataFrame({\n",
    "    'Age':[46,23,52,22,50,33],\n",
    "    'EstimatedSalary':[67000,38700,140000,95000,30000,20000]\n",
    "})"
   ]
  },
  {
   "cell_type": "code",
   "execution_count": 50,
   "id": "2f5598c1-e4df-4d2a-a9c9-691b8d233724",
   "metadata": {},
   "outputs": [
    {
     "data": {
      "text/html": [
       "<div>\n",
       "<style scoped>\n",
       "    .dataframe tbody tr th:only-of-type {\n",
       "        vertical-align: middle;\n",
       "    }\n",
       "\n",
       "    .dataframe tbody tr th {\n",
       "        vertical-align: top;\n",
       "    }\n",
       "\n",
       "    .dataframe thead th {\n",
       "        text-align: right;\n",
       "    }\n",
       "</style>\n",
       "<table border=\"1\" class=\"dataframe\">\n",
       "  <thead>\n",
       "    <tr style=\"text-align: right;\">\n",
       "      <th></th>\n",
       "      <th>Age</th>\n",
       "      <th>EstimatedSalary</th>\n",
       "    </tr>\n",
       "  </thead>\n",
       "  <tbody>\n",
       "    <tr>\n",
       "      <th>0</th>\n",
       "      <td>46</td>\n",
       "      <td>67000</td>\n",
       "    </tr>\n",
       "    <tr>\n",
       "      <th>1</th>\n",
       "      <td>23</td>\n",
       "      <td>38700</td>\n",
       "    </tr>\n",
       "    <tr>\n",
       "      <th>2</th>\n",
       "      <td>52</td>\n",
       "      <td>140000</td>\n",
       "    </tr>\n",
       "    <tr>\n",
       "      <th>3</th>\n",
       "      <td>22</td>\n",
       "      <td>95000</td>\n",
       "    </tr>\n",
       "    <tr>\n",
       "      <th>4</th>\n",
       "      <td>50</td>\n",
       "      <td>30000</td>\n",
       "    </tr>\n",
       "    <tr>\n",
       "      <th>5</th>\n",
       "      <td>33</td>\n",
       "      <td>20000</td>\n",
       "    </tr>\n",
       "  </tbody>\n",
       "</table>\n",
       "</div>"
      ],
      "text/plain": [
       "   Age  EstimatedSalary\n",
       "0   46            67000\n",
       "1   23            38700\n",
       "2   52           140000\n",
       "3   22            95000\n",
       "4   50            30000\n",
       "5   33            20000"
      ]
     },
     "execution_count": 50,
     "metadata": {},
     "output_type": "execute_result"
    }
   ],
   "source": [
    "new"
   ]
  },
  {
   "cell_type": "code",
   "execution_count": 54,
   "id": "55053397-f842-4701-9ec1-30e079988259",
   "metadata": {},
   "outputs": [
    {
     "data": {
      "text/plain": [
       "array([[0.48184269, 0.51815731],\n",
       "       [0.98737899, 0.01262101],\n",
       "       [0.00257448, 0.99742552],\n",
       "       [0.96431168, 0.03568832],\n",
       "       [0.29193242, 0.70806758],\n",
       "       [0.90556351, 0.09443649]])"
      ]
     },
     "execution_count": 54,
     "metadata": {},
     "output_type": "execute_result"
    }
   ],
   "source": [
    "nb.predict_proba(new)#class0=0 purchased, class1=1 not purchased"
   ]
  },
  {
   "cell_type": "code",
   "execution_count": 62,
   "id": "1b0b6ad6-7d71-4556-a672-24e24d6f9b8d",
   "metadata": {},
   "outputs": [],
   "source": [
    "probs=nb.predict_proba(new)"
   ]
  },
  {
   "cell_type": "code",
   "execution_count": 64,
   "id": "35e65b9b-4ee6-4e4e-8986-a6eed4518287",
   "metadata": {},
   "outputs": [
    {
     "data": {
      "text/plain": [
       "array([1, 0, 1, 0, 1, 0], dtype=int64)"
      ]
     },
     "execution_count": 64,
     "metadata": {},
     "output_type": "execute_result"
    }
   ],
   "source": [
    "probs.argmax(axis=1)"
   ]
  },
  {
   "cell_type": "markdown",
   "id": "4d178aa8-667a-4a4a-a8b2-cef1638343b0",
   "metadata": {
    "jp-MarkdownHeadingCollapsed": true
   },
   "source": [
    "<h4>Generate data from standard normal distribution</h4>"
   ]
  },
  {
   "cell_type": "code",
   "execution_count": 67,
   "id": "05dcd0b8-2199-47be-a0b8-fb674e4bce63",
   "metadata": {},
   "outputs": [],
   "source": [
    "from scipy.stats import norm"
   ]
  },
  {
   "cell_type": "code",
   "execution_count": 69,
   "id": "1f426d95-2ad2-4cf8-ab75-3c6b8c5b2284",
   "metadata": {},
   "outputs": [],
   "source": [
    "#the following code shows how to generate 100 random samples\n",
    "#from a normal distribution with mean 0 and std 1:"
   ]
  },
  {
   "cell_type": "code",
   "execution_count": 89,
   "id": "fe31a7b0-1259-400e-b198-c21eb8ecadd6",
   "metadata": {},
   "outputs": [],
   "source": [
    "samples=norm.rvs(loc=0,scale=1,size=100) #loc=mean  #scale=std, size=how many elements do you want"
   ]
  },
  {
   "cell_type": "code",
   "execution_count": 91,
   "id": "dc26bedb-8d76-4cf7-a691-f163b1ddee1e",
   "metadata": {},
   "outputs": [
    {
     "data": {
      "text/plain": [
       "array([ 0.46578435, -1.17331463, -0.87428992,  1.71267917,  0.76848646,\n",
       "       -0.7532727 , -0.31420559,  0.11922108,  1.19758177,  0.14047404,\n",
       "       -0.37094476, -1.40273694, -0.6992024 , -1.5756421 , -0.28763039,\n",
       "        1.13300259, -0.89785079, -1.03574239,  0.5601395 , -0.17626415,\n",
       "       -2.00307205,  1.05129503, -0.09982022,  0.06960633,  0.80795709,\n",
       "       -0.54267507,  1.08574022,  0.31182224,  0.24575731, -0.06124111,\n",
       "        0.22394318, -0.14447164,  0.40512172, -0.59341402, -0.07337555,\n",
       "       -0.04848509,  0.78927754, -0.71115038, -0.24019333, -1.41634329,\n",
       "       -0.19175187,  0.57001679,  0.84561672,  0.16763923,  0.90832851,\n",
       "        0.13029046, -2.04556335, -1.81065021, -1.52266433, -0.69852327,\n",
       "       -0.54252706,  1.06953038,  0.04295688,  0.72657999, -1.08901062,\n",
       "        0.64300246, -0.92982005, -0.62393522,  0.91579011, -0.45650981,\n",
       "        0.82607939, -0.4240701 , -0.09847002,  0.27070164,  2.04068234,\n",
       "       -0.22378969,  0.40081569, -1.36837523,  1.38164473,  0.70580861,\n",
       "        0.37808665, -0.46806529,  0.43864093,  1.20520134,  1.81544556,\n",
       "        0.59317808, -0.88680634, -0.49431672,  1.41606274, -0.74822095,\n",
       "       -0.22824584,  0.1652984 ,  0.50337993,  1.12183356,  0.43310656,\n",
       "       -0.24876478, -1.42861026, -1.10231995,  0.33744772,  0.20295292,\n",
       "       -0.4186368 , -0.30734421,  0.24974108,  0.3125822 , -1.95911524,\n",
       "       -2.34941702,  0.8889964 ,  0.17752133,  0.01320355, -0.6649962 ])"
      ]
     },
     "execution_count": 91,
     "metadata": {},
     "output_type": "execute_result"
    }
   ],
   "source": [
    "samples"
   ]
  },
  {
   "cell_type": "code",
   "execution_count": 93,
   "id": "8815318c-b754-4aab-988e-896707ff990e",
   "metadata": {},
   "outputs": [
    {
     "data": {
      "text/plain": [
       "-0.05839806396913473"
      ]
     },
     "execution_count": 93,
     "metadata": {},
     "output_type": "execute_result"
    }
   ],
   "source": [
    "samples.mean()"
   ]
  },
  {
   "cell_type": "code",
   "execution_count": 99,
   "id": "4861b7ff-a3b1-4919-a07b-899447d0d3cb",
   "metadata": {},
   "outputs": [
    {
     "data": {
      "text/plain": [
       "0.8988212207553672"
      ]
     },
     "execution_count": 99,
     "metadata": {},
     "output_type": "execute_result"
    }
   ],
   "source": [
    "samples.std()"
   ]
  },
  {
   "cell_type": "code",
   "execution_count": 101,
   "id": "b935c07f-ef96-48e8-bb78-313752040d4c",
   "metadata": {},
   "outputs": [
    {
     "data": {
      "text/plain": [
       "100"
      ]
     },
     "execution_count": 101,
     "metadata": {},
     "output_type": "execute_result"
    }
   ],
   "source": [
    "samples.size"
   ]
  },
  {
   "cell_type": "code",
   "execution_count": 103,
   "id": "409ebe88-7a97-498c-814c-81cd7f391935",
   "metadata": {},
   "outputs": [],
   "source": [
    "import seaborn as sns"
   ]
  },
  {
   "cell_type": "code",
   "execution_count": 105,
   "id": "021f3e26-3c73-4c79-983e-8f3d5c9842f1",
   "metadata": {},
   "outputs": [
    {
     "data": {
      "text/plain": [
       "(-0.05839806396913473, -0.017640770219195773)"
      ]
     },
     "execution_count": 105,
     "metadata": {},
     "output_type": "execute_result"
    }
   ],
   "source": [
    "samples.mean(), np.median(samples)"
   ]
  },
  {
   "cell_type": "code",
   "execution_count": 107,
   "id": "eb0e5cbe-1965-4dff-a4bb-5627e883db3d",
   "metadata": {},
   "outputs": [
    {
     "data": {
      "text/plain": [
       "<Axes: ylabel='Density'>"
      ]
     },
     "execution_count": 107,
     "metadata": {},
     "output_type": "execute_result"
    },
    {
     "data": {
      "image/png": "[encoded data removed]",
      "text/plain": [
       "<Figure size 640x480 with 1 Axes>"
      ]
     },
     "metadata": {},
     "output_type": "display_data"
    }
   ],
   "source": [
    "sns.kdeplot(samples)"
   ]
  },
  {
   "cell_type": "code",
   "execution_count": 113,
   "id": "a1987d00-860c-4256-a17a-e11961e5d547",
   "metadata": {},
   "outputs": [],
   "source": [
    "samples1=norm.rvs(loc=1,scale=3,size=100)"
   ]
  },
  {
   "cell_type": "code",
   "execution_count": 115,
   "id": "bdf558c3-46c2-438c-8ee6-e495a5051574",
   "metadata": {},
   "outputs": [
    {
     "data": {
      "text/plain": [
       "1.0710605622931815"
      ]
     },
     "execution_count": 115,
     "metadata": {},
     "output_type": "execute_result"
    }
   ],
   "source": [
    "samples1.mean()"
   ]
  },
  {
   "cell_type": "code",
   "execution_count": 119,
   "id": "e8e81942-2692-4ffc-9bce-196e0f82c0d4",
   "metadata": {},
   "outputs": [
    {
     "data": {
      "text/plain": [
       "2.470670128405013"
      ]
     },
     "execution_count": 119,
     "metadata": {},
     "output_type": "execute_result"
    }
   ],
   "source": [
    "samples1.std()"
   ]
  },
  {
   "cell_type": "code",
   "execution_count": 121,
   "id": "2b769c37-3474-4f9e-bf7e-8d2aae42dbad",
   "metadata": {},
   "outputs": [
    {
     "data": {
      "text/plain": [
       "100"
      ]
     },
     "execution_count": 121,
     "metadata": {},
     "output_type": "execute_result"
    }
   ],
   "source": [
    "samples1.size"
   ]
  },
  {
   "cell_type": "code",
   "execution_count": 123,
   "id": "04b18447-f93a-41f6-86d4-5a75b5705406",
   "metadata": {},
   "outputs": [
    {
     "data": {
      "text/plain": [
       "<Axes: ylabel='Density'>"
      ]
     },
     "execution_count": 123,
     "metadata": {},
     "output_type": "execute_result"
    },
    {
     "data": {
      "image/png": "[encoded data removed]",
      "text/plain": [
       "<Figure size 640x480 with 1 Axes>"
      ]
     },
     "metadata": {},
     "output_type": "display_data"
    }
   ],
   "source": [
    "sns.kdeplot(samples1)"
   ]
  },
  {
   "cell_type": "code",
   "execution_count": 125,
   "id": "3fef8b81-ad34-46de-8793-ff1c8a233240",
   "metadata": {},
   "outputs": [],
   "source": [
    "samples1=norm.rvs(loc=10,scale=5,size=100, random_state=0)"
   ]
  },
  {
   "cell_type": "code",
   "execution_count": 127,
   "id": "201c1dce-135c-4656-9a01-1a40f7ff3ed5",
   "metadata": {},
   "outputs": [
    {
     "data": {
      "text/plain": [
       "array([18.82026173, 12.00078604, 14.89368992, 21.204466  , 19.33778995,\n",
       "        5.1136106 , 14.75044209,  9.24321396,  9.48390574, 12.05299251,\n",
       "       10.72021786, 17.27136753, 13.80518863, 10.60837508, 12.21931616,\n",
       "       11.66837164, 17.47039537,  8.97420868, 11.56533851,  5.7295213 ,\n",
       "       -2.76494908, 13.26809298, 14.32218099,  6.2891749 , 21.34877312,\n",
       "        2.72817163, 10.22879259,  9.06408075, 17.66389607, 17.34679385,\n",
       "       10.77473713, 11.8908126 ,  5.56107126,  0.09601766,  8.26043925,\n",
       "       10.78174485, 16.1514534 , 16.01189924,  8.06336591,  8.48848625,\n",
       "        4.75723517,  2.89991031,  1.46864905, 19.75387698,  7.45173909,\n",
       "        7.80962849,  3.7360232 , 13.88745178,  1.93051076,  8.9362986 ,\n",
       "        5.52266719, 11.93451249,  7.44597431,  4.09683908,  9.85908886,\n",
       "       12.14165935, 10.33258611, 11.51235949,  6.82838953,  8.18629417,\n",
       "        6.63769776,  8.20223419,  5.93426859,  1.36858699, 10.88713071,\n",
       "        7.99109532,  1.84900827, 12.31391128,  5.46350818, 10.25972698,\n",
       "       13.64545281, 10.64491455, 15.69700342,  3.8258709 , 12.01170821,\n",
       "        6.57594955,  5.64601425,  7.10575168,  8.44223734, 10.28082671,\n",
       "        4.1742508 , 14.50413243, 12.3283122 ,  2.31878157, 17.44126097,\n",
       "       19.47944588, 15.89389786,  9.10037582,  4.64623689, 15.27225863,\n",
       "        7.98411527, 16.11222535, 11.04137489, 14.88319518, 11.78183199,\n",
       "       13.53286584, 10.0525001 , 18.92935247, 10.63456046, 12.00994682])"
      ]
     },
     "execution_count": 127,
     "metadata": {},
     "output_type": "execute_result"
    }
   ],
   "source": [
    "samples1"
   ]
  },
  {
   "cell_type": "code",
   "execution_count": 129,
   "id": "e9f3632e-5532-423e-89cc-83594a9ebb73",
   "metadata": {},
   "outputs": [
    {
     "data": {
      "text/plain": [
       "10.299040077672425"
      ]
     },
     "execution_count": 129,
     "metadata": {},
     "output_type": "execute_result"
    }
   ],
   "source": [
    "samples1.mean()"
   ]
  },
  {
   "cell_type": "code",
   "execution_count": 133,
   "id": "e4019ce8-852f-49a5-97fa-0e57bcf8d353",
   "metadata": {},
   "outputs": [
    {
     "data": {
      "text/plain": [
       "5.039411223582898"
      ]
     },
     "execution_count": 133,
     "metadata": {},
     "output_type": "execute_result"
    }
   ],
   "source": [
    "samples1.std()"
   ]
  },
  {
   "cell_type": "code",
   "execution_count": 135,
   "id": "25b23a8b-662e-4d2c-9e70-d16334952aea",
   "metadata": {},
   "outputs": [
    {
     "data": {
      "text/plain": [
       "<Axes: ylabel='Density'>"
      ]
     },
     "execution_count": 135,
     "metadata": {},
     "output_type": "execute_result"
    },
    {
     "data": {
      "image/png": "[encoded data removed]",
      "text/plain": [
       "<Figure size 640x480 with 1 Axes>"
      ]
     },
     "metadata": {},
     "output_type": "display_data"
    }
   ],
   "source": [
    "sns.kdeplot(samples1)"
   ]
  },
  {
   "cell_type": "code",
   "execution_count": 139,
   "id": "d7ec6f1c-f91f-472b-b8bb-0d42b67d498a",
   "metadata": {},
   "outputs": [],
   "source": [
    "import pandas as pd\n",
    "sna=pd.read_csv('C:/Users/duasp/datasets/Social_Network_Ads.csv')"
   ]
  },
  {
   "cell_type": "code",
   "execution_count": 141,
   "id": "d41bfd38-9ab7-408c-8739-cb932106ec33",
   "metadata": {},
   "outputs": [
    {
     "data": {
      "text/plain": [
       "count       400.000000\n",
       "mean      69742.500000\n",
       "std       34096.960282\n",
       "min       15000.000000\n",
       "25%       43000.000000\n",
       "50%       70000.000000\n",
       "75%       88000.000000\n",
       "max      150000.000000\n",
       "Name: EstimatedSalary, dtype: float64"
      ]
     },
     "execution_count": 141,
     "metadata": {},
     "output_type": "execute_result"
    }
   ],
   "source": [
    "sna['EstimatedSalary'].describe()"
   ]
  },
  {
   "cell_type": "code",
   "execution_count": 143,
   "id": "545dfd65-7fb0-4619-8c8f-f6c314a8bc93",
   "metadata": {},
   "outputs": [],
   "source": [
    "samples2=norm.rvs(loc=70000,scale=34000,size=400,random_state=0)"
   ]
  },
  {
   "cell_type": "code",
   "execution_count": 145,
   "id": "5126da69-ecda-4f3d-a9a7-1ca56fe7ca53",
   "metadata": {},
   "outputs": [
    {
     "data": {
      "text/plain": [
       "array([129977.7797629 ,  83605.34508449, 103277.0914596 , 146190.36877285,\n",
       "       133496.9716651 ,  36772.5520842 , 102303.00619587,  64853.85491788,\n",
       "        66490.55903902,  83960.3490659 ,  74897.48141947, 119445.29923674,\n",
       "        95875.282655  ,  74136.95056076,  85091.34991334,  81344.92713073,\n",
       "       120798.68848736,  63024.61903196,  80644.30185613,  40960.74486374,\n",
       "       -16801.65373836,  92223.03224497,  99390.83076122,  44766.38930618,\n",
       "       147171.65721558,  20551.56706364,  71555.78958825,  63635.74909912,\n",
       "       122114.49328819, 119958.19817661,  75268.2124737 ,  82857.52566647,\n",
       "        39815.28458058,   2652.92008039,  58170.98692291,  75315.86494954,\n",
       "       111829.88314474, 110880.91485867,  56830.88820813,  59721.70648044,\n",
       "        34349.19918772,  21719.39013591,  11986.81351875, 136326.36343788,\n",
       "        52671.82582044,  55105.47374522,  27404.9577583 ,  96434.67209828,\n",
       "        15127.47318303,  62766.83047273,  39554.13691942,  83154.68492721,\n",
       "        52632.62532266,  29858.50573984,  69041.80423649,  84563.28359803,\n",
       "        72261.58556103,  80284.04452315,  48433.04881485,  57666.80035644,\n",
       "        47136.34477562,  57775.19250762,  42353.02641049,  11306.39152072,\n",
       "        76032.48883663,  56339.44816892,  14573.25620315,  85734.59668788,\n",
       "        39151.85561097,  71766.14345707,  94789.07911404,  74385.41896575,\n",
       "       108739.62327447,  28015.92210798,  83679.61580004,  46716.45690803,\n",
       "        40392.89692782,  50319.11139801,  59407.21390767,  71909.62163581,\n",
       "        30384.90541337, 100628.10055644,  85832.52295084,  17767.71466657,\n",
       "       120600.57458905, 134460.23198504, 110078.50541943,  63882.55558238,\n",
       "        33594.41086864, 105851.35871566,  56291.98380291, 111563.132393  ,\n",
       "        77081.34925461, 103205.72724045,  82116.45750393,  94023.48771853,\n",
       "        70357.00070451, 130719.5967928 ,  74315.01115192,  83667.63835712,\n",
       "       134027.12369991,  24176.19192116,  26803.51005149, 102959.48807737,\n",
       "        30113.80422612, 136083.12031208,  55936.95465417,  44586.53641101,\n",
       "       135380.02890033, 120337.50290877, 133497.0046545 , 100805.51838136,\n",
       "        40718.32670814, 134942.20840537,  60887.88538765,  97283.51745708,\n",
       "       102206.56690431,  64729.65683491,  90878.69859177, 101355.02683326,\n",
       "        82798.46805929,  32620.37312014,  80140.09792301, 115097.12048736,\n",
       "        46384.69276913,  64912.42562886,  55204.77924146, 132874.9667683 ,\n",
       "        92858.02173842,  83853.7024322 ,  43822.85346886,  88334.47250392,\n",
       "        47072.68953765,  71082.23898133,  48381.23333512,  92998.73202818,\n",
       "        89604.08776491,  62917.84231035,  83464.2282305 ,  32835.90870316,\n",
       "        19297.24184801,  84939.31784299,  75666.89884267,  91591.06885433,\n",
       "       151026.92234537, 102112.30255767,  38964.0443349 , 107978.55379526,\n",
       "        25259.14804261,  54306.1234363 ,  67679.78541896, 128253.65253608,\n",
       "        44678.33605035,  41901.08968559,  66652.61416954,  47441.73826369,\n",
       "       108305.62135162,  33282.32871564,  30986.06581802,  55114.11847869,\n",
       "        53066.89667646, 135604.08982978, 102280.30743548,  72976.7422071 ,\n",
       "        28335.19235977,  98708.34119765,  35992.67818875,  17477.78270956,\n",
       "       110393.01293998,  80776.04880544, 101309.20000855,  80836.74020006,\n",
       "        99132.24080469,  47865.1298278 ,  34835.74337933,  93174.21362158,\n",
       "        42684.07141809,  46555.30755649,  54511.89488041,  70594.29140685,\n",
       "        57964.20701738,  23251.65602379,  48116.97430368,  -5595.70717563,\n",
       "        91257.86933492,  15530.03970937,  32450.96645943,  71773.61269487,\n",
       "        44854.8581227 , 122462.49624383,  26042.8650694 ,  79079.72955787,\n",
       "        68664.38418027,  30284.8210768 ,  87791.40645808,  64167.42473844,\n",
       "        96240.87874126,  97999.14123477, 143550.02227554, 115441.95028084,\n",
       "        57447.81750996,  61861.10796242, 107388.42626016,  92278.96684457,\n",
       "        91764.47188732,  15023.49449343,  69172.91177044,  44906.94908701,\n",
       "        79517.43636747,  66662.88675214, 100946.08287515,  80785.4193165 ,\n",
       "        96735.15071171,  54141.75071098,  37888.82729878,  56058.31043111,\n",
       "        69421.30592871,  82891.15900887, 146816.50432349,  68563.25684354,\n",
       "        37497.86998325,  58236.61962622,  54237.73686203,  86370.3701083 ,\n",
       "        17612.90150888,  72150.90780281,  75321.22229082,  77894.15523081,\n",
       "        49691.25365518,  61910.66118898,  21581.92909459,  53227.12396569,\n",
       "        51542.70981543,  84145.70157289,  30689.79731805,  96560.73545814,\n",
       "       120812.47451271,   -379.49085046,  84492.79684646,  93014.87319103,\n",
       "        48327.14113122,  56492.75831282,  65482.06036204,  59875.11010034,\n",
       "        59493.5590524 ,  13015.87058478, 109179.27320263, 106707.03212925,\n",
       "        42345.61518706,  20141.57285471,  87716.20579939,  50423.20902636,\n",
       "        74826.40755291,  59142.83381707,  93512.31753639,  93621.4708843 ,\n",
       "        45329.68913224,  22965.62551657,  16180.09449061,  90752.89888964,\n",
       "        29578.78523534,  52768.24395384,  49725.32269268,  68212.71192684,\n",
       "         4166.48660122,  76418.47229099,  87812.29481036,  73006.35095952,\n",
       "        59429.87016225,  73311.60565314,  83567.57575176, -24268.15371851,\n",
       "       136501.01848052,  83263.17297139,  47818.10819884,  56707.58524362,\n",
       "        86787.22042987,  66052.46607283,    956.72809543, 140192.75728622,\n",
       "        66241.6176541 , 104685.87219834,  46470.30517533, 122236.81984436,\n",
       "        79735.68542234,  90700.69037217,  34461.385551  , 111178.93984921,\n",
       "        93453.81759418, 114262.77180521,  48645.02297219,  53645.07797233,\n",
       "       148333.16772125,  33959.46202747,  65377.71017694, 108654.30632849,\n",
       "        73322.64890231,  89820.42511161,  56418.73300506,  82581.90018682,\n",
       "        25578.087041  , 126376.44310702,  65982.42246563,  46873.94106411,\n",
       "        92657.02478909,  54335.52722879,  24635.21197231,  24211.60480288,\n",
       "        93588.28719146,  64574.50310303,  65454.14697127, 106643.28940319,\n",
       "        31687.92250227,  45156.9564026 ,  56914.08648784,  73207.95403678,\n",
       "        68566.17065612,  60245.83545874,  67904.70232875,  66351.6206061 ,\n",
       "        45533.45078924,  42358.23838916,  79333.55616261,  39708.88717815,\n",
       "        30649.92118751,  59382.06346173,  64639.32145043, 146728.59890814,\n",
       "        46040.19062089, 102070.86464896,  95404.40336296,  29575.87152307,\n",
       "        96290.60123169,  29748.05823343, -20411.85609189,  90614.86382822,\n",
       "        10299.72016312,  85331.7717014 ,  46743.62947693, 126424.72707046,\n",
       "       106329.31957674,  54584.88266905,  46613.52122502,  28721.3682948 ,\n",
       "        55008.63050205,  60467.91316373,  57600.41949068,  75327.93107926,\n",
       "        89669.73092278,  81888.25153777,  44019.10658718,  21115.08989075,\n",
       "       116394.08283548,  46558.7277253 ,  47822.01760221,  52279.56338176,\n",
       "         7335.63529467,  53748.88386262,  53691.70232373,  91092.18214368,\n",
       "        93747.54306965,  70128.21022893, 101682.84471989,  81558.80944924,\n",
       "        69466.80820551,  75471.55772214,  63517.78121823,  56575.11652286,\n",
       "        60897.05974561,  31647.61473002,  79535.01798075,  36233.79722839,\n",
       "        98615.4629785 ,  61518.40827453,  71682.8293761 ,  86790.45039355,\n",
       "        91872.69181214,  16598.80410646,  62965.27501042,  99926.08301075,\n",
       "        12264.4021393 ,  83167.53616343,  -6689.18379967,  35234.76731639,\n",
       "        71313.43876257,  13671.68652105,  36492.63491874,  19957.60974624,\n",
       "       126036.58769506,  75583.74368657,  89287.86944699,  62429.04658248,\n",
       "        57983.32054226,  15039.87758586,  60077.52966657,  44109.2647984 ,\n",
       "        99169.41342594, 108797.46346636, 119863.67632952,  98986.76594168])"
      ]
     },
     "execution_count": 145,
     "metadata": {},
     "output_type": "execute_result"
    }
   ],
   "source": [
    "samples2"
   ]
  },
  {
   "cell_type": "code",
   "execution_count": 147,
   "id": "e96af8be-acf4-4931-8d53-837f8a0fc1e5",
   "metadata": {},
   "outputs": [
    {
     "data": {
      "text/plain": [
       "(33596.62823764383, 69029.23216300237, -24268.153718506102, 151026.922345374)"
      ]
     },
     "execution_count": 147,
     "metadata": {},
     "output_type": "execute_result"
    }
   ],
   "source": [
    "samples2.std(),samples2.mean(),samples2.min(),samples2.max()"
   ]
  },
  {
   "cell_type": "code",
   "execution_count": 159,
   "id": "feb61133-f254-4282-b2b1-fc500b06b2ad",
   "metadata": {},
   "outputs": [
    {
     "data": {
      "text/plain": [
       "count    400.000000\n",
       "mean      37.655000\n",
       "std       10.482877\n",
       "min       18.000000\n",
       "25%       29.750000\n",
       "50%       37.000000\n",
       "75%       46.000000\n",
       "max       60.000000\n",
       "Name: Age, dtype: float64"
      ]
     },
     "execution_count": 159,
     "metadata": {},
     "output_type": "execute_result"
    }
   ],
   "source": [
    "sna['Age'].describe()"
   ]
  },
  {
   "cell_type": "code",
   "execution_count": 171,
   "id": "927e99c6-0b7a-4dbc-a0a8-6b02196b378d",
   "metadata": {},
   "outputs": [],
   "source": [
    "samples3=norm.rvs(loc=37,scale=10,size=400,random_state=0)"
   ]
  },
  {
   "cell_type": "code",
   "execution_count": 173,
   "id": "c24b5668-b8ce-482b-bd56-c9bdc8a123bd",
   "metadata": {},
   "outputs": [
    {
     "data": {
      "text/plain": [
       "array([54.64052346, 41.00157208, 46.78737984, 59.40893199, 55.6755799 ,\n",
       "       27.2272212 , 46.50088418, 35.48642792, 35.96781148, 41.10598502,\n",
       "       38.44043571, 51.54273507, 44.61037725, 38.21675016, 41.43863233,\n",
       "       40.33674327, 51.94079073, 34.94841736, 40.13067702, 28.45904261,\n",
       "       11.47010184, 43.53618595, 45.64436199, 29.5783498 , 59.69754624,\n",
       "       22.45634325, 37.45758517, 35.1281615 , 52.32779214, 51.6935877 ,\n",
       "       38.54947426, 40.7816252 , 28.12214252, 17.19203532, 33.52087851,\n",
       "       38.56348969, 49.30290681, 49.02379849, 33.12673183, 33.97697249,\n",
       "       26.51447035, 22.79982063, 19.93729809, 56.50775395, 31.90347818,\n",
       "       32.61925698, 24.4720464 , 44.77490356, 20.86102152, 34.8725972 ,\n",
       "       28.04533439, 40.86902498, 31.89194862, 25.19367816, 36.71817772,\n",
       "       41.28331871, 37.66517222, 40.02471898, 30.65677906, 33.37258834,\n",
       "       30.27539552, 33.40446838, 28.86853718, 19.73717398, 38.77426142,\n",
       "       32.98219064, 20.69801653, 41.62782256, 27.92701636, 37.51945396,\n",
       "       44.29090562, 38.28982911, 48.39400685, 24.6517418 , 41.02341641,\n",
       "       30.15189909, 28.29202851, 31.21150335, 33.88447468, 37.56165342,\n",
       "       25.34850159, 46.00826487, 41.6566244 , 21.63756314, 51.88252194,\n",
       "       55.95889176, 48.78779571, 35.20075164, 26.29247378, 47.54451727,\n",
       "       32.96823053, 49.2244507 , 39.08274978, 46.76639036, 40.56366397,\n",
       "       44.06573168, 37.10500021, 54.85870494, 38.26912093, 41.01989363,\n",
       "       55.83150697, 23.52240939, 24.29515002, 46.69396708, 25.26876595,\n",
       "       56.43621186, 32.86381019, 29.52545189, 56.22942026, 51.80514791,\n",
       "       55.6755896 , 46.06044658, 28.38774315, 56.10064953, 34.31996629,\n",
       "       45.02456396, 46.47251968, 35.44989907, 43.1407937 , 46.22206672,\n",
       "       40.76425531, 26.00599209, 39.98238174, 50.26385897, 30.0543214 ,\n",
       "       35.5036546 , 32.64846448, 55.49263728, 43.72294757, 41.07461836,\n",
       "       29.30083926, 42.39249191, 30.25667339, 37.31830558, 30.64153922,\n",
       "       43.76433295, 42.76590817, 34.91701244, 40.96006713, 26.06938491,\n",
       "       22.08742407, 41.39391701, 38.66673495, 43.35031437, 60.83144775,\n",
       "       46.44479487, 27.87177775, 48.17016288, 23.84092589, 32.38415395,\n",
       "       36.31758395, 54.13342722, 29.55245178, 28.73561461, 36.01547476,\n",
       "       30.36521714, 48.26635922, 26.20068492, 25.52531348, 32.62179955,\n",
       "       32.01967549, 56.29532054, 46.49420807, 37.87551241, 24.74564481,\n",
       "       45.44362976, 26.99784653, 21.55228903, 48.88029792, 40.16942612,\n",
       "       46.20858824, 40.18727653, 45.56830612, 30.48974407, 26.65757158,\n",
       "       43.81594518, 28.96590336, 30.10450222, 32.44467496, 37.17479159,\n",
       "       33.46006089, 23.25048707, 30.56381597, 14.76596848, 43.25231451,\n",
       "       20.97942344, 25.95616661, 37.52165079, 29.60437004, 52.43014595,\n",
       "       24.0714309 , 39.67050869, 36.60717182, 25.31906502, 42.23276661,\n",
       "       35.28453669, 44.71790551, 45.23504154, 58.63235949, 50.36527949,\n",
       "       33.30818162, 34.60620822, 47.99659596, 43.55263731, 43.40131526,\n",
       "       20.83043956, 36.75673876, 29.61969091, 39.79924599, 36.0184961 ,\n",
       "       46.10178908, 40.17218215, 44.86327962, 32.33580903, 27.55553744,\n",
       "       32.89950307, 36.82979586, 40.79151736, 59.59308951, 36.57742848,\n",
       "       27.44055   , 33.54018224, 32.36404025, 41.81481474, 21.59202986,\n",
       "       37.63261994, 38.56506538, 39.32181036, 31.02683931, 34.6207827 ,\n",
       "       22.75939091, 32.06680117, 31.57138524, 41.16050046, 25.43817568,\n",
       "       44.81198102, 51.94484544, 16.30014975, 41.26258731, 43.76908035,\n",
       "       30.62562974, 33.02728186, 35.67119422, 34.02209121, 33.90987031,\n",
       "       20.23996194, 48.52331565, 47.79618592, 28.86635741, 22.33575672,\n",
       "       42.21064876, 31.2421203 , 38.41953163, 33.80671583, 43.91538751,\n",
       "       43.94749144, 29.74402622, 23.16636045, 21.17061603, 43.10379379,\n",
       "       25.11140742, 31.93183646, 31.03685962, 36.47432704, 17.63720194,\n",
       "       38.88778597, 42.23891024, 37.88422087, 33.89113828, 37.97400166,\n",
       "       40.99046346,  9.27407244, 56.55912308, 40.90093323, 30.47591418,\n",
       "       33.09046625, 41.93741777, 35.83896061, 16.69315532, 57.64492861,\n",
       "       35.89459343, 47.20172712, 30.07950152, 52.36377054, 39.86343689,\n",
       "       43.08843834, 26.54746634, 49.1114529 , 43.89818165, 50.0184623 ,\n",
       "       30.7191244 , 32.18972882, 60.03916698, 26.39984177, 35.64050299,\n",
       "       48.36891363, 37.97724968, 42.8295368 , 33.00550971, 40.70055888,\n",
       "       23.93473148, 53.5813068 , 35.81835955, 30.19821796, 43.66383082,\n",
       "       32.39280213, 23.65741529, 23.53282494, 43.93773153, 35.40426562,\n",
       "       35.6629844 , 47.77743806, 25.73174191, 29.69322247, 33.15120191,\n",
       "       37.94351589, 36.57828549, 34.13112808, 36.38373598, 35.92694724,\n",
       "       29.80395611, 28.87007011, 39.74516358, 28.09084917, 25.42644741,\n",
       "       33.87707749, 35.42332984, 59.56723497, 29.95299724, 46.43260725,\n",
       "       44.47188334, 25.11055045, 44.73252977, 25.1611936 , 10.40827762,\n",
       "       43.06319524, 19.44109417, 41.50934462, 30.15989102, 53.59550796,\n",
       "       47.68509399, 32.46614196, 30.12162389, 24.85922597, 32.59077368,\n",
       "       34.19644505, 33.35306456, 38.56703855, 42.78521498, 40.49654457,\n",
       "       29.35856076, 22.62208526, 50.64531848, 30.10550815, 30.477064  ,\n",
       "       31.78810688, 18.5693045 , 32.22025996, 32.20344186, 43.20358298,\n",
       "       43.98457149, 37.03770889, 46.31848374, 40.39964984, 36.84317888,\n",
       "       38.60928168, 35.09346506, 33.05150486, 34.32266463, 25.71988669,\n",
       "       39.80441705, 27.06876389, 45.41631264, 34.5054142 , 37.49494982,\n",
       "       41.93836776, 43.43314465, 21.29376591, 34.93096324, 45.80178912,\n",
       "       20.01894181, 40.87280475, 14.44435771, 26.77493156, 37.38630552,\n",
       "       20.43284898, 27.14489262, 22.28164993, 53.48134932, 38.64227755,\n",
       "       42.67290278, 34.77324899, 33.46568251, 20.83525811, 34.08162637,\n",
       "       29.38507788, 45.57923924, 48.41101867, 51.66578716, 45.52551939])"
      ]
     },
     "execution_count": 173,
     "metadata": {},
     "output_type": "execute_result"
    }
   ],
   "source": [
    "samples3"
   ]
  },
  {
   "cell_type": "code",
   "execution_count": 175,
   "id": "0acdac24-6734-4b04-8256-9ffe04c5b6b1",
   "metadata": {},
   "outputs": [
    {
     "data": {
      "text/plain": [
       "(9.881361246365831, 36.714480047941876, 9.274072435733498, 60.83144774863942)"
      ]
     },
     "execution_count": 175,
     "metadata": {},
     "output_type": "execute_result"
    }
   ],
   "source": [
    "samples3.std(),samples3.mean(),samples3.min(),samples3.max()"
   ]
  },
  {
   "cell_type": "code",
   "execution_count": 189,
   "id": "b2574424-b114-4022-8a4f-d1c7c9578a93",
   "metadata": {},
   "outputs": [
    {
     "data": {
      "image/png": "[encoded data removed]",
      "text/plain": [
       "<Figure size 640x480 with 1 Axes>"
      ]
     },
     "metadata": {},
     "output_type": "display_data"
    }
   ],
   "source": [
    "sns.kdeplot(samples3)\n",
    "sns.kdeplot(sna[\"Age\"])\n",
    "plt.grid()"
   ]
  },
  {
   "cell_type": "markdown",
   "id": "b14adbe9-63b7-4faa-95c3-d8dd280d4e96",
   "metadata": {
    "jp-MarkdownHeadingCollapsed": true
   },
   "source": [
    "<h4>Generate data from poisson distribution</h4>"
   ]
  },
  {
   "cell_type": "code",
   "execution_count": 192,
   "id": "d411793c-cb80-4faa-94a3-c005b4fddab9",
   "metadata": {},
   "outputs": [],
   "source": [
    "from scipy.stats import poisson"
   ]
  },
  {
   "cell_type": "code",
   "execution_count": 224,
   "id": "953f29c4-6a9d-4330-a357-9fc6d53beb39",
   "metadata": {},
   "outputs": [],
   "source": [
    "mean_customers_per_hour=5"
   ]
  },
  {
   "cell_type": "code",
   "execution_count": 226,
   "id": "c380e416-2228-4260-8f9c-b71dfe4558b6",
   "metadata": {},
   "outputs": [],
   "source": [
    "#generate random sampe of the number of customes that \n",
    "#arrive at the store in one hour\n",
    "number_of_customers=poisson.rvs(mean_customers_per_hour,size=10)"
   ]
  },
  {
   "cell_type": "code",
   "execution_count": 228,
   "id": "f7918583-30cf-4301-8d44-b0403cb6222d",
   "metadata": {},
   "outputs": [
    {
     "data": {
      "text/plain": [
       "array([10,  6,  2,  9,  6,  5,  4,  7,  5,  7], dtype=int64)"
      ]
     },
     "execution_count": 228,
     "metadata": {},
     "output_type": "execute_result"
    }
   ],
   "source": [
    "number_of_customers"
   ]
  },
  {
   "cell_type": "code",
   "execution_count": 236,
   "id": "b26f5167-ac23-46ac-aaf1-f11619c229c8",
   "metadata": {},
   "outputs": [],
   "source": [
    "number_of_customers=poisson.rvs(mean_customers_per_hour,size=100,random_state=0)"
   ]
  },
  {
   "cell_type": "code",
   "execution_count": 232,
   "id": "c7663695-24c2-457f-8410-6744ca81d599",
   "metadata": {},
   "outputs": [
    {
     "data": {
      "text/plain": [
       "array([ 5,  5,  5,  7,  5,  6,  5,  6,  7,  8,  3,  2,  7,  4,  5,  4,  5,\n",
       "        5,  6,  8,  3,  3,  4,  4,  5,  6,  9,  5,  4,  3,  3,  6,  3,  4,\n",
       "        2,  5,  3,  8,  8,  3,  9,  5,  9,  4,  8,  6,  2,  6,  6,  6,  4,\n",
       "        8,  6,  4,  8,  3,  2,  3,  7,  4,  4,  2,  4, 11,  6,  5,  3,  7,\n",
       "        2,  8,  4,  1,  3,  5,  4,  3,  3,  4,  5,  5,  8,  5, 12,  3,  6,\n",
       "        5,  4,  3,  3,  3,  4,  8,  2,  7,  5,  2,  5,  2,  6,  5],\n",
       "      dtype=int64)"
      ]
     },
     "execution_count": 232,
     "metadata": {},
     "output_type": "execute_result"
    }
   ],
   "source": [
    "number_of_customers"
   ]
  },
  {
   "cell_type": "code",
   "execution_count": 238,
   "id": "fdebe1f0-f5f8-4ba7-a250-6770e4a7e01e",
   "metadata": {},
   "outputs": [
    {
     "data": {
      "text/plain": [
       "4.84"
      ]
     },
     "execution_count": 238,
     "metadata": {},
     "output_type": "execute_result"
    }
   ],
   "source": [
    "number_of_customers.mean()"
   ]
  },
  {
   "cell_type": "code",
   "execution_count": 240,
   "id": "b8f0f7e4-aaba-4d42-bcd0-b0b326d94115",
   "metadata": {},
   "outputs": [
    {
     "data": {
      "text/plain": [
       "1"
      ]
     },
     "execution_count": 240,
     "metadata": {},
     "output_type": "execute_result"
    }
   ],
   "source": [
    "number_of_customers.min()"
   ]
  },
  {
   "cell_type": "code",
   "execution_count": 242,
   "id": "9d1e7259-bcdc-4153-9618-d47bab6ce708",
   "metadata": {},
   "outputs": [
    {
     "data": {
      "text/plain": [
       "12"
      ]
     },
     "execution_count": 242,
     "metadata": {},
     "output_type": "execute_result"
    }
   ],
   "source": [
    "number_of_customers.max()"
   ]
  },
  {
   "cell_type": "code",
   "execution_count": 261,
   "id": "c9908ae7-68d2-41bd-b2ba-778cee4e3972",
   "metadata": {},
   "outputs": [
    {
     "data": {
      "image/png": "[encoded data removed]",
      "text/plain": [
       "<Figure size 640x480 with 1 Axes>"
      ]
     },
     "metadata": {},
     "output_type": "display_data"
    }
   ],
   "source": [
    "sns.kdeplot(number_of_customers)\n",
    "plt.grid()"
   ]
  },
  {
   "cell_type": "code",
   "execution_count": 255,
   "id": "d92044ed-fa40-461f-b6e9-b2b10588973d",
   "metadata": {},
   "outputs": [
    {
     "data": {
      "image/png": "[encoded data removed]",
      "text/plain": [
       "<Figure size 640x480 with 1 Axes>"
      ]
     },
     "metadata": {},
     "output_type": "display_data"
    }
   ],
   "source": [
    "plt.hist(number_of_customers,bins=range(12));"
   ]
  },
  {
   "cell_type": "code",
   "execution_count": 263,
   "id": "fc01e8cf-c8d1-40af-acf1-518518cf0e90",
   "metadata": {},
   "outputs": [],
   "source": [
    "custs=pd.Series(number_of_customers)"
   ]
  },
  {
   "cell_type": "code",
   "execution_count": 277,
   "id": "cf293d5e-b9e7-4df9-8196-a61da9122524",
   "metadata": {},
   "outputs": [
    {
     "data": {
      "image/png": "[encoded data removed]",
      "text/plain": [
       "<Figure size 1000x1000 with 1 Axes>"
      ]
     },
     "metadata": {},
     "output_type": "display_data"
    }
   ],
   "source": [
    "plt.figure(figsize=(10,10))\n",
    "plt.pie(custs.value_counts(), labels=custs.value_counts().index,autopct='%2.2f%%');"
   ]
  },
  {
   "cell_type": "code",
   "execution_count": 318,
   "id": "44a00086-4e9a-4faa-9760-dd38bb246231",
   "metadata": {},
   "outputs": [],
   "source": [
    "data=custs.value_counts().sort_index()"
   ]
  },
  {
   "cell_type": "code",
   "execution_count": 326,
   "id": "52dcfa79-9dca-4dd3-96fb-e30022662568",
   "metadata": {},
   "outputs": [
    {
     "data": {
      "text/plain": [
       "[<matplotlib.lines.Line2D at 0x264b9b72ae0>]"
      ]
     },
     "execution_count": 326,
     "metadata": {},
     "output_type": "execute_result"
    },
    {
     "data": {
      "image/png": "[encoded data removed]",
      "text/plain": [
       "<Figure size 1000x900 with 1 Axes>"
      ]
     },
     "metadata": {},
     "output_type": "display_data"
    }
   ],
   "source": [
    "plt.figure(figsize=(10,9))\n",
    "plt.grid()\n",
    "plt.xticks(range(13))\n",
    "plt.xlabel('No of Customers')\n",
    "plt.ylabel('Probability')\n",
    "plt.plot(data.index,data/100, color='#000000',marker='D')\n"
   ]
  },
  {
   "cell_type": "markdown",
   "id": "01bcb0bd-3f1b-47bb-8348-bddb88642bcd",
   "metadata": {},
   "source": [
    "<h4>Simulate classification dataset</h4>"
   ]
  },
  {
   "cell_type": "code",
   "execution_count": 329,
   "id": "6e32a088-22d1-496b-9266-423e98d87e1a",
   "metadata": {},
   "outputs": [],
   "source": [
    "from sklearn.datasets import make_classification"
   ]
  },
  {
   "cell_type": "code",
   "execution_count": 331,
   "id": "b39966ac-dd01-4599-868f-4a2649f669ed",
   "metadata": {},
   "outputs": [],
   "source": [
    "data=make_classification(n_samples=1000,n_features=10,\n",
    "                         n_classes=3, random_state=0,n_informative=3)"
   ]
  },
  {
   "cell_type": "code",
   "execution_count": 333,
   "id": "aef93ab6-b46b-4819-b8ab-471c6f565035",
   "metadata": {},
   "outputs": [
    {
     "data": {
      "text/plain": [
       "array([[ 0.81977872, -1.20991379, -0.72237997, ...,  1.9315086 ,\n",
       "        -0.21814691,  1.05237936],\n",
       "       [-0.07984927, -1.33218739,  0.17422297, ...,  3.26132592,\n",
       "         0.43621003, -0.28409958],\n",
       "       [ 0.44839833,  1.46752401,  1.62689087, ...,  0.19981144,\n",
       "         1.06676359, -1.3433499 ],\n",
       "       ...,\n",
       "       [ 1.20103859, -0.10644469,  0.64078896, ..., -0.97554353,\n",
       "         0.86054368, -1.05819738],\n",
       "       [-0.00434957,  1.73518621,  2.10221005, ..., -1.10254678,\n",
       "         0.26108418, -0.67642984],\n",
       "       [-0.25002979, -0.74140137,  1.34020244, ..., -1.03295636,\n",
       "         1.5214823 , -1.77799078]])"
      ]
     },
     "execution_count": 333,
     "metadata": {},
     "output_type": "execute_result"
    }
   ],
   "source": [
    "data[0]"
   ]
  },
  {
   "cell_type": "code",
   "execution_count": 335,
   "id": "e37db873-b1d5-472a-a492-6a19338e3b2d",
   "metadata": {},
   "outputs": [
    {
     "data": {
      "text/plain": [
       "array([0, 0, 2, 2, 2, 0, 1, 1, 2, 0, 2, 0, 1, 2, 1, 2, 2, 1, 0, 0, 1, 2,\n",
       "       2, 0, 1, 0, 1, 0, 0, 2, 0, 2, 0, 2, 2, 1, 2, 1, 1, 0, 2, 0, 2, 0,\n",
       "       2, 0, 0, 2, 1, 2, 1, 1, 2, 2, 2, 2, 2, 2, 0, 2, 0, 0, 1, 2, 0, 0,\n",
       "       1, 1, 0, 0, 2, 1, 1, 1, 0, 1, 1, 0, 2, 2, 2, 0, 2, 0, 1, 2, 2, 0,\n",
       "       2, 1, 2, 0, 0, 2, 0, 0, 0, 1, 1, 0, 0, 1, 2, 2, 2, 1, 2, 2, 1, 1,\n",
       "       1, 1, 2, 1, 2, 2, 1, 1, 0, 1, 0, 1, 0, 2, 2, 1, 0, 1, 2, 2, 0, 0,\n",
       "       2, 1, 0, 0, 2, 1, 0, 2, 0, 0, 1, 0, 1, 2, 1, 2, 1, 0, 0, 1, 2, 1,\n",
       "       2, 1, 1, 1, 1, 1, 0, 1, 0, 1, 0, 0, 0, 2, 2, 1, 2, 1, 0, 2, 2, 2,\n",
       "       1, 0, 2, 0, 1, 1, 0, 0, 1, 1, 0, 1, 1, 2, 2, 1, 0, 2, 0, 2, 2, 0,\n",
       "       2, 1, 1, 1, 2, 2, 1, 2, 2, 0, 0, 0, 0, 1, 0, 2, 0, 0, 2, 2, 2, 1,\n",
       "       2, 2, 2, 1, 0, 0, 1, 2, 2, 2, 2, 0, 0, 2, 1, 2, 2, 1, 0, 2, 1, 2,\n",
       "       2, 1, 1, 0, 0, 1, 1, 1, 1, 1, 0, 0, 0, 1, 1, 1, 1, 2, 2, 0, 0, 1,\n",
       "       0, 2, 0, 0, 1, 1, 0, 1, 2, 0, 0, 1, 1, 2, 0, 2, 1, 2, 0, 1, 1, 2,\n",
       "       2, 1, 1, 0, 2, 2, 2, 2, 1, 0, 2, 0, 2, 1, 1, 2, 1, 0, 2, 2, 1, 1,\n",
       "       1, 1, 1, 0, 1, 2, 0, 1, 1, 2, 1, 0, 2, 1, 0, 1, 2, 2, 0, 0, 0, 0,\n",
       "       1, 2, 1, 2, 1, 0, 0, 2, 2, 2, 2, 0, 0, 2, 1, 2, 1, 1, 0, 2, 2, 0,\n",
       "       2, 1, 0, 0, 0, 0, 0, 0, 1, 1, 1, 2, 0, 2, 2, 2, 2, 1, 1, 2, 1, 0,\n",
       "       2, 0, 2, 2, 1, 1, 2, 2, 0, 0, 0, 2, 1, 1, 1, 2, 2, 2, 2, 2, 1, 0,\n",
       "       1, 1, 2, 0, 2, 2, 1, 1, 0, 1, 1, 1, 2, 1, 0, 0, 1, 1, 2, 0, 0, 2,\n",
       "       1, 0, 1, 1, 2, 1, 1, 1, 2, 1, 1, 0, 0, 2, 0, 1, 2, 1, 2, 0, 0, 2,\n",
       "       0, 2, 2, 2, 0, 2, 2, 0, 2, 0, 0, 1, 1, 1, 1, 2, 0, 1, 0, 1, 2, 0,\n",
       "       0, 0, 0, 2, 0, 0, 0, 0, 0, 2, 0, 1, 1, 1, 2, 2, 0, 0, 2, 1, 2, 1,\n",
       "       0, 0, 0, 2, 0, 0, 1, 0, 2, 1, 0, 1, 1, 1, 2, 0, 2, 0, 0, 0, 0, 0,\n",
       "       0, 0, 2, 1, 1, 2, 1, 2, 0, 0, 2, 2, 0, 2, 1, 0, 1, 2, 1, 2, 1, 2,\n",
       "       0, 1, 2, 0, 0, 0, 2, 0, 2, 0, 0, 0, 1, 0, 1, 1, 0, 2, 1, 0, 1, 1,\n",
       "       1, 1, 0, 0, 2, 0, 2, 0, 1, 2, 2, 0, 1, 0, 0, 2, 2, 2, 1, 2, 1, 0,\n",
       "       1, 0, 2, 1, 0, 2, 0, 1, 1, 1, 0, 2, 2, 2, 0, 1, 1, 2, 2, 1, 0, 2,\n",
       "       1, 0, 0, 2, 1, 0, 0, 1, 2, 2, 2, 2, 1, 0, 1, 0, 0, 0, 2, 1, 2, 1,\n",
       "       1, 1, 2, 1, 1, 1, 2, 1, 2, 2, 0, 2, 1, 2, 2, 2, 2, 2, 2, 1, 1, 2,\n",
       "       1, 2, 0, 1, 2, 0, 0, 2, 0, 0, 1, 2, 0, 1, 0, 1, 0, 1, 1, 0, 0, 2,\n",
       "       0, 1, 2, 2, 1, 2, 2, 2, 2, 2, 2, 2, 1, 0, 1, 1, 2, 2, 0, 1, 1, 0,\n",
       "       0, 1, 1, 1, 0, 2, 0, 1, 1, 0, 2, 0, 2, 1, 0, 2, 1, 2, 2, 2, 0, 1,\n",
       "       0, 1, 1, 1, 0, 1, 0, 0, 2, 0, 1, 1, 1, 1, 0, 0, 0, 2, 0, 0, 0, 1,\n",
       "       1, 1, 2, 2, 2, 0, 2, 1, 2, 0, 0, 2, 1, 1, 1, 1, 1, 2, 1, 1, 0, 2,\n",
       "       1, 0, 1, 2, 2, 0, 0, 0, 0, 0, 0, 0, 2, 1, 0, 1, 0, 1, 1, 1, 1, 1,\n",
       "       0, 2, 1, 0, 1, 1, 1, 1, 0, 2, 2, 0, 1, 2, 0, 1, 1, 1, 1, 0, 1, 1,\n",
       "       1, 0, 2, 1, 2, 1, 2, 0, 2, 0, 0, 0, 1, 0, 0, 2, 2, 0, 2, 2, 0, 2,\n",
       "       2, 2, 0, 0, 0, 1, 0, 2, 0, 2, 1, 1, 1, 1, 0, 0, 1, 1, 0, 0, 2, 0,\n",
       "       2, 1, 1, 1, 0, 0, 1, 1, 2, 2, 2, 0, 2, 0, 2, 0, 0, 0, 2, 0, 0, 0,\n",
       "       0, 0, 2, 2, 1, 1, 0, 1, 0, 1, 2, 2, 0, 2, 2, 1, 0, 1, 1, 1, 0, 2,\n",
       "       2, 2, 0, 2, 2, 0, 1, 2, 0, 0, 2, 2, 0, 2, 1, 2, 2, 2, 1, 1, 0, 1,\n",
       "       2, 2, 0, 0, 0, 2, 2, 2, 0, 1, 2, 1, 0, 0, 0, 1, 2, 1, 1, 2, 0, 0,\n",
       "       2, 1, 0, 0, 2, 0, 1, 2, 0, 2, 1, 2, 0, 2, 1, 0, 0, 0, 2, 1, 1, 1,\n",
       "       2, 2, 2, 2, 1, 2, 0, 2, 0, 0, 0, 0, 1, 2, 2, 1, 1, 0, 1, 2, 0, 0,\n",
       "       2, 1, 0, 2, 0, 2, 0, 2, 1, 0, 0, 1, 1, 1, 1, 0, 1, 2, 2, 0, 2, 1,\n",
       "       1, 1, 1, 1, 1, 1, 2, 2, 2, 2])"
      ]
     },
     "execution_count": 335,
     "metadata": {},
     "output_type": "execute_result"
    }
   ],
   "source": [
    "data[1]"
   ]
  },
  {
   "cell_type": "code",
   "execution_count": null,
   "id": "9767a807-9880-46b9-a152-465a079dc8cc",
   "metadata": {},
   "outputs": [],
   "source": []
  }
 ],
 "metadata": {
  "kernelspec": {
   "display_name": "Python 3 (ipykernel)",
   "language": "python",
   "name": "python3"
  },
  "language_info": {
   "codemirror_mode": {
    "name": "ipython",
    "version": 3
   },
   "file_extension": ".py",
   "mimetype": "text/x-python",
   "name": "python",
   "nbconvert_exporter": "python",
   "pygments_lexer": "ipython3",
   "version": "3.12.4"
  }
 },
 "nbformat": 4,
 "nbformat_minor": 5
}
