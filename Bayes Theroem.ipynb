{
 "cells": [
  {
   "cell_type": "code",
   "execution_count": 3,
   "id": "47678e00-53ae-4a86-b467-4dd4a4b3d366",
   "metadata": {},
   "outputs": [],
   "source": [
    "import numpy as np\n",
    "import pandas as pd\n",
    "import matplotlib.pyplot as plt\n",
    "import seaborn as sns"
   ]
  },
  {
   "cell_type": "markdown",
   "id": "c61690c7-20f6-4be9-b1bd-261078dfee45",
   "metadata": {},
   "source": [
    "<h4>Bayees theorem</h4>"
   ]
  },
  {
   "cell_type": "code",
   "execution_count": 5,
   "id": "f7391451-7f14-42b1-8c8e-8885f8ee9989",
   "metadata": {},
   "outputs": [
    {
     "ename": "FileNotFoundError",
     "evalue": "[Errno 2] No such file or directory: 'C:/Users/duasp/students/Social_Network_Ads.csv'",
     "output_type": "error",
     "traceback": [
      "\u001b[1;31m---------------------------------------------------------------------------\u001b[0m",
      "\u001b[1;31mFileNotFoundError\u001b[0m                         Traceback (most recent call last)",
      "Cell \u001b[1;32mIn[5], line 1\u001b[0m\n\u001b[1;32m----> 1\u001b[0m df\u001b[38;5;241m=\u001b[39m\u001b[43mpd\u001b[49m\u001b[38;5;241;43m.\u001b[39;49m\u001b[43mread_csv\u001b[49m\u001b[43m(\u001b[49m\u001b[38;5;124;43m'\u001b[39;49m\u001b[38;5;124;43mC:/Users/duasp/students/Social_Network_Ads.csv\u001b[39;49m\u001b[38;5;124;43m'\u001b[39;49m\u001b[43m)\u001b[49m\n",
      "File \u001b[1;32m~\\AppData\\Local\\anaconda3\\Lib\\site-packages\\pandas\\io\\parsers\\readers.py:1026\u001b[0m, in \u001b[0;36mread_csv\u001b[1;34m(filepath_or_buffer, sep, delimiter, header, names, index_col, usecols, dtype, engine, converters, true_values, false_values, skipinitialspace, skiprows, skipfooter, nrows, na_values, keep_default_na, na_filter, verbose, skip_blank_lines, parse_dates, infer_datetime_format, keep_date_col, date_parser, date_format, dayfirst, cache_dates, iterator, chunksize, compression, thousands, decimal, lineterminator, quotechar, quoting, doublequote, escapechar, comment, encoding, encoding_errors, dialect, on_bad_lines, delim_whitespace, low_memory, memory_map, float_precision, storage_options, dtype_backend)\u001b[0m\n\u001b[0;32m   1013\u001b[0m kwds_defaults \u001b[38;5;241m=\u001b[39m _refine_defaults_read(\n\u001b[0;32m   1014\u001b[0m     dialect,\n\u001b[0;32m   1015\u001b[0m     delimiter,\n\u001b[1;32m   (...)\u001b[0m\n\u001b[0;32m   1022\u001b[0m     dtype_backend\u001b[38;5;241m=\u001b[39mdtype_backend,\n\u001b[0;32m   1023\u001b[0m )\n\u001b[0;32m   1024\u001b[0m kwds\u001b[38;5;241m.\u001b[39mupdate(kwds_defaults)\n\u001b[1;32m-> 1026\u001b[0m \u001b[38;5;28;01mreturn\u001b[39;00m \u001b[43m_read\u001b[49m\u001b[43m(\u001b[49m\u001b[43mfilepath_or_buffer\u001b[49m\u001b[43m,\u001b[49m\u001b[43m \u001b[49m\u001b[43mkwds\u001b[49m\u001b[43m)\u001b[49m\n",
      "File \u001b[1;32m~\\AppData\\Local\\anaconda3\\Lib\\site-packages\\pandas\\io\\parsers\\readers.py:620\u001b[0m, in \u001b[0;36m_read\u001b[1;34m(filepath_or_buffer, kwds)\u001b[0m\n\u001b[0;32m    617\u001b[0m _validate_names(kwds\u001b[38;5;241m.\u001b[39mget(\u001b[38;5;124m\"\u001b[39m\u001b[38;5;124mnames\u001b[39m\u001b[38;5;124m\"\u001b[39m, \u001b[38;5;28;01mNone\u001b[39;00m))\n\u001b[0;32m    619\u001b[0m \u001b[38;5;66;03m# Create the parser.\u001b[39;00m\n\u001b[1;32m--> 620\u001b[0m parser \u001b[38;5;241m=\u001b[39m \u001b[43mTextFileReader\u001b[49m\u001b[43m(\u001b[49m\u001b[43mfilepath_or_buffer\u001b[49m\u001b[43m,\u001b[49m\u001b[43m \u001b[49m\u001b[38;5;241;43m*\u001b[39;49m\u001b[38;5;241;43m*\u001b[39;49m\u001b[43mkwds\u001b[49m\u001b[43m)\u001b[49m\n\u001b[0;32m    622\u001b[0m \u001b[38;5;28;01mif\u001b[39;00m chunksize \u001b[38;5;129;01mor\u001b[39;00m iterator:\n\u001b[0;32m    623\u001b[0m     \u001b[38;5;28;01mreturn\u001b[39;00m parser\n",
      "File \u001b[1;32m~\\AppData\\Local\\anaconda3\\Lib\\site-packages\\pandas\\io\\parsers\\readers.py:1620\u001b[0m, in \u001b[0;36mTextFileReader.__init__\u001b[1;34m(self, f, engine, **kwds)\u001b[0m\n\u001b[0;32m   1617\u001b[0m     \u001b[38;5;28mself\u001b[39m\u001b[38;5;241m.\u001b[39moptions[\u001b[38;5;124m\"\u001b[39m\u001b[38;5;124mhas_index_names\u001b[39m\u001b[38;5;124m\"\u001b[39m] \u001b[38;5;241m=\u001b[39m kwds[\u001b[38;5;124m\"\u001b[39m\u001b[38;5;124mhas_index_names\u001b[39m\u001b[38;5;124m\"\u001b[39m]\n\u001b[0;32m   1619\u001b[0m \u001b[38;5;28mself\u001b[39m\u001b[38;5;241m.\u001b[39mhandles: IOHandles \u001b[38;5;241m|\u001b[39m \u001b[38;5;28;01mNone\u001b[39;00m \u001b[38;5;241m=\u001b[39m \u001b[38;5;28;01mNone\u001b[39;00m\n\u001b[1;32m-> 1620\u001b[0m \u001b[38;5;28mself\u001b[39m\u001b[38;5;241m.\u001b[39m_engine \u001b[38;5;241m=\u001b[39m \u001b[38;5;28;43mself\u001b[39;49m\u001b[38;5;241;43m.\u001b[39;49m\u001b[43m_make_engine\u001b[49m\u001b[43m(\u001b[49m\u001b[43mf\u001b[49m\u001b[43m,\u001b[49m\u001b[43m \u001b[49m\u001b[38;5;28;43mself\u001b[39;49m\u001b[38;5;241;43m.\u001b[39;49m\u001b[43mengine\u001b[49m\u001b[43m)\u001b[49m\n",
      "File \u001b[1;32m~\\AppData\\Local\\anaconda3\\Lib\\site-packages\\pandas\\io\\parsers\\readers.py:1880\u001b[0m, in \u001b[0;36mTextFileReader._make_engine\u001b[1;34m(self, f, engine)\u001b[0m\n\u001b[0;32m   1878\u001b[0m     \u001b[38;5;28;01mif\u001b[39;00m \u001b[38;5;124m\"\u001b[39m\u001b[38;5;124mb\u001b[39m\u001b[38;5;124m\"\u001b[39m \u001b[38;5;129;01mnot\u001b[39;00m \u001b[38;5;129;01min\u001b[39;00m mode:\n\u001b[0;32m   1879\u001b[0m         mode \u001b[38;5;241m+\u001b[39m\u001b[38;5;241m=\u001b[39m \u001b[38;5;124m\"\u001b[39m\u001b[38;5;124mb\u001b[39m\u001b[38;5;124m\"\u001b[39m\n\u001b[1;32m-> 1880\u001b[0m \u001b[38;5;28mself\u001b[39m\u001b[38;5;241m.\u001b[39mhandles \u001b[38;5;241m=\u001b[39m \u001b[43mget_handle\u001b[49m\u001b[43m(\u001b[49m\n\u001b[0;32m   1881\u001b[0m \u001b[43m    \u001b[49m\u001b[43mf\u001b[49m\u001b[43m,\u001b[49m\n\u001b[0;32m   1882\u001b[0m \u001b[43m    \u001b[49m\u001b[43mmode\u001b[49m\u001b[43m,\u001b[49m\n\u001b[0;32m   1883\u001b[0m \u001b[43m    \u001b[49m\u001b[43mencoding\u001b[49m\u001b[38;5;241;43m=\u001b[39;49m\u001b[38;5;28;43mself\u001b[39;49m\u001b[38;5;241;43m.\u001b[39;49m\u001b[43moptions\u001b[49m\u001b[38;5;241;43m.\u001b[39;49m\u001b[43mget\u001b[49m\u001b[43m(\u001b[49m\u001b[38;5;124;43m\"\u001b[39;49m\u001b[38;5;124;43mencoding\u001b[39;49m\u001b[38;5;124;43m\"\u001b[39;49m\u001b[43m,\u001b[49m\u001b[43m \u001b[49m\u001b[38;5;28;43;01mNone\u001b[39;49;00m\u001b[43m)\u001b[49m\u001b[43m,\u001b[49m\n\u001b[0;32m   1884\u001b[0m \u001b[43m    \u001b[49m\u001b[43mcompression\u001b[49m\u001b[38;5;241;43m=\u001b[39;49m\u001b[38;5;28;43mself\u001b[39;49m\u001b[38;5;241;43m.\u001b[39;49m\u001b[43moptions\u001b[49m\u001b[38;5;241;43m.\u001b[39;49m\u001b[43mget\u001b[49m\u001b[43m(\u001b[49m\u001b[38;5;124;43m\"\u001b[39;49m\u001b[38;5;124;43mcompression\u001b[39;49m\u001b[38;5;124;43m\"\u001b[39;49m\u001b[43m,\u001b[49m\u001b[43m \u001b[49m\u001b[38;5;28;43;01mNone\u001b[39;49;00m\u001b[43m)\u001b[49m\u001b[43m,\u001b[49m\n\u001b[0;32m   1885\u001b[0m \u001b[43m    \u001b[49m\u001b[43mmemory_map\u001b[49m\u001b[38;5;241;43m=\u001b[39;49m\u001b[38;5;28;43mself\u001b[39;49m\u001b[38;5;241;43m.\u001b[39;49m\u001b[43moptions\u001b[49m\u001b[38;5;241;43m.\u001b[39;49m\u001b[43mget\u001b[49m\u001b[43m(\u001b[49m\u001b[38;5;124;43m\"\u001b[39;49m\u001b[38;5;124;43mmemory_map\u001b[39;49m\u001b[38;5;124;43m\"\u001b[39;49m\u001b[43m,\u001b[49m\u001b[43m \u001b[49m\u001b[38;5;28;43;01mFalse\u001b[39;49;00m\u001b[43m)\u001b[49m\u001b[43m,\u001b[49m\n\u001b[0;32m   1886\u001b[0m \u001b[43m    \u001b[49m\u001b[43mis_text\u001b[49m\u001b[38;5;241;43m=\u001b[39;49m\u001b[43mis_text\u001b[49m\u001b[43m,\u001b[49m\n\u001b[0;32m   1887\u001b[0m \u001b[43m    \u001b[49m\u001b[43merrors\u001b[49m\u001b[38;5;241;43m=\u001b[39;49m\u001b[38;5;28;43mself\u001b[39;49m\u001b[38;5;241;43m.\u001b[39;49m\u001b[43moptions\u001b[49m\u001b[38;5;241;43m.\u001b[39;49m\u001b[43mget\u001b[49m\u001b[43m(\u001b[49m\u001b[38;5;124;43m\"\u001b[39;49m\u001b[38;5;124;43mencoding_errors\u001b[39;49m\u001b[38;5;124;43m\"\u001b[39;49m\u001b[43m,\u001b[49m\u001b[43m \u001b[49m\u001b[38;5;124;43m\"\u001b[39;49m\u001b[38;5;124;43mstrict\u001b[39;49m\u001b[38;5;124;43m\"\u001b[39;49m\u001b[43m)\u001b[49m\u001b[43m,\u001b[49m\n\u001b[0;32m   1888\u001b[0m \u001b[43m    \u001b[49m\u001b[43mstorage_options\u001b[49m\u001b[38;5;241;43m=\u001b[39;49m\u001b[38;5;28;43mself\u001b[39;49m\u001b[38;5;241;43m.\u001b[39;49m\u001b[43moptions\u001b[49m\u001b[38;5;241;43m.\u001b[39;49m\u001b[43mget\u001b[49m\u001b[43m(\u001b[49m\u001b[38;5;124;43m\"\u001b[39;49m\u001b[38;5;124;43mstorage_options\u001b[39;49m\u001b[38;5;124;43m\"\u001b[39;49m\u001b[43m,\u001b[49m\u001b[43m \u001b[49m\u001b[38;5;28;43;01mNone\u001b[39;49;00m\u001b[43m)\u001b[49m\u001b[43m,\u001b[49m\n\u001b[0;32m   1889\u001b[0m \u001b[43m\u001b[49m\u001b[43m)\u001b[49m\n\u001b[0;32m   1890\u001b[0m \u001b[38;5;28;01massert\u001b[39;00m \u001b[38;5;28mself\u001b[39m\u001b[38;5;241m.\u001b[39mhandles \u001b[38;5;129;01mis\u001b[39;00m \u001b[38;5;129;01mnot\u001b[39;00m \u001b[38;5;28;01mNone\u001b[39;00m\n\u001b[0;32m   1891\u001b[0m f \u001b[38;5;241m=\u001b[39m \u001b[38;5;28mself\u001b[39m\u001b[38;5;241m.\u001b[39mhandles\u001b[38;5;241m.\u001b[39mhandle\n",
      "File \u001b[1;32m~\\AppData\\Local\\anaconda3\\Lib\\site-packages\\pandas\\io\\common.py:873\u001b[0m, in \u001b[0;36mget_handle\u001b[1;34m(path_or_buf, mode, encoding, compression, memory_map, is_text, errors, storage_options)\u001b[0m\n\u001b[0;32m    868\u001b[0m \u001b[38;5;28;01melif\u001b[39;00m \u001b[38;5;28misinstance\u001b[39m(handle, \u001b[38;5;28mstr\u001b[39m):\n\u001b[0;32m    869\u001b[0m     \u001b[38;5;66;03m# Check whether the filename is to be opened in binary mode.\u001b[39;00m\n\u001b[0;32m    870\u001b[0m     \u001b[38;5;66;03m# Binary mode does not support 'encoding' and 'newline'.\u001b[39;00m\n\u001b[0;32m    871\u001b[0m     \u001b[38;5;28;01mif\u001b[39;00m ioargs\u001b[38;5;241m.\u001b[39mencoding \u001b[38;5;129;01mand\u001b[39;00m \u001b[38;5;124m\"\u001b[39m\u001b[38;5;124mb\u001b[39m\u001b[38;5;124m\"\u001b[39m \u001b[38;5;129;01mnot\u001b[39;00m \u001b[38;5;129;01min\u001b[39;00m ioargs\u001b[38;5;241m.\u001b[39mmode:\n\u001b[0;32m    872\u001b[0m         \u001b[38;5;66;03m# Encoding\u001b[39;00m\n\u001b[1;32m--> 873\u001b[0m         handle \u001b[38;5;241m=\u001b[39m \u001b[38;5;28;43mopen\u001b[39;49m\u001b[43m(\u001b[49m\n\u001b[0;32m    874\u001b[0m \u001b[43m            \u001b[49m\u001b[43mhandle\u001b[49m\u001b[43m,\u001b[49m\n\u001b[0;32m    875\u001b[0m \u001b[43m            \u001b[49m\u001b[43mioargs\u001b[49m\u001b[38;5;241;43m.\u001b[39;49m\u001b[43mmode\u001b[49m\u001b[43m,\u001b[49m\n\u001b[0;32m    876\u001b[0m \u001b[43m            \u001b[49m\u001b[43mencoding\u001b[49m\u001b[38;5;241;43m=\u001b[39;49m\u001b[43mioargs\u001b[49m\u001b[38;5;241;43m.\u001b[39;49m\u001b[43mencoding\u001b[49m\u001b[43m,\u001b[49m\n\u001b[0;32m    877\u001b[0m \u001b[43m            \u001b[49m\u001b[43merrors\u001b[49m\u001b[38;5;241;43m=\u001b[39;49m\u001b[43merrors\u001b[49m\u001b[43m,\u001b[49m\n\u001b[0;32m    878\u001b[0m \u001b[43m            \u001b[49m\u001b[43mnewline\u001b[49m\u001b[38;5;241;43m=\u001b[39;49m\u001b[38;5;124;43m\"\u001b[39;49m\u001b[38;5;124;43m\"\u001b[39;49m\u001b[43m,\u001b[49m\n\u001b[0;32m    879\u001b[0m \u001b[43m        \u001b[49m\u001b[43m)\u001b[49m\n\u001b[0;32m    880\u001b[0m     \u001b[38;5;28;01melse\u001b[39;00m:\n\u001b[0;32m    881\u001b[0m         \u001b[38;5;66;03m# Binary mode\u001b[39;00m\n\u001b[0;32m    882\u001b[0m         handle \u001b[38;5;241m=\u001b[39m \u001b[38;5;28mopen\u001b[39m(handle, ioargs\u001b[38;5;241m.\u001b[39mmode)\n",
      "\u001b[1;31mFileNotFoundError\u001b[0m: [Errno 2] No such file or directory: 'C:/Users/duasp/students/Social_Network_Ads.csv'"
     ]
    }
   ],
   "source": [
    "df=pd.read_csv('C:/Users/duasp/students/Social_Network_Ads.csv')"
   ]
  },
  {
   "cell_type": "code",
   "execution_count": null,
   "id": "d30ae391-fe22-436a-8e40-0f89b90a7f2f",
   "metadata": {},
   "outputs": [],
   "source": [
    "df"
   ]
  },
  {
   "cell_type": "code",
   "execution_count": null,
   "id": "ffb89c8c-a085-430e-801f-96feb1e3133f",
   "metadata": {},
   "outputs": [],
   "source": [
    "#seprating the features and labels\n",
    "x=df[['Age','EstimatedSalary']]\n",
    "y=df['Purchased']"
   ]
  },
  {
   "cell_type": "code",
   "execution_count": null,
   "id": "09e8b7a5-266d-4cd6-8bd2-73f9e4f80c3a",
   "metadata": {},
   "outputs": [],
   "source": [
    "from sklearn.naive_bayes import GaussianNB"
   ]
  },
  {
   "cell_type": "code",
   "execution_count": null,
   "id": "778363e6-7a38-43b0-9d31-604886778c14",
   "metadata": {},
   "outputs": [],
   "source": [
    "#create the class\n",
    "nb=GaussianNB()"
   ]
  },
  {
   "cell_type": "code",
   "execution_count": null,
   "id": "0213715b-ca66-410e-b0b5-469fc1061680",
   "metadata": {},
   "outputs": [],
   "source": [
    "#apply the data/train the algo\n",
    "nb.fit(x,y)"
   ]
  },
  {
   "cell_type": "code",
   "execution_count": null,
   "id": "96819559-a640-41b4-92f9-3ccae7c6ef1e",
   "metadata": {},
   "outputs": [],
   "source": [
    "GaussianNB()"
   ]
  },
  {
   "cell_type": "code",
   "execution_count": null,
   "id": "309e60d2-c7c2-4cd3-a3fa-f350efb45ae5",
   "metadata": {},
   "outputs": [],
   "source": [
    " print(nb.predict([[44,25000]]))"
   ]
  },
  {
   "cell_type": "code",
   "execution_count": null,
   "id": "6a369060-5f66-4f1b-91b1-26fc3cc88971",
   "metadata": {},
   "outputs": [],
   "source": []
  },
  {
   "cell_type": "code",
   "execution_count": null,
   "id": "46efc4a5-97c3-4996-ae66-8fbe33263b32",
   "metadata": {},
   "outputs": [],
   "source": [
    "new=pd.DataFrame({\n",
    "    'Age':[46,23,52],\n",
    "    'EstimatedSalary':[67000,38700,140000]\n",
    "})"
   ]
  },
  {
   "cell_type": "code",
   "execution_count": null,
   "id": "c4d3b1ab-c873-4514-9728-fb61144b4e35",
   "metadata": {},
   "outputs": [],
   "source": [
    "new"
   ]
  },
  {
   "cell_type": "code",
   "execution_count": null,
   "id": "c7a811a7-7794-4ed9-9298-337726c91bd4",
   "metadata": {},
   "outputs": [],
   "source": [
    "nb.predict_proba(new)"
   ]
  },
  {
   "cell_type": "code",
   "execution_count": null,
   "id": "1f9968de-8a9f-4dc1-9255-d040e8f446ae",
   "metadata": {},
   "outputs": [],
   "source": [
    "probs=nb.predict_proba(new)"
   ]
  },
  {
   "cell_type": "code",
   "execution_count": null,
   "id": "92465320-46bb-4942-a4b4-6ffb167f1f52",
   "metadata": {},
   "outputs": [],
   "source": [
    "probs.argmax(axis=1)"
   ]
  },
  {
   "cell_type": "code",
   "execution_count": null,
   "id": "8e8de075-8a15-4f29-8996-d75e7d7e1047",
   "metadata": {},
   "outputs": [],
   "source": [
    "new=pd.DataFrame({\n",
    "    'Age':[46,23,52,22,50,33],\n",
    "    'EstimatedSalary':[67000,38700,140000,95000,30000,20000]\n",
    "})"
   ]
  },
  {
   "cell_type": "code",
   "execution_count": null,
   "id": "2f5598c1-e4df-4d2a-a9c9-691b8d233724",
   "metadata": {},
   "outputs": [],
   "source": [
    "new"
   ]
  },
  {
   "cell_type": "code",
   "execution_count": null,
   "id": "55053397-f842-4701-9ec1-30e079988259",
   "metadata": {},
   "outputs": [],
   "source": [
    "nb.predict_proba(new)#class0=0 purchased, class1=1 not purchased"
   ]
  },
  {
   "cell_type": "code",
   "execution_count": null,
   "id": "1b0b6ad6-7d71-4556-a672-24e24d6f9b8d",
   "metadata": {},
   "outputs": [],
   "source": [
    "probs=nb.predict_proba(new)"
   ]
  },
  {
   "cell_type": "code",
   "execution_count": null,
   "id": "35e65b9b-4ee6-4e4e-8986-a6eed4518287",
   "metadata": {},
   "outputs": [],
   "source": [
    "probs.argmax(axis=1)"
   ]
  },
  {
   "cell_type": "markdown",
   "id": "4d178aa8-667a-4a4a-a8b2-cef1638343b0",
   "metadata": {
    "jp-MarkdownHeadingCollapsed": true
   },
   "source": [
    "<h4>Generate data from standard normal distribution</h4>"
   ]
  },
  {
   "cell_type": "code",
   "execution_count": null,
   "id": "05dcd0b8-2199-47be-a0b8-fb674e4bce63",
   "metadata": {},
   "outputs": [],
   "source": [
    "from scipy.stats import norm"
   ]
  },
  {
   "cell_type": "code",
   "execution_count": null,
   "id": "1f426d95-2ad2-4cf8-ab75-3c6b8c5b2284",
   "metadata": {},
   "outputs": [],
   "source": [
    "#the following code shows how to generate 100 random samples\n",
    "#from a normal distribution with mean 0 and std 1:"
   ]
  },
  {
   "cell_type": "code",
   "execution_count": null,
   "id": "fe31a7b0-1259-400e-b198-c21eb8ecadd6",
   "metadata": {},
   "outputs": [],
   "source": [
    "samples=norm.rvs(loc=0,scale=1,size=100) #loc=mean  #scale=std, size=how many elements do you want"
   ]
  },
  {
   "cell_type": "code",
   "execution_count": null,
   "id": "dc26bedb-8d76-4cf7-a691-f163b1ddee1e",
   "metadata": {},
   "outputs": [],
   "source": [
    "samples"
   ]
  },
  {
   "cell_type": "code",
   "execution_count": null,
   "id": "8815318c-b754-4aab-988e-896707ff990e",
   "metadata": {},
   "outputs": [],
   "source": [
    "samples.mean()"
   ]
  },
  {
   "cell_type": "code",
   "execution_count": null,
   "id": "4861b7ff-a3b1-4919-a07b-899447d0d3cb",
   "metadata": {},
   "outputs": [],
   "source": [
    "samples.std()"
   ]
  },
  {
   "cell_type": "code",
   "execution_count": null,
   "id": "b935c07f-ef96-48e8-bb78-313752040d4c",
   "metadata": {},
   "outputs": [],
   "source": [
    "samples.size"
   ]
  },
  {
   "cell_type": "code",
   "execution_count": null,
   "id": "409ebe88-7a97-498c-814c-81cd7f391935",
   "metadata": {},
   "outputs": [],
   "source": [
    "import seaborn as sns"
   ]
  },
  {
   "cell_type": "code",
   "execution_count": null,
   "id": "021f3e26-3c73-4c79-983e-8f3d5c9842f1",
   "metadata": {},
   "outputs": [],
   "source": [
    "samples.mean(), np.median(samples)"
   ]
  },
  {
   "cell_type": "code",
   "execution_count": null,
   "id": "eb0e5cbe-1965-4dff-a4bb-5627e883db3d",
   "metadata": {},
   "outputs": [],
   "source": [
    "sns.kdeplot(samples)"
   ]
  },
  {
   "cell_type": "code",
   "execution_count": null,
   "id": "a1987d00-860c-4256-a17a-e11961e5d547",
   "metadata": {},
   "outputs": [],
   "source": [
    "samples1=norm.rvs(loc=1,scale=3,size=100)"
   ]
  },
  {
   "cell_type": "code",
   "execution_count": null,
   "id": "bdf558c3-46c2-438c-8ee6-e495a5051574",
   "metadata": {},
   "outputs": [],
   "source": [
    "samples1.mean()"
   ]
  },
  {
   "cell_type": "code",
   "execution_count": null,
   "id": "e8e81942-2692-4ffc-9bce-196e0f82c0d4",
   "metadata": {},
   "outputs": [],
   "source": [
    "samples1.std()"
   ]
  },
  {
   "cell_type": "code",
   "execution_count": null,
   "id": "2b769c37-3474-4f9e-bf7e-8d2aae42dbad",
   "metadata": {},
   "outputs": [],
   "source": [
    "samples1.size"
   ]
  },
  {
   "cell_type": "code",
   "execution_count": null,
   "id": "04b18447-f93a-41f6-86d4-5a75b5705406",
   "metadata": {},
   "outputs": [],
   "source": [
    "sns.kdeplot(samples1)"
   ]
  },
  {
   "cell_type": "code",
   "execution_count": null,
   "id": "3fef8b81-ad34-46de-8793-ff1c8a233240",
   "metadata": {},
   "outputs": [],
   "source": [
    "samples1=norm.rvs(loc=10,scale=5,size=100, random_state=0)"
   ]
  },
  {
   "cell_type": "code",
   "execution_count": null,
   "id": "201c1dce-135c-4656-9a01-1a40f7ff3ed5",
   "metadata": {},
   "outputs": [],
   "source": [
    "samples1"
   ]
  },
  {
   "cell_type": "code",
   "execution_count": null,
   "id": "e9f3632e-5532-423e-89cc-83594a9ebb73",
   "metadata": {},
   "outputs": [],
   "source": [
    "samples1.mean()"
   ]
  },
  {
   "cell_type": "code",
   "execution_count": null,
   "id": "e4019ce8-852f-49a5-97fa-0e57bcf8d353",
   "metadata": {},
   "outputs": [],
   "source": [
    "samples1.std()"
   ]
  },
  {
   "cell_type": "code",
   "execution_count": null,
   "id": "25b23a8b-662e-4d2c-9e70-d16334952aea",
   "metadata": {},
   "outputs": [],
   "source": [
    "sns.kdeplot(samples1)"
   ]
  },
  {
   "cell_type": "code",
   "execution_count": null,
   "id": "d7ec6f1c-f91f-472b-b8bb-0d42b67d498a",
   "metadata": {},
   "outputs": [],
   "source": [
    "import pandas as pd\n",
    "sna=pd.read_csv('C:/Users/duasp/datasets/Social_Network_Ads.csv')"
   ]
  },
  {
   "cell_type": "code",
   "execution_count": null,
   "id": "d41bfd38-9ab7-408c-8739-cb932106ec33",
   "metadata": {},
   "outputs": [],
   "source": [
    "sna['EstimatedSalary'].describe()"
   ]
  },
  {
   "cell_type": "code",
   "execution_count": null,
   "id": "545dfd65-7fb0-4619-8c8f-f6c314a8bc93",
   "metadata": {},
   "outputs": [],
   "source": [
    "samples2=norm.rvs(loc=70000,scale=34000,size=400,random_state=0)"
   ]
  },
  {
   "cell_type": "code",
   "execution_count": null,
   "id": "5126da69-ecda-4f3d-a9a7-1ca56fe7ca53",
   "metadata": {},
   "outputs": [],
   "source": [
    "samples2"
   ]
  },
  {
   "cell_type": "code",
   "execution_count": null,
   "id": "e96af8be-acf4-4931-8d53-837f8a0fc1e5",
   "metadata": {},
   "outputs": [],
   "source": [
    "samples2.std(),samples2.mean(),samples2.min(),samples2.max()"
   ]
  },
  {
   "cell_type": "code",
   "execution_count": null,
   "id": "feb61133-f254-4282-b2b1-fc500b06b2ad",
   "metadata": {},
   "outputs": [],
   "source": [
    "sna['Age'].describe()"
   ]
  },
  {
   "cell_type": "code",
   "execution_count": null,
   "id": "927e99c6-0b7a-4dbc-a0a8-6b02196b378d",
   "metadata": {},
   "outputs": [],
   "source": [
    "samples3=norm.rvs(loc=37,scale=10,size=400,random_state=0)"
   ]
  },
  {
   "cell_type": "code",
   "execution_count": null,
   "id": "c24b5668-b8ce-482b-bd56-c9bdc8a123bd",
   "metadata": {},
   "outputs": [],
   "source": [
    "samples3"
   ]
  },
  {
   "cell_type": "code",
   "execution_count": null,
   "id": "0acdac24-6734-4b04-8256-9ffe04c5b6b1",
   "metadata": {},
   "outputs": [],
   "source": [
    "samples3.std(),samples3.mean(),samples3.min(),samples3.max()"
   ]
  },
  {
   "cell_type": "code",
   "execution_count": null,
   "id": "b2574424-b114-4022-8a4f-d1c7c9578a93",
   "metadata": {},
   "outputs": [],
   "source": [
    "sns.kdeplot(samples3)\n",
    "sns.kdeplot(sna[\"Age\"])\n",
    "plt.grid()"
   ]
  },
  {
   "cell_type": "markdown",
   "id": "b14adbe9-63b7-4faa-95c3-d8dd280d4e96",
   "metadata": {},
   "source": [
    "<h4>Generate data from poisson distribution</h4>"
   ]
  },
  {
   "cell_type": "code",
   "execution_count": null,
   "id": "d411793c-cb80-4faa-94a3-c005b4fddab9",
   "metadata": {},
   "outputs": [],
   "source": [
    "from scipy.stats import poisson"
   ]
  },
  {
   "cell_type": "code",
   "execution_count": null,
   "id": "953f29c4-6a9d-4330-a357-9fc6d53beb39",
   "metadata": {},
   "outputs": [],
   "source": [
    "mean_customers_per_hour=5"
   ]
  },
  {
   "cell_type": "code",
   "execution_count": null,
   "id": "c380e416-2228-4260-8f9c-b71dfe4558b6",
   "metadata": {},
   "outputs": [],
   "source": [
    "#generate random sampe of the number of customes that \n",
    "#arrive at the store in one hour\n",
    "number_of_customers=poisson.rvs(mean_customers_per_hour,size=10)"
   ]
  },
  {
   "cell_type": "code",
   "execution_count": null,
   "id": "f7918583-30cf-4301-8d44-b0403cb6222d",
   "metadata": {},
   "outputs": [],
   "source": [
    "number_of_customers"
   ]
  },
  {
   "cell_type": "code",
   "execution_count": null,
   "id": "b26f5167-ac23-46ac-aaf1-f11619c229c8",
   "metadata": {},
   "outputs": [],
   "source": [
    "number_of_customers=poisson.rvs(mean_customers_per_hour,size=100,random_state=0)"
   ]
  },
  {
   "cell_type": "code",
   "execution_count": null,
   "id": "c7663695-24c2-457f-8410-6744ca81d599",
   "metadata": {},
   "outputs": [],
   "source": [
    "number_of_customers"
   ]
  },
  {
   "cell_type": "code",
   "execution_count": null,
   "id": "fdebe1f0-f5f8-4ba7-a250-6770e4a7e01e",
   "metadata": {},
   "outputs": [],
   "source": [
    "number_of_customers.mean()"
   ]
  },
  {
   "cell_type": "code",
   "execution_count": null,
   "id": "b8f0f7e4-aaba-4d42-bcd0-b0b326d94115",
   "metadata": {},
   "outputs": [],
   "source": [
    "number_of_customers.min()"
   ]
  },
  {
   "cell_type": "code",
   "execution_count": null,
   "id": "9d1e7259-bcdc-4153-9618-d47bab6ce708",
   "metadata": {},
   "outputs": [],
   "source": [
    "number_of_customers.max()"
   ]
  },
  {
   "cell_type": "code",
   "execution_count": null,
   "id": "c9908ae7-68d2-41bd-b2ba-778cee4e3972",
   "metadata": {},
   "outputs": [],
   "source": [
    "sns.kdeplot(number_of_customers)\n",
    "plt.grid()"
   ]
  },
  {
   "cell_type": "code",
   "execution_count": null,
   "id": "d92044ed-fa40-461f-b6e9-b2b10588973d",
   "metadata": {},
   "outputs": [],
   "source": [
    "plt.hist(number_of_customers,bins=range(12));"
   ]
  },
  {
   "cell_type": "code",
   "execution_count": null,
   "id": "fc01e8cf-c8d1-40af-acf1-518518cf0e90",
   "metadata": {},
   "outputs": [],
   "source": [
    "custs=pd.Series(number_of_customers)"
   ]
  },
  {
   "cell_type": "code",
   "execution_count": null,
   "id": "cf293d5e-b9e7-4df9-8196-a61da9122524",
   "metadata": {},
   "outputs": [],
   "source": [
    "plt.figure(figsize=(10,10))\n",
    "plt.pie(custs.value_counts(), labels=custs.value_counts().index,autopct='%2.2f%%');"
   ]
  },
  {
   "cell_type": "code",
   "execution_count": null,
   "id": "44a00086-4e9a-4faa-9760-dd38bb246231",
   "metadata": {},
   "outputs": [],
   "source": [
    "data=custs.value_counts().sort_index()"
   ]
  },
  {
   "cell_type": "code",
   "execution_count": null,
   "id": "52dcfa79-9dca-4dd3-96fb-e30022662568",
   "metadata": {},
   "outputs": [],
   "source": [
    "plt.figure(figsize=(10,9))\n",
    "plt.grid()\n",
    "plt.xticks(range(13))\n",
    "plt.xlabel('No of Customers')\n",
    "plt.ylabel('Probability')\n",
    "plt.plot(data.index,data/100, color='#000000',marker='D')\n"
   ]
  },
  {
   "cell_type": "markdown",
   "id": "01bcb0bd-3f1b-47bb-8348-bddb88642bcd",
   "metadata": {
    "jp-MarkdownHeadingCollapsed": true
   },
   "source": [
    "<h4>Simulate classification dataset</h4>"
   ]
  },
  {
   "cell_type": "code",
   "execution_count": 82,
   "id": "6e32a088-22d1-496b-9266-423e98d87e1a",
   "metadata": {},
   "outputs": [],
   "source": [
    "from sklearn.datasets import make_classification"
   ]
  },
  {
   "cell_type": "code",
   "execution_count": 83,
   "id": "b39966ac-dd01-4599-868f-4a2649f669ed",
   "metadata": {},
   "outputs": [],
   "source": [
    "data=make_classification(n_samples=1000,n_features=10,\n",
    "                         n_classes=3, random_state=0,n_informative=3)"
   ]
  },
  {
   "cell_type": "code",
   "execution_count": 86,
   "id": "aef93ab6-b46b-4819-b8ab-471c6f565035",
   "metadata": {},
   "outputs": [
    {
     "data": {
      "text/plain": [
       "array([[ 0.81977872, -1.20991379, -0.72237997, ...,  1.9315086 ,\n",
       "        -0.21814691,  1.05237936],\n",
       "       [-0.07984927, -1.33218739,  0.17422297, ...,  3.26132592,\n",
       "         0.43621003, -0.28409958],\n",
       "       [ 0.44839833,  1.46752401,  1.62689087, ...,  0.19981144,\n",
       "         1.06676359, -1.3433499 ],\n",
       "       ...,\n",
       "       [ 1.20103859, -0.10644469,  0.64078896, ..., -0.97554353,\n",
       "         0.86054368, -1.05819738],\n",
       "       [-0.00434957,  1.73518621,  2.10221005, ..., -1.10254678,\n",
       "         0.26108418, -0.67642984],\n",
       "       [-0.25002979, -0.74140137,  1.34020244, ..., -1.03295636,\n",
       "         1.5214823 , -1.77799078]])"
      ]
     },
     "execution_count": 86,
     "metadata": {},
     "output_type": "execute_result"
    }
   ],
   "source": [
    "data[0]"
   ]
  },
  {
   "cell_type": "code",
   "execution_count": 88,
   "id": "e37db873-b1d5-472a-a492-6a19338e3b2d",
   "metadata": {},
   "outputs": [
    {
     "data": {
      "text/plain": [
       "array([0, 0, 2, 2, 2, 0, 1, 1, 2, 0, 2, 0, 1, 2, 1, 2, 2, 1, 0, 0, 1, 2,\n",
       "       2, 0, 1, 0, 1, 0, 0, 2, 0, 2, 0, 2, 2, 1, 2, 1, 1, 0, 2, 0, 2, 0,\n",
       "       2, 0, 0, 2, 1, 2, 1, 1, 2, 2, 2, 2, 2, 2, 0, 2, 0, 0, 1, 2, 0, 0,\n",
       "       1, 1, 0, 0, 2, 1, 1, 1, 0, 1, 1, 0, 2, 2, 2, 0, 2, 0, 1, 2, 2, 0,\n",
       "       2, 1, 2, 0, 0, 2, 0, 0, 0, 1, 1, 0, 0, 1, 2, 2, 2, 1, 2, 2, 1, 1,\n",
       "       1, 1, 2, 1, 2, 2, 1, 1, 0, 1, 0, 1, 0, 2, 2, 1, 0, 1, 2, 2, 0, 0,\n",
       "       2, 1, 0, 0, 2, 1, 0, 2, 0, 0, 1, 0, 1, 2, 1, 2, 1, 0, 0, 1, 2, 1,\n",
       "       2, 1, 1, 1, 1, 1, 0, 1, 0, 1, 0, 0, 0, 2, 2, 1, 2, 1, 0, 2, 2, 2,\n",
       "       1, 0, 2, 0, 1, 1, 0, 0, 1, 1, 0, 1, 1, 2, 2, 1, 0, 2, 0, 2, 2, 0,\n",
       "       2, 1, 1, 1, 2, 2, 1, 2, 2, 0, 0, 0, 0, 1, 0, 2, 0, 0, 2, 2, 2, 1,\n",
       "       2, 2, 2, 1, 0, 0, 1, 2, 2, 2, 2, 0, 0, 2, 1, 2, 2, 1, 0, 2, 1, 2,\n",
       "       2, 1, 1, 0, 0, 1, 1, 1, 1, 1, 0, 0, 0, 1, 1, 1, 1, 2, 2, 0, 0, 1,\n",
       "       0, 2, 0, 0, 1, 1, 0, 1, 2, 0, 0, 1, 1, 2, 0, 2, 1, 2, 0, 1, 1, 2,\n",
       "       2, 1, 1, 0, 2, 2, 2, 2, 1, 0, 2, 0, 2, 1, 1, 2, 1, 0, 2, 2, 1, 1,\n",
       "       1, 1, 1, 0, 1, 2, 0, 1, 1, 2, 1, 0, 2, 1, 0, 1, 2, 2, 0, 0, 0, 0,\n",
       "       1, 2, 1, 2, 1, 0, 0, 2, 2, 2, 2, 0, 0, 2, 1, 2, 1, 1, 0, 2, 2, 0,\n",
       "       2, 1, 0, 0, 0, 0, 0, 0, 1, 1, 1, 2, 0, 2, 2, 2, 2, 1, 1, 2, 1, 0,\n",
       "       2, 0, 2, 2, 1, 1, 2, 2, 0, 0, 0, 2, 1, 1, 1, 2, 2, 2, 2, 2, 1, 0,\n",
       "       1, 1, 2, 0, 2, 2, 1, 1, 0, 1, 1, 1, 2, 1, 0, 0, 1, 1, 2, 0, 0, 2,\n",
       "       1, 0, 1, 1, 2, 1, 1, 1, 2, 1, 1, 0, 0, 2, 0, 1, 2, 1, 2, 0, 0, 2,\n",
       "       0, 2, 2, 2, 0, 2, 2, 0, 2, 0, 0, 1, 1, 1, 1, 2, 0, 1, 0, 1, 2, 0,\n",
       "       0, 0, 0, 2, 0, 0, 0, 0, 0, 2, 0, 1, 1, 1, 2, 2, 0, 0, 2, 1, 2, 1,\n",
       "       0, 0, 0, 2, 0, 0, 1, 0, 2, 1, 0, 1, 1, 1, 2, 0, 2, 0, 0, 0, 0, 0,\n",
       "       0, 0, 2, 1, 1, 2, 1, 2, 0, 0, 2, 2, 0, 2, 1, 0, 1, 2, 1, 2, 1, 2,\n",
       "       0, 1, 2, 0, 0, 0, 2, 0, 2, 0, 0, 0, 1, 0, 1, 1, 0, 2, 1, 0, 1, 1,\n",
       "       1, 1, 0, 0, 2, 0, 2, 0, 1, 2, 2, 0, 1, 0, 0, 2, 2, 2, 1, 2, 1, 0,\n",
       "       1, 0, 2, 1, 0, 2, 0, 1, 1, 1, 0, 2, 2, 2, 0, 1, 1, 2, 2, 1, 0, 2,\n",
       "       1, 0, 0, 2, 1, 0, 0, 1, 2, 2, 2, 2, 1, 0, 1, 0, 0, 0, 2, 1, 2, 1,\n",
       "       1, 1, 2, 1, 1, 1, 2, 1, 2, 2, 0, 2, 1, 2, 2, 2, 2, 2, 2, 1, 1, 2,\n",
       "       1, 2, 0, 1, 2, 0, 0, 2, 0, 0, 1, 2, 0, 1, 0, 1, 0, 1, 1, 0, 0, 2,\n",
       "       0, 1, 2, 2, 1, 2, 2, 2, 2, 2, 2, 2, 1, 0, 1, 1, 2, 2, 0, 1, 1, 0,\n",
       "       0, 1, 1, 1, 0, 2, 0, 1, 1, 0, 2, 0, 2, 1, 0, 2, 1, 2, 2, 2, 0, 1,\n",
       "       0, 1, 1, 1, 0, 1, 0, 0, 2, 0, 1, 1, 1, 1, 0, 0, 0, 2, 0, 0, 0, 1,\n",
       "       1, 1, 2, 2, 2, 0, 2, 1, 2, 0, 0, 2, 1, 1, 1, 1, 1, 2, 1, 1, 0, 2,\n",
       "       1, 0, 1, 2, 2, 0, 0, 0, 0, 0, 0, 0, 2, 1, 0, 1, 0, 1, 1, 1, 1, 1,\n",
       "       0, 2, 1, 0, 1, 1, 1, 1, 0, 2, 2, 0, 1, 2, 0, 1, 1, 1, 1, 0, 1, 1,\n",
       "       1, 0, 2, 1, 2, 1, 2, 0, 2, 0, 0, 0, 1, 0, 0, 2, 2, 0, 2, 2, 0, 2,\n",
       "       2, 2, 0, 0, 0, 1, 0, 2, 0, 2, 1, 1, 1, 1, 0, 0, 1, 1, 0, 0, 2, 0,\n",
       "       2, 1, 1, 1, 0, 0, 1, 1, 2, 2, 2, 0, 2, 0, 2, 0, 0, 0, 2, 0, 0, 0,\n",
       "       0, 0, 2, 2, 1, 1, 0, 1, 0, 1, 2, 2, 0, 2, 2, 1, 0, 1, 1, 1, 0, 2,\n",
       "       2, 2, 0, 2, 2, 0, 1, 2, 0, 0, 2, 2, 0, 2, 1, 2, 2, 2, 1, 1, 0, 1,\n",
       "       2, 2, 0, 0, 0, 2, 2, 2, 0, 1, 2, 1, 0, 0, 0, 1, 2, 1, 1, 2, 0, 0,\n",
       "       2, 1, 0, 0, 2, 0, 1, 2, 0, 2, 1, 2, 0, 2, 1, 0, 0, 0, 2, 1, 1, 1,\n",
       "       2, 2, 2, 2, 1, 2, 0, 2, 0, 0, 0, 0, 1, 2, 2, 1, 1, 0, 1, 2, 0, 0,\n",
       "       2, 1, 0, 2, 0, 2, 0, 2, 1, 0, 0, 1, 1, 1, 1, 0, 1, 2, 2, 0, 2, 1,\n",
       "       1, 1, 1, 1, 1, 1, 2, 2, 2, 2])"
      ]
     },
     "execution_count": 88,
     "metadata": {},
     "output_type": "execute_result"
    }
   ],
   "source": [
    "data[1]"
   ]
  },
  {
   "cell_type": "code",
   "execution_count": 90,
   "id": "9767a807-9880-46b9-a152-465a079dc8cc",
   "metadata": {},
   "outputs": [],
   "source": [
    "df=pd.DataFrame(data=data[0])"
   ]
  },
  {
   "cell_type": "code",
   "execution_count": 92,
   "id": "20143788-6744-44f3-980c-651333b21671",
   "metadata": {},
   "outputs": [],
   "source": [
    "df['class']=data[1]"
   ]
  },
  {
   "cell_type": "markdown",
   "id": "25ee9721-9dba-4050-a165-2d8e8af3da9a",
   "metadata": {
    "jp-MarkdownHeadingCollapsed": true
   },
   "source": [
    "<h4>Simulate classification dataset</h4>"
   ]
  },
  {
   "cell_type": "code",
   "execution_count": 96,
   "id": "0a617477-bea1-411b-9d85-81a079e7f905",
   "metadata": {},
   "outputs": [],
   "source": [
    "from sklearn.datasets import make_regression"
   ]
  },
  {
   "cell_type": "code",
   "execution_count": 114,
   "id": "1e2a158f-4be7-4392-a037-5280898e8073",
   "metadata": {},
   "outputs": [],
   "source": [
    "reg_data=make_regression(n_samples=500,n_features=5)"
   ]
  },
  {
   "cell_type": "code",
   "execution_count": 116,
   "id": "0098daae-a6f4-4b57-9eca-29de90308c14",
   "metadata": {},
   "outputs": [
    {
     "data": {
      "text/plain": [
       "(array([[ 0.9912831 , -1.04354599,  1.21384013,  1.42533405, -1.10754152],\n",
       "        [-0.55221455, -1.34258451,  0.51569317,  1.75476468,  2.01834796],\n",
       "        [ 0.29731895,  0.62532561,  1.96320006, -0.11860058,  0.3162468 ],\n",
       "        ...,\n",
       "        [ 0.34741371,  2.40661194, -3.01082916,  1.39090102,  0.05754368],\n",
       "        [-0.69438273, -1.1371296 ,  0.21501207,  0.80053832, -0.72419304],\n",
       "        [-1.14650802,  1.21103838,  1.01912812, -1.09975535, -1.59689096]]),\n",
       " array([ 220.34258563,  102.69253449,  155.40229769,   -5.06134327,\n",
       "         -38.73663637,  -76.6725958 ,   86.15411289, -143.05248895,\n",
       "         -30.17163468,   45.80080775, -110.37453055,   70.23012425,\n",
       "         144.68648493,  -94.00946199,  172.89997103, -155.07842368,\n",
       "         -41.26371502,  251.15670259,    2.8012038 , -374.54735309,\n",
       "         146.64073558,   11.99561221, -163.08798974,  154.2567064 ,\n",
       "          35.68411054,  -76.76881786,  -56.15502544,  193.11351076,\n",
       "        -204.33578544,   36.85821809,  -42.15516389, -132.29256126,\n",
       "          50.28244492, -212.63269176,  -78.61630793,  305.05427787,\n",
       "         -33.68462664,   24.2830099 ,  -52.06482112,  -28.06945333,\n",
       "         150.43435063, -256.98839229,  -34.63711219,    3.23739696,\n",
       "         163.08820952,  100.21159957,  269.47367382,   86.52385608,\n",
       "          79.02548523,  -81.55359695, -120.13818213,  -75.96385431,\n",
       "        -209.93577966,   36.418449  ,  105.79900401, -195.95273421,\n",
       "         -98.84711845,  -82.52659146,   47.30487813,   97.16374542,\n",
       "          37.54693589, -322.43803774,  289.83582424,   46.17672129,\n",
       "         -86.48763539,  -23.70370926,    4.08679924,  136.5571366 ,\n",
       "         142.84387408,  -79.30185127,  -98.41102259,  -67.44149876,\n",
       "         -43.3225933 ,   73.12530729,  -47.62985773,  -83.65357686,\n",
       "          61.66029632,    8.38486137,  155.75653965,  -13.38585365,\n",
       "         -81.23609342,    7.18145142, -177.76644705,   29.22125628,\n",
       "         227.09233636,  -53.36725241,  -72.58772459,   55.91579545,\n",
       "        -126.29229059,  162.23635941,  106.30972036, -159.96513149,\n",
       "         -81.39896046,   68.68774262,   73.6138691 ,  204.45715   ,\n",
       "         254.64679799,   68.7605083 ,  -74.66504163,   34.99220535,\n",
       "         114.97212787,   -8.59737736, -153.12680782, -156.64893033,\n",
       "         112.40802026,   -2.42281638, -176.47693976,   53.05582332,\n",
       "         198.14891942,   99.08835651, -167.19407196,  101.93068892,\n",
       "         -19.46254642,   23.2954343 ,   53.02001847,  -10.42218248,\n",
       "          49.11315475, -131.22119162,   -7.83964179,   32.54254559,\n",
       "        -239.07050748, -133.30596155,  -38.44963102, -145.04013454,\n",
       "         177.88771364,   47.14715529,  104.39518774, -150.48992327,\n",
       "          96.55946066,  -27.55007755,   45.41771576, -164.9987645 ,\n",
       "        -101.45393693,  167.53599718,  -16.68631381,  -53.11536322,\n",
       "         279.37136335,   80.90103897,   13.62906003,  142.48571125,\n",
       "        -147.32961538,  -20.18609025,  -16.65847091,   65.88830008,\n",
       "         -83.53576481,   -2.60817728,  126.85475739,  -75.16994272,\n",
       "         -26.28885979,  -90.31830828,   22.40714152,    8.85637171,\n",
       "          13.75371681,  290.87208198,  112.15580516, -193.67281982,\n",
       "        -116.9454044 ,   36.9371398 ,  -11.66171805,  -64.84675555,\n",
       "          -7.30662056,  156.79739916,   87.15419262, -104.64257729,\n",
       "         244.79273276,   67.80662201, -137.18280025,  186.07577351,\n",
       "          32.29410794,   37.18132243,   36.97286909,  -18.59935299,\n",
       "          -2.26089375,  129.99578705, -123.15509587,  -61.6293631 ,\n",
       "         -13.48609038,  154.66507267,  100.12948857,   61.94053943,\n",
       "         -96.89905225, -123.45119327,  219.88147817, -331.27926794,\n",
       "         -40.12622348,    0.91249177, -134.16649672,   28.76102612,\n",
       "         211.22545845,  -81.65094183,   20.0193471 ,   17.4868858 ,\n",
       "         125.94424628,    3.52611008,  279.89112428,  157.80176965,\n",
       "        -122.82906377,   -8.11480226, -205.9928631 , -105.07986456,\n",
       "         -86.40490039, -129.42938663,  -38.61123279, -154.33261918,\n",
       "         -58.22471286, -124.54812755,   44.04941288,  -81.19348145,\n",
       "         -41.37960154,  -72.7768731 , -120.86265434,  215.13227452,\n",
       "          69.44827551, -122.8647034 ,  118.43286014,  -67.11986072,\n",
       "        -103.38704829,  118.64260913,   -6.30695231, -265.08338466,\n",
       "         -81.00461215,  -31.2369634 , -173.94325382,   -6.37833674,\n",
       "        -115.03068005,  181.42999077,   81.34630872, -108.64180882,\n",
       "         -58.3146971 ,  127.15171103,  148.6059327 , -144.0117463 ,\n",
       "         -90.49737464,  303.86345418,  -94.70673044, -214.32948687,\n",
       "        -192.61338178,   43.45755301,   37.02159029, -256.93655807,\n",
       "         -81.20168601,  123.04174163,  151.05889397,    8.60538772,\n",
       "         270.07682332, -243.75375427, -365.74089248,   -2.25867994,\n",
       "         -78.30252602,  202.5483758 ,  -36.49651102,  112.17576031,\n",
       "        -129.62031736,  -68.28576301,   62.19141412,   25.35585981,\n",
       "        -121.08470371, -163.40752338,  200.16115204,  136.06901405,\n",
       "         -49.50201509,   90.86799221,  152.62587019, -205.39479687,\n",
       "         -22.46526286,   53.62247134,  107.62172693,   -2.66051293,\n",
       "        -109.53523869,  -58.85087096,  -53.78712324, -154.51132269,\n",
       "        -193.81079138, -152.37744298,  231.61975942,  155.02116114,\n",
       "         203.42275293, -109.47324535,  -49.0983201 ,  -52.93411529,\n",
       "        -111.04493381,  -68.31667361,  219.71222476,  -42.30825288,\n",
       "         220.05405635,   89.55636707,  -18.96218403,  116.66663881,\n",
       "         -53.886036  ,  206.98092396,  -64.1189632 ,  -45.00173263,\n",
       "         -90.83836042, -101.82707637,  251.52879589,   97.92713128,\n",
       "         -11.29116689, -149.15079574,  108.69857459,   62.18646721,\n",
       "          15.05845708,  -32.36454015,  105.86926819,  -57.68135983,\n",
       "          24.90661493, -142.84976666,  -19.81888621,   59.85195634,\n",
       "         170.79554053,  114.14342708, -152.75574206,   39.77694006,\n",
       "         -26.78481258,    1.37998108,  -26.52322802,   93.48344455,\n",
       "        -263.44988913,   57.05483749,  -50.00481484,  -61.41524725,\n",
       "          -3.2607209 ,  -39.477025  , -266.8039556 , -224.99219784,\n",
       "          38.34236991,   22.59712447,  -65.06582038, -244.95559022,\n",
       "        -302.64580799,  273.57766068,  128.63053462,   12.89394952,\n",
       "         -36.502585  ,   29.39272677,  144.63172786, -153.12750893,\n",
       "         148.92542915, -129.91560215,   21.3221471 ,   19.34933836,\n",
       "          26.9493735 ,   26.35875144,  175.33662884,   96.61846475,\n",
       "         298.16110281, -158.38133583,   48.42961305,  -57.53055879,\n",
       "          52.4886157 ,  -83.1312832 ,  -33.11848831, -102.27421815,\n",
       "        -166.68920806,  -82.7065891 ,  137.16863167,   43.51436142,\n",
       "          29.85774351,   63.98163044,  -73.95765377, -364.88116279,\n",
       "          43.05500274, -147.5831294 ,  233.96434118, -249.27490611,\n",
       "         -47.11382477,   25.02712455,  166.897314  ,  -17.59809082,\n",
       "        -246.46607705,   36.28458192, -133.26499145, -148.77923116,\n",
       "        -207.24651632,   76.72125639,  132.51512435,  -97.5690939 ,\n",
       "         137.34110965, -156.26435185,  228.92519958,  -38.41247352,\n",
       "        -110.66774216,  130.40330649,  -18.85497076,   52.48843479,\n",
       "         -52.31313837,  -13.82059289,   19.03508452, -197.5616941 ,\n",
       "           6.355092  ,   82.87446099,  -84.58894351,   83.42976541,\n",
       "         144.25798768,  109.78549946, -129.05117859, -257.7880868 ,\n",
       "         -81.82572426,   98.21777394,   29.45453424, -172.65719431,\n",
       "         -69.56950062,   72.47278355, -232.94748729, -190.10954097,\n",
       "         -29.25391366, -103.31457567,   -2.39614037,  174.05413588,\n",
       "          36.48334737,  -44.53403313, -161.18348982,  -82.95798638,\n",
       "          47.84745431,   59.55147727,  -41.31835203,  199.22606789,\n",
       "          92.49764249, -146.0038904 ,   20.18745131,   17.73955662,\n",
       "          48.59183109,   27.87178835,  192.77634661,  223.19427279,\n",
       "         268.06567129,   20.24248477, -194.18450188,  -10.25091669,\n",
       "         -50.31698844, -116.03806103, -279.5248969 ,  -10.99621274,\n",
       "         -10.5101979 , -188.31799287,   32.00562619, -122.71950238,\n",
       "          78.09726849, -102.57504909,  -55.90174294,  -62.92017748,\n",
       "         -14.84663313,  -56.06418515,  -75.26133699,   64.7302251 ,\n",
       "          59.5569884 ,   -9.82513777,  -54.47447512, -179.80564872,\n",
       "         182.3672378 , -274.86450599,  102.94646649,  -54.99650468,\n",
       "         216.44377999, -104.62118725,   74.34569696,   82.11606788,\n",
       "         256.88778376, -237.17813715,  -14.82325167,   46.45815185,\n",
       "        -162.91216648,  106.16095621,  -68.83756402,  173.63516036,\n",
       "          -3.05692018,   33.54238035,   39.79668328,  138.2915183 ,\n",
       "         188.91532106,   65.97307242, -216.62168132,  -81.45603177,\n",
       "         -25.79427502,  -42.29853211,  141.71358126,   86.68555219,\n",
       "          26.94102901,   57.44487334,   49.92125086,   39.81156353,\n",
       "          42.11572045, -166.77185709,    5.45442905, -206.30912314,\n",
       "        -239.05530762,   83.71198219,   27.25345881,  144.76543598,\n",
       "          67.79512703,  206.92156164,   45.4836453 ,  -76.04765243,\n",
       "        -115.62339798,  231.38868336,  -92.33114833,   67.77239592,\n",
       "          52.25890472,   30.09507966,   -3.21576382,  -60.28140779]))"
      ]
     },
     "execution_count": 116,
     "metadata": {},
     "output_type": "execute_result"
    }
   ],
   "source": [
    "reg_data"
   ]
  },
  {
   "cell_type": "code",
   "execution_count": 118,
   "id": "202919a4-62b2-4adf-b755-489f759f70a0",
   "metadata": {},
   "outputs": [
    {
     "data": {
      "text/plain": [
       "array([[ 0.9912831 , -1.04354599,  1.21384013,  1.42533405, -1.10754152],\n",
       "       [-0.55221455, -1.34258451,  0.51569317,  1.75476468,  2.01834796],\n",
       "       [ 0.29731895,  0.62532561,  1.96320006, -0.11860058,  0.3162468 ],\n",
       "       ...,\n",
       "       [ 0.34741371,  2.40661194, -3.01082916,  1.39090102,  0.05754368],\n",
       "       [-0.69438273, -1.1371296 ,  0.21501207,  0.80053832, -0.72419304],\n",
       "       [-1.14650802,  1.21103838,  1.01912812, -1.09975535, -1.59689096]])"
      ]
     },
     "execution_count": 118,
     "metadata": {},
     "output_type": "execute_result"
    }
   ],
   "source": [
    "#input data\n",
    "reg_data[0]"
   ]
  },
  {
   "cell_type": "code",
   "execution_count": 120,
   "id": "e96a4632-636a-4f96-8b29-589946d14af6",
   "metadata": {},
   "outputs": [
    {
     "data": {
      "text/plain": [
       "array([ 220.34258563,  102.69253449,  155.40229769,   -5.06134327,\n",
       "        -38.73663637,  -76.6725958 ,   86.15411289, -143.05248895,\n",
       "        -30.17163468,   45.80080775, -110.37453055,   70.23012425,\n",
       "        144.68648493,  -94.00946199,  172.89997103, -155.07842368,\n",
       "        -41.26371502,  251.15670259,    2.8012038 , -374.54735309,\n",
       "        146.64073558,   11.99561221, -163.08798974,  154.2567064 ,\n",
       "         35.68411054,  -76.76881786,  -56.15502544,  193.11351076,\n",
       "       -204.33578544,   36.85821809,  -42.15516389, -132.29256126,\n",
       "         50.28244492, -212.63269176,  -78.61630793,  305.05427787,\n",
       "        -33.68462664,   24.2830099 ,  -52.06482112,  -28.06945333,\n",
       "        150.43435063, -256.98839229,  -34.63711219,    3.23739696,\n",
       "        163.08820952,  100.21159957,  269.47367382,   86.52385608,\n",
       "         79.02548523,  -81.55359695, -120.13818213,  -75.96385431,\n",
       "       -209.93577966,   36.418449  ,  105.79900401, -195.95273421,\n",
       "        -98.84711845,  -82.52659146,   47.30487813,   97.16374542,\n",
       "         37.54693589, -322.43803774,  289.83582424,   46.17672129,\n",
       "        -86.48763539,  -23.70370926,    4.08679924,  136.5571366 ,\n",
       "        142.84387408,  -79.30185127,  -98.41102259,  -67.44149876,\n",
       "        -43.3225933 ,   73.12530729,  -47.62985773,  -83.65357686,\n",
       "         61.66029632,    8.38486137,  155.75653965,  -13.38585365,\n",
       "        -81.23609342,    7.18145142, -177.76644705,   29.22125628,\n",
       "        227.09233636,  -53.36725241,  -72.58772459,   55.91579545,\n",
       "       -126.29229059,  162.23635941,  106.30972036, -159.96513149,\n",
       "        -81.39896046,   68.68774262,   73.6138691 ,  204.45715   ,\n",
       "        254.64679799,   68.7605083 ,  -74.66504163,   34.99220535,\n",
       "        114.97212787,   -8.59737736, -153.12680782, -156.64893033,\n",
       "        112.40802026,   -2.42281638, -176.47693976,   53.05582332,\n",
       "        198.14891942,   99.08835651, -167.19407196,  101.93068892,\n",
       "        -19.46254642,   23.2954343 ,   53.02001847,  -10.42218248,\n",
       "         49.11315475, -131.22119162,   -7.83964179,   32.54254559,\n",
       "       -239.07050748, -133.30596155,  -38.44963102, -145.04013454,\n",
       "        177.88771364,   47.14715529,  104.39518774, -150.48992327,\n",
       "         96.55946066,  -27.55007755,   45.41771576, -164.9987645 ,\n",
       "       -101.45393693,  167.53599718,  -16.68631381,  -53.11536322,\n",
       "        279.37136335,   80.90103897,   13.62906003,  142.48571125,\n",
       "       -147.32961538,  -20.18609025,  -16.65847091,   65.88830008,\n",
       "        -83.53576481,   -2.60817728,  126.85475739,  -75.16994272,\n",
       "        -26.28885979,  -90.31830828,   22.40714152,    8.85637171,\n",
       "         13.75371681,  290.87208198,  112.15580516, -193.67281982,\n",
       "       -116.9454044 ,   36.9371398 ,  -11.66171805,  -64.84675555,\n",
       "         -7.30662056,  156.79739916,   87.15419262, -104.64257729,\n",
       "        244.79273276,   67.80662201, -137.18280025,  186.07577351,\n",
       "         32.29410794,   37.18132243,   36.97286909,  -18.59935299,\n",
       "         -2.26089375,  129.99578705, -123.15509587,  -61.6293631 ,\n",
       "        -13.48609038,  154.66507267,  100.12948857,   61.94053943,\n",
       "        -96.89905225, -123.45119327,  219.88147817, -331.27926794,\n",
       "        -40.12622348,    0.91249177, -134.16649672,   28.76102612,\n",
       "        211.22545845,  -81.65094183,   20.0193471 ,   17.4868858 ,\n",
       "        125.94424628,    3.52611008,  279.89112428,  157.80176965,\n",
       "       -122.82906377,   -8.11480226, -205.9928631 , -105.07986456,\n",
       "        -86.40490039, -129.42938663,  -38.61123279, -154.33261918,\n",
       "        -58.22471286, -124.54812755,   44.04941288,  -81.19348145,\n",
       "        -41.37960154,  -72.7768731 , -120.86265434,  215.13227452,\n",
       "         69.44827551, -122.8647034 ,  118.43286014,  -67.11986072,\n",
       "       -103.38704829,  118.64260913,   -6.30695231, -265.08338466,\n",
       "        -81.00461215,  -31.2369634 , -173.94325382,   -6.37833674,\n",
       "       -115.03068005,  181.42999077,   81.34630872, -108.64180882,\n",
       "        -58.3146971 ,  127.15171103,  148.6059327 , -144.0117463 ,\n",
       "        -90.49737464,  303.86345418,  -94.70673044, -214.32948687,\n",
       "       -192.61338178,   43.45755301,   37.02159029, -256.93655807,\n",
       "        -81.20168601,  123.04174163,  151.05889397,    8.60538772,\n",
       "        270.07682332, -243.75375427, -365.74089248,   -2.25867994,\n",
       "        -78.30252602,  202.5483758 ,  -36.49651102,  112.17576031,\n",
       "       -129.62031736,  -68.28576301,   62.19141412,   25.35585981,\n",
       "       -121.08470371, -163.40752338,  200.16115204,  136.06901405,\n",
       "        -49.50201509,   90.86799221,  152.62587019, -205.39479687,\n",
       "        -22.46526286,   53.62247134,  107.62172693,   -2.66051293,\n",
       "       -109.53523869,  -58.85087096,  -53.78712324, -154.51132269,\n",
       "       -193.81079138, -152.37744298,  231.61975942,  155.02116114,\n",
       "        203.42275293, -109.47324535,  -49.0983201 ,  -52.93411529,\n",
       "       -111.04493381,  -68.31667361,  219.71222476,  -42.30825288,\n",
       "        220.05405635,   89.55636707,  -18.96218403,  116.66663881,\n",
       "        -53.886036  ,  206.98092396,  -64.1189632 ,  -45.00173263,\n",
       "        -90.83836042, -101.82707637,  251.52879589,   97.92713128,\n",
       "        -11.29116689, -149.15079574,  108.69857459,   62.18646721,\n",
       "         15.05845708,  -32.36454015,  105.86926819,  -57.68135983,\n",
       "         24.90661493, -142.84976666,  -19.81888621,   59.85195634,\n",
       "        170.79554053,  114.14342708, -152.75574206,   39.77694006,\n",
       "        -26.78481258,    1.37998108,  -26.52322802,   93.48344455,\n",
       "       -263.44988913,   57.05483749,  -50.00481484,  -61.41524725,\n",
       "         -3.2607209 ,  -39.477025  , -266.8039556 , -224.99219784,\n",
       "         38.34236991,   22.59712447,  -65.06582038, -244.95559022,\n",
       "       -302.64580799,  273.57766068,  128.63053462,   12.89394952,\n",
       "        -36.502585  ,   29.39272677,  144.63172786, -153.12750893,\n",
       "        148.92542915, -129.91560215,   21.3221471 ,   19.34933836,\n",
       "         26.9493735 ,   26.35875144,  175.33662884,   96.61846475,\n",
       "        298.16110281, -158.38133583,   48.42961305,  -57.53055879,\n",
       "         52.4886157 ,  -83.1312832 ,  -33.11848831, -102.27421815,\n",
       "       -166.68920806,  -82.7065891 ,  137.16863167,   43.51436142,\n",
       "         29.85774351,   63.98163044,  -73.95765377, -364.88116279,\n",
       "         43.05500274, -147.5831294 ,  233.96434118, -249.27490611,\n",
       "        -47.11382477,   25.02712455,  166.897314  ,  -17.59809082,\n",
       "       -246.46607705,   36.28458192, -133.26499145, -148.77923116,\n",
       "       -207.24651632,   76.72125639,  132.51512435,  -97.5690939 ,\n",
       "        137.34110965, -156.26435185,  228.92519958,  -38.41247352,\n",
       "       -110.66774216,  130.40330649,  -18.85497076,   52.48843479,\n",
       "        -52.31313837,  -13.82059289,   19.03508452, -197.5616941 ,\n",
       "          6.355092  ,   82.87446099,  -84.58894351,   83.42976541,\n",
       "        144.25798768,  109.78549946, -129.05117859, -257.7880868 ,\n",
       "        -81.82572426,   98.21777394,   29.45453424, -172.65719431,\n",
       "        -69.56950062,   72.47278355, -232.94748729, -190.10954097,\n",
       "        -29.25391366, -103.31457567,   -2.39614037,  174.05413588,\n",
       "         36.48334737,  -44.53403313, -161.18348982,  -82.95798638,\n",
       "         47.84745431,   59.55147727,  -41.31835203,  199.22606789,\n",
       "         92.49764249, -146.0038904 ,   20.18745131,   17.73955662,\n",
       "         48.59183109,   27.87178835,  192.77634661,  223.19427279,\n",
       "        268.06567129,   20.24248477, -194.18450188,  -10.25091669,\n",
       "        -50.31698844, -116.03806103, -279.5248969 ,  -10.99621274,\n",
       "        -10.5101979 , -188.31799287,   32.00562619, -122.71950238,\n",
       "         78.09726849, -102.57504909,  -55.90174294,  -62.92017748,\n",
       "        -14.84663313,  -56.06418515,  -75.26133699,   64.7302251 ,\n",
       "         59.5569884 ,   -9.82513777,  -54.47447512, -179.80564872,\n",
       "        182.3672378 , -274.86450599,  102.94646649,  -54.99650468,\n",
       "        216.44377999, -104.62118725,   74.34569696,   82.11606788,\n",
       "        256.88778376, -237.17813715,  -14.82325167,   46.45815185,\n",
       "       -162.91216648,  106.16095621,  -68.83756402,  173.63516036,\n",
       "         -3.05692018,   33.54238035,   39.79668328,  138.2915183 ,\n",
       "        188.91532106,   65.97307242, -216.62168132,  -81.45603177,\n",
       "        -25.79427502,  -42.29853211,  141.71358126,   86.68555219,\n",
       "         26.94102901,   57.44487334,   49.92125086,   39.81156353,\n",
       "         42.11572045, -166.77185709,    5.45442905, -206.30912314,\n",
       "       -239.05530762,   83.71198219,   27.25345881,  144.76543598,\n",
       "         67.79512703,  206.92156164,   45.4836453 ,  -76.04765243,\n",
       "       -115.62339798,  231.38868336,  -92.33114833,   67.77239592,\n",
       "         52.25890472,   30.09507966,   -3.21576382,  -60.28140779])"
      ]
     },
     "execution_count": 120,
     "metadata": {},
     "output_type": "execute_result"
    }
   ],
   "source": [
    "#output data\n",
    "reg_data[1]"
   ]
  },
  {
   "cell_type": "code",
   "execution_count": 122,
   "id": "512b6558-90e6-491b-a23e-6452c921267e",
   "metadata": {},
   "outputs": [],
   "source": [
    "df=pd.DataFrame(data=reg_data[0])"
   ]
  },
  {
   "cell_type": "code",
   "execution_count": 124,
   "id": "482a6eb7-16c6-46fb-a179-9cddce43572f",
   "metadata": {},
   "outputs": [],
   "source": [
    "df['output']=reg_data[1]"
   ]
  },
  {
   "cell_type": "code",
   "execution_count": 126,
   "id": "4c335bbc-57a7-4add-94c4-2b7b8f8c3451",
   "metadata": {},
   "outputs": [
    {
     "data": {
      "text/html": [
       "<div>\n",
       "<style scoped>\n",
       "    .dataframe tbody tr th:only-of-type {\n",
       "        vertical-align: middle;\n",
       "    }\n",
       "\n",
       "    .dataframe tbody tr th {\n",
       "        vertical-align: top;\n",
       "    }\n",
       "\n",
       "    .dataframe thead th {\n",
       "        text-align: right;\n",
       "    }\n",
       "</style>\n",
       "<table border=\"1\" class=\"dataframe\">\n",
       "  <thead>\n",
       "    <tr style=\"text-align: right;\">\n",
       "      <th></th>\n",
       "      <th>0</th>\n",
       "      <th>1</th>\n",
       "      <th>2</th>\n",
       "      <th>3</th>\n",
       "      <th>4</th>\n",
       "      <th>output</th>\n",
       "    </tr>\n",
       "  </thead>\n",
       "  <tbody>\n",
       "    <tr>\n",
       "      <th>0</th>\n",
       "      <td>0.991283</td>\n",
       "      <td>-1.043546</td>\n",
       "      <td>1.213840</td>\n",
       "      <td>1.425334</td>\n",
       "      <td>-1.107542</td>\n",
       "      <td>220.342586</td>\n",
       "    </tr>\n",
       "    <tr>\n",
       "      <th>1</th>\n",
       "      <td>-0.552215</td>\n",
       "      <td>-1.342585</td>\n",
       "      <td>0.515693</td>\n",
       "      <td>1.754765</td>\n",
       "      <td>2.018348</td>\n",
       "      <td>102.692534</td>\n",
       "    </tr>\n",
       "    <tr>\n",
       "      <th>2</th>\n",
       "      <td>0.297319</td>\n",
       "      <td>0.625326</td>\n",
       "      <td>1.963200</td>\n",
       "      <td>-0.118601</td>\n",
       "      <td>0.316247</td>\n",
       "      <td>155.402298</td>\n",
       "    </tr>\n",
       "    <tr>\n",
       "      <th>3</th>\n",
       "      <td>0.323664</td>\n",
       "      <td>-1.386382</td>\n",
       "      <td>-0.212303</td>\n",
       "      <td>0.418649</td>\n",
       "      <td>0.485117</td>\n",
       "      <td>-5.061343</td>\n",
       "    </tr>\n",
       "    <tr>\n",
       "      <th>4</th>\n",
       "      <td>0.210941</td>\n",
       "      <td>2.243057</td>\n",
       "      <td>-1.387982</td>\n",
       "      <td>-0.458837</td>\n",
       "      <td>-1.433043</td>\n",
       "      <td>-38.736636</td>\n",
       "    </tr>\n",
       "    <tr>\n",
       "      <th>...</th>\n",
       "      <td>...</td>\n",
       "      <td>...</td>\n",
       "      <td>...</td>\n",
       "      <td>...</td>\n",
       "      <td>...</td>\n",
       "      <td>...</td>\n",
       "    </tr>\n",
       "    <tr>\n",
       "      <th>495</th>\n",
       "      <td>1.319417</td>\n",
       "      <td>-0.615795</td>\n",
       "      <td>-0.102894</td>\n",
       "      <td>0.164497</td>\n",
       "      <td>-0.368888</td>\n",
       "      <td>67.772396</td>\n",
       "    </tr>\n",
       "    <tr>\n",
       "      <th>496</th>\n",
       "      <td>0.525064</td>\n",
       "      <td>0.216298</td>\n",
       "      <td>0.382030</td>\n",
       "      <td>-0.158114</td>\n",
       "      <td>0.533829</td>\n",
       "      <td>52.258905</td>\n",
       "    </tr>\n",
       "    <tr>\n",
       "      <th>497</th>\n",
       "      <td>0.347414</td>\n",
       "      <td>2.406612</td>\n",
       "      <td>-3.010829</td>\n",
       "      <td>1.390901</td>\n",
       "      <td>0.057544</td>\n",
       "      <td>30.095080</td>\n",
       "    </tr>\n",
       "    <tr>\n",
       "      <th>498</th>\n",
       "      <td>-0.694383</td>\n",
       "      <td>-1.137130</td>\n",
       "      <td>0.215012</td>\n",
       "      <td>0.800538</td>\n",
       "      <td>-0.724193</td>\n",
       "      <td>-3.215764</td>\n",
       "    </tr>\n",
       "    <tr>\n",
       "      <th>499</th>\n",
       "      <td>-1.146508</td>\n",
       "      <td>1.211038</td>\n",
       "      <td>1.019128</td>\n",
       "      <td>-1.099755</td>\n",
       "      <td>-1.596891</td>\n",
       "      <td>-60.281408</td>\n",
       "    </tr>\n",
       "  </tbody>\n",
       "</table>\n",
       "<p>500 rows × 6 columns</p>\n",
       "</div>"
      ],
      "text/plain": [
       "            0         1         2         3         4      output\n",
       "0    0.991283 -1.043546  1.213840  1.425334 -1.107542  220.342586\n",
       "1   -0.552215 -1.342585  0.515693  1.754765  2.018348  102.692534\n",
       "2    0.297319  0.625326  1.963200 -0.118601  0.316247  155.402298\n",
       "3    0.323664 -1.386382 -0.212303  0.418649  0.485117   -5.061343\n",
       "4    0.210941  2.243057 -1.387982 -0.458837 -1.433043  -38.736636\n",
       "..        ...       ...       ...       ...       ...         ...\n",
       "495  1.319417 -0.615795 -0.102894  0.164497 -0.368888   67.772396\n",
       "496  0.525064  0.216298  0.382030 -0.158114  0.533829   52.258905\n",
       "497  0.347414  2.406612 -3.010829  1.390901  0.057544   30.095080\n",
       "498 -0.694383 -1.137130  0.215012  0.800538 -0.724193   -3.215764\n",
       "499 -1.146508  1.211038  1.019128 -1.099755 -1.596891  -60.281408\n",
       "\n",
       "[500 rows x 6 columns]"
      ]
     },
     "execution_count": 126,
     "metadata": {},
     "output_type": "execute_result"
    }
   ],
   "source": [
    "df"
   ]
  },
  {
   "cell_type": "code",
   "execution_count": null,
   "id": "79cc3266-534e-4ee0-9ae0-435d1e5e8124",
   "metadata": {},
   "outputs": [],
   "source": [
    "\n"
   ]
  }
 ],
 "metadata": {
  "kernelspec": {
   "display_name": "Python 3 (ipykernel)",
   "language": "python",
   "name": "python3"
  },
  "language_info": {
   "codemirror_mode": {
    "name": "ipython",
    "version": 3
   },
   "file_extension": ".py",
   "mimetype": "text/x-python",
   "name": "python",
   "nbconvert_exporter": "python",
   "pygments_lexer": "ipython3",
   "version": "3.12.4"
  }
 },
 "nbformat": 4,
 "nbformat_minor": 5
}
