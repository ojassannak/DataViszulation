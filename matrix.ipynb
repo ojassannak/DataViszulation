{
 "cells": [
  {
   "cell_type": "code",
   "execution_count": 3,
   "id": "5c30cb04-d700-456c-a6d3-a8f40672b368",
   "metadata": {},
   "outputs": [],
   "source": [
    "import numpy as np\n",
    "import matplotlib.pyplot as plt"
   ]
  },
  {
   "cell_type": "code",
   "execution_count": 5,
   "id": "c22c41cf-9538-42dc-bed3-89aeff8f253f",
   "metadata": {},
   "outputs": [],
   "source": [
    "M=np.array([[5,4,3],[1,7,8],[1,5,3],[4,8,9]])"
   ]
  },
  {
   "cell_type": "code",
   "execution_count": 14,
   "id": "e8bfcf08-d664-46db-86ed-333b460958d5",
   "metadata": {},
   "outputs": [
    {
     "data": {
      "text/plain": [
       "array([[5, 4, 3],\n",
       "       [1, 7, 8],\n",
       "       [1, 5, 3],\n",
       "       [4, 8, 9]])"
      ]
     },
     "execution_count": 14,
     "metadata": {},
     "output_type": "execute_result"
    }
   ],
   "source": [
    "M "
   ]
  },
  {
   "cell_type": "code",
   "execution_count": 16,
   "id": "35ba5553-1f79-475b-8077-a4d4a8d4e773",
   "metadata": {},
   "outputs": [
    {
     "data": {
      "text/plain": [
       "numpy.ndarray"
      ]
     },
     "execution_count": 16,
     "metadata": {},
     "output_type": "execute_result"
    }
   ],
   "source": [
    "type(M)"
   ]
  },
  {
   "cell_type": "code",
   "execution_count": 20,
   "id": "09ca0e8c-f4bd-4526-a1ff-60cf51a53540",
   "metadata": {},
   "outputs": [
    {
     "data": {
      "text/plain": [
       "array([[5, 4, 3],\n",
       "       [1, 7, 8],\n",
       "       [1, 5, 3],\n",
       "       [4, 8, 9]], dtype=int8)"
      ]
     },
     "execution_count": 20,
     "metadata": {},
     "output_type": "execute_result"
    }
   ],
   "source": [
    "M=np.array([[5,4,3],[1,7,8],[1,5,3],[4,8,9]] , dtype = np.int8)\n",
    "M"
   ]
  },
  {
   "cell_type": "code",
   "execution_count": 24,
   "id": "37b480ed-91ab-4798-8ff6-d83f8d42a37f",
   "metadata": {},
   "outputs": [
    {
     "data": {
      "text/plain": [
       "(4, 3)"
      ]
     },
     "execution_count": 24,
     "metadata": {},
     "output_type": "execute_result"
    }
   ],
   "source": [
    "M.shape"
   ]
  },
  {
   "cell_type": "code",
   "execution_count": 30,
   "id": "f31c8858-51bf-48ce-8a8f-105aa8b98552",
   "metadata": {},
   "outputs": [
    {
     "data": {
      "text/plain": [
       "12"
      ]
     },
     "execution_count": 30,
     "metadata": {},
     "output_type": "execute_result"
    }
   ],
   "source": [
    "M.size"
   ]
  },
  {
   "cell_type": "code",
   "execution_count": 32,
   "id": "0a52e3f3-a703-4cd2-ae04-47dd800af2e4",
   "metadata": {},
   "outputs": [
    {
     "data": {
      "text/plain": [
       "array([5, 7, 3], dtype=int8)"
      ]
     },
     "execution_count": 32,
     "metadata": {},
     "output_type": "execute_result"
    }
   ],
   "source": [
    "M.diagonal()"
   ]
  },
  {
   "cell_type": "code",
   "execution_count": 34,
   "id": "e97ca0a1-cef3-4ecc-8cd6-e55cbc6d4e66",
   "metadata": {},
   "outputs": [
    {
     "data": {
      "text/plain": [
       "2"
      ]
     },
     "execution_count": 34,
     "metadata": {},
     "output_type": "execute_result"
    }
   ],
   "source": [
    "M.ndim"
   ]
  },
  {
   "cell_type": "code",
   "execution_count": 38,
   "id": "a70612f2-47c4-4ede-8fee-1aaffef239f3",
   "metadata": {},
   "outputs": [
    {
     "data": {
      "text/plain": [
       "array([5, 4, 3], dtype=int8)"
      ]
     },
     "execution_count": 38,
     "metadata": {},
     "output_type": "execute_result"
    }
   ],
   "source": [
    "M[0]"
   ]
  },
  {
   "cell_type": "code",
   "execution_count": 40,
   "id": "3757ff71-0041-4493-bb9a-3924c45d472f",
   "metadata": {},
   "outputs": [
    {
     "data": {
      "text/plain": [
       "array([[5, 4, 3],\n",
       "       [1, 7, 8],\n",
       "       [1, 5, 3],\n",
       "       [4, 8, 9]], dtype=int8)"
      ]
     },
     "execution_count": 40,
     "metadata": {},
     "output_type": "execute_result"
    }
   ],
   "source": [
    "M"
   ]
  },
  {
   "cell_type": "code",
   "execution_count": 44,
   "id": "f1af8fb4-ae7f-4bfd-a192-11701116fd52",
   "metadata": {},
   "outputs": [],
   "source": [
    "M[1,2]=2"
   ]
  },
  {
   "cell_type": "code",
   "execution_count": 46,
   "id": "e0d37710-6ce4-4e54-8def-dd979bb0e8f7",
   "metadata": {},
   "outputs": [
    {
     "data": {
      "text/plain": [
       "array([[5, 4, 3],\n",
       "       [1, 7, 2],\n",
       "       [1, 5, 3],\n",
       "       [4, 8, 9]], dtype=int8)"
      ]
     },
     "execution_count": 46,
     "metadata": {},
     "output_type": "execute_result"
    }
   ],
   "source": [
    "M"
   ]
  },
  {
   "cell_type": "code",
   "execution_count": 50,
   "id": "97aa71cd-f55d-413c-aa2a-adc98599c27b",
   "metadata": {},
   "outputs": [
    {
     "data": {
      "text/plain": [
       "array([[5, 4, 3, 1],\n",
       "       [7, 2, 1, 5],\n",
       "       [3, 4, 8, 9]], dtype=int8)"
      ]
     },
     "execution_count": 50,
     "metadata": {},
     "output_type": "execute_result"
    }
   ],
   "source": [
    "M.reshape(3,4)"
   ]
  },
  {
   "cell_type": "code",
   "execution_count": 52,
   "id": "6c1df8d8-dd68-464c-9396-a5e1442f96a9",
   "metadata": {},
   "outputs": [
    {
     "data": {
      "text/plain": [
       "array([[5],\n",
       "       [4],\n",
       "       [3],\n",
       "       [1],\n",
       "       [7],\n",
       "       [2],\n",
       "       [1],\n",
       "       [5],\n",
       "       [3],\n",
       "       [4],\n",
       "       [8],\n",
       "       [9]], dtype=int8)"
      ]
     },
     "execution_count": 52,
     "metadata": {},
     "output_type": "execute_result"
    }
   ],
   "source": [
    "M.reshape(12,1)"
   ]
  },
  {
   "cell_type": "code",
   "execution_count": 54,
   "id": "2eef9df2-c4a8-47bf-9a72-8c1e07dceaa4",
   "metadata": {},
   "outputs": [
    {
     "data": {
      "text/plain": [
       "array([[5, 4],\n",
       "       [3, 1],\n",
       "       [7, 2],\n",
       "       [1, 5],\n",
       "       [3, 4],\n",
       "       [8, 9]], dtype=int8)"
      ]
     },
     "execution_count": 54,
     "metadata": {},
     "output_type": "execute_result"
    }
   ],
   "source": [
    "M.reshape(6,2)"
   ]
  },
  {
   "cell_type": "code",
   "execution_count": 56,
   "id": "46cb0117-c5fa-4d4d-aa12-a91f980ff6a6",
   "metadata": {},
   "outputs": [
    {
     "data": {
      "text/plain": [
       "array([[5, 4],\n",
       "       [3, 1],\n",
       "       [7, 2],\n",
       "       [1, 5],\n",
       "       [3, 4],\n",
       "       [8, 9]], dtype=int8)"
      ]
     },
     "execution_count": 56,
     "metadata": {},
     "output_type": "execute_result"
    }
   ],
   "source": [
    "M.reshape(-1,2)"
   ]
  },
  {
   "cell_type": "code",
   "execution_count": 58,
   "id": "20e9e4fc-f89f-4a73-a7f1-d3f77399f6fc",
   "metadata": {},
   "outputs": [
    {
     "data": {
      "text/plain": [
       "array([5, 4, 3, 1, 7, 2, 1, 5, 3, 4, 8, 9], dtype=int8)"
      ]
     },
     "execution_count": 58,
     "metadata": {},
     "output_type": "execute_result"
    }
   ],
   "source": [
    "M.reshape(-1)"
   ]
  },
  {
   "cell_type": "code",
   "execution_count": 60,
   "id": "23523fe3-5c72-494e-9c6c-06d937a6c0eb",
   "metadata": {},
   "outputs": [
    {
     "data": {
      "text/plain": [
       "array([[5, 4, 3],\n",
       "       [1, 7, 2],\n",
       "       [1, 5, 3],\n",
       "       [4, 8, 9]], dtype=int8)"
      ]
     },
     "execution_count": 60,
     "metadata": {},
     "output_type": "execute_result"
    }
   ],
   "source": [
    "M"
   ]
  },
  {
   "cell_type": "code",
   "execution_count": 66,
   "id": "828b99f7-e78f-476c-9bf6-66a269203b03",
   "metadata": {},
   "outputs": [
    {
     "data": {
      "text/plain": [
       "array([5, 4, 3, 1, 7, 2, 1, 5, 3, 4, 8, 9], dtype=int8)"
      ]
     },
     "execution_count": 66,
     "metadata": {},
     "output_type": "execute_result"
    }
   ],
   "source": [
    "#one d\n",
    "M.flatten()"
   ]
  },
  {
   "cell_type": "code",
   "execution_count": 80,
   "id": "30dabe47-e16c-4e06-b519-a39524654eae",
   "metadata": {},
   "outputs": [],
   "source": [
    "v1=np.array([1,2,3,4,5,6,7,8,9])"
   ]
  },
  {
   "cell_type": "code",
   "execution_count": 82,
   "id": "4db595ff-c902-40e4-893b-ada0e7815498",
   "metadata": {},
   "outputs": [
    {
     "data": {
      "text/plain": [
       "array([[1, 4, 7],\n",
       "       [2, 5, 8],\n",
       "       [3, 6, 9]])"
      ]
     },
     "execution_count": 82,
     "metadata": {},
     "output_type": "execute_result"
    }
   ],
   "source": [
    "v1.reshape(3,3).transpose()"
   ]
  },
  {
   "cell_type": "code",
   "execution_count": 74,
   "id": "b2a950fe-e3f9-4abb-96a9-9a7f5593aa81",
   "metadata": {},
   "outputs": [
    {
     "data": {
      "text/plain": [
       "array([1, 2, 3, 4, 5, 6, 7, 8, 9])"
      ]
     },
     "execution_count": 74,
     "metadata": {},
     "output_type": "execute_result"
    }
   ],
   "source": []
  },
  {
   "cell_type": "code",
   "execution_count": 76,
   "id": "2defb308-87aa-49da-bc5b-8018ee4597b9",
   "metadata": {},
   "outputs": [
    {
     "data": {
      "text/plain": [
       "array([[1, 2, 3],\n",
       "       [4, 5, 6],\n",
       "       [7, 8, 9]])"
      ]
     },
     "execution_count": 76,
     "metadata": {},
     "output_type": "execute_result"
    }
   ],
   "source": [
    "np.arange(1,10).reshape(3,3)"
   ]
  },
  {
   "cell_type": "code",
   "execution_count": 92,
   "id": "db8bead9-770a-4ef6-8a22-51978b981a42",
   "metadata": {},
   "outputs": [
    {
     "data": {
      "text/plain": [
       "array([[5., 4., 3.],\n",
       "       [1., 7., 2.],\n",
       "       [1., 5., 3.],\n",
       "       [4., 8., 9.]], dtype=float16)"
      ]
     },
     "execution_count": 92,
     "metadata": {},
     "output_type": "execute_result"
    }
   ],
   "source": [
    "M.astype(np.float16)"
   ]
  },
  {
   "cell_type": "code",
   "execution_count": 96,
   "id": "db900064-cdfc-4c0e-b878-735948687021",
   "metadata": {},
   "outputs": [
    {
     "data": {
      "text/plain": [
       "array([[ True,  True,  True],\n",
       "       [ True,  True,  True],\n",
       "       [ True,  True,  True],\n",
       "       [ True,  True,  True]])"
      ]
     },
     "execution_count": 96,
     "metadata": {},
     "output_type": "execute_result"
    }
   ],
   "source": [
    "M.astype(np.bool_)"
   ]
  },
  {
   "cell_type": "code",
   "execution_count": 102,
   "id": "5e55c1a9-7f3b-4bee-8724-ac488312dce0",
   "metadata": {},
   "outputs": [
    {
     "name": "stdout",
     "output_type": "stream",
     "text": [
      "[1, 2, 3]\n",
      "[2, 4, 6]\n",
      "[3, 6, 9]\n"
     ]
    }
   ],
   "source": [
    "matrix=[]\n",
    "\n",
    "for i in range(3):\n",
    "    rows=[]\n",
    "    for j in range(3):\n",
    "        rows.append((i+1)*(j+1))\n",
    "    matrix.append(rows)\n",
    "\n",
    "for row in matrix:\n",
    "    print(row)\n",
    "\n",
    "        "
   ]
  },
  {
   "cell_type": "code",
   "execution_count": 117,
   "id": "252fafcd-03fa-4665-9fd2-79fdb792f102",
   "metadata": {},
   "outputs": [
    {
     "name": "stdout",
     "output_type": "stream",
     "text": [
      "5 4 3 \n",
      "1 7 2 \n",
      "1 5 3 \n"
     ]
    }
   ],
   "source": [
    "for i in range(3):\n",
    "    for j in range(3):\n",
    "        print(M[i][j],  end =' ')\n",
    "    print()\n"
   ]
  },
  {
   "cell_type": "code",
   "execution_count": null,
   "id": "1cecb824-6f65-458c-b742-446ed45d089d",
   "metadata": {},
   "outputs": [],
   "source": [
    "# #for row in M:\n",
    "#     for value in row:\n",
    "#         print(value,end=' ')\n",
    "#     print()"
   ]
  },
  {
   "cell_type": "code",
   "execution_count": 124,
   "id": "9fc72c12-581b-44af-aeda-99e54c7fb570",
   "metadata": {},
   "outputs": [
    {
     "data": {
      "text/plain": [
       "4.0"
      ]
     },
     "execution_count": 124,
     "metadata": {},
     "output_type": "execute_result"
    }
   ],
   "source": [
    "np.median(M)"
   ]
  },
  {
   "cell_type": "code",
   "execution_count": 128,
   "id": "70687ecc-d4ef-402a-a513-6f7f5f9845c8",
   "metadata": {},
   "outputs": [
    {
     "data": {
      "text/plain": [
       "52"
      ]
     },
     "execution_count": 128,
     "metadata": {},
     "output_type": "execute_result"
    }
   ],
   "source": [
    "M.sum()"
   ]
  },
  {
   "cell_type": "code",
   "execution_count": 132,
   "id": "447334ca-b091-4c9b-8337-fb6f86d02f64",
   "metadata": {},
   "outputs": [
    {
     "data": {
      "text/plain": [
       "array([[0., 0., 0.],\n",
       "       [0., 0., 0.],\n",
       "       [0., 0., 0.]])"
      ]
     },
     "execution_count": 132,
     "metadata": {},
     "output_type": "execute_result"
    }
   ],
   "source": [
    "Z=np.zeros([3,3])\n",
    "Z"
   ]
  },
  {
   "cell_type": "code",
   "execution_count": 134,
   "id": "bd0b72ba-2081-4008-9c90-2657105b2eda",
   "metadata": {},
   "outputs": [
    {
     "data": {
      "text/plain": [
       "array([[1., 1., 1., 1.],\n",
       "       [1., 1., 1., 1.],\n",
       "       [1., 1., 1., 1.],\n",
       "       [1., 1., 1., 1.]])"
      ]
     },
     "execution_count": 134,
     "metadata": {},
     "output_type": "execute_result"
    }
   ],
   "source": [
    "O=np.ones([4,4])\n",
    "O"
   ]
  },
  {
   "cell_type": "code",
   "execution_count": 139,
   "id": "d90d3d57-ed3d-4e1d-974d-c23f800278c9",
   "metadata": {},
   "outputs": [
    {
     "data": {
      "text/plain": [
       "16.0"
      ]
     },
     "execution_count": 139,
     "metadata": {},
     "output_type": "execute_result"
    }
   ],
   "source": [
    "O.sum()\n"
   ]
  },
  {
   "cell_type": "code",
   "execution_count": 145,
   "id": "fa469728-a185-48c1-9d3b-fd27c5c98ffc",
   "metadata": {},
   "outputs": [],
   "source": [
    "S = np.arange(15).reshape(3,5)"
   ]
  },
  {
   "cell_type": "code",
   "execution_count": 147,
   "id": "56a62d49-b85e-49be-b9db-227ba27aa959",
   "metadata": {},
   "outputs": [
    {
     "data": {
      "text/plain": [
       "array([[ 0,  1,  2,  3,  4],\n",
       "       [ 5,  6,  7,  8,  9],\n",
       "       [10, 11, 12, 13, 14]])"
      ]
     },
     "execution_count": 147,
     "metadata": {},
     "output_type": "execute_result"
    }
   ],
   "source": [
    "S"
   ]
  },
  {
   "cell_type": "code",
   "execution_count": 159,
   "id": "603c3632-d5c8-4af8-886a-24cf4af9ec2a",
   "metadata": {},
   "outputs": [
    {
     "data": {
      "text/plain": [
       "array([[ 6],\n",
       "       [11]])"
      ]
     },
     "execution_count": 159,
     "metadata": {},
     "output_type": "execute_result"
    }
   ],
   "source": [
    "S[1:3, 1:2]"
   ]
  },
  {
   "cell_type": "code",
   "execution_count": 191,
   "id": "1efbf4c8-0ae4-4f55-a744-988ef8eeb1a5",
   "metadata": {},
   "outputs": [],
   "source": [
    "M1=np.array([[6,8,7],[4,1,3],[5,2,9]])"
   ]
  },
  {
   "cell_type": "code",
   "execution_count": 193,
   "id": "fa43001b-c7ed-4357-9130-08ca8efb2e95",
   "metadata": {},
   "outputs": [
    {
     "data": {
      "text/plain": [
       "array([[6, 8, 7],\n",
       "       [4, 1, 3],\n",
       "       [5, 2, 9]])"
      ]
     },
     "execution_count": 193,
     "metadata": {},
     "output_type": "execute_result"
    }
   ],
   "source": [
    "M1"
   ]
  },
  {
   "cell_type": "code",
   "execution_count": 195,
   "id": "40b49a0e-5cf2-4104-84ec-622349815d53",
   "metadata": {},
   "outputs": [],
   "source": [
    "for i in range(M1.shape[0]):\n",
    "    for j in range(M1.shape[1]):\n",
    "        if M1[i][j]%2==1:#0 for even\n",
    "            M1[i][j]=0\n",
    "            \n",
    "\n",
    "\n",
    "    \n",
    "    "
   ]
  },
  {
   "cell_type": "code",
   "execution_count": 197,
   "id": "9f939a07-3678-4680-b9ac-c8dded45fa89",
   "metadata": {},
   "outputs": [
    {
     "data": {
      "text/plain": [
       "array([[6, 8, 0],\n",
       "       [4, 0, 0],\n",
       "       [0, 2, 0]])"
      ]
     },
     "execution_count": 197,
     "metadata": {},
     "output_type": "execute_result"
    }
   ],
   "source": [
    "M1"
   ]
  },
  {
   "cell_type": "code",
   "execution_count": 278,
   "id": "86b60ef5-a05b-4696-bc75-5d70640459c0",
   "metadata": {},
   "outputs": [],
   "source": [
    "M1=np.array([[5,4,3],[1,7,8],[0,2,3],[7,5,1]])#unsigned integer\n",
    "M2=np.array([[2,8,1],[0,2,5],[1,9,4],[6,2,6]])"
   ]
  },
  {
   "cell_type": "code",
   "execution_count": 231,
   "id": "f300557b-db2a-4fbf-82ec-3ba6ad7569d5",
   "metadata": {},
   "outputs": [
    {
     "data": {
      "text/plain": [
       "((4, 3), (4, 3))"
      ]
     },
     "execution_count": 231,
     "metadata": {},
     "output_type": "execute_result"
    }
   ],
   "source": [
    "M1.shape,M2.shape"
   ]
  },
  {
   "cell_type": "code",
   "execution_count": 233,
   "id": "b01b1fa4-1725-4928-9722-441cf54b90f0",
   "metadata": {},
   "outputs": [
    {
     "data": {
      "text/plain": [
       "array([[  3, 252,   2],\n",
       "       [  1,   5,   3],\n",
       "       [255, 249, 255],\n",
       "       [  1,   3, 251]], dtype=uint8)"
      ]
     },
     "execution_count": 233,
     "metadata": {},
     "output_type": "execute_result"
    }
   ],
   "source": [
    "M3=M1-M2\n",
    "M3"
   ]
  },
  {
   "cell_type": "code",
   "execution_count": 235,
   "id": "32a4a942-0bad-4747-9b71-9aeb288b37f8",
   "metadata": {},
   "outputs": [
    {
     "data": {
      "text/plain": [
       "array([[15, 14, 13],\n",
       "       [11, 17, 18],\n",
       "       [10, 12, 13],\n",
       "       [17, 15, 11]], dtype=uint8)"
      ]
     },
     "execution_count": 235,
     "metadata": {},
     "output_type": "execute_result"
    }
   ],
   "source": [
    "M1+10"
   ]
  },
  {
   "cell_type": "code",
   "execution_count": 237,
   "id": "ed9bc520-5231-4a6c-8b54-5f980576f71a",
   "metadata": {},
   "outputs": [
    {
     "data": {
      "text/plain": [
       "array([[10,  8,  6],\n",
       "       [ 2, 14, 16],\n",
       "       [ 0,  4,  6],\n",
       "       [14, 10,  2]], dtype=uint8)"
      ]
     },
     "execution_count": 237,
     "metadata": {},
     "output_type": "execute_result"
    }
   ],
   "source": [
    "M1*2"
   ]
  },
  {
   "cell_type": "code",
   "execution_count": 248,
   "id": "b265a383-ce62-435a-8c30-15eb2d11d05c",
   "metadata": {},
   "outputs": [
    {
     "data": {
      "text/plain": [
       "array([[5, 4, 3],\n",
       "       [1, 7, 8],\n",
       "       [0, 2, 3],\n",
       "       [7, 5, 1]], dtype=uint8)"
      ]
     },
     "execution_count": 248,
     "metadata": {},
     "output_type": "execute_result"
    }
   ],
   "source": [
    "M1"
   ]
  },
  {
   "cell_type": "code",
   "execution_count": 250,
   "id": "de2fdeeb-9c0b-4249-961f-9435e6ac71dd",
   "metadata": {},
   "outputs": [
    {
     "data": {
      "text/plain": [
       "array([[5, 4, 3],\n",
       "       [1, 7, 2],\n",
       "       [1, 5, 3],\n",
       "       [4, 8, 9]], dtype=int8)"
      ]
     },
     "execution_count": 250,
     "metadata": {},
     "output_type": "execute_result"
    }
   ],
   "source": [
    "M"
   ]
  },
  {
   "cell_type": "code",
   "execution_count": 252,
   "id": "2b1cdec2-2993-4097-a89a-9feada73d0e6",
   "metadata": {},
   "outputs": [
    {
     "data": {
      "text/plain": [
       "array([[15, 12,  9],\n",
       "       [ 3, 21,  6],\n",
       "       [ 3, 15,  9],\n",
       "       [12, 24, 27]], dtype=int8)"
      ]
     },
     "execution_count": 252,
     "metadata": {},
     "output_type": "execute_result"
    }
   ],
   "source": [
    "3 * M"
   ]
  },
  {
   "cell_type": "code",
   "execution_count": 254,
   "id": "dabb4587-55ef-4172-aa65-ceb7adaeb41a",
   "metadata": {},
   "outputs": [
    {
     "data": {
      "text/plain": [
       "array([[5, 4, 3],\n",
       "       [1, 7, 8],\n",
       "       [0, 2, 3],\n",
       "       [7, 5, 1]], dtype=uint8)"
      ]
     },
     "execution_count": 254,
     "metadata": {},
     "output_type": "execute_result"
    }
   ],
   "source": [
    "M1"
   ]
  },
  {
   "cell_type": "code",
   "execution_count": 256,
   "id": "9bf9ced4-2f32-4634-942f-9c236440a8a6",
   "metadata": {},
   "outputs": [
    {
     "data": {
      "text/plain": [
       "array([[2, 8, 1],\n",
       "       [0, 2, 5],\n",
       "       [1, 9, 4],\n",
       "       [6, 2, 6]], dtype=uint8)"
      ]
     },
     "execution_count": 256,
     "metadata": {},
     "output_type": "execute_result"
    }
   ],
   "source": [
    "M2"
   ]
  },
  {
   "cell_type": "code",
   "execution_count": 260,
   "id": "6b2dbb4a-fc2b-4954-865e-903314f5129b",
   "metadata": {},
   "outputs": [
    {
     "data": {
      "text/plain": [
       "array([[21, 36, 12],\n",
       "       [ 3, 27, 39],\n",
       "       [ 3, 33, 21],\n",
       "       [39, 21, 21]], dtype=uint8)"
      ]
     },
     "execution_count": 260,
     "metadata": {},
     "output_type": "execute_result"
    }
   ],
   "source": [
    "3* (M1 + M2)"
   ]
  },
  {
   "cell_type": "code",
   "execution_count": 262,
   "id": "2fdcd3df-2b1e-4e35-b80c-1ca7faa94acd",
   "metadata": {},
   "outputs": [
    {
     "data": {
      "text/plain": [
       "array([[35, 28, 21],\n",
       "       [ 7, 49, 56],\n",
       "       [ 0, 14, 21],\n",
       "       [49, 35,  7]], dtype=uint8)"
      ]
     },
     "execution_count": 262,
     "metadata": {},
     "output_type": "execute_result"
    }
   ],
   "source": [
    "(3 + 4) * M1"
   ]
  },
  {
   "cell_type": "code",
   "execution_count": 264,
   "id": "6e67957b-dc5e-4590-976d-0a76af442b35",
   "metadata": {},
   "outputs": [
    {
     "data": {
      "text/plain": [
       "array([[35, 28, 21],\n",
       "       [ 7, 49, 56],\n",
       "       [ 0, 14, 21],\n",
       "       [49, 35,  7]], dtype=uint8)"
      ]
     },
     "execution_count": 264,
     "metadata": {},
     "output_type": "execute_result"
    }
   ],
   "source": [
    " 3 * M1 + 4 * M1"
   ]
  },
  {
   "cell_type": "code",
   "execution_count": 266,
   "id": "e6200e97-ddb8-43a3-b753-2afe878a45cf",
   "metadata": {},
   "outputs": [
    {
     "data": {
      "text/plain": [
       "array([[60, 48, 36],\n",
       "       [12, 84, 96],\n",
       "       [ 0, 24, 36],\n",
       "       [84, 60, 12]], dtype=uint8)"
      ]
     },
     "execution_count": 266,
     "metadata": {},
     "output_type": "execute_result"
    }
   ],
   "source": [
    "3 * 4 * M1"
   ]
  },
  {
   "cell_type": "code",
   "execution_count": 270,
   "id": "728264bc-b4f9-4a6a-82ea-ec5126e0a5f0",
   "metadata": {},
   "outputs": [
    {
     "data": {
      "text/plain": [
       "(array([[60, 48, 36],\n",
       "        [12, 84, 96],\n",
       "        [ 0, 24, 36],\n",
       "        [84, 60, 12]], dtype=uint8),\n",
       " array([[60, 48, 36],\n",
       "        [12, 84, 96],\n",
       "        [ 0, 24, 36],\n",
       "        [84, 60, 12]], dtype=uint8),\n",
       " array([[60, 48, 36],\n",
       "        [12, 84, 96],\n",
       "        [ 0, 24, 36],\n",
       "        [84, 60, 12]], dtype=uint8))"
      ]
     },
     "execution_count": 270,
     "metadata": {},
     "output_type": "execute_result"
    }
   ],
   "source": [
    "3 * 4 * M1, 4 *(M1 * 3), M1 * (4 * 3)"
   ]
  },
  {
   "cell_type": "code",
   "execution_count": 280,
   "id": "13bbe845-8832-4a0f-a2a0-3874ba67a2e3",
   "metadata": {},
   "outputs": [
    {
     "data": {
      "text/plain": [
       "array([[-15, -12,  -9],\n",
       "       [ -3, -21, -24],\n",
       "       [  0,  -6,  -9],\n",
       "       [-21, -15,  -3]])"
      ]
     },
     "execution_count": 280,
     "metadata": {},
     "output_type": "execute_result"
    }
   ],
   "source": [
    "-3 * M1"
   ]
  },
  {
   "cell_type": "code",
   "execution_count": 282,
   "id": "08878db5-33d9-4aa6-b8ce-215cd66828b3",
   "metadata": {},
   "outputs": [
    {
     "data": {
      "text/plain": [
       "array([[-15, -12,  -9],\n",
       "       [ -3, -21, -24],\n",
       "       [  0,  -6,  -9],\n",
       "       [-21, -15,  -3]])"
      ]
     },
     "execution_count": 282,
     "metadata": {},
     "output_type": "execute_result"
    }
   ],
   "source": [
    "-(3 * M1)"
   ]
  },
  {
   "cell_type": "code",
   "execution_count": 284,
   "id": "2861d31b-0f26-4052-bf81-506843538f5d",
   "metadata": {},
   "outputs": [
    {
     "data": {
      "text/plain": [
       "array([[-5, -4, -3],\n",
       "       [-1, -7, -8],\n",
       "       [ 0, -2, -3],\n",
       "       [-7, -5, -1]])"
      ]
     },
     "execution_count": 284,
     "metadata": {},
     "output_type": "execute_result"
    }
   ],
   "source": [
    "-1 * M1"
   ]
  },
  {
   "cell_type": "code",
   "execution_count": 288,
   "id": "a2e8c310-5eb8-4e02-86b4-5f1f20d3642d",
   "metadata": {},
   "outputs": [],
   "source": [
    "####3 Mtrix Multiplication\n",
    "#matmul()"
   ]
  },
  {
   "cell_type": "code",
   "execution_count": 299,
   "id": "e352c223-3cb7-4c10-a49d-272dd1961876",
   "metadata": {},
   "outputs": [],
   "source": [
    "M1=np.array([[5,4,3],\n",
    "     [1,7,8]])\n",
    "M2=np.array([[2,8],\n",
    "     [1,0],\n",
    "     [2,5]])"
   ]
  },
  {
   "cell_type": "code",
   "execution_count": 301,
   "id": "71cc519a-c8c6-4c4b-81a3-14e920ff22d5",
   "metadata": {},
   "outputs": [
    {
     "data": {
      "text/plain": [
       "array([[20, 55],\n",
       "       [25, 48]])"
      ]
     },
     "execution_count": 301,
     "metadata": {},
     "output_type": "execute_result"
    }
   ],
   "source": [
    "np.matmul(M1,M2)\n"
   ]
  },
  {
   "cell_type": "code",
   "execution_count": 307,
   "id": "a77bcfc6-0b23-42b4-ba2b-0688a7b056e3",
   "metadata": {},
   "outputs": [],
   "source": [
    "A=np.array([[1,2],[3,4]])\n",
    "B=np.array([[4,6],[6,2]])\n",
    "C=np.array([[9,3],[6,8]])"
   ]
  },
  {
   "cell_type": "code",
   "execution_count": 311,
   "id": "72a2c01f-0865-4176-b624-b0b2dda39e27",
   "metadata": {},
   "outputs": [
    {
     "data": {
      "text/plain": [
       "(array([[204, 128],\n",
       "        [480, 316]]),\n",
       " array([[204, 128],\n",
       "        [480, 316]]))"
      ]
     },
     "execution_count": 311,
     "metadata": {},
     "output_type": "execute_result"
    }
   ],
   "source": [
    "A@ (B@C),(A@B)@C"
   ]
  },
  {
   "cell_type": "code",
   "execution_count": 317,
   "id": "194c4d40-b000-4452-9d14-83bbce4246df",
   "metadata": {},
   "outputs": [
    {
     "data": {
      "text/plain": [
       "(array([[20, 55],\n",
       "        [25, 48]]),\n",
       " array([[18, 64, 70],\n",
       "        [ 5,  4,  3],\n",
       "        [15, 43, 46]]))"
      ]
     },
     "execution_count": 317,
     "metadata": {},
     "output_type": "execute_result"
    }
   ],
   "source": [
    "M1 @ M2,M2 @ M1"
   ]
  },
  {
   "cell_type": "code",
   "execution_count": 323,
   "id": "9399c3cb-086a-44a9-99da-12a24d813c38",
   "metadata": {},
   "outputs": [
    {
     "data": {
      "text/plain": [
       "(array([[37, 29],\n",
       "        [87, 67]]),\n",
       " array([[37, 29],\n",
       "        [87, 67]]))"
      ]
     },
     "execution_count": 323,
     "metadata": {},
     "output_type": "execute_result"
    }
   ],
   "source": [
    "A @ ( B + C), A@B+A@C"
   ]
  },
  {
   "cell_type": "code",
   "execution_count": 325,
   "id": "dbbea4fa-39e6-451d-b4c7-66bcfed0f69f",
   "metadata": {},
   "outputs": [
    {
     "data": {
      "text/plain": [
       "(array([[ 93,  79],\n",
       "        [117,  75]]),\n",
       " array([[ 93,  79],\n",
       "        [117,  75]]))"
      ]
     },
     "execution_count": 325,
     "metadata": {},
     "output_type": "execute_result"
    }
   ],
   "source": [
    "(A + B) @ C, A@ C + B @ C"
   ]
  },
  {
   "cell_type": "code",
   "execution_count": 327,
   "id": "d3e19134-6567-42c9-858f-31b4bf5a0774",
   "metadata": {},
   "outputs": [
    {
     "data": {
      "text/plain": [
       "array([[5, 4, 3],\n",
       "       [1, 7, 8]])"
      ]
     },
     "execution_count": 327,
     "metadata": {},
     "output_type": "execute_result"
    }
   ],
   "source": [
    "M1"
   ]
  },
  {
   "cell_type": "code",
   "execution_count": 329,
   "id": "3fa5cf5d-e98f-4f84-a784-1c6de72f20a5",
   "metadata": {},
   "outputs": [
    {
     "data": {
      "text/plain": [
       "array([[5, 1],\n",
       "       [4, 7],\n",
       "       [3, 8]])"
      ]
     },
     "execution_count": 329,
     "metadata": {},
     "output_type": "execute_result"
    }
   ],
   "source": [
    "M1.transpose()"
   ]
  },
  {
   "cell_type": "code",
   "execution_count": 331,
   "id": "3775eb84-0aad-4a8f-aed9-ce81948041d5",
   "metadata": {},
   "outputs": [
    {
     "data": {
      "text/plain": [
       "array([[5, 1],\n",
       "       [4, 7],\n",
       "       [3, 8]])"
      ]
     },
     "execution_count": 331,
     "metadata": {},
     "output_type": "execute_result"
    }
   ],
   "source": [
    "M1.T"
   ]
  },
  {
   "cell_type": "code",
   "execution_count": 343,
   "id": "8cd990bc-6eac-4628-9df9-7b8912fdde5a",
   "metadata": {},
   "outputs": [
    {
     "data": {
      "text/plain": [
       "(array([[2, 8],\n",
       "        [1, 0],\n",
       "        [2, 5]]),\n",
       " array([[2, 8],\n",
       "        [1, 0],\n",
       "        [2, 5]]))"
      ]
     },
     "execution_count": 343,
     "metadata": {},
     "output_type": "execute_result"
    }
   ],
   "source": [
    "M2,M2.T.T"
   ]
  },
  {
   "cell_type": "code",
   "execution_count": 356,
   "id": "ea332764-f9db-4ce7-bb0e-cb3354e69647",
   "metadata": {},
   "outputs": [
    {
     "data": {
      "text/plain": [
       "(array([[5, 9],\n",
       "        [8, 6]]),\n",
       " array([[5, 8],\n",
       "        [9, 6]]))"
      ]
     },
     "execution_count": 356,
     "metadata": {},
     "output_type": "execute_result"
    }
   ],
   "source": [
    "A.T +B.T, (A+B).T.T"
   ]
  },
  {
   "cell_type": "code",
   "execution_count": 360,
   "id": "ceff7a2a-ed20-4f48-b898-c0a23f3e7863",
   "metadata": {},
   "outputs": [
    {
     "data": {
      "text/plain": [
       "(array([[ 3,  9],\n",
       "        [ 6, 12]]),\n",
       " array([[ 3,  6],\n",
       "        [ 9, 12]]))"
      ]
     },
     "execution_count": 360,
     "metadata": {},
     "output_type": "execute_result"
    }
   ],
   "source": [
    "(3 * A). T, 3 * A.T.T"
   ]
  },
  {
   "cell_type": "code",
   "execution_count": 362,
   "id": "e1e3fbf5-5a16-4793-999b-247c1caa21ca",
   "metadata": {},
   "outputs": [
    {
     "data": {
      "text/plain": [
       "(array([[16, 36],\n",
       "        [10, 26]]),\n",
       " array([[16, 36],\n",
       "        [10, 26]]))"
      ]
     },
     "execution_count": 362,
     "metadata": {},
     "output_type": "execute_result"
    }
   ],
   "source": [
    "(A @ B) .T , B.T @  A.T"
   ]
  },
  {
   "cell_type": "code",
   "execution_count": 431,
   "id": "4f519faf-5636-4999-b696-a131b0eb78b4",
   "metadata": {},
   "outputs": [
    {
     "name": "stdout",
     "output_type": "stream",
     "text": [
      "enter number of rows:  2\n",
      "enter number of columns:  3\n",
      "enter values  1\n",
      "enter values  2\n",
      "enter values  3\n",
      "enter values  4\n",
      "enter values  5\n",
      "enter values  6\n"
     ]
    },
    {
     "name": "stdout",
     "output_type": "stream",
     "text": [
      "original Matrix: \n",
      " [[1 2 3]\n",
      " [4 5 6]]\n",
      "transpose of it is \n",
      ": [[1 4]\n",
      " [2 5]\n",
      " [3 6]]\n"
     ]
    }
   ],
   "source": [
    "rows=int(input(\"enter number of rows: \"))\n",
    "cols=int(input(\"enter number of columns: \"))\n",
    "M = np.zeros([rows,cols],dtype=np.int16)\n",
    "for i in range(rows):\n",
    "    for j in range(cols):\n",
    "        num=int(input('enter values '))\n",
    "        M[i,j]=num\n",
    "\n",
    "print(\"original Matrix: \\n\",M)\n",
    "print(\"transpose of it is \\n:\",M.T)"
   ]
  },
  {
   "cell_type": "code",
   "execution_count": 441,
   "id": "a23c40bd-dc0d-4338-a09e-9fd2f432fcad",
   "metadata": {},
   "outputs": [
    {
     "data": {
      "text/plain": [
       "8"
      ]
     },
     "execution_count": 441,
     "metadata": {},
     "output_type": "execute_result"
    }
   ],
   "source": [
    "M2=np.array([[2,8,1],\n",
    "             [0,2,5],\n",
    "             [1,9,4]],dtype=np.int8)\n",
    "\n",
    "c=M2.diagonal()\n",
    "c.sum()"
   ]
  },
  {
   "cell_type": "code",
   "execution_count": 459,
   "id": "d566d830-f9a5-4c89-af55-4e4e22934e1f",
   "metadata": {},
   "outputs": [
    {
     "data": {
      "text/plain": [
       "8"
      ]
     },
     "execution_count": 459,
     "metadata": {},
     "output_type": "execute_result"
    }
   ],
   "source": [
    "add=0\n",
    "for i in range(min(M2.shape)):\n",
    "    add=M2[i,i]+add\n",
    "\n",
    "add"
   ]
  },
  {
   "cell_type": "code",
   "execution_count": 461,
   "id": "8d83d603-c744-4812-8bb5-94a5bd74f205",
   "metadata": {},
   "outputs": [
    {
     "data": {
      "text/plain": [
       "12"
      ]
     },
     "execution_count": 461,
     "metadata": {},
     "output_type": "execute_result"
    }
   ],
   "source": [
    "add = 0\n",
    "for i in range(min(M1.shape)):\n",
    "    add = M1[i, i] + add\n",
    "\n",
    "add"
   ]
  },
  {
   "cell_type": "code",
   "execution_count": 475,
   "id": "e448c006-0fef-4919-94e2-c5fc58b199eb",
   "metadata": {},
   "outputs": [
    {
     "data": {
      "text/plain": [
       "8"
      ]
     },
     "execution_count": 475,
     "metadata": {},
     "output_type": "execute_result"
    }
   ],
   "source": [
    "M2.diagonal().sum()\n"
   ]
  },
  {
   "cell_type": "code",
   "execution_count": 477,
   "id": "365727fd-46d4-4ccd-a509-82d5afb6f8b9",
   "metadata": {},
   "outputs": [
    {
     "data": {
      "text/plain": [
       "8"
      ]
     },
     "execution_count": 477,
     "metadata": {},
     "output_type": "execute_result"
    }
   ],
   "source": [
    "M2.diagonal().sum()"
   ]
  },
  {
   "cell_type": "code",
   "execution_count": 489,
   "id": "b280db95-83f5-4d9f-ab0d-25545381bd66",
   "metadata": {},
   "outputs": [
    {
     "data": {
      "text/plain": [
       "(12, 8)"
      ]
     },
     "execution_count": 489,
     "metadata": {},
     "output_type": "execute_result"
    }
   ],
   "source": [
    "M1.trace(),M2.trace()"
   ]
  },
  {
   "cell_type": "code",
   "execution_count": 493,
   "id": "999e2529-efe2-421e-ae3e-f5e7833d87e9",
   "metadata": {},
   "outputs": [
    {
     "data": {
      "text/plain": [
       "(42, 42)"
      ]
     },
     "execution_count": 493,
     "metadata": {},
     "output_type": "execute_result"
    }
   ],
   "source": [
    "np.trace(A @ B) , np.trace(B @ A)"
   ]
  },
  {
   "cell_type": "code",
   "execution_count": 498,
   "id": "77a2fa06-43be-4a94-8ad2-50dbd1f99c7d",
   "metadata": {},
   "outputs": [
    {
     "data": {
      "text/plain": [
       "(12, 12)"
      ]
     },
     "execution_count": 498,
     "metadata": {},
     "output_type": "execute_result"
    }
   ],
   "source": [
    "M1.trace(), M1.T.trace()"
   ]
  },
  {
   "cell_type": "code",
   "execution_count": 504,
   "id": "7c6a02e5-83ca-4ae5-9603-c23e505fc5b2",
   "metadata": {},
   "outputs": [
    {
     "data": {
      "text/plain": [
       "(36, 36)"
      ]
     },
     "execution_count": 504,
     "metadata": {},
     "output_type": "execute_result"
    }
   ],
   "source": [
    "np.trace(M1*3), 3*M1.trace()"
   ]
  },
  {
   "cell_type": "code",
   "execution_count": 506,
   "id": "2b762474-0f8b-4781-b2ab-197fff74a419",
   "metadata": {},
   "outputs": [
    {
     "data": {
      "text/plain": [
       "(11, 11)"
      ]
     },
     "execution_count": 506,
     "metadata": {},
     "output_type": "execute_result"
    }
   ],
   "source": [
    "A.trace() +B.trace(),  np.trace(A+B)"
   ]
  },
  {
   "cell_type": "code",
   "execution_count": 508,
   "id": "195bed6d-3b50-4296-bf11-5728191f1415",
   "metadata": {},
   "outputs": [
    {
     "data": {
      "text/plain": [
       "array([[2, 8, 1],\n",
       "       [0, 2, 5],\n",
       "       [1, 9, 4]], dtype=int8)"
      ]
     },
     "execution_count": 508,
     "metadata": {},
     "output_type": "execute_result"
    }
   ],
   "source": [
    "M2"
   ]
  },
  {
   "cell_type": "code",
   "execution_count": 510,
   "id": "615c076d-3fb2-4c49-b3d8-464bee3f20e5",
   "metadata": {},
   "outputs": [
    {
     "data": {
      "text/plain": [
       "-36.0"
      ]
     },
     "execution_count": 510,
     "metadata": {},
     "output_type": "execute_result"
    }
   ],
   "source": [
    "np.linalg.det(M2)"
   ]
  },
  {
   "cell_type": "code",
   "execution_count": 523,
   "id": "b43a1898-06fd-4d60-b84e-6ed8385895f0",
   "metadata": {},
   "outputs": [
    {
     "data": {
      "text/plain": [
       "array([[2, 8, 1],\n",
       "       [0, 2, 5],\n",
       "       [1, 9, 4]], dtype=int8)"
      ]
     },
     "execution_count": 523,
     "metadata": {},
     "output_type": "execute_result"
    }
   ],
   "source": [
    "M2"
   ]
  },
  {
   "cell_type": "code",
   "execution_count": 525,
   "id": "8909f139-dfd9-4c5d-b84c-2450fec7cc46",
   "metadata": {},
   "outputs": [
    {
     "data": {
      "text/plain": [
       "array([[ 1.02777778,  0.63888889, -1.05555556],\n",
       "       [-0.13888889, -0.19444444,  0.27777778],\n",
       "       [ 0.05555556,  0.27777778, -0.11111111]])"
      ]
     },
     "execution_count": 525,
     "metadata": {},
     "output_type": "execute_result"
    }
   ],
   "source": [
    "np.linalg.inv(M2)"
   ]
  },
  {
   "cell_type": "code",
   "execution_count": 527,
   "id": "add535f2-29b8-425a-b125-ecd698451cd4",
   "metadata": {},
   "outputs": [
    {
     "data": {
      "text/plain": [
       "array([[5, 4, 3],\n",
       "       [1, 7, 8]])"
      ]
     },
     "execution_count": 527,
     "metadata": {},
     "output_type": "execute_result"
    }
   ],
   "source": [
    " M1"
   ]
  },
  {
   "cell_type": "code",
   "execution_count": 530,
   "id": "1f6cd54b-33aa-440f-8fee-911768f9f518",
   "metadata": {},
   "outputs": [
    {
     "data": {
      "text/plain": [
       "array([[  3, 252,   2],\n",
       "       [  1,   5,   3],\n",
       "       [255, 249, 255],\n",
       "       [  1,   3, 251]], dtype=uint8)"
      ]
     },
     "execution_count": 530,
     "metadata": {},
     "output_type": "execute_result"
    }
   ],
   "source": [
    "M3"
   ]
  },
  {
   "cell_type": "code",
   "execution_count": 532,
   "id": "28d21420-477a-4123-9bd9-5897652605f0",
   "metadata": {},
   "outputs": [
    {
     "data": {
      "text/plain": [
       "array([[2, 8, 1],\n",
       "       [0, 2, 5],\n",
       "       [1, 9, 4]], dtype=int8)"
      ]
     },
     "execution_count": 532,
     "metadata": {},
     "output_type": "execute_result"
    }
   ],
   "source": [
    "M2"
   ]
  },
  {
   "cell_type": "code",
   "execution_count": 538,
   "id": "eb4d9900-a499-4f92-83d1-55db57374ea3",
   "metadata": {},
   "outputs": [
    {
     "data": {
      "text/plain": [
       "3"
      ]
     },
     "execution_count": 538,
     "metadata": {},
     "output_type": "execute_result"
    }
   ],
   "source": [
    "np.linalg.matrix_rank(M2)"
   ]
  },
  {
   "cell_type": "code",
   "execution_count": 552,
   "id": "a173d9c7-9448-4ddf-8df9-80794113fe2d",
   "metadata": {},
   "outputs": [],
   "source": [
    "M4=np.array([[17,33,22],[2,4,6],[3,6,9]])"
   ]
  },
  {
   "cell_type": "code",
   "execution_count": 554,
   "id": "6f02a298-df5d-420e-be77-89b9d9165e9c",
   "metadata": {},
   "outputs": [
    {
     "data": {
      "text/plain": [
       "2"
      ]
     },
     "execution_count": 554,
     "metadata": {},
     "output_type": "execute_result"
    }
   ],
   "source": [
    "np.linalg.matrix_rank(M4)"
   ]
  },
  {
   "cell_type": "code",
   "execution_count": 555,
   "id": "18611b77-d1a9-4958-8a94-ca69b845ea48",
   "metadata": {},
   "outputs": [
    {
     "data": {
      "text/plain": [
       "array([[17, 33, 22],\n",
       "       [ 2,  4,  6],\n",
       "       [ 3,  6,  9]])"
      ]
     },
     "execution_count": 555,
     "metadata": {},
     "output_type": "execute_result"
    }
   ],
   "source": [
    "M4"
   ]
  },
  {
   "cell_type": "code",
   "execution_count": 581,
   "id": "53e973c7-310a-421f-a41c-dbba9c6d97ae",
   "metadata": {},
   "outputs": [],
   "source": []
  },
  {
   "cell_type": "code",
   "execution_count": 563,
   "id": "80f692ca-b434-4b1e-9e7f-86f611ab75c6",
   "metadata": {},
   "outputs": [],
   "source": [
    "R=np.array([[3,4,5],[1,3,8]])"
   ]
  },
  {
   "cell_type": "code",
   "execution_count": 565,
   "id": "384de305-de36-4303-94b2-d73755b741cc",
   "metadata": {},
   "outputs": [
    {
     "data": {
      "text/plain": [
       "array([[3, 4, 5, 1, 3, 8]])"
      ]
     },
     "execution_count": 565,
     "metadata": {},
     "output_type": "execute_result"
    }
   ],
   "source": [
    "R.reshape(1,-1)"
   ]
  },
  {
   "cell_type": "code",
   "execution_count": 567,
   "id": "ba81d9b0-6852-4f53-a9e5-72851dd61b85",
   "metadata": {},
   "outputs": [],
   "source": [
    "C=np.array([[3,4,5],[1,3,8]])"
   ]
  },
  {
   "cell_type": "code",
   "execution_count": 591,
   "id": "1b0728f1-a44e-42ed-b1eb-3febfcda320d",
   "metadata": {},
   "outputs": [],
   "source": [
    "CR=C.reshape(-1,1)"
   ]
  },
  {
   "cell_type": "code",
   "execution_count": 593,
   "id": "46016356-2ac5-4a54-b9f6-9c031ed400d4",
   "metadata": {},
   "outputs": [
    {
     "data": {
      "text/plain": [
       "array([[3],\n",
       "       [4],\n",
       "       [5],\n",
       "       [1],\n",
       "       [3],\n",
       "       [8]])"
      ]
     },
     "execution_count": 593,
     "metadata": {},
     "output_type": "execute_result"
    }
   ],
   "source": [
    "CR"
   ]
  },
  {
   "cell_type": "code",
   "execution_count": 595,
   "id": "2b29a0c0-3eee-462d-8b08-a435bec1fdd2",
   "metadata": {},
   "outputs": [
    {
     "data": {
      "text/plain": [
       "array([[3, 4, 5, 1, 3, 8]])"
      ]
     },
     "execution_count": 595,
     "metadata": {},
     "output_type": "execute_result"
    }
   ],
   "source": [
    "CR.T"
   ]
  },
  {
   "cell_type": "code",
   "execution_count": 597,
   "id": "072f2923-5b59-43c1-a050-835e08bed11b",
   "metadata": {},
   "outputs": [],
   "source": [
    "#square matrix"
   ]
  },
  {
   "cell_type": "code",
   "execution_count": 636,
   "id": "a22d77de-41c2-4526-9ce1-2471f0cee7bf",
   "metadata": {},
   "outputs": [],
   "source": [
    "S=np.array([[3,4,5,3],[1,3,8,2],[9,0,2,5]])"
   ]
  },
  {
   "cell_type": "code",
   "execution_count": 638,
   "id": "004cd817-b55d-4adb-9e52-dc04d0881875",
   "metadata": {},
   "outputs": [
    {
     "data": {
      "text/plain": [
       "array([[3, 4, 5, 3],\n",
       "       [1, 3, 8, 2],\n",
       "       [9, 0, 2, 5]])"
      ]
     },
     "execution_count": 638,
     "metadata": {},
     "output_type": "execute_result"
    }
   ],
   "source": [
    "S"
   ]
  },
  {
   "cell_type": "code",
   "execution_count": 644,
   "id": "9818efaa-55c2-45dc-964d-b8a870ef45f8",
   "metadata": {},
   "outputs": [],
   "source": [
    "def isSquareMatrix(M):\n",
    "    if M.shape[0]==M.shape[1]:\n",
    "        return True\n",
    "    else:\n",
    "        return False"
   ]
  },
  {
   "cell_type": "code",
   "execution_count": 642,
   "id": "2f9de759-5d38-46ec-a3f7-a8274089bc12",
   "metadata": {},
   "outputs": [
    {
     "data": {
      "text/plain": [
       "False"
      ]
     },
     "execution_count": 642,
     "metadata": {},
     "output_type": "execute_result"
    }
   ],
   "source": [
    "isSquareMatrix(S)"
   ]
  },
  {
   "cell_type": "code",
   "execution_count": 653,
   "id": "b2934f0e-ffd3-4a34-a3b1-1ae12528da98",
   "metadata": {},
   "outputs": [],
   "source": [
    "def isRectangularMatrix(M):\n",
    "    if M.shape[0]!=M.shape[1]:\n",
    "        return True\n",
    "    else:\n",
    "        return False"
   ]
  },
  {
   "cell_type": "code",
   "execution_count": 656,
   "id": "bcfaf6f9-79e8-4036-b544-5707ae31cace",
   "metadata": {},
   "outputs": [
    {
     "data": {
      "text/plain": [
       "False"
      ]
     },
     "execution_count": 656,
     "metadata": {},
     "output_type": "execute_result"
    }
   ],
   "source": [
    "isSquareMatrix(S)"
   ]
  },
  {
   "cell_type": "code",
   "execution_count": 658,
   "id": "54776796-ae2e-4b8f-bbea-4536e0cb5022",
   "metadata": {},
   "outputs": [],
   "source": [
    "#####Diagonal Matrix"
   ]
  },
  {
   "cell_type": "code",
   "execution_count": 687,
   "id": "33873bb2-2305-434c-8fea-1026ee4b990b",
   "metadata": {},
   "outputs": [
    {
     "data": {
      "text/plain": [
       "3"
      ]
     },
     "execution_count": 687,
     "metadata": {},
     "output_type": "execute_result"
    }
   ],
   "source": [
    "np.random.randint(1,10)"
   ]
  },
  {
   "cell_type": "code",
   "execution_count": 717,
   "id": "64fc467b-141f-432c-ab8c-b2facdd904ca",
   "metadata": {},
   "outputs": [
    {
     "name": "stdout",
     "output_type": "stream",
     "text": [
      "enter number of rows:  5\n"
     ]
    },
    {
     "data": {
      "text/plain": [
       "array([[8, 0, 0, 0, 0],\n",
       "       [0, 5, 0, 0, 0],\n",
       "       [0, 0, 4, 0, 0],\n",
       "       [0, 0, 0, 8, 0],\n",
       "       [0, 0, 0, 0, 2]], dtype=int16)"
      ]
     },
     "execution_count": 717,
     "metadata": {},
     "output_type": "execute_result"
    }
   ],
   "source": [
    "rows=int(input(\"enter number of rows: \"))\n",
    "\n",
    "matrix=np.zeros([rows,rows],dtype=np.int16)\n",
    "for i in range(rows):\n",
    "   matrix[i,i]= np.random.randint(1,10)\n",
    "   \n",
    "\n",
    "matrix\n"
   ]
  },
  {
   "cell_type": "code",
   "execution_count": 727,
   "id": "1dc24214-5579-42ed-b54c-3eb3629c7ab5",
   "metadata": {},
   "outputs": [],
   "source": [
    "def isDiagonalMatrix(M):\n",
    "    if(M>0).flatten().sum()==M.shape[0]:\n",
    "        return True\n",
    "    else:\n",
    "        return False\n",
    "        \n",
    "                \n",
    "                \n",
    "                "
   ]
  },
  {
   "cell_type": "code",
   "execution_count": 729,
   "id": "05ada799-6f37-4d21-8b38-ee18ae42d5a4",
   "metadata": {},
   "outputs": [
    {
     "data": {
      "text/plain": [
       "False"
      ]
     },
     "execution_count": 729,
     "metadata": {},
     "output_type": "execute_result"
    }
   ],
   "source": [
    "isDiagonalMatrix(M)"
   ]
  },
  {
   "cell_type": "code",
   "execution_count": 731,
   "id": "2fe24d41-db9b-41fa-9f31-09377277b43b",
   "metadata": {},
   "outputs": [
    {
     "data": {
      "text/plain": [
       "False"
      ]
     },
     "execution_count": 731,
     "metadata": {},
     "output_type": "execute_result"
    }
   ],
   "source": [
    "isDiagonalMatrix(S)"
   ]
  },
  {
   "cell_type": "code",
   "execution_count": 737,
   "id": "0643ac26-6596-4b8c-beb9-4bf93b012644",
   "metadata": {},
   "outputs": [],
   "source": [
    "##identity matrix"
   ]
  },
  {
   "cell_type": "code",
   "execution_count": 745,
   "id": "33bf23fc-d595-42f8-8dde-6354c3a3cb04",
   "metadata": {},
   "outputs": [],
   "source": [
    "I = np.zeros([4,4], dtype = np.int16)"
   ]
  },
  {
   "cell_type": "code",
   "execution_count": 747,
   "id": "c663d807-ba1c-443c-8e44-142feaaeffb9",
   "metadata": {},
   "outputs": [
    {
     "data": {
      "text/plain": [
       "array([[0, 0, 0, 0],\n",
       "       [0, 0, 0, 0],\n",
       "       [0, 0, 0, 0],\n",
       "       [0, 0, 0, 0]], dtype=int16)"
      ]
     },
     "execution_count": 747,
     "metadata": {},
     "output_type": "execute_result"
    }
   ],
   "source": [
    "I"
   ]
  },
  {
   "cell_type": "code",
   "execution_count": 753,
   "id": "890b4be1-82d2-47c3-894b-7c6de66bbca7",
   "metadata": {},
   "outputs": [
    {
     "name": "stdout",
     "output_type": "stream",
     "text": [
      "Enter number: 4\n"
     ]
    },
    {
     "data": {
      "text/plain": [
       "array([[1, 0, 0, 0],\n",
       "       [0, 1, 0, 0],\n",
       "       [0, 0, 1, 0],\n",
       "       [0, 0, 0, 1]], dtype=int16)"
      ]
     },
     "execution_count": 753,
     "metadata": {},
     "output_type": "execute_result"
    }
   ],
   "source": [
    "rc = int(input(\"Enter number:\"))\n",
    "I = np.zeros([rc,rc],dtype= np.int16)\n",
    "for i in range(rc):\n",
    " I[i,i] = 1\n",
    "I"
   ]
  },
  {
   "cell_type": "code",
   "execution_count": 755,
   "id": "7f93358f-dae4-4bc8-9c05-83c5bf527ec0",
   "metadata": {},
   "outputs": [],
   "source": [
    "def isIdentity(M):\n",
    "    if M.flatten().sum() == M.shape[0]:\n",
    "        return True\n",
    "    else:\n",
    "        return False"
   ]
  },
  {
   "cell_type": "code",
   "execution_count": 761,
   "id": "c399cbe2-42bc-4759-9e08-fce267c2e46a",
   "metadata": {},
   "outputs": [],
   "source": [
    "##Symmetric Matrix"
   ]
  },
  {
   "cell_type": "code",
   "execution_count": 824,
   "id": "f20d4934-ed37-4047-a257-611c65d57de5",
   "metadata": {},
   "outputs": [],
   "source": [
    "S = np.array([[2,3,6],[3,4,5],[6,5,9]], dtype = np.int16)"
   ]
  },
  {
   "cell_type": "code",
   "execution_count": 826,
   "id": "3da397a9-4de9-4343-95b1-85ca77cd7431",
   "metadata": {},
   "outputs": [
    {
     "data": {
      "text/plain": [
       "array([[2, 3, 6],\n",
       "       [3, 4, 5],\n",
       "       [6, 5, 9]], dtype=int16)"
      ]
     },
     "execution_count": 826,
     "metadata": {},
     "output_type": "execute_result"
    }
   ],
   "source": [
    "S"
   ]
  },
  {
   "cell_type": "code",
   "execution_count": null,
   "id": "c3ad5969-f3af-46d2-8ced-dde21254ddce",
   "metadata": {},
   "outputs": [],
   "source": []
  },
  {
   "cell_type": "code",
   "execution_count": 829,
   "id": "3a854f5a-b1a7-4fc7-aba5-e4d4053ade50",
   "metadata": {},
   "outputs": [],
   "source": [
    "def isSymmetricMatrix(M):\n",
    "    if (M == M.T).flatten().sum() == M.size():\n",
    "         return True\n",
    "    else:\n",
    "        return False\n",
    "    "
   ]
  },
  {
   "cell_type": "code",
   "execution_count": 1,
   "id": "10354ff4-6942-4262-9528-fde3e8edc62c",
   "metadata": {},
   "outputs": [],
   "source": [
    "###isSymmetricMatrix(S)"
   ]
  },
  {
   "cell_type": "code",
   "execution_count": 818,
   "id": "02793d44-64f7-4268-8cf3-96d8b3fb33fb",
   "metadata": {},
   "outputs": [
    {
     "data": {
      "text/plain": [
       "array([[1, 2, 3],\n",
       "       [4, 5, 6]], dtype=int16)"
      ]
     },
     "execution_count": 818,
     "metadata": {},
     "output_type": "execute_result"
    }
   ],
   "source": [
    "M"
   ]
  },
  {
   "cell_type": "code",
   "execution_count": 820,
   "id": "33b1fcd5-681e-4b32-aee0-6e94320fcd3c",
   "metadata": {},
   "outputs": [
    {
     "data": {
      "text/plain": [
       "array([[1, 2, 3],\n",
       "       [4, 5, 6]], dtype=int16)"
      ]
     },
     "execution_count": 820,
     "metadata": {},
     "output_type": "execute_result"
    }
   ],
   "source": [
    "M"
   ]
  },
  {
   "cell_type": "code",
   "execution_count": 822,
   "id": "21da2afc-e62f-4447-b308-15372d16cecb",
   "metadata": {},
   "outputs": [
    {
     "data": {
      "text/plain": [
       "array([[1, 4],\n",
       "       [2, 5],\n",
       "       [3, 6]], dtype=int16)"
      ]
     },
     "execution_count": 822,
     "metadata": {},
     "output_type": "execute_result"
    }
   ],
   "source": [
    "M.T"
   ]
  },
  {
   "cell_type": "code",
   "execution_count": 835,
   "id": "196ca182-53f0-4436-a7e9-7fd6a69829f2",
   "metadata": {},
   "outputs": [],
   "source": [
    "S1=np.array([[0,3],[-3,0]],dtype=np.int16)\n"
   ]
  },
  {
   "cell_type": "code",
   "execution_count": 837,
   "id": "4a0c35bb-1f2b-479e-aa71-5b6f335ff392",
   "metadata": {},
   "outputs": [
    {
     "data": {
      "text/plain": [
       "array([[ 0,  3],\n",
       "       [-3,  0]], dtype=int16)"
      ]
     },
     "execution_count": 837,
     "metadata": {},
     "output_type": "execute_result"
    }
   ],
   "source": [
    "S1"
   ]
  },
  {
   "cell_type": "code",
   "execution_count": 839,
   "id": "35037374-88e8-4e2d-923a-61018664825c",
   "metadata": {},
   "outputs": [],
   "source": [
    "def isSkewMatrix(M):\n",
    "    if (M == M.T).flatten().sum() == M.size():\n",
    "         return True\n",
    "    else:\n",
    "        return False\n",
    "\n",
    "\n"
   ]
  },
  {
   "cell_type": "code",
   "execution_count": 841,
   "id": "eceaa8f3-e5be-4c40-bc8d-5b6cea4ef59d",
   "metadata": {},
   "outputs": [],
   "source": [
    "###3 Orthogonal Matrix"
   ]
  },
  {
   "cell_type": "code",
   "execution_count": 844,
   "id": "a2d4f8b9-8c23-4f64-a169-ee09a9318c64",
   "metadata": {},
   "outputs": [
    {
     "data": {
      "text/plain": [
       "array([[1, 0, 0, 0],\n",
       "       [0, 1, 0, 0],\n",
       "       [0, 0, 1, 0],\n",
       "       [0, 0, 0, 1]], dtype=int16)"
      ]
     },
     "execution_count": 844,
     "metadata": {},
     "output_type": "execute_result"
    }
   ],
   "source": [
    "I"
   ]
  },
  {
   "cell_type": "code",
   "execution_count": 846,
   "id": "6ee7b5bb-57d1-4a44-8f67-92fca0afa649",
   "metadata": {},
   "outputs": [
    {
     "data": {
      "text/plain": [
       "array([[1, 0, 0, 0],\n",
       "       [0, 1, 0, 0],\n",
       "       [0, 0, 1, 0],\n",
       "       [0, 0, 0, 1]], dtype=int16)"
      ]
     },
     "execution_count": 846,
     "metadata": {},
     "output_type": "execute_result"
    }
   ],
   "source": [
    "I.T"
   ]
  },
  {
   "cell_type": "code",
   "execution_count": 848,
   "id": "135d9341-3743-43e1-9b39-39d7699ae267",
   "metadata": {},
   "outputs": [
    {
     "data": {
      "text/plain": [
       "array([[1., 0., 0., 0.],\n",
       "       [0., 1., 0., 0.],\n",
       "       [0., 0., 1., 0.],\n",
       "       [0., 0., 0., 1.]])"
      ]
     },
     "execution_count": 848,
     "metadata": {},
     "output_type": "execute_result"
    }
   ],
   "source": [
    "np.linalg.inv(I)"
   ]
  },
  {
   "cell_type": "code",
   "execution_count": 858,
   "id": "860efd2e-5a93-44ed-b898-da9654536ca2",
   "metadata": {},
   "outputs": [],
   "source": [
    "RM = np.array([[np.cos(50), -np.sin(50)],[np.sin(50), np.cos(50 )]])"
   ]
  },
  {
   "cell_type": "code",
   "execution_count": 862,
   "id": "09cb3c40-df07-40fd-8aa3-9e88bc86cd37",
   "metadata": {},
   "outputs": [
    {
     "data": {
      "text/plain": [
       "array([[ 0.96496603,  0.26237485],\n",
       "       [-0.26237485,  0.96496603]])"
      ]
     },
     "execution_count": 862,
     "metadata": {},
     "output_type": "execute_result"
    }
   ],
   "source": [
    "RM"
   ]
  },
  {
   "cell_type": "code",
   "execution_count": 864,
   "id": "16734ba5-7df9-42d5-95ee-7c3c67065428",
   "metadata": {},
   "outputs": [
    {
     "data": {
      "text/plain": [
       "array([[ 0.96496603, -0.26237485],\n",
       "       [ 0.26237485,  0.96496603]])"
      ]
     },
     "execution_count": 864,
     "metadata": {},
     "output_type": "execute_result"
    }
   ],
   "source": [
    "RM.T"
   ]
  },
  {
   "cell_type": "code",
   "execution_count": 866,
   "id": "a5c11c4c-04b4-4751-a8da-fd318326431c",
   "metadata": {},
   "outputs": [
    {
     "data": {
      "text/plain": [
       "array([[ 0.96496603, -0.26237485],\n",
       "       [ 0.26237485,  0.96496603]])"
      ]
     },
     "execution_count": 866,
     "metadata": {},
     "output_type": "execute_result"
    }
   ],
   "source": [
    "np.linalg.inv(RM)"
   ]
  },
  {
   "cell_type": "code",
   "execution_count": 878,
   "id": "57bae3cc-01ad-4fc3-a3c7-b7fac2ae05ca",
   "metadata": {},
   "outputs": [],
   "source": [
    "####Permutatun Matrix"
   ]
  },
  {
   "cell_type": "code",
   "execution_count": 870,
   "id": "edbcd97c-bdae-4cb5-adb3-42ed10f37275",
   "metadata": {},
   "outputs": [],
   "source": [
    "P = np.array([[0,1,0],[1,0,0],[0,0,1]], dtype = np.int16)"
   ]
  },
  {
   "cell_type": "code",
   "execution_count": 872,
   "id": "f1bc2ab5-2a79-4920-bdc6-cfe78070bd2e",
   "metadata": {},
   "outputs": [
    {
     "data": {
      "text/plain": [
       "array([[0, 1, 0],\n",
       "       [1, 0, 0],\n",
       "       [0, 0, 1]], dtype=int16)"
      ]
     },
     "execution_count": 872,
     "metadata": {},
     "output_type": "execute_result"
    }
   ],
   "source": [
    "P"
   ]
  },
  {
   "cell_type": "code",
   "execution_count": 874,
   "id": "80879398-a0dd-4b43-99b5-301689bb3c7e",
   "metadata": {},
   "outputs": [
    {
     "data": {
      "text/plain": [
       "array([[0, 1, 0],\n",
       "       [1, 0, 0],\n",
       "       [0, 0, 1]], dtype=int16)"
      ]
     },
     "execution_count": 874,
     "metadata": {},
     "output_type": "execute_result"
    }
   ],
   "source": [
    "P.T"
   ]
  },
  {
   "cell_type": "code",
   "execution_count": 876,
   "id": "ad459ce9-27c5-4f18-bc32-5a468e4ffbbc",
   "metadata": {},
   "outputs": [
    {
     "data": {
      "text/plain": [
       "array([[0., 1., 0.],\n",
       "       [1., 0., 0.],\n",
       "       [0., 0., 1.]])"
      ]
     },
     "execution_count": 876,
     "metadata": {},
     "output_type": "execute_result"
    }
   ],
   "source": [
    "np.linalg.inv(P)"
   ]
  },
  {
   "cell_type": "code",
   "execution_count": 884,
   "id": "8c6de247-19b7-496c-ab47-04553ece80c4",
   "metadata": {},
   "outputs": [],
   "source": [
    "M5 = np.array([[5,6,4,2],[1,2,3,4],[7,8,9,0],[6,5,3,4]])"
   ]
  },
  {
   "cell_type": "code",
   "execution_count": 886,
   "id": "84e589fd-c12b-4e77-b829-941becef35f0",
   "metadata": {},
   "outputs": [
    {
     "data": {
      "text/plain": [
       "array([[5, 6, 4, 2],\n",
       "       [1, 2, 3, 4],\n",
       "       [7, 8, 9, 0],\n",
       "       [6, 5, 3, 4]])"
      ]
     },
     "execution_count": 886,
     "metadata": {},
     "output_type": "execute_result"
    }
   ],
   "source": [
    "M5"
   ]
  },
  {
   "cell_type": "code",
   "execution_count": 890,
   "id": "e8e0813b-38c1-4c34-925e-e03bf71d21a0",
   "metadata": {},
   "outputs": [
    {
     "data": {
      "text/plain": [
       "array([[5, 6, 4, 2],\n",
       "       [1, 2, 3, 4],\n",
       "       [7, 8, 9, 0],\n",
       "       [6, 5, 3, 4]])"
      ]
     },
     "execution_count": 890,
     "metadata": {},
     "output_type": "execute_result"
    }
   ],
   "source": [
    "M5 @ I"
   ]
  },
  {
   "cell_type": "code",
   "execution_count": 892,
   "id": "3f4c8e27-5bc3-4f0a-a8c6-ff71e931e130",
   "metadata": {},
   "outputs": [],
   "source": [
    "###3EigenValues"
   ]
  },
  {
   "cell_type": "code",
   "execution_count": 898,
   "id": "7db3a526-9f11-4b83-b5a4-5298b6fdc226",
   "metadata": {},
   "outputs": [],
   "source": [
    "A = np.array([[1,2],[3,4]], dtype = np.int8)"
   ]
  },
  {
   "cell_type": "code",
   "execution_count": 906,
   "id": "b35826d7-cb6a-4d68-9ab8-ca5336b2b8ec",
   "metadata": {},
   "outputs": [],
   "source": [
    "value, vector = np.linalg.eig(A)"
   ]
  },
  {
   "cell_type": "code",
   "execution_count": 908,
   "id": "ae10ac4e-64a0-4ef9-b020-dc5278ae7262",
   "metadata": {},
   "outputs": [
    {
     "data": {
      "text/plain": [
       "array([-0.37228132,  5.37228132])"
      ]
     },
     "execution_count": 908,
     "metadata": {},
     "output_type": "execute_result"
    }
   ],
   "source": [
    "value"
   ]
  },
  {
   "cell_type": "code",
   "execution_count": 910,
   "id": "1d25d1c9-f2a2-4014-83b2-33021b174e87",
   "metadata": {},
   "outputs": [
    {
     "data": {
      "text/plain": [
       "array([[-0.82456484, -0.41597356],\n",
       "       [ 0.56576746, -0.90937671]])"
      ]
     },
     "execution_count": 910,
     "metadata": {},
     "output_type": "execute_result"
    }
   ],
   "source": [
    "vector"
   ]
  },
  {
   "cell_type": "code",
   "execution_count": 912,
   "id": "dbe36634-060b-4b75-ad4e-04d4fd4c654c",
   "metadata": {},
   "outputs": [
    {
     "data": {
      "text/plain": [
       "array([[ 0.30697009, -2.23472698],\n",
       "       [-0.21062466, -4.88542751]])"
      ]
     },
     "execution_count": 912,
     "metadata": {},
     "output_type": "execute_result"
    }
   ],
   "source": [
    "A @ vector"
   ]
  },
  {
   "cell_type": "code",
   "execution_count": 914,
   "id": "2a9bfec4-aee5-4ae0-8c23-3dd838628166",
   "metadata": {},
   "outputs": [
    {
     "data": {
      "text/plain": [
       "array([[ 0.30697009, -2.23472698],\n",
       "       [-0.21062466, -4.88542751]])"
      ]
     },
     "execution_count": 914,
     "metadata": {},
     "output_type": "execute_result"
    }
   ],
   "source": [
    "value * vector"
   ]
  },
  {
   "cell_type": "code",
   "execution_count": 916,
   "id": "03c5a0f7-7087-4a96-9c03-ba9dd3285208",
   "metadata": {},
   "outputs": [],
   "source": [
    "A = np.array([[1,2,3,4],[3,4,5,6],[3,7,8,9],[1,2,3,4]], dtype = np.int8)"
   ]
  },
  {
   "cell_type": "code",
   "execution_count": 918,
   "id": "fd4afff5-0545-4d9f-bb21-fd5d86191013",
   "metadata": {},
   "outputs": [
    {
     "data": {
      "text/plain": [
       "array([[1, 2, 3, 4],\n",
       "       [3, 4, 5, 6],\n",
       "       [3, 7, 8, 9],\n",
       "       [1, 2, 3, 4]], dtype=int8)"
      ]
     },
     "execution_count": 918,
     "metadata": {},
     "output_type": "execute_result"
    }
   ],
   "source": [
    "A"
   ]
  },
  {
   "cell_type": "code",
   "execution_count": 920,
   "id": "685dfc5b-5e78-4299-aada-5abc2e5f3b14",
   "metadata": {},
   "outputs": [],
   "source": [
    "value , vector = np.linalg.eig(A)"
   ]
  },
  {
   "cell_type": "code",
   "execution_count": 922,
   "id": "747b7adf-d709-4d24-8ac9-54a24d86c243",
   "metadata": {},
   "outputs": [
    {
     "data": {
      "text/plain": [
       "array([[1, 2, 3, 4],\n",
       "       [3, 4, 5, 6],\n",
       "       [3, 7, 8, 9],\n",
       "       [1, 2, 3, 4]], dtype=int8)"
      ]
     },
     "execution_count": 922,
     "metadata": {},
     "output_type": "execute_result"
    }
   ],
   "source": [
    "A"
   ]
  },
  {
   "cell_type": "code",
   "execution_count": 924,
   "id": "0b81aac0-f7a5-45b2-a1ae-4a7bb60878b6",
   "metadata": {},
   "outputs": [
    {
     "data": {
      "text/plain": [
       "dtype('complex128')"
      ]
     },
     "execution_count": 924,
     "metadata": {},
     "output_type": "execute_result"
    }
   ],
   "source": [
    "vector.dtype"
   ]
  },
  {
   "cell_type": "code",
   "execution_count": 926,
   "id": "7d610c3c-468e-4e1e-bb08-e9013f9f91b2",
   "metadata": {},
   "outputs": [
    {
     "data": {
      "text/plain": [
       "array([[-2.79595679e-01+0.j        , -2.77280362e-01-0.19087204j,\n",
       "        -2.77280362e-01+0.19087204j, -3.40271307e-16+0.j        ],\n",
       "       [-4.96720275e-01+0.j        , -3.34019522e-01+0.38766109j,\n",
       "        -3.34019522e-01-0.38766109j,  4.08248290e-01+0.j        ],\n",
       "       [-7.72606938e-01+0.j        ,  7.15204006e-01+0.j        ,\n",
       "         7.15204006e-01-0.j        , -8.16496581e-01+0.j        ],\n",
       "       [-2.79595679e-01+0.j        , -2.77280362e-01-0.19087204j,\n",
       "        -2.77280362e-01+0.19087204j,  4.08248290e-01+0.j        ]])"
      ]
     },
     "execution_count": 926,
     "metadata": {},
     "output_type": "execute_result"
    }
   ],
   "source": [
    "vector"
   ]
  },
  {
   "cell_type": "code",
   "execution_count": null,
   "id": "ee1b7dc4-1170-4699-8d37-e937a5e5d8bf",
   "metadata": {},
   "outputs": [],
   "source": []
  }
 ],
 "metadata": {
  "kernelspec": {
   "display_name": "Python 3 (ipykernel)",
   "language": "python",
   "name": "python3"
  },
  "language_info": {
   "codemirror_mode": {
    "name": "ipython",
    "version": 3
   },
   "file_extension": ".py",
   "mimetype": "text/x-python",
   "name": "python",
   "nbconvert_exporter": "python",
   "pygments_lexer": "ipython3",
   "version": "3.12.4"
  }
 },
 "nbformat": 4,
 "nbformat_minor": 5
}
