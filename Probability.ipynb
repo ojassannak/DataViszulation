{
 "cells": [
  {
   "cell_type": "markdown",
   "id": "c6a73a18-1a58-413a-8c08-e6eabe27eba2",
   "metadata": {
    "jp-MarkdownHeadingCollapsed": true
   },
   "source": [
    "<h4>Theoritical Probability</h4>"
   ]
  },
  {
   "cell_type": "code",
   "execution_count": 2,
   "id": "0caece62-c0ae-46be-9b6f-efdb21f123b9",
   "metadata": {},
   "outputs": [],
   "source": [
    "def coin_flip_probability():\n",
    "    head_probability =1/2\n",
    "    return head_probability"
   ]
  },
  {
   "cell_type": "code",
   "execution_count": 3,
   "id": "3e5d8ae2-7a41-436b-8d27-85b1baf8b4ea",
   "metadata": {},
   "outputs": [],
   "source": [
    "def rolling_dice_probability(number):\n",
    "    if number not in range(1,7):\n",
    "        raise ValueError(\"Number must be between 1 and 6\")\n",
    "    probability=1/6\n",
    "    return probability"
   ]
  },
  {
   "cell_type": "code",
   "execution_count": 4,
   "id": "19d0bd50-bbb3-4ec5-97a5-41e617f2432e",
   "metadata": {},
   "outputs": [],
   "source": [
    "coin_flip_probability=coin_flip_probability()\n",
    "rolling_dice_probability=rolling_dice_probability(3)"
   ]
  },
  {
   "cell_type": "code",
   "execution_count": 5,
   "id": "e7b1e632-bd38-4d6f-ac3f-45b66793b023",
   "metadata": {},
   "outputs": [
    {
     "name": "stdout",
     "output_type": "stream",
     "text": [
      "Coin flip probability: 0.5\n",
      "Rolling a dice probability:0.17\n"
     ]
    }
   ],
   "source": [
    "print('Coin flip probability:',coin_flip_probability)\n",
    "print('Rolling a dice probability:%.2f'%rolling_dice_probability)"
   ]
  },
  {
   "cell_type": "markdown",
   "id": "23b8521c-90c6-4cb4-b85c-9dd3407faacd",
   "metadata": {
    "jp-MarkdownHeadingCollapsed": true
   },
   "source": [
    "<h4>Experimental Probability</h4>"
   ]
  },
  {
   "cell_type": "code",
   "execution_count": 183,
   "id": "11bae517-a33e-45ee-be03-afe8cdfe5201",
   "metadata": {},
   "outputs": [],
   "source": [
    "import numpy as np\n",
    "import pandas as pd\n",
    "import matplotlib.pyplot as plt\n",
    "import seaborn as sns"
   ]
  },
  {
   "cell_type": "code",
   "execution_count": 8,
   "id": "dae5bb60-faec-4ee0-9fd4-6a861868a6cd",
   "metadata": {},
   "outputs": [
    {
     "data": {
      "text/plain": [
       "'tails'"
      ]
     },
     "execution_count": 8,
     "metadata": {},
     "output_type": "execute_result"
    }
   ],
   "source": [
    "np.random.choice(['heads','tails'])"
   ]
  },
  {
   "cell_type": "code",
   "execution_count": 9,
   "id": "94a72606-2a7e-43ff-a619-5952673c6ee9",
   "metadata": {},
   "outputs": [],
   "source": [
    "def simulate_coin_flips(num_flips):\n",
    "    result=[]\n",
    "    for _ in range(num_flips):\n",
    "        flip=np.random.choice([\"heads\",\"tails\"])\n",
    "        result.append(flip)\n",
    "    return result"
   ]
  },
  {
   "cell_type": "code",
   "execution_count": 10,
   "id": "e9c42006-b655-4933-ba8d-d7555470cf2f",
   "metadata": {},
   "outputs": [
    {
     "data": {
      "text/plain": [
       "heads    56\n",
       "tails    44\n",
       "Name: count, dtype: int64"
      ]
     },
     "execution_count": 10,
     "metadata": {},
     "output_type": "execute_result"
    }
   ],
   "source": [
    "pd.Series(simulate_coin_flips(100)).value_counts()"
   ]
  },
  {
   "cell_type": "code",
   "execution_count": 11,
   "id": "200e2c82-c6a4-476b-8c60-4902d15919c2",
   "metadata": {},
   "outputs": [],
   "source": [
    "def calculate_experimental_probabilty(results,event):\n",
    "    event_count=results.count(event)\n",
    "    total_flips=len(results)\n",
    "    probability=event_count/total_flips\n",
    "    return probability"
   ]
  },
  {
   "cell_type": "code",
   "execution_count": 12,
   "id": "5b7cd26d-bb7b-49d7-9558-bb7a1fcea0b2",
   "metadata": {},
   "outputs": [
    {
     "data": {
      "text/plain": [
       "0.547"
      ]
     },
     "execution_count": 12,
     "metadata": {},
     "output_type": "execute_result"
    }
   ],
   "source": [
    "results=simulate_coin_flips(1000)\n",
    "calculate_experimental_probabilty(results,'heads')"
   ]
  },
  {
   "cell_type": "code",
   "execution_count": 116,
   "id": "2d422958-a9ea-4bad-aa6c-daa78ce9ba8d",
   "metadata": {},
   "outputs": [],
   "source": [
    "scores=[]\n",
    "for i in range(10):\n",
    "    scores.append([np.random.choice([0,0,0,1,1,1,1,2,2,4,6,'W']) for x in range(100)])"
   ]
  },
  {
   "cell_type": "markdown",
   "id": "d7bfe13d-cc21-42d5-b83a-03f11001d943",
   "metadata": {},
   "source": [
    "final_scores=[]\n",
    "for match in scores:\n",
    "    total_runs=0\n",
    "    for runs in match:\n",
    "        if runs=='W':\n",
    "            break\n",
    "        total_runs+=int(runs)\n",
    "    final_scores.append(total_runs)\n",
    "\n",
    "\n",
    "    \n",
    "    "
   ]
  },
  {
   "cell_type": "code",
   "execution_count": 113,
   "id": "514346e7-95db-4952-9941-ddb25b0f94c6",
   "metadata": {},
   "outputs": [
    {
     "data": {
      "text/plain": [
       "24.5"
      ]
     },
     "execution_count": 113,
     "metadata": {},
     "output_type": "execute_result"
    }
   ],
   "source": [
    "sum(final_scores)/len(final_scores)"
   ]
  },
  {
   "cell_type": "markdown",
   "id": "e8146240-005e-4a1b-9502-8112059c6fe8",
   "metadata": {
    "jp-MarkdownHeadingCollapsed": true
   },
   "source": [
    "<h4>Axiomatic Probability</h4>"
   ]
  },
  {
   "cell_type": "code",
   "execution_count": 139,
   "id": "49fbd653-fae3-4465-bfa3-4f507cfe106d",
   "metadata": {},
   "outputs": [],
   "source": [
    "#sample Space\n",
    "S=['Heads','Tails']"
   ]
  },
  {
   "cell_type": "code",
   "execution_count": 158,
   "id": "678f7cff-1f72-453b-aca5-2f15c0bc1149",
   "metadata": {},
   "outputs": [],
   "source": [
    "P_A=0.5\n",
    "P_B=0.5"
   ]
  },
  {
   "cell_type": "code",
   "execution_count": 160,
   "id": "f25513e9-d6cb-43f1-8c3a-6d6c9f412b6f",
   "metadata": {},
   "outputs": [],
   "source": [
    "#axiom 1: Non-Negativity\n",
    "assert P_A>=0 and P_B>=0 , \"Axiom 1 (non-negativity) violated\""
   ]
  },
  {
   "cell_type": "code",
   "execution_count": 162,
   "id": "ef9bf5e3-1972-44a2-9abf-d99db9236346",
   "metadata": {},
   "outputs": [],
   "source": [
    "#axiom 2: unit measure\n",
    "P_S=P_A+P_B\n",
    "assert P_S==1,\"Axiom 2 (unit measure) violated\""
   ]
  },
  {
   "cell_type": "code",
   "execution_count": 164,
   "id": "a056cef2-5eec-4bfb-95c2-acbcc667712f",
   "metadata": {},
   "outputs": [],
   "source": [
    "#axiom 3: additivity(since a and b are mutually exclusive)\n",
    "P_Aunion_B=P_A+P_B\n",
    "assert P_Aunion_B==P_S, \"Axiom 3 (additivity) violated\""
   ]
  },
  {
   "cell_type": "code",
   "execution_count": 168,
   "id": "27bbec69-7acc-4561-aa3b-4708e76990c8",
   "metadata": {},
   "outputs": [
    {
     "name": "stdout",
     "output_type": "stream",
     "text": [
      "all axioms of probability are satisfied!!!\n"
     ]
    }
   ],
   "source": [
    "print(\"all axioms of probability are satisfied!!!\")"
   ]
  },
  {
   "cell_type": "markdown",
   "id": "8d1ac8aa-5bc4-49e5-a9ab-73499cd7bd8d",
   "metadata": {
    "jp-MarkdownHeadingCollapsed": true
   },
   "source": [
    "<h4>Normal Distributon</h4>"
   ]
  },
  {
   "cell_type": "code",
   "execution_count": 185,
   "id": "79790bff-f747-4484-9a3e-f82e0a271d9c",
   "metadata": {},
   "outputs": [],
   "source": [
    "normal_distribution=np.random.normal(0,1,1000)"
   ]
  },
  {
   "cell_type": "code",
   "execution_count": 187,
   "id": "ad54749e-b066-4e16-acc6-0ea05fa6c634",
   "metadata": {},
   "outputs": [
    {
     "data": {
      "text/plain": [
       "array([-6.48755392e-01, -1.82355443e+00,  8.70634488e-01,  1.21439295e+00,\n",
       "        2.21225019e-01,  1.24421160e+00, -5.70019012e-01,  8.10672885e-02,\n",
       "        6.67864804e-01, -2.62581139e-01, -6.66780319e-02,  1.11582154e+00,\n",
       "       -1.25648054e+00, -5.71248172e-01,  5.24635755e-01, -2.15550775e-02,\n",
       "       -1.52932024e+00, -4.09480933e-01,  1.65415021e+00,  9.36979606e-01,\n",
       "       -7.44649751e-01,  2.86398121e-01, -2.30554181e-01, -7.90675660e-01,\n",
       "       -1.26272290e+00, -5.74910995e-01, -4.24584105e-01, -1.30808684e+00,\n",
       "       -1.61544289e-01,  7.22769408e-01, -7.29728248e-01,  8.06022663e-02,\n",
       "        1.74896513e-02, -2.15075654e+00,  2.94243409e-01, -8.90438666e-01,\n",
       "        2.55738524e-01,  4.10510521e-01, -6.36014786e-01, -1.23635327e+00,\n",
       "        1.32202477e-02, -7.78608130e-01,  2.32455732e+00, -3.01725250e-01,\n",
       "       -4.81676255e-01, -9.34052638e-02, -1.07587557e+00,  3.90420014e-01,\n",
       "        2.21682178e+00,  1.18089711e+00,  1.06458445e+00, -6.98119454e-01,\n",
       "        1.37147747e+00,  5.22360622e-01, -1.63604908e+00, -6.43162712e-01,\n",
       "        1.04504973e+00,  8.72976613e-02,  5.02295110e-02, -2.27975450e-01,\n",
       "        2.77996370e-01, -3.39567849e-02,  1.52818460e-01,  3.88315071e-01,\n",
       "       -1.17548533e-01, -1.39389091e+00, -9.78543111e-01, -5.18386384e-01,\n",
       "        1.70116075e+00,  1.18143583e+00,  1.61907940e+00,  9.79959563e-02,\n",
       "       -4.45292216e-01, -1.29806537e+00, -1.37872250e+00,  1.61903250e-01,\n",
       "       -8.46380406e-02,  3.24251200e-01, -4.03804500e-01,  7.78436382e-01,\n",
       "       -4.00235749e-01,  7.81474042e-01,  5.53934535e-01, -6.59653557e-01,\n",
       "        9.11480924e-03,  3.66868789e-01, -5.41527849e-01,  5.39055702e-01,\n",
       "       -1.77979548e+00, -1.06637743e-01,  5.12598855e-01,  1.39550835e+00,\n",
       "       -2.58626982e-01,  5.01806432e-01,  8.83715018e-01,  6.95556657e-01,\n",
       "        1.76169530e-01, -7.30244484e-01, -1.83524626e+00, -4.46723385e-01,\n",
       "       -1.87092160e+00, -6.54805523e-01, -8.31390932e-01,  1.60526558e-01,\n",
       "       -7.08887209e-01,  1.32196363e+00,  9.37849548e-01,  5.91960681e-01,\n",
       "        1.28954597e+00, -2.96291310e-01,  8.13711048e-01,  4.67465363e-01,\n",
       "       -1.74110434e+00, -3.16433079e-02, -1.27756733e+00,  6.35389328e-01,\n",
       "        1.09437954e+00, -6.62853972e-01,  3.10615769e-01,  4.50163769e-01,\n",
       "        1.38489453e-01,  2.29404760e-01, -4.30156103e-01,  2.43906135e-01,\n",
       "        1.06358373e-01, -1.52552369e+00,  5.10357687e-01,  1.03826425e+00,\n",
       "       -2.19012007e-01,  8.76917612e-01,  2.64253023e-01,  5.29090005e-01,\n",
       "        1.16118452e+00, -6.43651740e-01,  2.53938368e+00,  1.86878545e+00,\n",
       "       -1.25339083e+00, -6.40961222e-01, -6.24705217e-01,  7.86270191e-01,\n",
       "       -1.56167555e-01,  8.33660257e-01, -1.93622746e+00, -4.85191706e-02,\n",
       "       -2.83258314e-01,  2.68954240e-01, -1.18932725e-01, -8.95671241e-01,\n",
       "       -7.91743268e-01, -4.32096261e-01,  1.16471116e-01, -8.04444481e-01,\n",
       "       -8.20890938e-01,  3.06182753e-01, -7.35820130e-01, -1.66017561e+00,\n",
       "        1.25145645e+00,  9.55248124e-01, -1.31319884e+00,  1.30622852e+00,\n",
       "        1.99668805e+00, -2.09478338e+00,  2.49623098e-02, -5.86131036e-02,\n",
       "        5.18076745e-01, -2.76792879e+00,  1.57127744e-01,  1.13340902e+00,\n",
       "       -9.60072284e-01,  2.41512120e-01,  1.59612370e+00, -1.50289303e+00,\n",
       "        7.37528809e-02,  4.77393310e-01, -2.66428100e-01, -1.23424487e+00,\n",
       "        3.25202776e-01,  1.34295398e+00, -3.09014731e-01,  8.84978778e-01,\n",
       "       -9.36936066e-01,  1.81144705e+00,  4.42116267e-01,  4.41921352e-01,\n",
       "       -2.34986688e-01,  1.65175333e-01, -7.67396264e-01, -1.43584376e-02,\n",
       "       -1.23556353e+00, -6.84142359e-01,  1.89559899e-01,  1.98813556e-01,\n",
       "       -5.95284104e-01,  2.19779450e+00, -1.61284237e+00,  1.05184678e+00,\n",
       "       -9.27941607e-01, -2.83392041e-01, -1.49444901e+00, -5.19955560e-01,\n",
       "        1.18152569e+00,  8.32764410e-02,  4.79103166e-01, -5.45512928e-01,\n",
       "       -3.28097481e-01, -1.32226288e+00,  1.02748718e-01, -5.32587166e-01,\n",
       "       -5.00931953e-01, -8.32266374e-01,  2.01073799e-01, -2.67798432e-01,\n",
       "        1.42764420e+00, -3.53147494e-01,  1.19001063e+00,  3.05869019e-01,\n",
       "       -1.75118075e+00,  5.00594892e-01, -6.13843813e-01,  4.22277248e-01,\n",
       "       -2.18873254e+00, -2.92896119e-01,  1.48586396e-01, -4.98584503e-01,\n",
       "       -5.26291643e-01, -1.97248634e-01,  7.24655351e-01,  7.96522697e-01,\n",
       "        1.60754808e+00, -9.18758726e-01,  1.82502809e+00, -1.11762470e+00,\n",
       "        8.99886481e-01,  1.13859328e-03, -8.66121626e-02, -1.40894881e+00,\n",
       "       -1.15397237e-01,  6.82530734e-01, -1.27553332e+00,  1.53843174e+00,\n",
       "        1.20723131e+00,  5.23472353e-01, -1.40427312e+00, -1.17643320e+00,\n",
       "        1.24209707e-01,  1.32268659e+00,  1.11167139e+00, -6.01971509e-01,\n",
       "        6.82055046e-01, -4.23482385e-01,  3.80229062e-01, -5.22138380e-01,\n",
       "        1.44377870e+00, -4.95111980e-01, -1.02566611e+00, -1.25187377e-02,\n",
       "        4.91886015e-02,  7.41044199e-01, -7.73117215e-01,  2.45948235e-01,\n",
       "       -1.25356101e+00,  3.75240102e-02,  6.02625196e-01,  6.87549996e-01,\n",
       "        5.91844925e-01,  4.34276393e-01,  7.70846713e-02,  3.94396917e-01,\n",
       "        2.42936936e-02, -1.48648213e-01,  5.27815442e-01, -3.20818446e-01,\n",
       "        2.06468995e-01,  4.68841872e-01,  1.81454854e+00,  5.14664562e-01,\n",
       "       -1.31517910e+00,  9.93259510e-01,  9.41107379e-01, -5.98647220e-01,\n",
       "        1.65748786e+00, -1.30109744e+00,  4.07186712e-01, -1.77263375e-01,\n",
       "       -4.35190230e-01,  5.48886235e-01, -1.26903162e+00, -3.14238639e-01,\n",
       "       -1.29397650e+00, -1.68489963e+00,  1.63120027e-02, -2.13634827e-01,\n",
       "        1.25135284e+00,  4.43079252e-02,  9.23951402e-01,  4.09204814e-01,\n",
       "        9.67521576e-01, -3.51605401e-01, -1.64086817e+00,  2.11431233e+00,\n",
       "        1.61794793e-01,  3.12556991e-01, -4.40132380e-02, -3.64694183e-01,\n",
       "       -4.25539118e-01,  1.80057419e-01,  2.08076923e+00,  1.09512622e+00,\n",
       "        8.27339469e-02, -1.45089459e-01, -8.18543908e-01, -1.55259083e+00,\n",
       "        1.00344297e+00, -1.02729663e+00,  1.69222068e+00,  4.63441126e-04,\n",
       "       -1.86692287e+00,  1.01562381e+00, -7.22957262e-01, -7.28255909e-01,\n",
       "        5.05555387e-01,  1.27115770e+00, -1.45510214e+00, -1.06862269e+00,\n",
       "        4.84975455e-02,  1.15273945e+00, -8.82062164e-01,  4.14231559e-01,\n",
       "        6.66435093e-01,  9.26953914e-01,  1.46958126e+00,  1.34599122e+00,\n",
       "       -4.28099915e-01, -5.27994650e-01,  1.52441879e+00, -8.60761675e-01,\n",
       "        1.05322755e+00, -1.76690472e+00,  9.64245886e-01, -1.34828793e-01,\n",
       "        3.63810556e-02, -1.17898915e+00,  1.38085700e+00,  2.88134192e-01,\n",
       "       -9.90909636e-01,  1.36535684e+00,  7.43646089e-01,  4.90926936e-03,\n",
       "       -7.87370835e-02, -1.68993283e+00,  2.77884830e-01,  1.91882984e+00,\n",
       "       -8.62779121e-01,  7.95896392e-02,  4.01065372e-01, -1.00547303e+00,\n",
       "       -2.06228542e-01,  1.08884127e+00, -2.51272199e-02, -1.61611613e+00,\n",
       "       -2.61490749e-01, -3.89892501e-01, -1.43642507e+00,  9.44545438e-01,\n",
       "       -1.23116927e+00, -1.66295570e+00, -1.02663592e+00,  1.95037759e+00,\n",
       "        3.82041995e-01,  3.61867356e-01,  1.07663680e+00,  2.92672073e-01,\n",
       "        8.30878316e-03,  3.58102853e-02, -5.46423146e-01,  5.19692217e-01,\n",
       "        2.13152551e+00, -1.02366414e+00, -2.21301947e-01, -4.92552450e-01,\n",
       "       -8.01658172e-01, -5.71419351e-02,  1.63608131e+00, -1.29778025e+00,\n",
       "       -1.85389835e-01, -6.13715847e-01,  1.23500292e+00, -4.22475516e-01,\n",
       "        1.05513673e+00, -1.50631484e+00, -3.85016227e-01, -6.53128388e-01,\n",
       "        1.97889224e+00,  1.44174620e-01, -1.92835016e-01,  9.83363849e-01,\n",
       "        2.23844948e-01,  2.11062660e+00, -8.88601438e-01,  1.96627709e+00,\n",
       "       -8.20881147e-02, -2.53457988e-01,  1.63365810e+00,  8.20715531e-01,\n",
       "        6.15073435e-01,  2.07974428e+00, -4.82165140e-01, -1.04749511e+00,\n",
       "       -6.67051644e-01, -8.89923294e-01, -8.46049564e-01,  8.60925624e-01,\n",
       "       -1.62146511e+00,  2.59531302e-01,  9.87481427e-01,  8.87417149e-01,\n",
       "       -1.82013420e-01,  7.67343785e-01,  9.25089825e-01, -8.94362666e-01,\n",
       "        2.27538697e+00, -7.33049571e-01,  7.34099965e-01,  1.03695503e+00,\n",
       "        3.18194427e-01, -9.29160375e-02, -4.08209298e-02, -1.83033243e+00,\n",
       "       -2.41443364e-01, -1.70050960e+00, -1.59739770e+00, -3.67563212e-01,\n",
       "       -1.87346017e+00,  1.53145004e-01,  8.24313990e-01,  1.59556822e+00,\n",
       "        1.16635627e+00, -2.37429371e+00,  4.88745712e-01, -4.56643435e-01,\n",
       "       -5.59443226e-01, -1.25276765e+00, -1.92240709e-01, -6.17909241e-01,\n",
       "        4.68973933e-01,  3.31257854e-01,  1.53705915e+00, -4.33793362e-01,\n",
       "        1.00206978e+00, -3.42144155e-01,  6.50263476e-01, -1.12744936e+00,\n",
       "       -6.65809307e-01,  5.70581659e-01,  5.83439202e-01,  2.29914168e-01,\n",
       "        3.99726131e-01,  6.65005808e-01,  6.32697990e-01,  1.34516645e-01,\n",
       "        1.35568883e+00, -9.40271371e-01,  1.21741252e+00, -4.28638091e-01,\n",
       "       -2.38809690e+00,  3.85552076e-01, -1.30738318e+00,  4.93849427e-01,\n",
       "       -1.07082219e-01,  1.74603862e-01,  5.36092689e-01, -7.14894803e-01,\n",
       "        5.24246727e-01,  1.49595479e-01,  3.53285429e-02,  2.01431560e-01,\n",
       "        5.12487476e-01,  1.14093506e+00, -3.78798265e-01,  3.11090714e-01,\n",
       "        1.51016385e+00,  6.85164805e-02, -5.09898690e-01,  2.12784093e+00,\n",
       "        6.98522402e-01, -1.49524374e-01, -7.60649861e-01,  7.89988361e-02,\n",
       "        1.04608905e+00, -8.18509975e-01, -1.08150706e+00,  8.77870694e-02,\n",
       "       -6.28513972e-01,  4.05606045e-01, -1.25052516e+00,  4.45354782e-01,\n",
       "        6.40635999e-01,  7.96956707e-02,  5.17920465e-01,  9.23716618e-01,\n",
       "       -8.89593954e-01, -2.16772028e+00, -1.25326703e+00,  1.27807272e+00,\n",
       "        8.57312048e-01,  1.73768364e+00,  7.99336371e-01,  7.02196887e-01,\n",
       "        8.50590654e-01,  1.03432036e+00,  8.64279666e-01,  1.07671135e-01,\n",
       "       -4.14566841e-01,  1.60096461e-01,  4.39595728e-01, -1.72709735e+00,\n",
       "        6.98745083e-01, -2.57473474e-02, -4.49705265e-01,  2.88087179e-01,\n",
       "        1.70503358e+00,  1.70538642e+00, -1.35734798e+00,  2.39783544e-01,\n",
       "       -7.72444222e-01, -2.99692209e-01, -8.34623292e-01, -1.19727600e+00,\n",
       "       -2.13357494e+00, -9.65393209e-01, -6.70926758e-01, -6.82862367e-02,\n",
       "        6.15235873e-01, -4.28740821e-01, -1.06914775e+00,  7.88866913e-01,\n",
       "       -9.29865462e-01,  4.42332430e-01, -1.59075571e+00,  1.61942587e-01,\n",
       "       -7.76312808e-01,  2.04310759e-01, -2.45938971e-01,  4.01933020e-01,\n",
       "       -4.72853763e-01,  9.03972828e-01,  8.95555588e-02, -4.98443452e-01,\n",
       "       -1.19645286e+00,  5.67122163e-01, -1.59789883e+00,  3.32113380e+00,\n",
       "       -4.76348576e-01,  4.73826525e-01,  4.88058003e-01,  7.74662406e-02,\n",
       "       -3.01870680e-01, -6.36504652e-01,  2.70915034e-01, -5.27117723e-01,\n",
       "       -1.15477599e+00, -5.02707506e-01, -2.94296744e+00,  8.99112890e-01,\n",
       "        8.95160625e-01,  5.11788289e-02, -1.82659441e+00, -7.37014991e-01,\n",
       "        8.17020467e-01, -4.65574065e-01, -7.89078908e-01,  5.26051768e-01,\n",
       "       -6.89445981e-01,  4.13763885e-01,  4.14407402e-02, -4.77987559e-01,\n",
       "        7.48901600e-02, -1.00294613e-01, -2.43369526e+00,  1.19978181e+00,\n",
       "        1.03381419e+00,  1.50869982e+00, -4.64770897e-02, -4.22622937e-01,\n",
       "       -5.01542752e-02,  5.29541219e-01, -6.47308708e-01, -5.24427834e-01,\n",
       "       -4.81116382e-01, -1.75710074e-02,  8.59749076e-01, -3.18848149e-01,\n",
       "       -2.18797031e+00, -1.40552732e-01,  7.92786176e-01,  1.48522489e+00,\n",
       "       -1.59400642e+00, -5.07659240e-01,  1.69621044e+00,  9.39699187e-02,\n",
       "        1.65582821e+00,  2.34210396e+00,  1.44215209e-01,  1.21705237e+00,\n",
       "        2.87972136e-01,  1.16926083e+00,  1.10612519e+00,  6.21501911e-01,\n",
       "        1.03871560e+00,  6.64346474e-02, -1.11557560e-01,  6.61464802e-01,\n",
       "       -2.00400292e+00,  7.00249195e-01,  8.79242688e-01, -8.40719117e-01,\n",
       "        1.40931915e+00,  5.17003076e-01,  3.53548665e-01, -1.64151576e+00,\n",
       "       -9.06761955e-01, -6.40014483e-01,  1.09799401e+00,  9.39350939e-01,\n",
       "        2.60357043e-01,  2.05727930e+00, -9.55421781e-01, -4.13121166e-01,\n",
       "       -1.59844280e+00,  5.34064526e-01,  6.74089002e-01,  4.50968678e-01,\n",
       "        2.76720255e-01, -8.93854551e-01, -1.28504983e+00, -5.09806289e-01,\n",
       "       -9.18984605e-01, -1.18496471e+00,  1.08250176e+00, -9.98955237e-02,\n",
       "       -4.18667549e-01,  5.67966819e-01, -7.49155406e-01, -1.17567385e+00,\n",
       "        2.87479353e-01, -8.23833848e-02,  1.28273208e+00,  6.83629294e-01,\n",
       "        3.01115130e-01,  6.14105589e-01,  3.30310346e-01, -2.48473003e-01,\n",
       "        1.05362441e+00, -2.91751850e-01,  1.44308071e+00, -2.58371975e-01,\n",
       "       -1.26306371e+00,  3.45563638e-01, -9.40641474e-01, -7.77605314e-02,\n",
       "       -2.01398530e-01,  1.47869688e+00, -1.75592445e-02,  4.69254096e-01,\n",
       "       -1.47906296e-01,  2.08467796e+00, -4.53183231e-01,  2.77432919e-01,\n",
       "       -1.62045612e+00,  2.99625864e-01, -6.04931114e-01, -1.24386139e-01,\n",
       "       -5.53609249e-01,  4.05836665e-01, -4.14389079e-01,  6.00462551e-01,\n",
       "       -1.66286936e-01,  2.11537250e-01, -6.91151785e-01, -1.21161819e+00,\n",
       "        1.24564093e-01, -7.14210866e-01,  1.16262204e+00,  1.46085361e-01,\n",
       "        3.64357023e-01,  1.37380581e+00,  1.06954577e+00, -1.84841998e+00,\n",
       "       -1.27045113e+00, -7.63123672e-01,  1.93320420e+00,  1.57770723e+00,\n",
       "        1.13145350e+00,  1.41278369e-01,  1.83022531e+00, -1.17534690e+00,\n",
       "        1.74362159e-02,  9.84527870e-01, -6.74832234e-01, -4.33113901e-01,\n",
       "        4.61994529e-01, -6.04103124e-01,  4.94870906e-01,  2.68396307e-01,\n",
       "       -1.19104545e+00,  8.01702592e-01,  1.91928319e+00,  6.05064536e-01,\n",
       "        2.90431843e-01,  1.70505900e-02, -9.78776938e-02, -2.67894266e-01,\n",
       "        7.88054143e-01, -3.23534826e-01, -1.10691746e+00,  2.01709196e+00,\n",
       "       -1.36772798e+00,  4.73976273e-01, -6.84258031e-01,  1.01417994e+00,\n",
       "       -9.34691587e-01,  5.62585588e-01, -3.66655488e-01,  7.67479528e-03,\n",
       "       -9.11852989e-01,  1.82962925e+00, -1.50708811e-01, -1.25418499e+00,\n",
       "       -9.68513340e-01,  6.13305897e-02, -1.53544133e-01, -2.18198332e+00,\n",
       "        7.34454254e-01,  4.58322545e-01, -5.41192955e-01, -6.93625124e-01,\n",
       "        6.38790234e-01, -1.03862268e+00,  9.23227819e-01,  1.32286730e+00,\n",
       "       -4.99333263e-01, -5.29213553e-02,  3.76610407e-01,  2.25626001e-01,\n",
       "       -3.06869042e-01, -3.93328333e-01, -4.15612861e-01, -4.68036571e-01,\n",
       "       -7.89295379e-01, -2.24573986e+00,  1.08774127e+00,  8.97555088e-01,\n",
       "       -1.28760300e+00, -4.94672074e-01,  5.22838375e-01, -1.35666377e+00,\n",
       "       -3.35777927e-01, -4.37063005e-03,  1.52559007e-01, -9.35994239e-01,\n",
       "       -5.39162857e-01,  7.06951922e-01,  1.06312417e+00,  1.33627461e-02,\n",
       "        1.26660501e+00, -9.99246911e-01, -3.05338003e+00, -2.34995923e-01,\n",
       "       -1.74609202e+00,  4.18890211e-01,  2.02177605e-01, -5.58406756e-01,\n",
       "        8.12152891e-01,  1.09735705e+00,  1.91864183e-01, -8.46243760e-02,\n",
       "        9.67220586e-01,  1.39772300e+00,  6.85295794e-01, -7.87327663e-01,\n",
       "        8.12175950e-01, -6.15175387e-01,  8.03025629e-01, -1.41336990e-02,\n",
       "       -5.79931527e-01, -9.88340528e-01,  6.03147622e-01, -9.86562697e-01,\n",
       "        1.19008527e+00,  4.14310245e-01,  1.35352690e+00,  1.55810432e+00,\n",
       "       -6.89577994e-01,  4.28282259e-01,  2.37187575e-01, -5.92827140e-01,\n",
       "       -2.10679279e+00, -1.33586307e+00, -9.85244497e-01,  6.44760305e-01,\n",
       "       -2.39378561e-01, -4.95323771e-01,  8.30058241e-01, -1.50560285e+00,\n",
       "        1.27709120e+00, -2.36459139e+00,  1.19804022e+00,  5.53169863e-01,\n",
       "       -1.05713291e+00,  1.59812496e+00, -1.57000621e+00, -1.69432683e+00,\n",
       "       -7.66988416e-01,  1.45504566e-01, -9.60481068e-01,  4.11424484e-01,\n",
       "       -3.64038475e-01, -1.31364544e-01, -8.24624920e-01, -8.39632244e-02,\n",
       "        7.43513198e-01, -2.48374410e-01, -1.47789062e+00, -2.57041483e-01,\n",
       "        2.19431246e-02,  1.92870953e+00,  1.07108175e+00, -7.41230258e-01,\n",
       "        2.02522905e-02, -1.34577072e-01,  2.26309744e+00, -4.57829188e-01,\n",
       "        1.15406299e+00,  6.83253923e-01,  7.13457038e-01,  2.18226748e+00,\n",
       "        5.05070829e-02, -6.23944456e-01,  4.59669611e-01, -1.42135028e+00,\n",
       "        2.38706899e+00, -1.50270938e+00, -1.64017722e-01,  7.03624522e-01,\n",
       "        3.84774735e-01, -3.64581681e-02, -5.84428958e-01, -3.10223966e-01,\n",
       "        1.84258812e+00, -6.92560942e-01, -5.69964938e-01,  2.21764434e+00,\n",
       "       -1.28984165e+00,  1.11935540e+00,  4.86226770e-01, -2.32781718e-01,\n",
       "       -1.60396678e+00, -6.56844603e-01,  9.80864424e-02, -4.31103179e-01,\n",
       "        2.50155198e-01, -3.07501317e-01, -1.00339384e-02,  1.24829273e+00,\n",
       "       -5.22294540e-01,  4.73184874e-01, -1.84346303e+00, -8.85368217e-01,\n",
       "       -2.32241817e-01,  1.39329149e+00, -6.47120780e-01, -4.02138139e-01,\n",
       "        1.38550343e-01,  3.19682890e+00,  1.22049942e+00, -7.71491282e-01,\n",
       "        6.18632573e-01, -1.46837824e+00, -1.13700836e+00,  2.87742419e-01,\n",
       "       -1.80165631e+00,  9.71351668e-02, -2.99207310e-01, -4.95469174e-01,\n",
       "       -5.20094215e-01, -1.72817736e+00, -5.38905452e-02,  6.63012224e-01,\n",
       "       -1.46728332e+00,  8.86416574e-01,  6.55100897e-01, -1.14101282e+00,\n",
       "        4.80471190e-01, -4.35705604e-01, -1.23427621e+00, -1.27245416e+00,\n",
       "       -3.69458593e-01, -2.38403890e-01,  1.59738699e+00, -5.98417236e-01,\n",
       "       -8.29388796e-01,  1.73195764e-01, -1.11841649e+00, -4.97573762e-01,\n",
       "        4.42258319e-01,  3.80223561e-01,  7.36601524e-01,  8.81949380e-01,\n",
       "        9.84268493e-01,  8.72072969e-02,  8.27998468e-01, -1.41078093e+00,\n",
       "        6.56005760e-01,  3.60208524e-01,  1.06142228e+00,  1.81138318e-01,\n",
       "       -6.73958707e-01, -4.39731406e-01, -6.16732156e-01,  2.87423111e-01,\n",
       "        1.23371005e+00,  9.03415809e-01,  7.47977164e-02,  9.89343746e-01,\n",
       "        5.59152055e-01, -1.20200980e+00, -3.52209607e-01, -1.11782768e+00,\n",
       "       -2.00468196e-01, -1.43905463e+00, -1.55827842e-01, -7.02817741e-01,\n",
       "        2.60354138e-01,  1.04927816e+00, -3.16537057e-01, -1.16036231e+00,\n",
       "        5.47685966e-02,  6.78053458e-01, -2.42002999e-01,  2.70513605e-01,\n",
       "       -9.37553955e-01,  3.94253175e-01,  4.91532764e-02,  1.87689436e-01,\n",
       "       -6.89497021e-01,  1.83395847e+00, -6.87276951e-01,  8.45813793e-01,\n",
       "       -9.79190158e-02, -9.35601182e-01,  3.54811261e-01, -5.93803368e-01,\n",
       "        2.06157357e-01,  1.27197728e+00, -4.25732949e-01,  4.11388011e-01,\n",
       "       -1.15908299e+00,  1.71637558e+00,  7.45092963e-01, -2.03269033e-01,\n",
       "        6.17552537e-01, -7.16684244e-01, -3.61732735e-01,  4.92338144e-01,\n",
       "        1.20828015e+00, -4.92366130e-01, -7.62807890e-01,  6.32081114e-01,\n",
       "       -5.45652263e-01, -7.04618793e-01, -3.04562409e-01,  1.55792538e-01,\n",
       "        1.77327232e-01, -4.05036560e-01, -3.16045554e-01, -5.34149427e-01,\n",
       "       -5.94452862e-01,  4.11276789e-01,  1.28423350e-01,  2.99081259e-02,\n",
       "       -1.07522499e+00, -1.54719734e-02,  1.20600061e+00, -9.87054906e-01,\n",
       "       -1.28828000e+00, -1.78456832e-01, -3.09675709e-02, -1.10449167e-02,\n",
       "       -2.93071883e-01,  5.00825753e-01, -2.14152274e+00,  5.44591570e-01,\n",
       "       -2.25216298e-01,  1.20890067e+00,  5.43059604e-01,  1.17177952e-02,\n",
       "        1.45811902e+00, -5.74657657e-02, -3.45725909e-01,  2.72615299e-01])"
      ]
     },
     "execution_count": 187,
     "metadata": {},
     "output_type": "execute_result"
    }
   ],
   "source": [
    "normal_distribution\n"
   ]
  },
  {
   "cell_type": "code",
   "execution_count": 189,
   "id": "5ff687ad-1a68-42cd-8e27-6018f540b025",
   "metadata": {},
   "outputs": [
    {
     "data": {
      "text/plain": [
       "(array([  4.,  26.,  95., 174., 253., 234., 144.,  50.,  18.,   2.]),\n",
       " array([-3.05338003, -2.41592864, -1.77847726, -1.14102588, -0.5035745 ,\n",
       "         0.13387689,  0.77132827,  1.40877965,  2.04623103,  2.68368241,\n",
       "         3.3211338 ]),\n",
       " <BarContainer object of 10 artists>)"
      ]
     },
     "execution_count": 189,
     "metadata": {},
     "output_type": "execute_result"
    },
    {
     "data": {
      "image/png": "[encoded data removed]",
      "text/plain": [
       "<Figure size 640x480 with 1 Axes>"
      ]
     },
     "metadata": {},
     "output_type": "display_data"
    }
   ],
   "source": [
    "plt.hist(normal_distribution)"
   ]
  },
  {
   "cell_type": "code",
   "execution_count": 191,
   "id": "82835242-9c4e-47c6-a2aa-1c1910fd0336",
   "metadata": {},
   "outputs": [
    {
     "data": {
      "text/plain": [
       "<Axes: ylabel='Count'>"
      ]
     },
     "execution_count": 191,
     "metadata": {},
     "output_type": "execute_result"
    },
    {
     "data": {
      "image/png": "[encoded data removed]",
      "text/plain": [
       "<Figure size 640x480 with 1 Axes>"
      ]
     },
     "metadata": {},
     "output_type": "display_data"
    }
   ],
   "source": [
    "sns.histplot(normal_distribution,kde=True)"
   ]
  },
  {
   "cell_type": "markdown",
   "id": "d54b06c1-a85f-4baa-bb49-f5212b1408e8",
   "metadata": {
    "jp-MarkdownHeadingCollapsed": true
   },
   "source": [
    "<h4>Binomial distribution</h4>"
   ]
  },
  {
   "cell_type": "code",
   "execution_count": 194,
   "id": "89cfc39d-73fb-4439-83d2-ca1c8a4c9f80",
   "metadata": {},
   "outputs": [],
   "source": [
    "p = 0.5\n",
    "n = 10"
   ]
  },
  {
   "cell_type": "code",
   "execution_count": 205,
   "id": "2311583a-cf63-402e-99ee-5aaf715de5f1",
   "metadata": {},
   "outputs": [
    {
     "name": "stdout",
     "output_type": "stream",
     "text": [
      "3\n"
     ]
    }
   ],
   "source": [
    "porbability = np.random.binomial(n, p)\n",
    "print(porbability)"
   ]
  },
  {
   "cell_type": "markdown",
   "id": "1b0a63ae-c5c8-477a-92bc-e9e6e69d64b3",
   "metadata": {},
   "source": [
    "<h4>Poisson Distribution</h4>"
   ]
  },
  {
   "cell_type": "code",
   "execution_count": 254,
   "id": "3d9f24f5-2e22-4183-8a0a-817b61997df4",
   "metadata": {},
   "outputs": [
    {
     "name": "stdout",
     "output_type": "stream",
     "text": [
      "2\n"
     ]
    }
   ],
   "source": [
    "#calculate the probability of getting 5 customes in a store in one hour\n",
    "#given that the average number of customers is 5 per hour\n",
    "lamb=5 #mean number of customers in one hour\n",
    "\n",
    "probability=np.random.poisson(lamb)\n",
    "print(probability)"
   ]
  },
  {
   "cell_type": "code",
   "execution_count": 256,
   "id": "b263ddc5-3ed9-4e24-b557-f5299366158d",
   "metadata": {},
   "outputs": [],
   "source": [
    "events=[np.random.poisson(lamb) for x in range(1000)]"
   ]
  },
  {
   "cell_type": "code",
   "execution_count": 258,
   "id": "8aef266c-9612-4773-9582-6914602513da",
   "metadata": {},
   "outputs": [
    {
     "data": {
      "image/png": "[encoded data removed]",
      "text/plain": [
       "<Figure size 640x480 with 1 Axes>"
      ]
     },
     "metadata": {},
     "output_type": "display_data"
    }
   ],
   "source": [
    "plt.xticks(range(1,21))\n",
    "plt.hist(events)\n",
    "plt.grid()"
   ]
  },
  {
   "cell_type": "code",
   "execution_count": 260,
   "id": "3a54beeb-69d0-4268-9dce-0eab597f182a",
   "metadata": {},
   "outputs": [
    {
     "data": {
      "text/plain": [
       "<Axes: ylabel='Density'>"
      ]
     },
     "execution_count": 260,
     "metadata": {},
     "output_type": "execute_result"
    },
    {
     "data": {
      "image/png": "[encoded data removed]",
      "text/plain": [
       "<Figure size 640x480 with 1 Axes>"
      ]
     },
     "metadata": {},
     "output_type": "display_data"
    }
   ],
   "source": [
    "sns.kdeplot(events)"
   ]
  },
  {
   "cell_type": "code",
   "execution_count": 262,
   "id": "44f70313-f8ba-4d0f-ae3a-cf620b603ed2",
   "metadata": {},
   "outputs": [
    {
     "data": {
      "text/plain": [
       "0.162"
      ]
     },
     "execution_count": 262,
     "metadata": {},
     "output_type": "execute_result"
    }
   ],
   "source": [
    "events.count(5)/1000"
   ]
  },
  {
   "cell_type": "code",
   "execution_count": null,
   "id": "8b8e111c-d3f8-498e-8c8c-dfc130c4c0c7",
   "metadata": {},
   "outputs": [],
   "source": []
  },
  {
   "cell_type": "code",
   "execution_count": null,
   "id": "23d6a195-d8bc-4b40-9f21-fd96615702b0",
   "metadata": {},
   "outputs": [],
   "source": []
  },
  {
   "cell_type": "code",
   "execution_count": null,
   "id": "f604ea06-b9a5-49c4-83f2-28d858605724",
   "metadata": {},
   "outputs": [],
   "source": []
  },
  {
   "cell_type": "code",
   "execution_count": null,
   "id": "1855c32b-c678-4407-8c69-7aca39096403",
   "metadata": {},
   "outputs": [],
   "source": []
  }
 ],
 "metadata": {
  "kernelspec": {
   "display_name": "Python 3 (ipykernel)",
   "language": "python",
   "name": "python3"
  },
  "language_info": {
   "codemirror_mode": {
    "name": "ipython",
    "version": 3
   },
   "file_extension": ".py",
   "mimetype": "text/x-python",
   "name": "python",
   "nbconvert_exporter": "python",
   "pygments_lexer": "ipython3",
   "version": "3.12.4"
  }
 },
 "nbformat": 4,
 "nbformat_minor": 5
}
