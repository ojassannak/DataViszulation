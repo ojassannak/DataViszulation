{
 "cells": [
  {
   "cell_type": "raw",
   "id": "0bb2ac65-b79c-4f23-96d2-99afdb5daf24",
   "metadata": {},
   "source": [
    "A small bakery wants to maximize its daily profi by producing cookies and cakes.they have limited flour and oven space available. heres the info\n",
    "\n",
    "profit per unit:\n",
    "    cookies:$10 per cookie\n",
    "    cakes:$200 per cake\n",
    "Flour requiremen per unit:\n",
    "    cookies:1 cup per cookie\n",
    "    cakes:2 cups per cake\n",
    "oven time per unit:\n",
    "    cookies :10 minutes per cookie\n",
    "    cakes: 15 minutes per cake\n",
    "available resources:\n",
    "    flour:100 cups\n",
    "    oven time:240 minutes\n",
    "\n",
    "objective : maximize the total daily profit"
   ]
  },
  {
   "cell_type": "code",
   "execution_count": 609,
   "id": "72b209dc-6f0b-4fce-a9b9-3e51e9b1f5d0",
   "metadata": {},
   "outputs": [],
   "source": [
    "from pulp import LpProblem,LpVariable,LpMaximize,LpStatus"
   ]
  },
  {
   "cell_type": "code",
   "execution_count": 610,
   "id": "56d9c6c8-5b6f-4150-9ab1-37d417448893",
   "metadata": {},
   "outputs": [],
   "source": [
    "problem=LpProblem(\"Bakery_Profit_Maximization\",LpMaximize)"
   ]
  },
  {
   "cell_type": "code",
   "execution_count": 611,
   "id": "1a01213b-d818-4d1a-9f84-e09c1c7496b0",
   "metadata": {},
   "outputs": [
    {
     "data": {
      "text/plain": [
       "Bakery_Profit_Maximization:\n",
       "MAXIMIZE\n",
       "None\n",
       "VARIABLES"
      ]
     },
     "execution_count": 611,
     "metadata": {},
     "output_type": "execute_result"
    }
   ],
   "source": [
    "problem"
   ]
  },
  {
   "cell_type": "code",
   "execution_count": 612,
   "id": "6c0b4e67-3b8d-4f5d-b0bd-dd8d77c6c8de",
   "metadata": {},
   "outputs": [],
   "source": [
    "#Decision variables\n",
    "cookies=LpVariable(\"Cookies\",lowBound=0)\n",
    "#Number of cookies to produce (non-negative)\n",
    "cakes=LpVariable(\"Cakes\",lowBound=0,upBound=10)\n",
    "#number of cakes to produce (non-negative)"
   ]
  },
  {
   "cell_type": "code",
   "execution_count": 613,
   "id": "4a00a97a-d234-407b-91b6-2e295de83417",
   "metadata": {},
   "outputs": [],
   "source": [
    "profit=10*cookies+200*cakes\n",
    "problem+=profit"
   ]
  },
  {
   "cell_type": "code",
   "execution_count": 614,
   "id": "35140ed5-85bf-45a9-bec6-fc2347cb2603",
   "metadata": {},
   "outputs": [
    {
     "data": {
      "text/plain": [
       "Bakery_Profit_Maximization:\n",
       "MAXIMIZE\n",
       "200*Cakes + 10*Cookies + 0\n",
       "VARIABLES\n",
       "Cakes <= 10 Continuous\n",
       "Cookies Continuous"
      ]
     },
     "execution_count": 614,
     "metadata": {},
     "output_type": "execute_result"
    }
   ],
   "source": [
    "problem"
   ]
  },
  {
   "cell_type": "code",
   "execution_count": 615,
   "id": "06f886d3-1553-4525-a5f0-48f79f5a8cf7",
   "metadata": {},
   "outputs": [],
   "source": [
    "problem += (cookies + 2 * cakes <=100, \"Flour_Constraint\")"
   ]
  },
  {
   "cell_type": "code",
   "execution_count": 616,
   "id": "b389351f-89e1-4723-afc9-9f8981c00ee0",
   "metadata": {},
   "outputs": [
    {
     "data": {
      "text/plain": [
       "Bakery_Profit_Maximization:\n",
       "MAXIMIZE\n",
       "200*Cakes + 10*Cookies + 0\n",
       "SUBJECT TO\n",
       "Flour_Constraint: 2 Cakes + Cookies <= 100\n",
       "\n",
       "VARIABLES\n",
       "Cakes <= 10 Continuous\n",
       "Cookies Continuous"
      ]
     },
     "execution_count": 616,
     "metadata": {},
     "output_type": "execute_result"
    }
   ],
   "source": [
    "problem"
   ]
  },
  {
   "cell_type": "code",
   "execution_count": 617,
   "id": "c185af63-e42c-4e3a-85b9-df532d0b689f",
   "metadata": {},
   "outputs": [],
   "source": [
    "problem += (10 * cookies + 15 * cakes <= 240, \"Oven_Time_Constraint\")"
   ]
  },
  {
   "cell_type": "code",
   "execution_count": 618,
   "id": "3fb18300-a523-453e-ba9c-c346c80f7004",
   "metadata": {},
   "outputs": [
    {
     "data": {
      "text/plain": [
       "Bakery_Profit_Maximization:\n",
       "MAXIMIZE\n",
       "200*Cakes + 10*Cookies + 0\n",
       "SUBJECT TO\n",
       "Flour_Constraint: 2 Cakes + Cookies <= 100\n",
       "\n",
       "Oven_Time_Constraint: 15 Cakes + 10 Cookies <= 240\n",
       "\n",
       "VARIABLES\n",
       "Cakes <= 10 Continuous\n",
       "Cookies Continuous"
      ]
     },
     "execution_count": 618,
     "metadata": {},
     "output_type": "execute_result"
    }
   ],
   "source": [
    "problem"
   ]
  },
  {
   "cell_type": "code",
   "execution_count": 619,
   "id": "d498324b-8a6d-42b2-8edf-f08ac6a2d1d8",
   "metadata": {},
   "outputs": [
    {
     "data": {
      "text/plain": [
       "1"
      ]
     },
     "execution_count": 619,
     "metadata": {},
     "output_type": "execute_result"
    }
   ],
   "source": [
    "problem.solve()"
   ]
  },
  {
   "cell_type": "code",
   "execution_count": 620,
   "id": "54682644-fc46-4f94-8b11-771395b28d48",
   "metadata": {},
   "outputs": [
    {
     "name": "stdout",
     "output_type": "stream",
     "text": [
      "optimal number of cookies:  9.0\n",
      "optimal number of cakes:  10.0\n",
      "Maximum daily profit:  2090.0\n"
     ]
    }
   ],
   "source": [
    "print(\"optimal number of cookies: \",cookies.varValue)\n",
    "print(\"optimal number of cakes: \",cakes.varValue)\n",
    "print(\"Maximum daily profit: \",problem.objective.value())"
   ]
  },
  {
   "cell_type": "raw",
   "id": "8dcc0ba5-eafd-44f3-ab45-8a24c6a73fd6",
   "metadata": {},
   "source": [
    "A juice company needs to produce two types of juice blends;\n",
    "\n",
    "\n",
    "Blend A: This requries 2 units of orange juice and 1 unit of apple juice per liter.\n",
    "Blend B: This requires 1 unit of orange juice and 3 units of apple juice per liter.\n",
    "\n",
    "orange juice requirement for blend A: 200\n",
    "and apple 300\n",
    "\n",
    "he company wants to minimize the total cost of producing a certain amount of each blend while considering the following factors:\n",
    "\n",
    "orange juice cost: $1 per unit\n",
    "apple juice cost : $0.5 per unit\n",
    "production target:\n",
    "    100 liters of Blend A\n",
    "    150 liters of Blend B"
   ]
  },
  {
   "cell_type": "code",
   "execution_count": null,
   "id": "d404519b-13c0-48bf-9332-92252f9d877f",
   "metadata": {},
   "outputs": [],
   "source": []
  },
  {
   "cell_type": "code",
   "execution_count": 621,
   "id": "ca865a20-81bf-498c-a37f-cce4dc78fb6e",
   "metadata": {},
   "outputs": [],
   "source": [
    "#import pulp libraries\n",
    "from pulp import LpProblem, LpVariable,LpMinimize"
   ]
  },
  {
   "cell_type": "code",
   "execution_count": 622,
   "id": "3868d0f0-e13a-4a39-9a19-62d3991de921",
   "metadata": {},
   "outputs": [],
   "source": [
    "problem=LpProblem(\"MinimizeBledingCost\",LpMinimize)"
   ]
  },
  {
   "cell_type": "code",
   "execution_count": 623,
   "id": "0d43ad2e-6974-4b6d-aefc-ab49c0ea934f",
   "metadata": {},
   "outputs": [],
   "source": [
    "x=LpVariable(\"x\",lowBound=0)\n",
    "y=LpVariable(\"y\",lowBound=0)"
   ]
  },
  {
   "cell_type": "code",
   "execution_count": 624,
   "id": "742ab12a-7573-49f4-9ed6-778f283ba032",
   "metadata": {},
   "outputs": [],
   "source": [
    "objective=1*x+0.5*y"
   ]
  },
  {
   "cell_type": "code",
   "execution_count": 625,
   "id": "ca08e364-1223-4ae9-b268-ddbced1e37c6",
   "metadata": {},
   "outputs": [],
   "source": [
    "problem += objective"
   ]
  },
  {
   "cell_type": "code",
   "execution_count": 626,
   "id": "e57602a0-6947-4ea9-8118-5fd184b72cf1",
   "metadata": {},
   "outputs": [],
   "source": [
    "problem += 2*x+y<=200"
   ]
  },
  {
   "cell_type": "code",
   "execution_count": 627,
   "id": "575c41db-c3e3-4e6b-97bb-919fb6c125be",
   "metadata": {},
   "outputs": [],
   "source": [
    "problem += x+ 3*y<=300"
   ]
  },
  {
   "cell_type": "code",
   "execution_count": 628,
   "id": "b351bd83-c252-4aed-bd9a-fc855b12bcae",
   "metadata": {},
   "outputs": [],
   "source": [
    "problem += x>=100"
   ]
  },
  {
   "cell_type": "code",
   "execution_count": 629,
   "id": "eb49ed8c-ad82-4b54-8e53-7ba1c65da052",
   "metadata": {},
   "outputs": [],
   "source": [
    "problem += y>=150"
   ]
  },
  {
   "cell_type": "code",
   "execution_count": 630,
   "id": "1259d8c9-eb37-4334-a6be-3e34d8ccde14",
   "metadata": {},
   "outputs": [],
   "source": [
    "status = problem.solve()"
   ]
  },
  {
   "cell_type": "code",
   "execution_count": 631,
   "id": "e244b881-9dd2-4dab-a6d2-232784c69860",
   "metadata": {},
   "outputs": [
    {
     "data": {
      "text/plain": [
       "-1"
      ]
     },
     "execution_count": 631,
     "metadata": {},
     "output_type": "execute_result"
    }
   ],
   "source": [
    "status"
   ]
  },
  {
   "cell_type": "code",
   "execution_count": 632,
   "id": "8da0348f-f02c-4a78-9cd3-793ba7d4f97d",
   "metadata": {},
   "outputs": [
    {
     "name": "stdout",
     "output_type": "stream",
     "text": [
      "Status:  Infeasible\n",
      "Optimal liters of Blend A:  100.0\n",
      "Optimal liters of Blend B:  150.0\n",
      "Minimum Total Cost: 175.0\n"
     ]
    }
   ],
   "source": [
    "print(\"Status: \", LpStatus[status]) \n",
    "print(\"Optimal liters of Blend A: \", x.varValue)\n",
    "print(\"Optimal liters of Blend B: \", y.varValue)\n",
    "print(\"Minimum Total Cost:\", objective.value())"
   ]
  },
  {
   "cell_type": "raw",
   "id": "5ba3f5e3-4a49-45bb-a311-2149fdd14c21",
   "metadata": {},
   "source": [
    "A company produces two products: product A and product B. The profit for product A is 40$ per nit, and for product B, it's $30 per units. the company has the following resources constraints:\n",
    "\n",
    "it takes 2 hours of labour to produce one unit of product A and 1 hour for product B\n",
    "the compant has a total of 100 hours of labor available.\n",
    "the material required for one unit of product A is 3 kg, and for product B , its is 4kg.the company has a total of 120kg of material.\n",
    "\n",
    "the goal is tp determine how many units of each product to produce in  order to maximize profit.\n",
    "optimization model:\n",
    "\n",
    "Maximize 40*A+30*B\n",
    "subject to:\n",
    "\n",
    "2*A+B<=100  (labor constraints)\n",
    "3*A+4*B<=120 (material constraints)\n",
    "*A,*B>=0"
   ]
  },
  {
   "cell_type": "code",
   "execution_count": 633,
   "id": "0e26137c-945c-4931-8740-06971c8c6986",
   "metadata": {},
   "outputs": [],
   "source": [
    "from pulp import LpMaximize,LpProblem,LpVariable,lpSum"
   ]
  },
  {
   "cell_type": "code",
   "execution_count": 634,
   "id": "33726aa7-3770-4b38-b149-017ee89a8272",
   "metadata": {},
   "outputs": [],
   "source": [
    "problem=LpProblem(\"Maximize_Profit\",LpMaximize)"
   ]
  },
  {
   "cell_type": "code",
   "execution_count": 635,
   "id": "b9617688-31b4-4be8-bae0-273c48330d36",
   "metadata": {},
   "outputs": [],
   "source": [
    "x_A=LpVariable(\"Product_A\",lowBound=0, upBound= 20,cat='Continuous')\n",
    "x_B=LpVariable(\"Product_B\",lowBound=0,cat='Continuous')"
   ]
  },
  {
   "cell_type": "code",
   "execution_count": 636,
   "id": "9054dfb5-1736-4eb5-8173-74d97167bbd2",
   "metadata": {},
   "outputs": [],
   "source": [
    "problem += 40*x_A+30*x_B,\"Total_Profit\""
   ]
  },
  {
   "cell_type": "code",
   "execution_count": 637,
   "id": "d205615b-6c32-47de-bfd4-bf26a81d5880",
   "metadata": {},
   "outputs": [],
   "source": [
    "problem += 2*x_A+1*x_B<=100,\"Labor_Constraint\"\n",
    "problem += 3*x_A+4*x_B<=120,\"Material_Constraint\""
   ]
  },
  {
   "cell_type": "code",
   "execution_count": 638,
   "id": "3f57c01c-98e2-4f9a-85a4-817489670fc8",
   "metadata": {},
   "outputs": [
    {
     "data": {
      "text/plain": [
       "1"
      ]
     },
     "execution_count": 638,
     "metadata": {},
     "output_type": "execute_result"
    }
   ],
   "source": [
    "problem.solve()"
   ]
  },
  {
   "cell_type": "code",
   "execution_count": 639,
   "id": "c3cee048-3874-426b-965b-9aa53764a3fc",
   "metadata": {},
   "outputs": [
    {
     "name": "stdout",
     "output_type": "stream",
     "text": [
      "Status:  Infeasible\n",
      "Optimal units of Product A:  40.0\n",
      "Optimal units of Product B:  0.0\n",
      "Maximum Profit: $ 1250.0\n"
     ]
    }
   ],
   "source": [
    "print(\"Status: \", LpStatus[status]) \n",
    "print(\"Optimal units of Product A: \", A.varValue)\n",
    "print(\"Optimal units of Product B: \", B.varValue)\n",
    "print(\"Maximum Profit: $\", value(problem.objective))\n"
   ]
  },
  {
   "cell_type": "code",
   "execution_count": null,
   "id": "64158afd-982d-4c7a-984d-9306cb71b844",
   "metadata": {},
   "outputs": [],
   "source": []
  },
  {
   "cell_type": "code",
   "execution_count": null,
   "id": "4365cc1b-46df-4620-9dcd-f978f4266300",
   "metadata": {},
   "outputs": [],
   "source": []
  },
  {
   "cell_type": "code",
   "execution_count": null,
   "id": "daf8a56f-66ae-460d-8360-5b36430e6643",
   "metadata": {},
   "outputs": [],
   "source": []
  }
 ],
 "metadata": {
  "kernelspec": {
   "display_name": "Python 3 (ipykernel)",
   "language": "python",
   "name": "python3"
  },
  "language_info": {
   "codemirror_mode": {
    "name": "ipython",
    "version": 3
   },
   "file_extension": ".py",
   "mimetype": "text/x-python",
   "name": "python",
   "nbconvert_exporter": "python",
   "pygments_lexer": "ipython3",
   "version": "3.12.4"
  }
 },
 "nbformat": 4,
 "nbformat_minor": 5
}
