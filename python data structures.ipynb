{
 "cells": [
  {
   "cell_type": "code",
   "execution_count": 62,
   "id": "b82dc95f-4d9b-440c-9a25-7d9c95b58e4a",
   "metadata": {},
   "outputs": [],
   "source": [
    "num=[23,32,56,12,67,82,96,46,42,61,27,88,35]"
   ]
  },
  {
   "cell_type": "code",
   "execution_count": 64,
   "id": "d33c6239-0ad8-490e-91ee-048241c776ec",
   "metadata": {},
   "outputs": [],
   "source": [
    "new_set=[] "
   ]
  },
  {
   "cell_type": "code",
   "execution_count": 66,
   "id": "5b41e35c-5a14-4112-8eb7-6b5d87342fc8",
   "metadata": {},
   "outputs": [],
   "source": [
    "for i in num:\n",
    "    if i%3==0:\n",
    "        new_set.append(i)"
   ]
  },
  {
   "cell_type": "code",
   "execution_count": 68,
   "id": "ec7e215b-2766-4821-9392-583400706ac7",
   "metadata": {},
   "outputs": [
    {
     "name": "stdout",
     "output_type": "stream",
     "text": [
      "[12, 96, 42, 27]\n"
     ]
    }
   ],
   "source": [
    "print(new_set)"
   ]
  },
  {
   "cell_type": "code",
   "execution_count": 70,
   "id": "2a388014-4818-4e4b-90ae-fa0b573357ec",
   "metadata": {},
   "outputs": [
    {
     "name": "stdout",
     "output_type": "stream",
     "text": [
      "[12, 27, 42, 96]\n"
     ]
    }
   ],
   "source": [
    "sort=sorted(new_set)\n",
    "print(sort)"
   ]
  },
  {
   "cell_type": "code",
   "execution_count": 95,
   "id": "55c6b325-e6cb-4a59-b65d-cf95b92b6ee4",
   "metadata": {},
   "outputs": [],
   "source": [
    "num1=[5,7,1,6,2,3,8,9,4,0]"
   ]
  },
  {
   "cell_type": "code",
   "execution_count": 97,
   "id": "a9590d4a-b157-4cf6-bcc5-a8c9c29482d0",
   "metadata": {},
   "outputs": [],
   "source": [
    "x=num1[:5]\n",
    "y=num1[5:]"
   ]
  },
  {
   "cell_type": "code",
   "execution_count": 99,
   "id": "e9296d4f-4d12-4ff2-884e-02afa577a920",
   "metadata": {},
   "outputs": [
    {
     "data": {
      "text/plain": [
       "[5, 7, 1, 6, 2, 0, 3, 4, 8, 9]"
      ]
     },
     "execution_count": 99,
     "metadata": {},
     "output_type": "execute_result"
    }
   ],
   "source": [
    "y.sort()\n",
    "num=x+y\n",
    "num"
   ]
  },
  {
   "cell_type": "code",
   "execution_count": 128,
   "id": "711aa0be-5f22-4424-b541-fe58a97a10e9",
   "metadata": {},
   "outputs": [],
   "source": [
    "data=[(1,'Ajay',67.89),(2,'Priya',72.56),(3,'Rajan',62.34),(4,'Nitin',78.34),(5,'Anita',62.10)]\n",
    "list=[]"
   ]
  },
  {
   "cell_type": "code",
   "execution_count": 132,
   "id": "d1844ea2-fa47-4edf-bf71-c49d943cfec9",
   "metadata": {},
   "outputs": [
    {
     "name": "stdout",
     "output_type": "stream",
     "text": [
      "Nitin 78.34\n"
     ]
    }
   ],
   "source": [
    "marks=0\n",
    "topper=None\n",
    "for entry in data:\n",
    "    if entry[2]>marks:\n",
    "        marks=entry[2]\n",
    "        topper=entry[1]\n",
    "print(topper,marks)"
   ]
  },
  {
   "cell_type": "code",
   "execution_count": 201,
   "id": "d74796a9-c0f1-49a8-8e57-e749249868e8",
   "metadata": {},
   "outputs": [],
   "source": [
    "before=[12,13,6,10,3,1,17,18,14,15]\n",
    "odd=[]"
   ]
  },
  {
   "cell_type": "code",
   "execution_count": 203,
   "id": "3ca8a65e-1a9d-4423-a2da-ba1e7bc08f95",
   "metadata": {},
   "outputs": [],
   "source": [
    "for item in before:\n",
    "    if item%2!=0:\n",
    "        odd.append(item)\n",
    "        \n",
    "\n",
    "    \n",
    "        "
   ]
  },
  {
   "cell_type": "code",
   "execution_count": 205,
   "id": "d53a2a22-f3d6-4dc7-bf0f-274223ab86d6",
   "metadata": {},
   "outputs": [
    {
     "name": "stdout",
     "output_type": "stream",
     "text": [
      "[13, 3, 1, 17, 15]\n"
     ]
    }
   ],
   "source": [
    "print(odd)"
   ]
  },
  {
   "cell_type": "code",
   "execution_count": 207,
   "id": "c6b9d43b-ed61-4cd2-a125-c900e5c3b1c4",
   "metadata": {},
   "outputs": [],
   "source": [
    "odd.sort()"
   ]
  },
  {
   "cell_type": "code",
   "execution_count": 209,
   "id": "589fb727-8ac8-4d84-b424-0286fa0031e2",
   "metadata": {},
   "outputs": [],
   "source": [
    "index=0\n",
    "while index<len(before):\n",
    "    if before[index]%2==1:\n",
    "        before[index]=odd.pop(0)\n",
    "    index+=1"
   ]
  },
  {
   "cell_type": "code",
   "execution_count": 211,
   "id": "b5d4d1b0-9182-47e0-8601-86c8399c507e",
   "metadata": {},
   "outputs": [
    {
     "data": {
      "text/plain": [
       "[12, 1, 6, 10, 3, 13, 15, 18, 14, 17]"
      ]
     },
     "execution_count": 211,
     "metadata": {},
     "output_type": "execute_result"
    }
   ],
   "source": [
    "before"
   ]
  },
  {
   "cell_type": "markdown",
   "id": "860c192a-2b55-40d4-b5c5-a87eeefaff57",
   "metadata": {
    "jp-MarkdownHeadingCollapsed": true
   },
   "source": [
    "<h4>Parallel vectors</h4>"
   ]
  },
  {
   "cell_type": "code",
   "execution_count": 42,
   "id": "7e6e8c53-6024-4815-ae03-57f84fb2607b",
   "metadata": {},
   "outputs": [],
   "source": [
    "import numpy as np\n",
    "import matplotlib.pyplot as plt"
   ]
  },
  {
   "cell_type": "code",
   "execution_count": 138,
   "id": "ea6b3ff6-61d6-4618-aa19-0569378b1991",
   "metadata": {},
   "outputs": [],
   "source": [
    "v1 = np.array([1,11])\n",
    "v2 = np.array([11,1])"
   ]
  },
  {
   "cell_type": "code",
   "execution_count": 140,
   "id": "9e86e6a2-3a32-469b-bc88-348427502146",
   "metadata": {},
   "outputs": [
    {
     "data": {
      "text/plain": [
       "[<matplotlib.lines.Line2D at 0x21502e77110>]"
      ]
     },
     "execution_count": 140,
     "metadata": {},
     "output_type": "execute_result"
    },
    {
     "data": {
      "image/png": "[encoded data removed]",
      "text/plain": [
       "<Figure size 640x480 with 1 Axes>"
      ]
     },
     "metadata": {},
     "output_type": "display_data"
    }
   ],
   "source": [
    "plt.plot(v1)\n",
    "plt.plot(v2)\n",
    "#paralled"
   ]
  },
  {
   "cell_type": "code",
   "execution_count": 107,
   "id": "5c1828d5-c357-4aa7-9fe7-f7b2e2131b7a",
   "metadata": {},
   "outputs": [],
   "source": [
    "x=np.array([0,10])\n",
    "y=np.array([10,0])\n"
   ]
  },
  {
   "cell_type": "code",
   "execution_count": 118,
   "id": "c5342695-d352-407a-9b39-eb51d94f424a",
   "metadata": {},
   "outputs": [
    {
     "data": {
      "text/plain": [
       "[<matplotlib.lines.Line2D at 0x21502958dd0>]"
      ]
     },
     "execution_count": 118,
     "metadata": {},
     "output_type": "execute_result"
    },
    {
     "data": {
      "image/png": "[encoded data removed]",
      "text/plain": [
       "<Figure size 400x300 with 1 Axes>"
      ]
     },
     "metadata": {},
     "output_type": "display_data"
    }
   ],
   "source": [
    "plt.figure(figsize=(4,3))\n",
    "plt.plot(x)\n",
    "#aspect ratio\n",
    "\n",
    "plt.plot(y)"
   ]
  },
  {
   "cell_type": "code",
   "execution_count": 116,
   "id": "5a6b9b71-0beb-4c28-829c-365f9620179b",
   "metadata": {},
   "outputs": [
    {
     "data": {
      "text/plain": [
       "0"
      ]
     },
     "execution_count": 116,
     "metadata": {},
     "output_type": "execute_result"
    }
   ],
   "source": [
    "x.dot(y)"
   ]
  },
  {
   "cell_type": "code",
   "execution_count": 120,
   "id": "785f1de4-6c43-4af4-8963-17f7711f356d",
   "metadata": {},
   "outputs": [
    {
     "data": {
      "text/plain": [
       "0"
      ]
     },
     "execution_count": 120,
     "metadata": {},
     "output_type": "execute_result"
    }
   ],
   "source": [
    "y.dot(x)"
   ]
  },
  {
   "cell_type": "markdown",
   "id": "127c4703-f779-4544-9a0d-99ca7ae14a1e",
   "metadata": {},
   "source": [
    "<h4>co- initial vectors</h4>"
   ]
  },
  {
   "cell_type": "code",
   "execution_count": 146,
   "id": "1dec25a4-c8e2-40aa-b24d-4f017306961f",
   "metadata": {},
   "outputs": [],
   "source": [
    "### co- initial vectors\n",
    "x=np.array([0,10])\n",
    "y=np.array([0,20])"
   ]
  },
  {
   "cell_type": "code",
   "execution_count": 148,
   "id": "37a5dfae-2004-4ac2-ab60-037137d31ed2",
   "metadata": {},
   "outputs": [
    {
     "data": {
      "text/plain": [
       "[<matplotlib.lines.Line2D at 0x21502f33fe0>]"
      ]
     },
     "execution_count": 148,
     "metadata": {},
     "output_type": "execute_result"
    },
    {
     "data": {
      "image/png": "[encoded data removed]",
      "text/plain": [
       "<Figure size 640x480 with 1 Axes>"
      ]
     },
     "metadata": {},
     "output_type": "display_data"
    }
   ],
   "source": [
    "plt.plot(x)\n",
    "plt.plot(y)"
   ]
  },
  {
   "cell_type": "code",
   "execution_count": 152,
   "id": "2f76a85b-4817-486f-a823-03a011ece305",
   "metadata": {},
   "outputs": [],
   "source": [
    "v1=np.array([24,11,55,43,22,64,56,78])\n",
    "#this is array "
   ]
  },
  {
   "cell_type": "code",
   "execution_count": 154,
   "id": "72b39330-2ee5-4245-8166-b0c6c1961b77",
   "metadata": {},
   "outputs": [],
   "source": [
    "x=[24,11,55,43,22,64,56,78]\n",
    "#this is list"
   ]
  },
  {
   "cell_type": "code",
   "execution_count": 162,
   "id": "2aa67652-c868-4f97-a2f8-259e887bef90",
   "metadata": {},
   "outputs": [
    {
     "data": {
      "text/plain": [
       "[24, 11, 55, 43, 22, 64, 56, 78, 24, 11, 55, 43, 22, 64, 56, 78]"
      ]
     },
     "execution_count": 162,
     "metadata": {},
     "output_type": "execute_result"
    }
   ],
   "source": [
    "x*2\n",
    "#list operation does duplicate"
   ]
  },
  {
   "cell_type": "code",
   "execution_count": 164,
   "id": "9381d11a-aedd-434c-b31c-3756d1f99cd3",
   "metadata": {},
   "outputs": [
    {
     "data": {
      "text/plain": [
       "array([ 48,  22, 110,  86,  44, 128, 112, 156])"
      ]
     },
     "execution_count": 164,
     "metadata": {},
     "output_type": "execute_result"
    }
   ],
   "source": [
    "v1*2\n",
    "#array does multiple it"
   ]
  },
  {
   "cell_type": "code",
   "execution_count": 170,
   "id": "777c6d6e-00d9-44ea-ba03-88e9282fcb62",
   "metadata": {},
   "outputs": [],
   "source": [
    "v1 = np.arange(1, 11)\n",
    "v2 = v1 * 2\n",
    "###3 scalar multiplication"
   ]
  },
  {
   "cell_type": "code",
   "execution_count": 172,
   "id": "788fba5e-4370-49d1-ab52-77cb87170c63",
   "metadata": {},
   "outputs": [
    {
     "data": {
      "text/plain": [
       "[<matplotlib.lines.Line2D at 0x215032b6bd0>]"
      ]
     },
     "execution_count": 172,
     "metadata": {},
     "output_type": "execute_result"
    },
    {
     "data": {
      "image/png": "[encoded data removed]",
      "text/plain": [
       "<Figure size 640x480 with 1 Axes>"
      ]
     },
     "metadata": {},
     "output_type": "display_data"
    }
   ],
   "source": [
    "plt.plot(v1)\n",
    "plt.plot(v2)"
   ]
  },
  {
   "cell_type": "code",
   "execution_count": 191,
   "id": "653adf20-0cc8-4f25-8da6-998abb3fe80b",
   "metadata": {},
   "outputs": [
    {
     "data": {
      "text/plain": [
       "array([ 3,  4,  5,  6,  7,  8,  9, 10, 11, 12])"
      ]
     },
     "execution_count": 191,
     "metadata": {},
     "output_type": "execute_result"
    }
   ],
   "source": [
    "v3 = v1 + 2\n",
    "v4 = v1 + 3\n",
    "v5 = v1 + 4\n",
    "v3\n",
    "#### Addition"
   ]
  },
  {
   "cell_type": "code",
   "execution_count": 195,
   "id": "70ead933-660d-406f-b7b8-98028eb41f89",
   "metadata": {},
   "outputs": [
    {
     "data": {
      "text/plain": [
       "[<matplotlib.lines.Line2D at 0x2150356bdd0>]"
      ]
     },
     "execution_count": 195,
     "metadata": {},
     "output_type": "execute_result"
    },
    {
     "data": {
      "image/png": "[encoded data removed]",
      "text/plain": [
       "<Figure size 640x480 with 1 Axes>"
      ]
     },
     "metadata": {},
     "output_type": "display_data"
    }
   ],
   "source": [
    "plt.plot(v1)\n",
    "plt.plot(v3)\n",
    "plt.plot(v4)\n",
    "plt.plot(v5)\n",
    "\n",
    "#### multipule parallel addition plot"
   ]
  },
  {
   "cell_type": "code",
   "execution_count": 202,
   "id": "2c3a521c-8278-4517-b005-e33438c939b9",
   "metadata": {},
   "outputs": [
    {
     "data": {
      "text/plain": [
       "array([20, 45, 15, 36, 48, 12, 47])"
      ]
     },
     "execution_count": 202,
     "metadata": {},
     "output_type": "execute_result"
    }
   ],
   "source": [
    "v1 = np.array([20,45,15,36,48,12,47])\n",
    "v1"
   ]
  },
  {
   "cell_type": "code",
   "execution_count": 205,
   "id": "2db97085-7bea-4df8-a991-d60efcb2b3a3",
   "metadata": {},
   "outputs": [
    {
     "data": {
      "text/plain": [
       "array([ True, False,  True, False, False,  True, False])"
      ]
     },
     "execution_count": 205,
     "metadata": {},
     "output_type": "execute_result"
    }
   ],
   "source": [
    "v1 < 30"
   ]
  },
  {
   "cell_type": "code",
   "execution_count": 209,
   "id": "3b46934b-47f9-4324-b6f7-de5bc68bc8db",
   "metadata": {},
   "outputs": [
    {
     "data": {
      "text/plain": [
       "array([20, 15, 12])"
      ]
     },
     "execution_count": 209,
     "metadata": {},
     "output_type": "execute_result"
    }
   ],
   "source": [
    "v1[v1 < 30]"
   ]
  },
  {
   "cell_type": "code",
   "execution_count": 211,
   "id": "36ab3708-c07b-4384-b9f4-cf53bcbda7e4",
   "metadata": {},
   "outputs": [
    {
     "data": {
      "text/plain": [
       "True"
      ]
     },
     "execution_count": 211,
     "metadata": {},
     "output_type": "execute_result"
    }
   ],
   "source": [
    "20 in v1"
   ]
  },
  {
   "cell_type": "code",
   "execution_count": 213,
   "id": "d8c53f5e-95f7-49d2-a589-72f7f4125af7",
   "metadata": {},
   "outputs": [
    {
     "data": {
      "text/plain": [
       "False"
      ]
     },
     "execution_count": 213,
     "metadata": {},
     "output_type": "execute_result"
    }
   ],
   "source": [
    "20 not in v1"
   ]
  },
  {
   "cell_type": "code",
   "execution_count": 226,
   "id": "5c09421d-f3ba-4f8d-8036-8e2cf318a7ac",
   "metadata": {},
   "outputs": [],
   "source": [
    "#vector addition\n",
    "v1=np.array([24,11,55,43,22,64,56,78])\n",
    "v2=np.array([25,12,56,44,23,65,57,79])"
   ]
  },
  {
   "cell_type": "code",
   "execution_count": 230,
   "id": "13348c9d-e1cd-4384-a4e9-301c31f88f43",
   "metadata": {},
   "outputs": [
    {
     "data": {
      "text/plain": [
       "array([ 49,  23, 111,  87,  45, 129, 113, 157])"
      ]
     },
     "execution_count": 230,
     "metadata": {},
     "output_type": "execute_result"
    }
   ],
   "source": [
    "v1+v2"
   ]
  },
  {
   "cell_type": "code",
   "execution_count": 232,
   "id": "bada5445-be59-42b2-9f6a-7ffab238be7c",
   "metadata": {},
   "outputs": [],
   "source": [
    "v3=np.arange(1,11)\n",
    "v4=np.arange(1,21,2)"
   ]
  },
  {
   "cell_type": "code",
   "execution_count": 238,
   "id": "5b2b4d7d-b4d9-419a-b46d-d5124561d026",
   "metadata": {},
   "outputs": [],
   "source": [
    "v5=v3+v4"
   ]
  },
  {
   "cell_type": "code",
   "execution_count": 240,
   "id": "caf3adc8-e6e3-4776-90d0-a5469024d587",
   "metadata": {},
   "outputs": [
    {
     "data": {
      "text/plain": [
       "[<matplotlib.lines.Line2D at 0x21503354aa0>]"
      ]
     },
     "execution_count": 240,
     "metadata": {},
     "output_type": "execute_result"
    },
    {
     "data": {
      "image/png": "[encoded data removed]",
      "text/plain": [
       "<Figure size 640x480 with 1 Axes>"
      ]
     },
     "metadata": {},
     "output_type": "display_data"
    }
   ],
   "source": [
    "plt.plot(v3)\n",
    "plt.plot(v4)\n",
    "plt.plot(v5)"
   ]
  },
  {
   "cell_type": "markdown",
   "id": "723a0c74-bbfa-40f5-b3eb-69c7e211a4f7",
   "metadata": {
    "jp-MarkdownHeadingCollapsed": true
   },
   "source": [
    "<h4>vector to vector</h4>"
   ]
  },
  {
   "cell_type": "code",
   "execution_count": 256,
   "id": "2ee72b3a-6264-4811-9d89-f6f4dcf255d5",
   "metadata": {},
   "outputs": [
    {
     "data": {
      "text/plain": [
       "array([1, 1, 1, 1, 1, 1, 1, 1])"
      ]
     },
     "execution_count": 256,
     "metadata": {},
     "output_type": "execute_result"
    }
   ],
   "source": [
    "#### vector to vector\n",
    "v2-v1"
   ]
  },
  {
   "cell_type": "code",
   "execution_count": 258,
   "id": "114f3b67-3336-4f34-b2a8-b0fd5750c573",
   "metadata": {},
   "outputs": [
    {
     "data": {
      "text/plain": [
       "array([ 600,  132, 3080, 1892,  506, 4160, 3192, 6162])"
      ]
     },
     "execution_count": 258,
     "metadata": {},
     "output_type": "execute_result"
    }
   ],
   "source": [
    "v1*v2"
   ]
  },
  {
   "cell_type": "code",
   "execution_count": 260,
   "id": "7c55a1bd-d651-4fe1-a17c-bfcab9b494dc",
   "metadata": {},
   "outputs": [
    {
     "data": {
      "text/plain": [
       "array([0.96      , 0.91666667, 0.98214286, 0.97727273, 0.95652174,\n",
       "       0.98461538, 0.98245614, 0.98734177])"
      ]
     },
     "execution_count": 260,
     "metadata": {},
     "output_type": "execute_result"
    }
   ],
   "source": [
    "v1/v2"
   ]
  },
  {
   "cell_type": "code",
   "execution_count": 262,
   "id": "4510ca80-bbaf-4f2e-b7b0-47c8f4407e6a",
   "metadata": {},
   "outputs": [
    {
     "data": {
      "text/plain": [
       "array([False, False, False, False, False, False, False, False])"
      ]
     },
     "execution_count": 262,
     "metadata": {},
     "output_type": "execute_result"
    }
   ],
   "source": [
    "v1>v2"
   ]
  },
  {
   "cell_type": "code",
   "execution_count": 264,
   "id": "c8c3c0ba-342d-49d4-bd55-c1203c97d419",
   "metadata": {},
   "outputs": [
    {
     "data": {
      "text/plain": [
       "array([ True,  True,  True,  True,  True,  True,  True,  True])"
      ]
     },
     "execution_count": 264,
     "metadata": {},
     "output_type": "execute_result"
    }
   ],
   "source": [
    "v2>v1"
   ]
  },
  {
   "cell_type": "markdown",
   "id": "eba75af0-02a5-45d8-a976-d3c96114cc5c",
   "metadata": {
    "jp-MarkdownHeadingCollapsed": true
   },
   "source": [
    "<h4>Cosine Similarity</h4>"
   ]
  },
  {
   "cell_type": "code",
   "execution_count": 316,
   "id": "732263c0-3319-4a95-a77a-e6949308781b",
   "metadata": {},
   "outputs": [],
   "source": [
    "v1=np.array([1,2,3,4,5])\n",
    "v2=np.array([-1,-2,-3,-4,-5])"
   ]
  },
  {
   "cell_type": "code",
   "execution_count": 318,
   "id": "adb95a51-1c64-47e4-a3a7-e54702895aa7",
   "metadata": {},
   "outputs": [],
   "source": [
    "\n",
    "cos_sim=np.dot(v1,v2)/(np.linalg.norm(v1) * np.linalg.norm(v2))"
   ]
  },
  {
   "cell_type": "code",
   "execution_count": 320,
   "id": "177f5608-1a1d-4abd-9755-1763db881eb9",
   "metadata": {},
   "outputs": [
    {
     "data": {
      "text/plain": [
       "-1.0"
      ]
     },
     "execution_count": 320,
     "metadata": {},
     "output_type": "execute_result"
    }
   ],
   "source": [
    "cos_sim"
   ]
  },
  {
   "cell_type": "code",
   "execution_count": 338,
   "id": "89357496-10a0-49b8-aa0f-854402e97fe7",
   "metadata": {},
   "outputs": [],
   "source": [
    "v3=np.array([0,1])\n",
    "v4=np.array([1,0])"
   ]
  },
  {
   "cell_type": "code",
   "execution_count": 340,
   "id": "6264c2c4-e003-43d8-a3b3-3b8105057cb0",
   "metadata": {},
   "outputs": [],
   "source": [
    "cos_sim=np.dot(v3,v4)/(np.linalg.norm(v3) * np.linalg.norm(v4))"
   ]
  },
  {
   "cell_type": "code",
   "execution_count": 342,
   "id": "0ced9ac7-d83b-4cf3-947b-2d5be2293697",
   "metadata": {},
   "outputs": [
    {
     "data": {
      "text/plain": [
       "0.0"
      ]
     },
     "execution_count": 342,
     "metadata": {},
     "output_type": "execute_result"
    }
   ],
   "source": [
    "cos_sim"
   ]
  },
  {
   "cell_type": "code",
   "execution_count": 360,
   "id": "8e3d28bb-2128-4d1e-bee5-8d6ec49aa55c",
   "metadata": {},
   "outputs": [],
   "source": [
    "d=[[1,2,3],[4,5,6]]"
   ]
  },
  {
   "cell_type": "code",
   "execution_count": 362,
   "id": "e1fb420c-ee9e-475a-8ccb-97fa05746f7f",
   "metadata": {},
   "outputs": [
    {
     "data": {
      "text/plain": [
       "[[1, 2, 3], [4, 5, 6]]"
      ]
     },
     "execution_count": 362,
     "metadata": {},
     "output_type": "execute_result"
    }
   ],
   "source": [
    "d"
   ]
  },
  {
   "cell_type": "code",
   "execution_count": 364,
   "id": "cd09b743-d28b-4d96-bb32-15ba0f5cb966",
   "metadata": {},
   "outputs": [
    {
     "ename": "AttributeError",
     "evalue": "'list' object has no attribute 'transpose'",
     "output_type": "error",
     "traceback": [
      "\u001b[1;31m---------------------------------------------------------------------------\u001b[0m",
      "\u001b[1;31mAttributeError\u001b[0m                            Traceback (most recent call last)",
      "Cell \u001b[1;32mIn[364], line 1\u001b[0m\n\u001b[1;32m----> 1\u001b[0m \u001b[43md\u001b[49m\u001b[38;5;241;43m.\u001b[39;49m\u001b[43mtranspose\u001b[49m()\n",
      "\u001b[1;31mAttributeError\u001b[0m: 'list' object has no attribute 'transpose'"
     ]
    }
   ],
   "source": []
  },
  {
   "cell_type": "code",
   "execution_count": null,
   "id": "b5322b85-71c0-49f9-a2a4-da7d9694bbe2",
   "metadata": {},
   "outputs": [],
   "source": []
  }
 ],
 "metadata": {
  "kernelspec": {
   "display_name": "Python 3 (ipykernel)",
   "language": "python",
   "name": "python3"
  },
  "language_info": {
   "codemirror_mode": {
    "name": "ipython",
    "version": 3
   },
   "file_extension": ".py",
   "mimetype": "text/x-python",
   "name": "python",
   "nbconvert_exporter": "python",
   "pygments_lexer": "ipython3",
   "version": "3.12.4"
  }
 },
 "nbformat": 4,
 "nbformat_minor": 5
}
